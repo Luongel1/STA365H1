{
 "cells": [
  {
   "cell_type": "markdown",
   "id": "bf522781",
   "metadata": {},
   "source": [
    "Author: Elizabeth Luong \n",
    "\n",
    "Date: Jan 15, 2025"
   ]
  },
  {
   "cell_type": "markdown",
   "id": "6f5bb810",
   "metadata": {},
   "source": [
    "Q1: What proportion of students who answer this question quickly will pass the class? Assume the probability of passing the class is 0.9. Assume the probability of answering this question quickly is 0.6 if you'll pass the class, while the probability drops to 0.3 if you'll not pass the class."
   ]
  },
  {
   "cell_type": "markdown",
   "id": "ccaf2d72",
   "metadata": {},
   "source": [
    "A1: Using the formula for Bayes' Theorem, we have:\n",
    "\n",
    "$$\n",
    "P(\\text{pass | quick}) = \\frac{P(\\text{quick | pass}) \\cdot P(\\text{pass})}{P(\\text{quick})}\n",
    "$$\n",
    "\n",
    "Given from the question, we know:\n",
    "- $P(\\text{pass}) = 0.9$\n",
    "- $P(\\text{quick | pass}) = 0.6$  \n",
    "- $P(\\text{quick | fail}) = 0.3$  \n",
    "- $P(\\text{fail}) = 1 - P(\\text{pass}) = 0.1$\n",
    "\n",
    "Using the Law of Total Probability, we calculate $(P(\\text{quick}))$:\n",
    "\n",
    "$$\n",
    "P(\\text{quick}) = P(\\text{quick | pass}) \\cdot P(\\text{pass}) + P(\\text{quick | fail}) \\cdot P(\\text{fail})\n",
    "$$\n",
    "\n",
    "Substituting the values:\n",
    "\n",
    "$$\n",
    "P(\\text{quick}) = (0.6)(0.9) + (0.3)(0.1) = 0.54 + 0.03 = 0.57\n",
    "$$\n",
    "\n",
    "Substituting into Bayes' Theorem:\n",
    "\n",
    "$$\n",
    "P(\\text{pass | quick}) = \\frac{(0.6) \\cdot (0.9)}{0.57} \\approx 0.9474\n",
    "$$\n",
    "\n",
    "The proportion of students who answer the question quickly and pass the class is approximately **94.73%**.\n"
   ]
  },
  {
   "cell_type": "markdown",
   "id": "c2fc0c20",
   "metadata": {},
   "source": [
    "Q2: \n",
    "\\begin{align*}\n",
    "\\text{Likelihood} && p(x|\\theta, n) &={} \\texttt{Multinomial} \\\\\\\\\n",
    "\\text{Prior} && p(\\theta|\\boldsymbol{\\alpha}) &={} \\texttt{Dirichlet} \\\\\\\\\n",
    "\\text{Posterior} && p(\\theta|x, n, \\boldsymbol{\\alpha}) &={} \n",
    "\\overset{\\text{Bayes Theorem}}{\\frac{p(x|\\theta)p(\\theta)}{p(x)}} = \\; \\texttt{What?} \\\\\\\\\n",
    "&&& \\quad\\quad\\quad\\quad\\quad\\; = \\; \\texttt{What distribution?} \\\\\\\\\n",
    "&&& \\quad\\quad\\quad\\quad\\quad\\quad\\;\\;\\, \\texttt{With what parameterization?} \\\\\\\\\n",
    "\\end{align*}\n",
    "\n",
    "### The posterior is always proportional to the joint\n",
    "\n",
    "$$\\large p(\\theta|x) = (1/c)\\times p(\\theta, x) \\propto{} p(\\theta, x)$$\n",
    "\n",
    "**and the posterior is always a proper distribution if the prior is.**\n"
   ]
  },
  {
   "cell_type": "markdown",
   "id": "df363886",
   "metadata": {},
   "source": [
    "A2:  \n",
    "\\begin{align*}\n",
    "\\text{Likelihood} && p(\\mathbf{x}|\\boldsymbol{\\theta}, n) &={} \\frac{n!}{x_1! x_2! \\cdots x_k!} \\prod_{i=1}^k \\theta_i^{x_i} \\quad \\text{(Multinomial)} \\\\\\\\\n",
    "\\text{Prior} && p(\\boldsymbol{\\theta}|\\boldsymbol{\\alpha}) &={} \\frac{\\Gamma\\left(\\sum_{i=1}^k \\alpha_i\\right)}{\\prod_{i=1}^k \\Gamma(\\alpha_i)} \\prod_{i=1}^k \\theta_i^{\\alpha_i - 1} \\quad \\text{(Dirichlet)} \\\\\\\\\n",
    "\\text{Posterior} && p(\\boldsymbol{\\theta}|\\mathbf{x}, n, \\boldsymbol{\\alpha}) &={} \n",
    "\\overset{\\text{Bayes Theorem}}{\\frac{p(\\mathbf{x}|\\boldsymbol{\\theta})p(\\boldsymbol{\\theta})}{p(\\mathbf{x})}} \\\\\\\\\n",
    "&&& \\quad\\quad = \\prod_{i=1}^k \\theta_i^{x_i} \\cdot \\prod_{i=1}^k \\theta_i^{\\alpha_i - 1} \\quad \\text{(Plug in Likelihood and Prior)} \\\\\\\\\n",
    "&&& \\quad\\quad = \\prod_{i=1}^k \\theta_i^{x_i + \\alpha_i - 1} \\quad \\text{(Combine Exponents)} \\\\\\\\\n",
    "&&& \\quad\\quad\\quad\\quad\\quad\\; = \\; \\text{Dirichlet Distribution} \\\\\\\\\n",
    "&&& \\quad\\quad\\quad\\quad\\quad\\quad\\;\\;\\, \\text{With parameterization:} \\; \\boldsymbol{\\alpha}^* = (\\alpha_1 + x_1, \\alpha_2 + x_2, \\ldots, \\alpha_k + x_k) \\\\\\\\\n",
    "\\end{align*}\n",
    "\n",
    "The posterior is always proportional to the joint\n",
    "\n",
    "$$ p(\\boldsymbol{\\theta}|\\mathbf{x}) = (1/c)\\times p(\\boldsymbol{\\theta}, \\mathbf{x}) \\propto{} p(\\boldsymbol{\\theta}, \\mathbf{x})$$\n",
    "\n",
    "and the posterior is always a proper distribution if the prior is. \n"
   ]
  },
  {
   "cell_type": "markdown",
   "id": "8e22af70",
   "metadata": {},
   "source": [
    "Q3: Create a sample from a three category multinomial distribution and visualize the multinomial distribution and the multinomial sample; then, visualize the simplex Dirichlet distribution of the prior and the posterior using a ternary plot.\n"
   ]
  },
  {
   "cell_type": "code",
   "execution_count": 3,
   "id": "dbb4edc3",
   "metadata": {},
   "outputs": [
    {
     "name": "stdout",
     "output_type": "stream",
     "text": [
      "Requirement already satisfied: plotly in /opt/conda/lib/python3.11/site-packages (5.22.0)\r\n",
      "Requirement already satisfied: tenacity>=6.2.0 in /opt/conda/lib/python3.11/site-packages (from plotly) (8.5.0)\r\n",
      "Requirement already satisfied: packaging in /opt/conda/lib/python3.11/site-packages (from plotly) (23.2)\r\n"
     ]
    }
   ],
   "source": [
    "!pip install plotly"
   ]
  },
  {
   "cell_type": "code",
   "execution_count": 4,
   "id": "1a1abbb3",
   "metadata": {},
   "outputs": [],
   "source": [
    "import numpy as np\n",
    "import plotly.express as px\n",
    "import matplotlib.pyplot as plt\n",
    "from scipy.stats import multinomial, dirichlet"
   ]
  },
  {
   "cell_type": "code",
   "execution_count": 7,
   "id": "2387306c",
   "metadata": {},
   "outputs": [
    {
     "name": "stdout",
     "output_type": "stream",
     "text": [
      "Multinomial Sample: [54 25 21]\n"
     ]
    }
   ],
   "source": [
    "# Multinomial parameters\n",
    "theta = [0.5, 0.3, 0.2]\n",
    "n_trials = 100\n",
    "\n",
    "# Generate a single multinomial sample\n",
    "sample = multinomial.rvs(n_trials, theta, size=1)[0]\n",
    "print(\"Multinomial Sample:\", sample)"
   ]
  },
  {
   "cell_type": "code",
   "execution_count": 11,
   "id": "c47533b7",
   "metadata": {},
   "outputs": [
    {
     "data": {
      "image/png": "[encoded data removed]",
      "text/plain": [
       "<Figure size 640x480 with 1 Axes>"
      ]
     },
     "metadata": {},
     "output_type": "display_data"
    },
    {
     "data": {
      "image/png": "[encoded data removed]",
      "text/plain": [
       "<Figure size 640x480 with 1 Axes>"
      ]
     },
     "metadata": {},
     "output_type": "display_data"
    }
   ],
   "source": [
    "# Visualize multinomial probabilities\n",
    "categories = [\"Category 1\", \"Category 2\", \"Category 3\"]\n",
    "plt.bar(categories, theta, color='skyblue', alpha=0.8)\n",
    "plt.title(\"Multinomial Distribution (Probabilities)\")\n",
    "plt.ylabel(\"Probability\")\n",
    "plt.show(\"png\")\n",
    "\n",
    "# Visualize multinomial sample\n",
    "plt.bar(categories, sample, color='orange', alpha=0.8)\n",
    "plt.title(\"Multinomial Sample\")\n",
    "plt.ylabel(\"Counts\")\n",
    "plt.show(\"png\")"
   ]
  },
  {
   "cell_type": "code",
   "execution_count": 12,
   "id": "82324131",
   "metadata": {},
   "outputs": [],
   "source": [
    "# Dirichlet parameters\n",
    "alpha_prior = np.array([2, 2, 2])\n",
    "alpha_posterior = alpha_prior + sample\n",
    "\n",
    "# Generate samples for prior and posterior\n",
    "prior_samples = dirichlet.rvs(alpha_prior, size=500)\n",
    "posterior_samples = dirichlet.rvs(alpha_posterior, size=500)\n",
    "\n",
    "# Create DataFrames for plotly\n",
    "import pandas as pd\n",
    "df_prior = pd.DataFrame(prior_samples, columns=[\"Category 1\", \"Category 2\", \"Category 3\"])\n",
    "df_posterior = pd.DataFrame(posterior_samples, columns=[\"Category 1\", \"Category 2\", \"Category 3\"])"
   ]
  },
  {
   "cell_type": "code",
   "execution_count": 15,
   "id": "4ae881a9",
   "metadata": {},
   "outputs": [
    {
     "data": {
      "application/vnd.plotly.v1+json": {
       "config": {
        "plotlyServerURL": "https://plot.ly"
       },
       "data": [
        {
         "a": [
          0.24728715326484693,
          0.4002993907377334,
          0.2284776819081094,
          0.621565755364476,
          0.31226803641846035,
          0.4021265790281847,
          0.20222836209549888,
          0.44793350168266255,
          0.50788879244061,
          0.23311801049276765,
          0.1704109164295988,
          0.46636295488393936,
          0.77204091396105,
          0.5963708632717978,
          0.07240710258465591,
          0.377316097931483,
          0.3982406519497587,
          0.3422502347219115,
          0.26548591862835763,
          0.21263317877164803,
          0.4930197605669475,
          0.29792185453211656,
          0.19676129782806026,
          0.6350028267579652,
          0.2793415962641749,
          0.31046998555608984,
          0.5523084712839177,
          0.47011174348626655,
          0.09508556259003415,
          0.6850501127147265,
          0.24794536330063052,
          0.33177435662269456,
          0.282425096744301,
          0.35414643424586495,
          0.04389555827378704,
          0.12975632548424237,
          0.2432274633397037,
          0.14136174303198137,
          0.27683513270757026,
          0.04279325371388856,
          0.3472372114718282,
          0.04991577661477498,
          0.08125207123360677,
          0.46004066638716096,
          0.2249543736519769,
          0.2520201386799209,
          0.7817882997102504,
          0.27701874921514136,
          0.08248772262713125,
          0.4473458416290459,
          0.7185755114670451,
          0.10172959560575928,
          0.3983204172996493,
          0.5021361583095684,
          0.5675880944408735,
          0.2857213393204552,
          0.15896832994559976,
          0.28995924799137063,
          0.2504046930691747,
          0.3844174545429046,
          0.0925177042431021,
          0.33597611954478623,
          0.4480489971774719,
          0.3378924417574253,
          0.1578510863570357,
          0.28827195690839197,
          0.24932543257311787,
          0.32843668800148285,
          0.5994135196817932,
          0.3119433038875865,
          0.30634297027003027,
          0.23420936745850232,
          0.2540965380796658,
          0.6377208358584867,
          0.4984495691481891,
          0.557839823487232,
          0.1451554463073475,
          0.37512294606256624,
          0.1617869230067324,
          0.49149669893564046,
          0.08193752291130396,
          0.2812215619059824,
          0.2586063157877815,
          0.5344812308516708,
          0.2048441491300546,
          0.5103114272778213,
          0.1609224785512346,
          0.3527937284596109,
          0.238312187375865,
          0.195599871537901,
          0.36964201277103986,
          0.15817568972208745,
          0.4655308991884931,
          0.1265468384773559,
          0.275839099351255,
          0.7182162987500431,
          0.365724201711516,
          0.3960507148670381,
          0.0017795804839317907,
          0.5297763006243846,
          0.0468270593071239,
          0.24407253760587888,
          0.36492300842895964,
          0.26752140515266354,
          0.06876567273434551,
          0.2541564494283546,
          0.10588496247549264,
          0.38592686093489553,
          0.19641517792443428,
          0.558376524841777,
          0.5030000064494987,
          0.4828371464317313,
          0.6240492469875304,
          0.10770802576626358,
          0.48762301473411146,
          0.22206131102281465,
          0.40632975361486695,
          0.5431275534874522,
          0.23449886471962006,
          0.1325530160042277,
          0.284486466570474,
          0.07393593943606759,
          0.2897172101275095,
          0.42078071072782197,
          0.10849629047959942,
          0.1130909678459872,
          0.3092717808899015,
          0.5139194224384855,
          0.6851909437125695,
          0.3698420348033564,
          0.7155812590149725,
          0.34319594126399555,
          0.14558994198110264,
          0.37212010873101825,
          0.08840973251107206,
          0.14014213945312473,
          0.3525404409099136,
          0.05604489011997792,
          0.5883723855669547,
          0.4109394334852691,
          0.2750973893157965,
          0.2881010239418801,
          0.08176697859448531,
          0.641554952113905,
          0.26819288444423905,
          0.6131848814844205,
          0.083326842667099,
          0.41623031617001716,
          0.3044275104660955,
          0.407539964231375,
          0.26474451542137145,
          0.3002383274994941,
          0.2324356040876279,
          0.14925434499713924,
          0.37945146079384273,
          0.3553299668857306,
          0.19064131595327355,
          0.22527968237803214,
          0.46561212261041335,
          0.21826762336233266,
          0.3543426597941338,
          0.0360988154086033,
          0.676242562642626,
          0.29560269848353615,
          0.7302966222104871,
          0.2831437243131683,
          0.19744968115567813,
          0.5626560204521607,
          0.27752308075955984,
          0.3097395551852856,
          0.5273695699758781,
          0.07634381673876879,
          0.09710981483186132,
          0.46092117211893097,
          0.7331675135390138,
          0.29222319600818897,
          0.4474215250939728,
          0.26071144920550354,
          0.39904146410695235,
          0.3636748603603229,
          0.1919199022580769,
          0.06295558499786981,
          0.7243695294623369,
          0.6089450752105574,
          0.20097848229472673,
          0.5409133895359479,
          0.2580395475916637,
          0.1558046577338116,
          0.16081213749143677,
          0.24467004514502333,
          0.4641086049596607,
          0.6371249257244121,
          0.038384653267549876,
          0.841896888456221,
          0.281758594320955,
          0.3016460179648863,
          0.12479426847608113,
          0.42056340253048735,
          0.31699402655451964,
          0.41671415385855076,
          0.07984130287914272,
          0.4716104344741033,
          0.3031034297572333,
          0.07599905282983616,
          0.19263667660894726,
          0.16096018473170837,
          0.2013426780102276,
          0.6418739938891146,
          0.35840466997807163,
          0.2666379117340009,
          0.044784765587133075,
          0.24957712783899455,
          0.05333195435807098,
          0.3175928848719171,
          0.3054125338845486,
          0.17531007456741896,
          0.6764006752726526,
          0.6173709266534824,
          0.13523916852239848,
          0.26038127826642016,
          0.21731211522422256,
          0.43513824599599527,
          0.4177214064924526,
          0.06805137553715679,
          0.09035449315924277,
          0.1618114838847562,
          0.0906285723035027,
          0.17194644470965076,
          0.2837153218382699,
          0.3864195428012019,
          0.27198412803706296,
          0.523307284987661,
          0.32315388052455424,
          0.17290591872333352,
          0.39920022463081156,
          0.32142192497700633,
          0.1127129864235222,
          0.4441945848090576,
          0.20118222094675467,
          0.551298105506982,
          0.2899267242074491,
          0.4271139143933501,
          0.5591519057466453,
          0.12985357009715257,
          0.11847781021923143,
          0.5407796969162281,
          0.48180691737291353,
          0.7666073959333477,
          0.7595187670796368,
          0.4826821604342406,
          0.21674892121567227,
          0.5063772665043272,
          0.4198034307929112,
          0.07580081457259938,
          0.3982929159605542,
          0.4885283211489737,
          0.6190490689329149,
          0.07184515733236142,
          0.20940483809946875,
          0.29699417488814017,
          0.42955125001787825,
          0.5714553869502818,
          0.06430677961059857,
          0.1399609265622465,
          0.5301744737097901,
          0.0633409378671574,
          0.1568800238738344,
          0.2664754944963654,
          0.1947061291857761,
          0.30066671869774864,
          0.26658757256967996,
          0.43094851284341346,
          0.2781456899471016,
          0.4985704930992213,
          0.10689481802778462,
          0.3899864491286825,
          0.14621834567615324,
          0.33560247180894065,
          0.15620649396595607,
          0.30010887693065375,
          0.5793011529012122,
          0.30217728286025886,
          0.28374765751619935,
          0.04609770931800052,
          0.681126750366835,
          0.47907193060868614,
          0.32261780089777997,
          0.31549201033334895,
          0.4645171283514092,
          0.33704670276920273,
          0.5503728919428187,
          0.3344896044799853,
          0.6058928959236798,
          0.38115298390286717,
          0.542124375077926,
          0.1505298613183637,
          0.6065329698723452,
          0.5607362545690261,
          0.33902603325535285,
          0.22955895870154058,
          0.44314747907462904,
          0.12605268399808656,
          0.33222123086929833,
          0.30342449296499974,
          0.2468525338246878,
          0.043172333747059505,
          0.4426164051148623,
          0.5645463063132169,
          0.0966111513368138,
          0.06765263094134855,
          0.4891293529264635,
          0.19147389844672233,
          0.6427529118605116,
          0.3766672354711257,
          0.1352488195313921,
          0.2947211837227072,
          0.6009115943791062,
          0.29819377169713984,
          0.19687429131749531,
          0.4300577916363039,
          0.5706914714274745,
          0.28325158650871674,
          0.196025470909502,
          0.5768303840024305,
          0.6483399327747225,
          0.49606722863147096,
          0.5632908949098013,
          0.4370096824674073,
          0.3964588399496229,
          0.1832127706561841,
          0.2118374583602848,
          0.3579809922430761,
          0.36756856307471397,
          0.2356891226855533,
          0.0979679136572662,
          0.27802345196414785,
          0.6525552852024848,
          0.32420004988461804,
          0.14340841986195002,
          0.3598926139167344,
          0.3675814886372972,
          0.3334475473166652,
          0.34614494015578795,
          0.19195885086762254,
          0.45491103412392436,
          0.14594807796275708,
          0.31293127408609867,
          0.3158172600119427,
          0.5885894600035234,
          0.43955385575001493,
          0.060242309837004085,
          0.5965563203026972,
          0.34278783613253516,
          0.17407230470820595,
          0.5298664065761116,
          0.05972041224601306,
          0.5274808383652914,
          0.31161805332797426,
          0.13104492348065885,
          0.11564507684827678,
          0.21560072811535713,
          0.43643718087865063,
          0.10723869917631124,
          0.44991790139554716,
          0.16841022996560173,
          0.5501075191977594,
          0.4837048725764199,
          0.3738153291175475,
          0.3873604588916459,
          0.10750383148680907,
          0.697836933409324,
          0.07086954307372333,
          0.15312991920229344,
          0.3203895562529293,
          0.29098380182059047,
          0.19720148948479804,
          0.03851247383144117,
          0.4303827838863043,
          0.10197981949239471,
          0.24767317987076043,
          0.39648676546669054,
          0.26884923857572407,
          0.6440853532370252,
          0.44953146182049936,
          0.25755757393228834,
          0.30219262925046103,
          0.33813773439109096,
          0.2956982674119312,
          0.3082270957828308,
          0.20445221116768447,
          0.08062701894095561,
          0.19984406466286242,
          0.18491174291919277,
          0.5412051817851162,
          0.3226710962640649,
          0.3178238391975681,
          0.07170403929436157,
          0.5947455021212613,
          0.34238964407854433,
          0.15295250603814936,
          0.09383965323959487,
          0.23694029604650824,
          0.09935239717947385,
          0.4726184661969773,
          0.34767821776447017,
          0.19137730147165183,
          0.46652573517450124,
          0.2242132519252576,
          0.16182925488096547,
          0.02844240120732263,
          0.34852329316221886,
          0.16982812154960042,
          0.17333559096054263,
          0.2688090630120521,
          0.6428353710300121,
          0.24700520914656202,
          0.5978062670442191,
          0.5709539318047938,
          0.47612971592812847,
          0.32517632126163887,
          0.5180744607561711,
          0.04974051625711622,
          0.2385677812923982,
          0.3530486813857236,
          0.26434032280462455,
          0.4837175929585498,
          0.229234000808806,
          0.2636047096509923,
          0.08009854676912313,
          0.6684876573099505,
          0.39538511945269705,
          0.25012950621525265,
          0.11754736015393692,
          0.484332120457739,
          0.15429109304033792,
          0.20916155984653942,
          0.5267673494330389,
          0.45136448735355317,
          0.20946710429908577,
          0.3691187892838458,
          0.12685355450137095,
          0.1344833184231137,
          0.3271451592235084,
          0.43282555419288354,
          0.37551082078357745,
          0.3001187901097483,
          0.2757179872351441,
          0.46312828895303076,
          0.05462465399560111,
          0.31406671731976876,
          0.3068765921749767,
          0.2552481498048247,
          0.5849802335666154,
          0.200614467932126,
          0.7285628093558848,
          0.16291298519142694,
          0.040292904160090584,
          0.4397542810474499,
          0.16167216956977967,
          0.5129366201427716,
          0.7044216642112225,
          0.600145921815021,
          0.221988699724416,
          0.16857357697698222,
          0.5090911269221781,
          0.15610267111616488,
          0.3869522023164234,
          0.2670195833593125,
          0.09067241349609255,
          0.11479993688690976,
          0.43136854777327455,
          0.20895898131451737,
          0.18551177729475068,
          0.38611586983217144,
          0.11594782647053853,
          0.7093783706417686,
          0.2892401852065404,
          0.3273125393430608,
          0.36971292945863166,
          0.49556960212915163,
          0.23007267754647556,
          0.3068013139828916,
          0.14421563750717575,
          0.30759829593341903,
          0.0772972159380359,
          0.12660739211623687,
          0.4474062268846034,
          0.5591828453389767,
          0.4433008565322867,
          0.30132345165428376,
          0.38085573330585654,
          0.21653399066322526,
          0.41758195794961206,
          0.3818922754967348,
          0.2036024369924065,
          0.07544603297800527,
          0.4196569153353189,
          0.1353330422178123,
          0.5756537452299176,
          0.31682466030845774
         ],
         "b": [
          0.39954886784147053,
          0.18708487394910595,
          0.16996842625086653,
          0.29360542141495266,
          0.3171657385813758,
          0.20656797570378443,
          0.6322164529490573,
          0.0863731670477062,
          0.3034616336109653,
          0.17362442165645398,
          0.5667331835713618,
          0.26500931241637526,
          0.1205398342888038,
          0.3928539616306031,
          0.26472872312056484,
          0.20284141629447486,
          0.400741570240611,
          0.5739717474249368,
          0.2699484958028348,
          0.13209027656034528,
          0.07107427907056059,
          0.48477252032250034,
          0.10463097159439431,
          0.21596532841837035,
          0.504790970586878,
          0.43636468758374214,
          0.21428222690828325,
          0.158905407576189,
          0.5712258546881944,
          0.16288571043590705,
          0.4024785845049245,
          0.299819152895436,
          0.5308284063086144,
          0.2494826222036024,
          0.2918186398655803,
          0.576736349289105,
          0.38972126435518056,
          0.5837533434932598,
          0.17711424303034373,
          0.5687874625937717,
          0.3735618232876756,
          0.3983715981593825,
          0.4771713641027725,
          0.30298257847443133,
          0.6020004886444665,
          0.3229915434109202,
          0.03334841052117328,
          0.3587761017195021,
          0.28997245346461353,
          0.41569977351557386,
          0.10425579356180674,
          0.3294191871179414,
          0.4227118977112462,
          0.3091184729887162,
          0.37011043025299734,
          0.2882331171950008,
          0.5044947268514905,
          0.2734747222684669,
          0.5017526282407598,
          0.2944152581281287,
          0.41437113656499475,
          0.27774538221126266,
          0.20288602493500674,
          0.45781099666786546,
          0.07947072959962816,
          0.2221743574332217,
          0.4103453237638663,
          0.3076559896259305,
          0.2593651334601724,
          0.39241937729147736,
          0.6537836165659439,
          0.5175690583057972,
          0.5349420371583653,
          0.11779233738199014,
          0.4120219344953434,
          0.2523923564693526,
          0.43545892685676124,
          0.4044803747336631,
          0.579274689050487,
          0.34299941024438574,
          0.32022517635771497,
          0.42135082624392844,
          0.4972892827631061,
          0.16937497557117365,
          0.5102677178767151,
          0.36211149039500357,
          0.6949476978383254,
          0.562646851932606,
          0.36919170889377756,
          0.24767636615734206,
          0.46431839883468534,
          0.1935556347278502,
          0.3716421929040393,
          0.6057074777569216,
          0.17537084515515705,
          0.16720385874428204,
          0.3570891930267422,
          0.3698410441422022,
          0.5070639063485763,
          0.3168758412662523,
          0.6478157702773172,
          0.233807719009264,
          0.2986304964947295,
          0.4894989420603041,
          0.6143572010891126,
          0.056271808282831834,
          0.6743407778072646,
          0.1600665460399344,
          0.2874964784836177,
          0.19350827935955908,
          0.3876791035356139,
          0.3522825084624979,
          0.3196066612249899,
          0.39150468054172766,
          0.1634890854885151,
          0.7530922853997067,
          0.08880486974580014,
          0.20070237274179395,
          0.5848526929311779,
          0.5356134797557316,
          0.456551603156864,
          0.5633913098260482,
          0.5131275724722721,
          0.08695248166518725,
          0.436939629407345,
          0.5452073181037197,
          0.4669098935842965,
          0.3090205363473636,
          0.12720743180718244,
          0.4912367903015176,
          0.2139550720884939,
          0.27987805049236353,
          0.32462485616135106,
          0.5112560480204904,
          0.6237958507988322,
          0.4615447376780568,
          0.36816992049049974,
          0.51496941513882,
          0.07836279107173667,
          0.1926156715524027,
          0.3052483337523809,
          0.23688933025559622,
          0.40146447541691155,
          0.12895779365731308,
          0.5605074328594821,
          0.03563556860003268,
          0.5477629961448099,
          0.18031426623017038,
          0.5986586819818005,
          0.08527760569249825,
          0.2628032777717777,
          0.4447224896614923,
          0.2127132690495799,
          0.32372569351137664,
          0.10482193223682221,
          0.3204411195270807,
          0.05176651237208349,
          0.5129284730872381,
          0.08432610601354748,
          0.35437353160639107,
          0.2458976473260045,
          0.7435814216731376,
          0.27375665203680877,
          0.4185843440478603,
          0.14060709145334135,
          0.5469115551996018,
          0.676723354165901,
          0.0738405750920996,
          0.24986476075500608,
          0.40235197724459215,
          0.11229852025530003,
          0.2730389405271242,
          0.18019991659144743,
          0.2825011813390999,
          0.05237444517266923,
          0.3359585288029949,
          0.41961674467032894,
          0.41248171940268813,
          0.22475694867477106,
          0.12445755948565346,
          0.37713438843177866,
          0.5097717134301775,
          0.011724369487707179,
          0.10408390328865405,
          0.6189206758418522,
          0.29258160224354557,
          0.12224905467865152,
          0.2813665871201302,
          0.07312146973732378,
          0.2141215255484832,
          0.4619755573214095,
          0.2659628174726396,
          0.6515715011025218,
          0.04434739357750102,
          0.46848529017124113,
          0.09805701989683743,
          0.47309321890443384,
          0.47461697955540944,
          0.3273354238304928,
          0.28519585252801827,
          0.3580662554855627,
          0.11083866837283597,
          0.16720354269608362,
          0.4025060492024051,
          0.41750865591463804,
          0.28503273384845745,
          0.3713254952476146,
          0.2964064664896938,
          0.48834372302502194,
          0.3852238173770496,
          0.09387578068861842,
          0.07005796791464376,
          0.6844484591997504,
          0.3826729849404192,
          0.3100092339403723,
          0.3387618729521534,
          0.021547559290117927,
          0.13880547755642467,
          0.4772256533809885,
          0.42804711227905906,
          0.11765116111679844,
          0.24219136306573777,
          0.49432710967191856,
          0.8144737227401381,
          0.5881815275039441,
          0.08041119596252984,
          0.6216069882093506,
          0.35380203268714394,
          0.34944288686746466,
          0.08149249603435874,
          0.1185873560705476,
          0.06831319306248321,
          0.33385711022222336,
          0.359891955384268,
          0.24134085440659922,
          0.31199182241756734,
          0.029600463648992617,
          0.22591731573704793,
          0.2726983522799696,
          0.2960307514571741,
          0.4535917846674649,
          0.16753431782490572,
          0.32156020628449355,
          0.09714065727426044,
          0.7707982256881089,
          0.08623164153930185,
          0.09116807016275864,
          0.15812221320500794,
          0.12947434339465694,
          0.1614303814076999,
          0.19286521248509966,
          0.25287148636148177,
          0.4899351409649369,
          0.18776222872904683,
          0.32447150065388863,
          0.3760802903379776,
          0.2481596427624258,
          0.41316917651143986,
          0.2835658714281227,
          0.21027152909120245,
          0.12586197442031324,
          0.08009964957705196,
          0.23945275172447747,
          0.5691653509880763,
          0.2093461109020053,
          0.33736433452031256,
          0.4119367976549429,
          0.44360688435771667,
          0.41411661645511016,
          0.25140197779014634,
          0.6281960206783811,
          0.2396649070780015,
          0.40773800756540274,
          0.18500476048450124,
          0.6662970034875132,
          0.1604449763608711,
          0.8525355845403445,
          0.3920632145765297,
          0.6552709683088322,
          0.5645724978089682,
          0.3234796300901826,
          0.27228030672491327,
          0.31802608957447703,
          0.637904870442678,
          0.12135086158939669,
          0.4491499174475583,
          0.31524584539029843,
          0.3350007754240046,
          0.21310181953776153,
          0.3234652842076371,
          0.20561937339604217,
          0.22255933134714337,
          0.08378818937604095,
          0.113187117819437,
          0.285817070817609,
          0.4628580894410103,
          0.15152378614732823,
          0.14378260893673306,
          0.18883750606698235,
          0.3929822222371062,
          0.5090018338641034,
          0.3041436324971036,
          0.4694704213408663,
          0.12080070518827367,
          0.45658458258242296,
          0.9167230803279528,
          0.13400985892089823,
          0.2921895742719123,
          0.6348616813158604,
          0.5585115571630693,
          0.09465883363677424,
          0.08966720237430152,
          0.1787046740883933,
          0.04111817179129242,
          0.2960359450801937,
          0.30800616326484676,
          0.07715738975504757,
          0.374102403010088,
          0.677247698336423,
          0.20266072431071963,
          0.2589786768314101,
          0.5740975073206508,
          0.727606565459336,
          0.25316801968265157,
          0.2344609098865978,
          0.2541272297607545,
          0.22095449222270688,
          0.24799342719857953,
          0.433091749361705,
          0.36759497507438604,
          0.7685481759765179,
          0.16732974894010658,
          0.5081160007663674,
          0.3273540134739244,
          0.046571971476319474,
          0.1958849900033893,
          0.13407738351081094,
          0.4873548836542321,
          0.308482501802405,
          0.12866268177334098,
          0.18044355577704232,
          0.42187673795856884,
          0.2913812308061833,
          0.43563948613969544,
          0.35966375284040686,
          0.7605318613550992,
          0.19599264041884157,
          0.5672037154721252,
          0.2548454376275571,
          0.47622337359931194,
          0.6344365408595156,
          0.3549236124159007,
          0.3131998495994723,
          0.2349931637085565,
          0.32586126019516326,
          0.21730541680228585,
          0.3650051258499377,
          0.18358741760268216,
          0.6056069757469279,
          0.27292097571551815,
          0.5692782249893723,
          0.18589102952958286,
          0.3660595497782961,
          0.35689251168976993,
          0.45778489792161114,
          0.07259904294937775,
          0.18833025435138312,
          0.30748349189257146,
          0.12090528272670441,
          0.21352027862813033,
          0.05715398199752555,
          0.4713338767733285,
          0.7040617390700135,
          0.11432986343130912,
          0.238606741702125,
          0.6908259676734532,
          0.4881543787245455,
          0.15047379035819475,
          0.4554002872430563,
          0.6477184196626453,
          0.20157252075826754,
          0.19397799149419237,
          0.22577730101360463,
          0.19963526554515562,
          0.4247811506697987,
          0.6308796475671363,
          0.1579540804802077,
          0.3793241622939389,
          0.6051058445374145,
          0.05611171692611593,
          0.7469823704292728,
          0.4382865428384049,
          0.37954848539867025,
          0.17631430875452822,
          0.31580167435373246,
          0.5207340021313968,
          0.5586611454050145,
          0.2130783413774382,
          0.22078712675673642,
          0.22598375374111954,
          0.4703259217774302,
          0.22926207274817018,
          0.11162243601808605,
          0.12465108560932045,
          0.2183023599048262,
          0.21471814021380664,
          0.0712813055468532,
          0.2168585800403266,
          0.5467210242577801,
          0.5968283102461821,
          0.45021878343809946,
          0.7371571606010148,
          0.16128325163823665,
          0.5840256002283858,
          0.28505505762439975,
          0.3448171392296622,
          0.311064710022094,
          0.2611468751435323,
          0.42471714261111954,
          0.42472731924276097,
          0.2605566634463562,
          0.14797779079964343,
          0.505563335932598,
          0.26043286640298574,
          0.38347892501243747,
          0.0368994907082806,
          0.10503685519577784,
          0.5009480643830571,
          0.29782108340126634,
          0.13976516688583013,
          0.328600580207294,
          0.18147409018692343,
          0.4318304042683329,
          0.20888792319996485,
          0.6887885926267403,
          0.18486626360204272,
          0.052629136222711655,
          0.08148580815891049,
          0.2549886940324909,
          0.5952883401452799,
          0.1531797374348461,
          0.22002604472813073,
          0.18721038157570868,
          0.3125595206251431,
          0.2333741883662413,
          0.42024428947880627,
          0.30252599758191934,
          0.487763673059319,
          0.44442840813007944,
          0.38816103549126224,
          0.6048808009506379,
          0.6040801129394138,
          0.12148759149270053,
          0.28742960492533476,
          0.07702245409874993,
          0.5422751878095493,
          0.3888629440184109,
          0.21415176295597363,
          0.5556251125330829,
          0.05256917861790584,
          0.09178233249655603,
          0.13008636480799365,
          0.4435559364476959,
          0.6770907845857522,
          0.07597233946545208,
          0.5846353739932746,
          0.32532263191094485,
          0.3896276702267812,
          0.4625958264231641,
          0.5794553018275337,
          0.25084529248439813,
          0.5954727738325601,
          0.43986576359219365,
          0.4643270752540558,
          0.7227246491941979,
          0.19957087639470017,
          0.13857988911689925,
          0.5840467588117602,
          0.25941094263633274,
          0.28323255542285825,
          0.6284981803828895,
          0.31356015472678034,
          0.3347514911654632,
          0.5111554554705902,
          0.43372184673517156,
          0.24545468503299478,
          0.4733341287453452,
          0.18733633874004882,
          0.18593690677043295,
          0.4845311447042293,
          0.2794288202874011,
          0.39350271564093103,
          0.26295354450130837,
          0.22152198748596746,
          0.20953949900329266,
          0.2786137169760362,
          0.17385119386661832,
          0.2910909279367959,
          0.2529712817771805,
          0.4264476901628987
         ],
         "c": [
          0.3531639788936825,
          0.4126157353131607,
          0.601553891841024,
          0.08482882322057135,
          0.3705662250001639,
          0.39130544526803085,
          0.16555518495544394,
          0.4656933312696312,
          0.18864957394842455,
          0.5932575678507784,
          0.2628558999990393,
          0.2686277326996853,
          0.10741925175014619,
          0.010775175097599033,
          0.6628641742947793,
          0.41984248577404204,
          0.20101777780963018,
          0.08377801785315168,
          0.46456558556880756,
          0.6552765446680068,
          0.4359059603624919,
          0.21730562514538296,
          0.6986077305775453,
          0.14903184482366452,
          0.215867433148947,
          0.25316532686016796,
          0.23340930180779917,
          0.3709828489375445,
          0.3336885827217715,
          0.1520641768493665,
          0.34957605219444493,
          0.36840649048186946,
          0.1867464969470847,
          0.3963709435505326,
          0.6642858018606326,
          0.2935073252266527,
          0.36705127230511575,
          0.27488491347475885,
          0.5460506242620861,
          0.3884192836923398,
          0.2792009652404961,
          0.5517126252258426,
          0.4415765646636207,
          0.2369767551384076,
          0.1730451377035566,
          0.4249883179091589,
          0.18486328976857616,
          0.36420514906535667,
          0.6275398239082552,
          0.13695438485538028,
          0.17716869497114815,
          0.5688512172762994,
          0.17896768498910454,
          0.18874536870171535,
          0.06230147530612908,
          0.426045543484544,
          0.3365369432029097,
          0.43656602974016245,
          0.24784267869006543,
          0.3211672873289667,
          0.49311115919190307,
          0.38627849824395116,
          0.34906497788752133,
          0.2042965615747093,
          0.7626781840433363,
          0.48955368565838636,
          0.3403292436630158,
          0.3639073223725866,
          0.14122134685803434,
          0.29563731882093613,
          0.03987341316402586,
          0.2482215742357005,
          0.21096142476196889,
          0.2444868267595231,
          0.08952849635646762,
          0.18976782004341533,
          0.41938562683589126,
          0.22039667920377065,
          0.25893838794278085,
          0.16550389081997385,
          0.597837300730981,
          0.2974276118500892,
          0.24410440144911238,
          0.2961437935771557,
          0.28488813299323024,
          0.12757708232717505,
          0.14412982361043997,
          0.08455941960778322,
          0.39249610373035737,
          0.556723762304757,
          0.16603958839427468,
          0.6482686755500623,
          0.16282690790746757,
          0.2677456837657227,
          0.5487900554935881,
          0.11457984250567482,
          0.27718660526174194,
          0.23410824099075975,
          0.4911565131674917,
          0.15334785810936313,
          0.3053571704155588,
          0.5221197433848571,
          0.33644649507631086,
          0.24297965278703232,
          0.3168771261765418,
          0.6895717422888135,
          0.21977425971724282,
          0.45400659302517,
          0.5160883435919481,
          0.24811519579866376,
          0.10932089001488741,
          0.16488034510577068,
          0.05634409178747957,
          0.5007872936920088,
          0.34888789977737344,
          0.02484640357747856,
          0.5048653766393331,
          0.2561700737707538,
          0.1806484423492019,
          0.3318335042400406,
          0.2589619302726621,
          0.36267275073788424,
          0.1971552174002182,
          0.49226680760699093,
          0.4545640801130557,
          0.3417017140502931,
          0.22381832552580203,
          0.17706004121415084,
          0.18760162448024803,
          0.13892117489512584,
          0.07046366889653366,
          0.37692600824364086,
          0.5297852018575464,
          0.1166238432484913,
          0.28779441669009576,
          0.39831312286881865,
          0.27928963859958666,
          0.42898569474120213,
          0.3332648233613086,
          0.396444894962328,
          0.41965427693182267,
          0.4750096458025237,
          0.5167685459886032,
          0.22948725422878186,
          0.17129968269627877,
          0.3511795499155468,
          0.36891016118809095,
          0.4034554175998125,
          0.09691380755210391,
          0.5071824300761268,
          0.47245220680685085,
          0.25503918283901367,
          0.5548511268627923,
          0.5270199614914841,
          0.5157266069693351,
          0.32422891358718864,
          0.7575921716746429,
          0.26179184453472987,
          0.4500617713760393,
          0.4273588450312763,
          0.39975969287986163,
          0.2203197629182591,
          0.050000785320565365,
          0.2858129574686034,
          0.12909628633617168,
          0.16994472048723,
          0.12582696467842094,
          0.36350340445573975,
          0.4726121584854341,
          0.2879084675701223,
          0.3603319097688219,
          0.650617242734107,
          0.7226902685766912,
          0.2565776465419691,
          0.21445804128831697,
          0.37181827518881605,
          0.13296173023569827,
          0.3268068313918084,
          0.3762015872182767,
          0.5118675801540236,
          0.4309457093101444,
          0.4272727015719528,
          0.26390610104995593,
          0.28697102150078857,
          0.18010084186342126,
          0.16650500822050662,
          0.6197113977296849,
          0.5628287551460583,
          0.7660663927712394,
          0.5412084293064935,
          0.07391583771892976,
          0.09691225680294807,
          0.31004384562992837,
          0.11375571796627802,
          0.2497561155078038,
          0.6002969621382761,
          0.40211251261948494,
          0.10481961791410314,
          0.3556705496149877,
          0.29808999361343097,
          0.5620924416352945,
          0.4175508971530607,
          0.529693027546683,
          0.5214948979677588,
          0.38985466747641473,
          0.554007081419834,
          0.4273318267421579,
          0.06171953962119143,
          0.1532516069969065,
          0.3481382708889494,
          0.8613394537242485,
          0.6803649042463616,
          0.2622195864421787,
          0.29973413018766365,
          0.3845782321750793,
          0.4859280524804276,
          0.3020517654372295,
          0.24382359579009302,
          0.3875351780966131,
          0.3115716094545208,
          0.6650367236589789,
          0.32267039093826694,
          0.08795148383562863,
          0.11747490172270503,
          0.3214639793368131,
          0.757777320152714,
          0.2877644394871468,
          0.47425152260320524,
          0.3668417912942654,
          0.5320879611644393,
          0.6094285158923894,
          0.4083795219498557,
          0.34298900925322234,
          0.4672021258923984,
          0.3594589209625894,
          0.3665862526054263,
          0.8576865499274852,
          0.3298880994538945,
          0.5261194267732756,
          0.15267114303584395,
          0.25648149112508595,
          0.4053517677817443,
          0.11928788796886106,
          0.7730057726285869,
          0.11072396409265954,
          0.3729886615444701,
          0.42702501246432767,
          0.07527039086164443,
          0.11100688952570631,
          0.35588745815805933,
          0.5903858662992281,
          0.24075124713419094,
          0.09026142824215197,
          0.7364369566983537,
          0.27723558338555726,
          0.13539138851304858,
          0.13279128830465936,
          0.5149856661561988,
          0.5070292904724086,
          0.49273429602065744,
          0.44458677556180864,
          0.3484449634726663,
          0.696240468664924,
          0.29087372244967724,
          0.26047941538820474,
          0.59929472761253,
          0.43118317847122284,
          0.2899176211459179,
          0.3911772543591136,
          0.44793130351210503,
          0.10521640675193882,
          0.329386580078585,
          0.31411630248749567,
          0.3164247464162774,
          0.22680817848470208,
          0.4495685745104464,
          0.0012460697835024368,
          0.2723343136145298,
          0.18852253772521158,
          0.13531862526037805,
          0.09721921700860535,
          0.4255424104148278,
          0.3982262529093236,
          0.3159974202393215,
          0.1975223880437682,
          0.07177815194375567,
          0.36213635371192154,
          0.34950721424264647,
          0.32238105211082935,
          0.33948801302316006,
          0.24400773466113915,
          0.4429510641728712,
          0.3103189147002792,
          0.5056598982776959,
          0.17205855410446505,
          0.3866120492406259,
          0.24194324398032668,
          0.29548113649424085,
          0.47213646067766485,
          0.3774588190613531,
          0.04785068706126772,
          0.5698036835048099,
          0.19830834778983525,
          0.5757748018467266,
          0.2965628835928893,
          0.040104585924987717,
          0.4233737359642395,
          0.14326411941487077,
          0.26852716734732585,
          0.3738358118955821,
          0.4162118134367622,
          0.718858899178976,
          0.17854241405109514,
          0.5822145927375818,
          0.5687152353884142,
          0.397272653012446,
          0.3219310158658461,
          0.32770382529277226,
          0.12587801034608176,
          0.36728148405297645,
          0.17032985174111553,
          0.14265090617063253,
          0.0763679636311621,
          0.17000159631491796,
          0.11719915733867968,
          0.24980554160777468,
          0.2157546128674918,
          0.3149968903340131,
          0.17044941068867211,
          0.4491922542694298,
          0.01961436566319724,
          0.4746892588168172,
          0.12431543615891855,
          0.43695686384052235,
          0.8554601148664144,
          0.5260915580324629,
          0.21336733128670418,
          0.18844506646114992,
          0.548109078335645,
          0.5114447043099247,
          0.45197495558566053,
          0.24467571472476596,
          0.3624738290380287,
          0.37240166299268196,
          0.18542521303566883,
          0.09352006068214383,
          0.49107608549505966,
          0.116979024515932,
          0.15656510236891952,
          0.08422277065067305,
          0.3053211493034803,
          0.048520067281402096,
          0.3440123142679925,
          0.5909345315832376,
          0.14427233322872524,
          0.722974170951701,
          0.10751403578477099,
          0.5047945290693435,
          0.2633481007724133,
          0.6114339474362052,
          0.21512104689527048,
          0.37767178959176667,
          0.5267017510453926,
          0.19318958691468296,
          0.3738048721127872,
          0.377293437852863,
          0.32796487307219685,
          0.31870117898988104,
          0.4917342583816496,
          0.6789758898850605,
          0.24500908459315052,
          0.4577965801529482,
          0.14280834172769305,
          0.5652805803157616,
          0.4704094564772845,
          0.11197254284174889,
          0.4733331474440134,
          0.419143425755501,
          0.4426198932645491,
          0.10460840046659416,
          0.40194071377504204,
          0.5371727699300836,
          0.1301373457493702,
          0.35083327263434505,
          0.31766127539791283,
          0.06692772318240243,
          0.5039081851287013,
          0.3249775702941298,
          0.08666705967975474,
          0.7394360719061996,
          0.17239061062977162,
          0.36186939249873284,
          0.4355397716821368,
          0.2824805094603556,
          0.3615272293822026,
          0.1614421586710351,
          0.3696348153006238,
          0.19217615650130043,
          0.4368232291647193,
          0.6210637402207312,
          0.43583442498297487,
          0.5337976312053215,
          0.7890251668024401,
          0.4027304481937023,
          0.4340194223307036,
          0.5939045583145416,
          0.46219295927864573,
          0.5589281680344158,
          0.29144972086125437,
          0.3747292885464953,
          0.20125792339968168,
          0.09301471784938471,
          0.6653811574012207,
          0.14716533675956214,
          0.07210957134558821,
          0.4081776516237758,
          0.09112902293368687,
          0.16789919305167383,
          0.09915314146075195,
          0.2500963594956002,
          0.2213688757974726,
          0.8022816929432404,
          0.25586888277500375,
          0.3865184522112907,
          0.3521807521829381,
          0.47938291633316943,
          0.665729143995416,
          0.23544722596595075,
          0.6220803698296106,
          0.19174717580421932,
          0.27601430034000896,
          0.5683964035978241,
          0.4506222355777302,
          0.306779956342296,
          0.15692031433292186,
          0.605972176551418,
          0.4206035143442494,
          0.46714970448753623,
          0.5355442016684234,
          0.03559287057087439,
          0.7199667080637828,
          0.6454906368487557,
          0.48564445920078303,
          0.2546149251819733,
          0.39111499085018125,
          0.2796369204114454,
          0.4217560151829366,
          0.04910803798765015,
          0.5009469378743194,
          0.297772247188969,
          0.08824260687438545,
          0.14067173725576146,
          0.29353217494068407,
          0.5119559271425393,
          0.19441473654536523,
          0.29481182699902375,
          0.5708441518214985,
          0.34609395599657644,
          0.28270271789713747,
          0.4344942012393225,
          0.20379600329222144,
          0.2697677133769853,
          0.3344553638278881,
          0.15433563843726558,
          0.41493653361237,
          0.2592619548905604,
          0.28772516577263174,
          0.3433527464139064,
          0.4467317600807433,
          0.3057447612855566,
          0.31778615974232716,
          0.1955682448529224,
          0.3746224591130558,
          0.14955705491377286,
          0.16132752433526346,
          0.09105075296353125,
          0.5721799256765605,
          0.08864070184517897,
          0.37087612790503555,
          0.22119784244799,
          0.1414291420706349,
          0.37963853129032793,
          0.521032871327361,
          0.1812462485959908,
          0.4889809373267925,
          0.6279379228507683,
          0.07925964437005131,
          0.25348081592097454,
          0.37076223669728037,
          0.21414540364148701,
          0.3397154464067423,
          0.38996329369584365,
          0.3194644975490796,
          0.3965857370172977,
          0.5868580640043009,
          0.6459402500459587,
          0.40649189079806275,
          0.5735760298453918,
          0.17137497299290183,
          0.2567276495286437
         ],
         "hovertemplate": "Category 1=%{a}<br>Category 2=%{b}<br>Category 3=%{c}<extra></extra>",
         "legendgroup": "",
         "marker": {
          "color": "#636efa",
          "opacity": 0.5,
          "symbol": "circle"
         },
         "mode": "markers",
         "name": "",
         "showlegend": false,
         "subplot": "ternary",
         "type": "scatterternary"
        }
       ],
       "layout": {
        "legend": {
         "tracegroupgap": 0
        },
        "template": {
         "data": {
          "bar": [
           {
            "error_x": {
             "color": "#2a3f5f"
            },
            "error_y": {
             "color": "#2a3f5f"
            },
            "marker": {
             "line": {
              "color": "#E5ECF6",
              "width": 0.5
             },
             "pattern": {
              "fillmode": "overlay",
              "size": 10,
              "solidity": 0.2
             }
            },
            "type": "bar"
           }
          ],
          "barpolar": [
           {
            "marker": {
             "line": {
              "color": "#E5ECF6",
              "width": 0.5
             },
             "pattern": {
              "fillmode": "overlay",
              "size": 10,
              "solidity": 0.2
             }
            },
            "type": "barpolar"
           }
          ],
          "carpet": [
           {
            "aaxis": {
             "endlinecolor": "#2a3f5f",
             "gridcolor": "white",
             "linecolor": "white",
             "minorgridcolor": "white",
             "startlinecolor": "#2a3f5f"
            },
            "baxis": {
             "endlinecolor": "#2a3f5f",
             "gridcolor": "white",
             "linecolor": "white",
             "minorgridcolor": "white",
             "startlinecolor": "#2a3f5f"
            },
            "type": "carpet"
           }
          ],
          "choropleth": [
           {
            "colorbar": {
             "outlinewidth": 0,
             "ticks": ""
            },
            "type": "choropleth"
           }
          ],
          "contour": [
           {
            "colorbar": {
             "outlinewidth": 0,
             "ticks": ""
            },
            "colorscale": [
             [
              0,
              "#0d0887"
             ],
             [
              0.1111111111111111,
              "#46039f"
             ],
             [
              0.2222222222222222,
              "#7201a8"
             ],
             [
              0.3333333333333333,
              "#9c179e"
             ],
             [
              0.4444444444444444,
              "#bd3786"
             ],
             [
              0.5555555555555556,
              "#d8576b"
             ],
             [
              0.6666666666666666,
              "#ed7953"
             ],
             [
              0.7777777777777778,
              "#fb9f3a"
             ],
             [
              0.8888888888888888,
              "#fdca26"
             ],
             [
              1,
              "#f0f921"
             ]
            ],
            "type": "contour"
           }
          ],
          "contourcarpet": [
           {
            "colorbar": {
             "outlinewidth": 0,
             "ticks": ""
            },
            "type": "contourcarpet"
           }
          ],
          "heatmap": [
           {
            "colorbar": {
             "outlinewidth": 0,
             "ticks": ""
            },
            "colorscale": [
             [
              0,
              "#0d0887"
             ],
             [
              0.1111111111111111,
              "#46039f"
             ],
             [
              0.2222222222222222,
              "#7201a8"
             ],
             [
              0.3333333333333333,
              "#9c179e"
             ],
             [
              0.4444444444444444,
              "#bd3786"
             ],
             [
              0.5555555555555556,
              "#d8576b"
             ],
             [
              0.6666666666666666,
              "#ed7953"
             ],
             [
              0.7777777777777778,
              "#fb9f3a"
             ],
             [
              0.8888888888888888,
              "#fdca26"
             ],
             [
              1,
              "#f0f921"
             ]
            ],
            "type": "heatmap"
           }
          ],
          "heatmapgl": [
           {
            "colorbar": {
             "outlinewidth": 0,
             "ticks": ""
            },
            "colorscale": [
             [
              0,
              "#0d0887"
             ],
             [
              0.1111111111111111,
              "#46039f"
             ],
             [
              0.2222222222222222,
              "#7201a8"
             ],
             [
              0.3333333333333333,
              "#9c179e"
             ],
             [
              0.4444444444444444,
              "#bd3786"
             ],
             [
              0.5555555555555556,
              "#d8576b"
             ],
             [
              0.6666666666666666,
              "#ed7953"
             ],
             [
              0.7777777777777778,
              "#fb9f3a"
             ],
             [
              0.8888888888888888,
              "#fdca26"
             ],
             [
              1,
              "#f0f921"
             ]
            ],
            "type": "heatmapgl"
           }
          ],
          "histogram": [
           {
            "marker": {
             "pattern": {
              "fillmode": "overlay",
              "size": 10,
              "solidity": 0.2
             }
            },
            "type": "histogram"
           }
          ],
          "histogram2d": [
           {
            "colorbar": {
             "outlinewidth": 0,
             "ticks": ""
            },
            "colorscale": [
             [
              0,
              "#0d0887"
             ],
             [
              0.1111111111111111,
              "#46039f"
             ],
             [
              0.2222222222222222,
              "#7201a8"
             ],
             [
              0.3333333333333333,
              "#9c179e"
             ],
             [
              0.4444444444444444,
              "#bd3786"
             ],
             [
              0.5555555555555556,
              "#d8576b"
             ],
             [
              0.6666666666666666,
              "#ed7953"
             ],
             [
              0.7777777777777778,
              "#fb9f3a"
             ],
             [
              0.8888888888888888,
              "#fdca26"
             ],
             [
              1,
              "#f0f921"
             ]
            ],
            "type": "histogram2d"
           }
          ],
          "histogram2dcontour": [
           {
            "colorbar": {
             "outlinewidth": 0,
             "ticks": ""
            },
            "colorscale": [
             [
              0,
              "#0d0887"
             ],
             [
              0.1111111111111111,
              "#46039f"
             ],
             [
              0.2222222222222222,
              "#7201a8"
             ],
             [
              0.3333333333333333,
              "#9c179e"
             ],
             [
              0.4444444444444444,
              "#bd3786"
             ],
             [
              0.5555555555555556,
              "#d8576b"
             ],
             [
              0.6666666666666666,
              "#ed7953"
             ],
             [
              0.7777777777777778,
              "#fb9f3a"
             ],
             [
              0.8888888888888888,
              "#fdca26"
             ],
             [
              1,
              "#f0f921"
             ]
            ],
            "type": "histogram2dcontour"
           }
          ],
          "mesh3d": [
           {
            "colorbar": {
             "outlinewidth": 0,
             "ticks": ""
            },
            "type": "mesh3d"
           }
          ],
          "parcoords": [
           {
            "line": {
             "colorbar": {
              "outlinewidth": 0,
              "ticks": ""
             }
            },
            "type": "parcoords"
           }
          ],
          "pie": [
           {
            "automargin": true,
            "type": "pie"
           }
          ],
          "scatter": [
           {
            "fillpattern": {
             "fillmode": "overlay",
             "size": 10,
             "solidity": 0.2
            },
            "type": "scatter"
           }
          ],
          "scatter3d": [
           {
            "line": {
             "colorbar": {
              "outlinewidth": 0,
              "ticks": ""
             }
            },
            "marker": {
             "colorbar": {
              "outlinewidth": 0,
              "ticks": ""
             }
            },
            "type": "scatter3d"
           }
          ],
          "scattercarpet": [
           {
            "marker": {
             "colorbar": {
              "outlinewidth": 0,
              "ticks": ""
             }
            },
            "type": "scattercarpet"
           }
          ],
          "scattergeo": [
           {
            "marker": {
             "colorbar": {
              "outlinewidth": 0,
              "ticks": ""
             }
            },
            "type": "scattergeo"
           }
          ],
          "scattergl": [
           {
            "marker": {
             "colorbar": {
              "outlinewidth": 0,
              "ticks": ""
             }
            },
            "type": "scattergl"
           }
          ],
          "scattermapbox": [
           {
            "marker": {
             "colorbar": {
              "outlinewidth": 0,
              "ticks": ""
             }
            },
            "type": "scattermapbox"
           }
          ],
          "scatterpolar": [
           {
            "marker": {
             "colorbar": {
              "outlinewidth": 0,
              "ticks": ""
             }
            },
            "type": "scatterpolar"
           }
          ],
          "scatterpolargl": [
           {
            "marker": {
             "colorbar": {
              "outlinewidth": 0,
              "ticks": ""
             }
            },
            "type": "scatterpolargl"
           }
          ],
          "scatterternary": [
           {
            "marker": {
             "colorbar": {
              "outlinewidth": 0,
              "ticks": ""
             }
            },
            "type": "scatterternary"
           }
          ],
          "surface": [
           {
            "colorbar": {
             "outlinewidth": 0,
             "ticks": ""
            },
            "colorscale": [
             [
              0,
              "#0d0887"
             ],
             [
              0.1111111111111111,
              "#46039f"
             ],
             [
              0.2222222222222222,
              "#7201a8"
             ],
             [
              0.3333333333333333,
              "#9c179e"
             ],
             [
              0.4444444444444444,
              "#bd3786"
             ],
             [
              0.5555555555555556,
              "#d8576b"
             ],
             [
              0.6666666666666666,
              "#ed7953"
             ],
             [
              0.7777777777777778,
              "#fb9f3a"
             ],
             [
              0.8888888888888888,
              "#fdca26"
             ],
             [
              1,
              "#f0f921"
             ]
            ],
            "type": "surface"
           }
          ],
          "table": [
           {
            "cells": {
             "fill": {
              "color": "#EBF0F8"
             },
             "line": {
              "color": "white"
             }
            },
            "header": {
             "fill": {
              "color": "#C8D4E3"
             },
             "line": {
              "color": "white"
             }
            },
            "type": "table"
           }
          ]
         },
         "layout": {
          "annotationdefaults": {
           "arrowcolor": "#2a3f5f",
           "arrowhead": 0,
           "arrowwidth": 1
          },
          "autotypenumbers": "strict",
          "coloraxis": {
           "colorbar": {
            "outlinewidth": 0,
            "ticks": ""
           }
          },
          "colorscale": {
           "diverging": [
            [
             0,
             "#8e0152"
            ],
            [
             0.1,
             "#c51b7d"
            ],
            [
             0.2,
             "#de77ae"
            ],
            [
             0.3,
             "#f1b6da"
            ],
            [
             0.4,
             "#fde0ef"
            ],
            [
             0.5,
             "#f7f7f7"
            ],
            [
             0.6,
             "#e6f5d0"
            ],
            [
             0.7,
             "#b8e186"
            ],
            [
             0.8,
             "#7fbc41"
            ],
            [
             0.9,
             "#4d9221"
            ],
            [
             1,
             "#276419"
            ]
           ],
           "sequential": [
            [
             0,
             "#0d0887"
            ],
            [
             0.1111111111111111,
             "#46039f"
            ],
            [
             0.2222222222222222,
             "#7201a8"
            ],
            [
             0.3333333333333333,
             "#9c179e"
            ],
            [
             0.4444444444444444,
             "#bd3786"
            ],
            [
             0.5555555555555556,
             "#d8576b"
            ],
            [
             0.6666666666666666,
             "#ed7953"
            ],
            [
             0.7777777777777778,
             "#fb9f3a"
            ],
            [
             0.8888888888888888,
             "#fdca26"
            ],
            [
             1,
             "#f0f921"
            ]
           ],
           "sequentialminus": [
            [
             0,
             "#0d0887"
            ],
            [
             0.1111111111111111,
             "#46039f"
            ],
            [
             0.2222222222222222,
             "#7201a8"
            ],
            [
             0.3333333333333333,
             "#9c179e"
            ],
            [
             0.4444444444444444,
             "#bd3786"
            ],
            [
             0.5555555555555556,
             "#d8576b"
            ],
            [
             0.6666666666666666,
             "#ed7953"
            ],
            [
             0.7777777777777778,
             "#fb9f3a"
            ],
            [
             0.8888888888888888,
             "#fdca26"
            ],
            [
             1,
             "#f0f921"
            ]
           ]
          },
          "colorway": [
           "#636efa",
           "#EF553B",
           "#00cc96",
           "#ab63fa",
           "#FFA15A",
           "#19d3f3",
           "#FF6692",
           "#B6E880",
           "#FF97FF",
           "#FECB52"
          ],
          "font": {
           "color": "#2a3f5f"
          },
          "geo": {
           "bgcolor": "white",
           "lakecolor": "white",
           "landcolor": "#E5ECF6",
           "showlakes": true,
           "showland": true,
           "subunitcolor": "white"
          },
          "hoverlabel": {
           "align": "left"
          },
          "hovermode": "closest",
          "mapbox": {
           "style": "light"
          },
          "paper_bgcolor": "white",
          "plot_bgcolor": "#E5ECF6",
          "polar": {
           "angularaxis": {
            "gridcolor": "white",
            "linecolor": "white",
            "ticks": ""
           },
           "bgcolor": "#E5ECF6",
           "radialaxis": {
            "gridcolor": "white",
            "linecolor": "white",
            "ticks": ""
           }
          },
          "scene": {
           "xaxis": {
            "backgroundcolor": "#E5ECF6",
            "gridcolor": "white",
            "gridwidth": 2,
            "linecolor": "white",
            "showbackground": true,
            "ticks": "",
            "zerolinecolor": "white"
           },
           "yaxis": {
            "backgroundcolor": "#E5ECF6",
            "gridcolor": "white",
            "gridwidth": 2,
            "linecolor": "white",
            "showbackground": true,
            "ticks": "",
            "zerolinecolor": "white"
           },
           "zaxis": {
            "backgroundcolor": "#E5ECF6",
            "gridcolor": "white",
            "gridwidth": 2,
            "linecolor": "white",
            "showbackground": true,
            "ticks": "",
            "zerolinecolor": "white"
           }
          },
          "shapedefaults": {
           "line": {
            "color": "#2a3f5f"
           }
          },
          "ternary": {
           "aaxis": {
            "gridcolor": "white",
            "linecolor": "white",
            "ticks": ""
           },
           "baxis": {
            "gridcolor": "white",
            "linecolor": "white",
            "ticks": ""
           },
           "bgcolor": "#E5ECF6",
           "caxis": {
            "gridcolor": "white",
            "linecolor": "white",
            "ticks": ""
           }
          },
          "title": {
           "x": 0.05
          },
          "xaxis": {
           "automargin": true,
           "gridcolor": "white",
           "linecolor": "white",
           "ticks": "",
           "title": {
            "standoff": 15
           },
           "zerolinecolor": "white",
           "zerolinewidth": 2
          },
          "yaxis": {
           "automargin": true,
           "gridcolor": "white",
           "linecolor": "white",
           "ticks": "",
           "title": {
            "standoff": 15
           },
           "zerolinecolor": "white",
           "zerolinewidth": 2
          }
         }
        },
        "ternary": {
         "aaxis": {
          "title": {
           "text": "Category 1"
          }
         },
         "baxis": {
          "title": {
           "text": "Category 2"
          }
         },
         "caxis": {
          "title": {
           "text": "Category 3"
          }
         },
         "domain": {
          "x": [
           0,
           1
          ],
          "y": [
           0,
           1
          ]
         }
        },
        "title": {
         "text": "Dirichlet Prior"
        }
       }
      },
      "text/html": [
       "<div>                            <div id=\"46ad19ad-55ec-4bde-89eb-dc46fefefde9\" class=\"plotly-graph-div\" style=\"height:525px; width:100%;\"></div>            <script type=\"text/javascript\">                require([\"plotly\"], function(Plotly) {                    window.PLOTLYENV=window.PLOTLYENV || {};                                    if (document.getElementById(\"46ad19ad-55ec-4bde-89eb-dc46fefefde9\")) {                    Plotly.newPlot(                        \"46ad19ad-55ec-4bde-89eb-dc46fefefde9\",                        [{\"a\":[0.24728715326484693,0.4002993907377334,0.2284776819081094,0.621565755364476,0.31226803641846035,0.4021265790281847,0.20222836209549888,0.44793350168266255,0.50788879244061,0.23311801049276765,0.1704109164295988,0.46636295488393936,0.77204091396105,0.5963708632717978,0.07240710258465591,0.377316097931483,0.3982406519497587,0.3422502347219115,0.26548591862835763,0.21263317877164803,0.4930197605669475,0.29792185453211656,0.19676129782806026,0.6350028267579652,0.2793415962641749,0.31046998555608984,0.5523084712839177,0.47011174348626655,0.09508556259003415,0.6850501127147265,0.24794536330063052,0.33177435662269456,0.282425096744301,0.35414643424586495,0.04389555827378704,0.12975632548424237,0.2432274633397037,0.14136174303198137,0.27683513270757026,0.04279325371388856,0.3472372114718282,0.04991577661477498,0.08125207123360677,0.46004066638716096,0.2249543736519769,0.2520201386799209,0.7817882997102504,0.27701874921514136,0.08248772262713125,0.4473458416290459,0.7185755114670451,0.10172959560575928,0.3983204172996493,0.5021361583095684,0.5675880944408735,0.2857213393204552,0.15896832994559976,0.28995924799137063,0.2504046930691747,0.3844174545429046,0.0925177042431021,0.33597611954478623,0.4480489971774719,0.3378924417574253,0.1578510863570357,0.28827195690839197,0.24932543257311787,0.32843668800148285,0.5994135196817932,0.3119433038875865,0.30634297027003027,0.23420936745850232,0.2540965380796658,0.6377208358584867,0.4984495691481891,0.557839823487232,0.1451554463073475,0.37512294606256624,0.1617869230067324,0.49149669893564046,0.08193752291130396,0.2812215619059824,0.2586063157877815,0.5344812308516708,0.2048441491300546,0.5103114272778213,0.1609224785512346,0.3527937284596109,0.238312187375865,0.195599871537901,0.36964201277103986,0.15817568972208745,0.4655308991884931,0.1265468384773559,0.275839099351255,0.7182162987500431,0.365724201711516,0.3960507148670381,0.0017795804839317907,0.5297763006243846,0.0468270593071239,0.24407253760587888,0.36492300842895964,0.26752140515266354,0.06876567273434551,0.2541564494283546,0.10588496247549264,0.38592686093489553,0.19641517792443428,0.558376524841777,0.5030000064494987,0.4828371464317313,0.6240492469875304,0.10770802576626358,0.48762301473411146,0.22206131102281465,0.40632975361486695,0.5431275534874522,0.23449886471962006,0.1325530160042277,0.284486466570474,0.07393593943606759,0.2897172101275095,0.42078071072782197,0.10849629047959942,0.1130909678459872,0.3092717808899015,0.5139194224384855,0.6851909437125695,0.3698420348033564,0.7155812590149725,0.34319594126399555,0.14558994198110264,0.37212010873101825,0.08840973251107206,0.14014213945312473,0.3525404409099136,0.05604489011997792,0.5883723855669547,0.4109394334852691,0.2750973893157965,0.2881010239418801,0.08176697859448531,0.641554952113905,0.26819288444423905,0.6131848814844205,0.083326842667099,0.41623031617001716,0.3044275104660955,0.407539964231375,0.26474451542137145,0.3002383274994941,0.2324356040876279,0.14925434499713924,0.37945146079384273,0.3553299668857306,0.19064131595327355,0.22527968237803214,0.46561212261041335,0.21826762336233266,0.3543426597941338,0.0360988154086033,0.676242562642626,0.29560269848353615,0.7302966222104871,0.2831437243131683,0.19744968115567813,0.5626560204521607,0.27752308075955984,0.3097395551852856,0.5273695699758781,0.07634381673876879,0.09710981483186132,0.46092117211893097,0.7331675135390138,0.29222319600818897,0.4474215250939728,0.26071144920550354,0.39904146410695235,0.3636748603603229,0.1919199022580769,0.06295558499786981,0.7243695294623369,0.6089450752105574,0.20097848229472673,0.5409133895359479,0.2580395475916637,0.1558046577338116,0.16081213749143677,0.24467004514502333,0.4641086049596607,0.6371249257244121,0.038384653267549876,0.841896888456221,0.281758594320955,0.3016460179648863,0.12479426847608113,0.42056340253048735,0.31699402655451964,0.41671415385855076,0.07984130287914272,0.4716104344741033,0.3031034297572333,0.07599905282983616,0.19263667660894726,0.16096018473170837,0.2013426780102276,0.6418739938891146,0.35840466997807163,0.2666379117340009,0.044784765587133075,0.24957712783899455,0.05333195435807098,0.3175928848719171,0.3054125338845486,0.17531007456741896,0.6764006752726526,0.6173709266534824,0.13523916852239848,0.26038127826642016,0.21731211522422256,0.43513824599599527,0.4177214064924526,0.06805137553715679,0.09035449315924277,0.1618114838847562,0.0906285723035027,0.17194644470965076,0.2837153218382699,0.3864195428012019,0.27198412803706296,0.523307284987661,0.32315388052455424,0.17290591872333352,0.39920022463081156,0.32142192497700633,0.1127129864235222,0.4441945848090576,0.20118222094675467,0.551298105506982,0.2899267242074491,0.4271139143933501,0.5591519057466453,0.12985357009715257,0.11847781021923143,0.5407796969162281,0.48180691737291353,0.7666073959333477,0.7595187670796368,0.4826821604342406,0.21674892121567227,0.5063772665043272,0.4198034307929112,0.07580081457259938,0.3982929159605542,0.4885283211489737,0.6190490689329149,0.07184515733236142,0.20940483809946875,0.29699417488814017,0.42955125001787825,0.5714553869502818,0.06430677961059857,0.1399609265622465,0.5301744737097901,0.0633409378671574,0.1568800238738344,0.2664754944963654,0.1947061291857761,0.30066671869774864,0.26658757256967996,0.43094851284341346,0.2781456899471016,0.4985704930992213,0.10689481802778462,0.3899864491286825,0.14621834567615324,0.33560247180894065,0.15620649396595607,0.30010887693065375,0.5793011529012122,0.30217728286025886,0.28374765751619935,0.04609770931800052,0.681126750366835,0.47907193060868614,0.32261780089777997,0.31549201033334895,0.4645171283514092,0.33704670276920273,0.5503728919428187,0.3344896044799853,0.6058928959236798,0.38115298390286717,0.542124375077926,0.1505298613183637,0.6065329698723452,0.5607362545690261,0.33902603325535285,0.22955895870154058,0.44314747907462904,0.12605268399808656,0.33222123086929833,0.30342449296499974,0.2468525338246878,0.043172333747059505,0.4426164051148623,0.5645463063132169,0.0966111513368138,0.06765263094134855,0.4891293529264635,0.19147389844672233,0.6427529118605116,0.3766672354711257,0.1352488195313921,0.2947211837227072,0.6009115943791062,0.29819377169713984,0.19687429131749531,0.4300577916363039,0.5706914714274745,0.28325158650871674,0.196025470909502,0.5768303840024305,0.6483399327747225,0.49606722863147096,0.5632908949098013,0.4370096824674073,0.3964588399496229,0.1832127706561841,0.2118374583602848,0.3579809922430761,0.36756856307471397,0.2356891226855533,0.0979679136572662,0.27802345196414785,0.6525552852024848,0.32420004988461804,0.14340841986195002,0.3598926139167344,0.3675814886372972,0.3334475473166652,0.34614494015578795,0.19195885086762254,0.45491103412392436,0.14594807796275708,0.31293127408609867,0.3158172600119427,0.5885894600035234,0.43955385575001493,0.060242309837004085,0.5965563203026972,0.34278783613253516,0.17407230470820595,0.5298664065761116,0.05972041224601306,0.5274808383652914,0.31161805332797426,0.13104492348065885,0.11564507684827678,0.21560072811535713,0.43643718087865063,0.10723869917631124,0.44991790139554716,0.16841022996560173,0.5501075191977594,0.4837048725764199,0.3738153291175475,0.3873604588916459,0.10750383148680907,0.697836933409324,0.07086954307372333,0.15312991920229344,0.3203895562529293,0.29098380182059047,0.19720148948479804,0.03851247383144117,0.4303827838863043,0.10197981949239471,0.24767317987076043,0.39648676546669054,0.26884923857572407,0.6440853532370252,0.44953146182049936,0.25755757393228834,0.30219262925046103,0.33813773439109096,0.2956982674119312,0.3082270957828308,0.20445221116768447,0.08062701894095561,0.19984406466286242,0.18491174291919277,0.5412051817851162,0.3226710962640649,0.3178238391975681,0.07170403929436157,0.5947455021212613,0.34238964407854433,0.15295250603814936,0.09383965323959487,0.23694029604650824,0.09935239717947385,0.4726184661969773,0.34767821776447017,0.19137730147165183,0.46652573517450124,0.2242132519252576,0.16182925488096547,0.02844240120732263,0.34852329316221886,0.16982812154960042,0.17333559096054263,0.2688090630120521,0.6428353710300121,0.24700520914656202,0.5978062670442191,0.5709539318047938,0.47612971592812847,0.32517632126163887,0.5180744607561711,0.04974051625711622,0.2385677812923982,0.3530486813857236,0.26434032280462455,0.4837175929585498,0.229234000808806,0.2636047096509923,0.08009854676912313,0.6684876573099505,0.39538511945269705,0.25012950621525265,0.11754736015393692,0.484332120457739,0.15429109304033792,0.20916155984653942,0.5267673494330389,0.45136448735355317,0.20946710429908577,0.3691187892838458,0.12685355450137095,0.1344833184231137,0.3271451592235084,0.43282555419288354,0.37551082078357745,0.3001187901097483,0.2757179872351441,0.46312828895303076,0.05462465399560111,0.31406671731976876,0.3068765921749767,0.2552481498048247,0.5849802335666154,0.200614467932126,0.7285628093558848,0.16291298519142694,0.040292904160090584,0.4397542810474499,0.16167216956977967,0.5129366201427716,0.7044216642112225,0.600145921815021,0.221988699724416,0.16857357697698222,0.5090911269221781,0.15610267111616488,0.3869522023164234,0.2670195833593125,0.09067241349609255,0.11479993688690976,0.43136854777327455,0.20895898131451737,0.18551177729475068,0.38611586983217144,0.11594782647053853,0.7093783706417686,0.2892401852065404,0.3273125393430608,0.36971292945863166,0.49556960212915163,0.23007267754647556,0.3068013139828916,0.14421563750717575,0.30759829593341903,0.0772972159380359,0.12660739211623687,0.4474062268846034,0.5591828453389767,0.4433008565322867,0.30132345165428376,0.38085573330585654,0.21653399066322526,0.41758195794961206,0.3818922754967348,0.2036024369924065,0.07544603297800527,0.4196569153353189,0.1353330422178123,0.5756537452299176,0.31682466030845774],\"b\":[0.39954886784147053,0.18708487394910595,0.16996842625086653,0.29360542141495266,0.3171657385813758,0.20656797570378443,0.6322164529490573,0.0863731670477062,0.3034616336109653,0.17362442165645398,0.5667331835713618,0.26500931241637526,0.1205398342888038,0.3928539616306031,0.26472872312056484,0.20284141629447486,0.400741570240611,0.5739717474249368,0.2699484958028348,0.13209027656034528,0.07107427907056059,0.48477252032250034,0.10463097159439431,0.21596532841837035,0.504790970586878,0.43636468758374214,0.21428222690828325,0.158905407576189,0.5712258546881944,0.16288571043590705,0.4024785845049245,0.299819152895436,0.5308284063086144,0.2494826222036024,0.2918186398655803,0.576736349289105,0.38972126435518056,0.5837533434932598,0.17711424303034373,0.5687874625937717,0.3735618232876756,0.3983715981593825,0.4771713641027725,0.30298257847443133,0.6020004886444665,0.3229915434109202,0.03334841052117328,0.3587761017195021,0.28997245346461353,0.41569977351557386,0.10425579356180674,0.3294191871179414,0.4227118977112462,0.3091184729887162,0.37011043025299734,0.2882331171950008,0.5044947268514905,0.2734747222684669,0.5017526282407598,0.2944152581281287,0.41437113656499475,0.27774538221126266,0.20288602493500674,0.45781099666786546,0.07947072959962816,0.2221743574332217,0.4103453237638663,0.3076559896259305,0.2593651334601724,0.39241937729147736,0.6537836165659439,0.5175690583057972,0.5349420371583653,0.11779233738199014,0.4120219344953434,0.2523923564693526,0.43545892685676124,0.4044803747336631,0.579274689050487,0.34299941024438574,0.32022517635771497,0.42135082624392844,0.4972892827631061,0.16937497557117365,0.5102677178767151,0.36211149039500357,0.6949476978383254,0.562646851932606,0.36919170889377756,0.24767636615734206,0.46431839883468534,0.1935556347278502,0.3716421929040393,0.6057074777569216,0.17537084515515705,0.16720385874428204,0.3570891930267422,0.3698410441422022,0.5070639063485763,0.3168758412662523,0.6478157702773172,0.233807719009264,0.2986304964947295,0.4894989420603041,0.6143572010891126,0.056271808282831834,0.6743407778072646,0.1600665460399344,0.2874964784836177,0.19350827935955908,0.3876791035356139,0.3522825084624979,0.3196066612249899,0.39150468054172766,0.1634890854885151,0.7530922853997067,0.08880486974580014,0.20070237274179395,0.5848526929311779,0.5356134797557316,0.456551603156864,0.5633913098260482,0.5131275724722721,0.08695248166518725,0.436939629407345,0.5452073181037197,0.4669098935842965,0.3090205363473636,0.12720743180718244,0.4912367903015176,0.2139550720884939,0.27987805049236353,0.32462485616135106,0.5112560480204904,0.6237958507988322,0.4615447376780568,0.36816992049049974,0.51496941513882,0.07836279107173667,0.1926156715524027,0.3052483337523809,0.23688933025559622,0.40146447541691155,0.12895779365731308,0.5605074328594821,0.03563556860003268,0.5477629961448099,0.18031426623017038,0.5986586819818005,0.08527760569249825,0.2628032777717777,0.4447224896614923,0.2127132690495799,0.32372569351137664,0.10482193223682221,0.3204411195270807,0.05176651237208349,0.5129284730872381,0.08432610601354748,0.35437353160639107,0.2458976473260045,0.7435814216731376,0.27375665203680877,0.4185843440478603,0.14060709145334135,0.5469115551996018,0.676723354165901,0.0738405750920996,0.24986476075500608,0.40235197724459215,0.11229852025530003,0.2730389405271242,0.18019991659144743,0.2825011813390999,0.05237444517266923,0.3359585288029949,0.41961674467032894,0.41248171940268813,0.22475694867477106,0.12445755948565346,0.37713438843177866,0.5097717134301775,0.011724369487707179,0.10408390328865405,0.6189206758418522,0.29258160224354557,0.12224905467865152,0.2813665871201302,0.07312146973732378,0.2141215255484832,0.4619755573214095,0.2659628174726396,0.6515715011025218,0.04434739357750102,0.46848529017124113,0.09805701989683743,0.47309321890443384,0.47461697955540944,0.3273354238304928,0.28519585252801827,0.3580662554855627,0.11083866837283597,0.16720354269608362,0.4025060492024051,0.41750865591463804,0.28503273384845745,0.3713254952476146,0.2964064664896938,0.48834372302502194,0.3852238173770496,0.09387578068861842,0.07005796791464376,0.6844484591997504,0.3826729849404192,0.3100092339403723,0.3387618729521534,0.021547559290117927,0.13880547755642467,0.4772256533809885,0.42804711227905906,0.11765116111679844,0.24219136306573777,0.49432710967191856,0.8144737227401381,0.5881815275039441,0.08041119596252984,0.6216069882093506,0.35380203268714394,0.34944288686746466,0.08149249603435874,0.1185873560705476,0.06831319306248321,0.33385711022222336,0.359891955384268,0.24134085440659922,0.31199182241756734,0.029600463648992617,0.22591731573704793,0.2726983522799696,0.2960307514571741,0.4535917846674649,0.16753431782490572,0.32156020628449355,0.09714065727426044,0.7707982256881089,0.08623164153930185,0.09116807016275864,0.15812221320500794,0.12947434339465694,0.1614303814076999,0.19286521248509966,0.25287148636148177,0.4899351409649369,0.18776222872904683,0.32447150065388863,0.3760802903379776,0.2481596427624258,0.41316917651143986,0.2835658714281227,0.21027152909120245,0.12586197442031324,0.08009964957705196,0.23945275172447747,0.5691653509880763,0.2093461109020053,0.33736433452031256,0.4119367976549429,0.44360688435771667,0.41411661645511016,0.25140197779014634,0.6281960206783811,0.2396649070780015,0.40773800756540274,0.18500476048450124,0.6662970034875132,0.1604449763608711,0.8525355845403445,0.3920632145765297,0.6552709683088322,0.5645724978089682,0.3234796300901826,0.27228030672491327,0.31802608957447703,0.637904870442678,0.12135086158939669,0.4491499174475583,0.31524584539029843,0.3350007754240046,0.21310181953776153,0.3234652842076371,0.20561937339604217,0.22255933134714337,0.08378818937604095,0.113187117819437,0.285817070817609,0.4628580894410103,0.15152378614732823,0.14378260893673306,0.18883750606698235,0.3929822222371062,0.5090018338641034,0.3041436324971036,0.4694704213408663,0.12080070518827367,0.45658458258242296,0.9167230803279528,0.13400985892089823,0.2921895742719123,0.6348616813158604,0.5585115571630693,0.09465883363677424,0.08966720237430152,0.1787046740883933,0.04111817179129242,0.2960359450801937,0.30800616326484676,0.07715738975504757,0.374102403010088,0.677247698336423,0.20266072431071963,0.2589786768314101,0.5740975073206508,0.727606565459336,0.25316801968265157,0.2344609098865978,0.2541272297607545,0.22095449222270688,0.24799342719857953,0.433091749361705,0.36759497507438604,0.7685481759765179,0.16732974894010658,0.5081160007663674,0.3273540134739244,0.046571971476319474,0.1958849900033893,0.13407738351081094,0.4873548836542321,0.308482501802405,0.12866268177334098,0.18044355577704232,0.42187673795856884,0.2913812308061833,0.43563948613969544,0.35966375284040686,0.7605318613550992,0.19599264041884157,0.5672037154721252,0.2548454376275571,0.47622337359931194,0.6344365408595156,0.3549236124159007,0.3131998495994723,0.2349931637085565,0.32586126019516326,0.21730541680228585,0.3650051258499377,0.18358741760268216,0.6056069757469279,0.27292097571551815,0.5692782249893723,0.18589102952958286,0.3660595497782961,0.35689251168976993,0.45778489792161114,0.07259904294937775,0.18833025435138312,0.30748349189257146,0.12090528272670441,0.21352027862813033,0.05715398199752555,0.4713338767733285,0.7040617390700135,0.11432986343130912,0.238606741702125,0.6908259676734532,0.4881543787245455,0.15047379035819475,0.4554002872430563,0.6477184196626453,0.20157252075826754,0.19397799149419237,0.22577730101360463,0.19963526554515562,0.4247811506697987,0.6308796475671363,0.1579540804802077,0.3793241622939389,0.6051058445374145,0.05611171692611593,0.7469823704292728,0.4382865428384049,0.37954848539867025,0.17631430875452822,0.31580167435373246,0.5207340021313968,0.5586611454050145,0.2130783413774382,0.22078712675673642,0.22598375374111954,0.4703259217774302,0.22926207274817018,0.11162243601808605,0.12465108560932045,0.2183023599048262,0.21471814021380664,0.0712813055468532,0.2168585800403266,0.5467210242577801,0.5968283102461821,0.45021878343809946,0.7371571606010148,0.16128325163823665,0.5840256002283858,0.28505505762439975,0.3448171392296622,0.311064710022094,0.2611468751435323,0.42471714261111954,0.42472731924276097,0.2605566634463562,0.14797779079964343,0.505563335932598,0.26043286640298574,0.38347892501243747,0.0368994907082806,0.10503685519577784,0.5009480643830571,0.29782108340126634,0.13976516688583013,0.328600580207294,0.18147409018692343,0.4318304042683329,0.20888792319996485,0.6887885926267403,0.18486626360204272,0.052629136222711655,0.08148580815891049,0.2549886940324909,0.5952883401452799,0.1531797374348461,0.22002604472813073,0.18721038157570868,0.3125595206251431,0.2333741883662413,0.42024428947880627,0.30252599758191934,0.487763673059319,0.44442840813007944,0.38816103549126224,0.6048808009506379,0.6040801129394138,0.12148759149270053,0.28742960492533476,0.07702245409874993,0.5422751878095493,0.3888629440184109,0.21415176295597363,0.5556251125330829,0.05256917861790584,0.09178233249655603,0.13008636480799365,0.4435559364476959,0.6770907845857522,0.07597233946545208,0.5846353739932746,0.32532263191094485,0.3896276702267812,0.4625958264231641,0.5794553018275337,0.25084529248439813,0.5954727738325601,0.43986576359219365,0.4643270752540558,0.7227246491941979,0.19957087639470017,0.13857988911689925,0.5840467588117602,0.25941094263633274,0.28323255542285825,0.6284981803828895,0.31356015472678034,0.3347514911654632,0.5111554554705902,0.43372184673517156,0.24545468503299478,0.4733341287453452,0.18733633874004882,0.18593690677043295,0.4845311447042293,0.2794288202874011,0.39350271564093103,0.26295354450130837,0.22152198748596746,0.20953949900329266,0.2786137169760362,0.17385119386661832,0.2910909279367959,0.2529712817771805,0.4264476901628987],\"c\":[0.3531639788936825,0.4126157353131607,0.601553891841024,0.08482882322057135,0.3705662250001639,0.39130544526803085,0.16555518495544394,0.4656933312696312,0.18864957394842455,0.5932575678507784,0.2628558999990393,0.2686277326996853,0.10741925175014619,0.010775175097599033,0.6628641742947793,0.41984248577404204,0.20101777780963018,0.08377801785315168,0.46456558556880756,0.6552765446680068,0.4359059603624919,0.21730562514538296,0.6986077305775453,0.14903184482366452,0.215867433148947,0.25316532686016796,0.23340930180779917,0.3709828489375445,0.3336885827217715,0.1520641768493665,0.34957605219444493,0.36840649048186946,0.1867464969470847,0.3963709435505326,0.6642858018606326,0.2935073252266527,0.36705127230511575,0.27488491347475885,0.5460506242620861,0.3884192836923398,0.2792009652404961,0.5517126252258426,0.4415765646636207,0.2369767551384076,0.1730451377035566,0.4249883179091589,0.18486328976857616,0.36420514906535667,0.6275398239082552,0.13695438485538028,0.17716869497114815,0.5688512172762994,0.17896768498910454,0.18874536870171535,0.06230147530612908,0.426045543484544,0.3365369432029097,0.43656602974016245,0.24784267869006543,0.3211672873289667,0.49311115919190307,0.38627849824395116,0.34906497788752133,0.2042965615747093,0.7626781840433363,0.48955368565838636,0.3403292436630158,0.3639073223725866,0.14122134685803434,0.29563731882093613,0.03987341316402586,0.2482215742357005,0.21096142476196889,0.2444868267595231,0.08952849635646762,0.18976782004341533,0.41938562683589126,0.22039667920377065,0.25893838794278085,0.16550389081997385,0.597837300730981,0.2974276118500892,0.24410440144911238,0.2961437935771557,0.28488813299323024,0.12757708232717505,0.14412982361043997,0.08455941960778322,0.39249610373035737,0.556723762304757,0.16603958839427468,0.6482686755500623,0.16282690790746757,0.2677456837657227,0.5487900554935881,0.11457984250567482,0.27718660526174194,0.23410824099075975,0.4911565131674917,0.15334785810936313,0.3053571704155588,0.5221197433848571,0.33644649507631086,0.24297965278703232,0.3168771261765418,0.6895717422888135,0.21977425971724282,0.45400659302517,0.5160883435919481,0.24811519579866376,0.10932089001488741,0.16488034510577068,0.05634409178747957,0.5007872936920088,0.34888789977737344,0.02484640357747856,0.5048653766393331,0.2561700737707538,0.1806484423492019,0.3318335042400406,0.2589619302726621,0.36267275073788424,0.1971552174002182,0.49226680760699093,0.4545640801130557,0.3417017140502931,0.22381832552580203,0.17706004121415084,0.18760162448024803,0.13892117489512584,0.07046366889653366,0.37692600824364086,0.5297852018575464,0.1166238432484913,0.28779441669009576,0.39831312286881865,0.27928963859958666,0.42898569474120213,0.3332648233613086,0.396444894962328,0.41965427693182267,0.4750096458025237,0.5167685459886032,0.22948725422878186,0.17129968269627877,0.3511795499155468,0.36891016118809095,0.4034554175998125,0.09691380755210391,0.5071824300761268,0.47245220680685085,0.25503918283901367,0.5548511268627923,0.5270199614914841,0.5157266069693351,0.32422891358718864,0.7575921716746429,0.26179184453472987,0.4500617713760393,0.4273588450312763,0.39975969287986163,0.2203197629182591,0.050000785320565365,0.2858129574686034,0.12909628633617168,0.16994472048723,0.12582696467842094,0.36350340445573975,0.4726121584854341,0.2879084675701223,0.3603319097688219,0.650617242734107,0.7226902685766912,0.2565776465419691,0.21445804128831697,0.37181827518881605,0.13296173023569827,0.3268068313918084,0.3762015872182767,0.5118675801540236,0.4309457093101444,0.4272727015719528,0.26390610104995593,0.28697102150078857,0.18010084186342126,0.16650500822050662,0.6197113977296849,0.5628287551460583,0.7660663927712394,0.5412084293064935,0.07391583771892976,0.09691225680294807,0.31004384562992837,0.11375571796627802,0.2497561155078038,0.6002969621382761,0.40211251261948494,0.10481961791410314,0.3556705496149877,0.29808999361343097,0.5620924416352945,0.4175508971530607,0.529693027546683,0.5214948979677588,0.38985466747641473,0.554007081419834,0.4273318267421579,0.06171953962119143,0.1532516069969065,0.3481382708889494,0.8613394537242485,0.6803649042463616,0.2622195864421787,0.29973413018766365,0.3845782321750793,0.4859280524804276,0.3020517654372295,0.24382359579009302,0.3875351780966131,0.3115716094545208,0.6650367236589789,0.32267039093826694,0.08795148383562863,0.11747490172270503,0.3214639793368131,0.757777320152714,0.2877644394871468,0.47425152260320524,0.3668417912942654,0.5320879611644393,0.6094285158923894,0.4083795219498557,0.34298900925322234,0.4672021258923984,0.3594589209625894,0.3665862526054263,0.8576865499274852,0.3298880994538945,0.5261194267732756,0.15267114303584395,0.25648149112508595,0.4053517677817443,0.11928788796886106,0.7730057726285869,0.11072396409265954,0.3729886615444701,0.42702501246432767,0.07527039086164443,0.11100688952570631,0.35588745815805933,0.5903858662992281,0.24075124713419094,0.09026142824215197,0.7364369566983537,0.27723558338555726,0.13539138851304858,0.13279128830465936,0.5149856661561988,0.5070292904724086,0.49273429602065744,0.44458677556180864,0.3484449634726663,0.696240468664924,0.29087372244967724,0.26047941538820474,0.59929472761253,0.43118317847122284,0.2899176211459179,0.3911772543591136,0.44793130351210503,0.10521640675193882,0.329386580078585,0.31411630248749567,0.3164247464162774,0.22680817848470208,0.4495685745104464,0.0012460697835024368,0.2723343136145298,0.18852253772521158,0.13531862526037805,0.09721921700860535,0.4255424104148278,0.3982262529093236,0.3159974202393215,0.1975223880437682,0.07177815194375567,0.36213635371192154,0.34950721424264647,0.32238105211082935,0.33948801302316006,0.24400773466113915,0.4429510641728712,0.3103189147002792,0.5056598982776959,0.17205855410446505,0.3866120492406259,0.24194324398032668,0.29548113649424085,0.47213646067766485,0.3774588190613531,0.04785068706126772,0.5698036835048099,0.19830834778983525,0.5757748018467266,0.2965628835928893,0.040104585924987717,0.4233737359642395,0.14326411941487077,0.26852716734732585,0.3738358118955821,0.4162118134367622,0.718858899178976,0.17854241405109514,0.5822145927375818,0.5687152353884142,0.397272653012446,0.3219310158658461,0.32770382529277226,0.12587801034608176,0.36728148405297645,0.17032985174111553,0.14265090617063253,0.0763679636311621,0.17000159631491796,0.11719915733867968,0.24980554160777468,0.2157546128674918,0.3149968903340131,0.17044941068867211,0.4491922542694298,0.01961436566319724,0.4746892588168172,0.12431543615891855,0.43695686384052235,0.8554601148664144,0.5260915580324629,0.21336733128670418,0.18844506646114992,0.548109078335645,0.5114447043099247,0.45197495558566053,0.24467571472476596,0.3624738290380287,0.37240166299268196,0.18542521303566883,0.09352006068214383,0.49107608549505966,0.116979024515932,0.15656510236891952,0.08422277065067305,0.3053211493034803,0.048520067281402096,0.3440123142679925,0.5909345315832376,0.14427233322872524,0.722974170951701,0.10751403578477099,0.5047945290693435,0.2633481007724133,0.6114339474362052,0.21512104689527048,0.37767178959176667,0.5267017510453926,0.19318958691468296,0.3738048721127872,0.377293437852863,0.32796487307219685,0.31870117898988104,0.4917342583816496,0.6789758898850605,0.24500908459315052,0.4577965801529482,0.14280834172769305,0.5652805803157616,0.4704094564772845,0.11197254284174889,0.4733331474440134,0.419143425755501,0.4426198932645491,0.10460840046659416,0.40194071377504204,0.5371727699300836,0.1301373457493702,0.35083327263434505,0.31766127539791283,0.06692772318240243,0.5039081851287013,0.3249775702941298,0.08666705967975474,0.7394360719061996,0.17239061062977162,0.36186939249873284,0.4355397716821368,0.2824805094603556,0.3615272293822026,0.1614421586710351,0.3696348153006238,0.19217615650130043,0.4368232291647193,0.6210637402207312,0.43583442498297487,0.5337976312053215,0.7890251668024401,0.4027304481937023,0.4340194223307036,0.5939045583145416,0.46219295927864573,0.5589281680344158,0.29144972086125437,0.3747292885464953,0.20125792339968168,0.09301471784938471,0.6653811574012207,0.14716533675956214,0.07210957134558821,0.4081776516237758,0.09112902293368687,0.16789919305167383,0.09915314146075195,0.2500963594956002,0.2213688757974726,0.8022816929432404,0.25586888277500375,0.3865184522112907,0.3521807521829381,0.47938291633316943,0.665729143995416,0.23544722596595075,0.6220803698296106,0.19174717580421932,0.27601430034000896,0.5683964035978241,0.4506222355777302,0.306779956342296,0.15692031433292186,0.605972176551418,0.4206035143442494,0.46714970448753623,0.5355442016684234,0.03559287057087439,0.7199667080637828,0.6454906368487557,0.48564445920078303,0.2546149251819733,0.39111499085018125,0.2796369204114454,0.4217560151829366,0.04910803798765015,0.5009469378743194,0.297772247188969,0.08824260687438545,0.14067173725576146,0.29353217494068407,0.5119559271425393,0.19441473654536523,0.29481182699902375,0.5708441518214985,0.34609395599657644,0.28270271789713747,0.4344942012393225,0.20379600329222144,0.2697677133769853,0.3344553638278881,0.15433563843726558,0.41493653361237,0.2592619548905604,0.28772516577263174,0.3433527464139064,0.4467317600807433,0.3057447612855566,0.31778615974232716,0.1955682448529224,0.3746224591130558,0.14955705491377286,0.16132752433526346,0.09105075296353125,0.5721799256765605,0.08864070184517897,0.37087612790503555,0.22119784244799,0.1414291420706349,0.37963853129032793,0.521032871327361,0.1812462485959908,0.4889809373267925,0.6279379228507683,0.07925964437005131,0.25348081592097454,0.37076223669728037,0.21414540364148701,0.3397154464067423,0.38996329369584365,0.3194644975490796,0.3965857370172977,0.5868580640043009,0.6459402500459587,0.40649189079806275,0.5735760298453918,0.17137497299290183,0.2567276495286437],\"hovertemplate\":\"Category 1=%{a}\\u003cbr\\u003eCategory 2=%{b}\\u003cbr\\u003eCategory 3=%{c}\\u003cextra\\u003e\\u003c\\u002fextra\\u003e\",\"legendgroup\":\"\",\"marker\":{\"color\":\"#636efa\",\"opacity\":0.5,\"symbol\":\"circle\"},\"mode\":\"markers\",\"name\":\"\",\"showlegend\":false,\"subplot\":\"ternary\",\"type\":\"scatterternary\"}],                        {\"template\":{\"data\":{\"histogram2dcontour\":[{\"type\":\"histogram2dcontour\",\"colorbar\":{\"outlinewidth\":0,\"ticks\":\"\"},\"colorscale\":[[0.0,\"#0d0887\"],[0.1111111111111111,\"#46039f\"],[0.2222222222222222,\"#7201a8\"],[0.3333333333333333,\"#9c179e\"],[0.4444444444444444,\"#bd3786\"],[0.5555555555555556,\"#d8576b\"],[0.6666666666666666,\"#ed7953\"],[0.7777777777777778,\"#fb9f3a\"],[0.8888888888888888,\"#fdca26\"],[1.0,\"#f0f921\"]]}],\"choropleth\":[{\"type\":\"choropleth\",\"colorbar\":{\"outlinewidth\":0,\"ticks\":\"\"}}],\"histogram2d\":[{\"type\":\"histogram2d\",\"colorbar\":{\"outlinewidth\":0,\"ticks\":\"\"},\"colorscale\":[[0.0,\"#0d0887\"],[0.1111111111111111,\"#46039f\"],[0.2222222222222222,\"#7201a8\"],[0.3333333333333333,\"#9c179e\"],[0.4444444444444444,\"#bd3786\"],[0.5555555555555556,\"#d8576b\"],[0.6666666666666666,\"#ed7953\"],[0.7777777777777778,\"#fb9f3a\"],[0.8888888888888888,\"#fdca26\"],[1.0,\"#f0f921\"]]}],\"heatmap\":[{\"type\":\"heatmap\",\"colorbar\":{\"outlinewidth\":0,\"ticks\":\"\"},\"colorscale\":[[0.0,\"#0d0887\"],[0.1111111111111111,\"#46039f\"],[0.2222222222222222,\"#7201a8\"],[0.3333333333333333,\"#9c179e\"],[0.4444444444444444,\"#bd3786\"],[0.5555555555555556,\"#d8576b\"],[0.6666666666666666,\"#ed7953\"],[0.7777777777777778,\"#fb9f3a\"],[0.8888888888888888,\"#fdca26\"],[1.0,\"#f0f921\"]]}],\"heatmapgl\":[{\"type\":\"heatmapgl\",\"colorbar\":{\"outlinewidth\":0,\"ticks\":\"\"},\"colorscale\":[[0.0,\"#0d0887\"],[0.1111111111111111,\"#46039f\"],[0.2222222222222222,\"#7201a8\"],[0.3333333333333333,\"#9c179e\"],[0.4444444444444444,\"#bd3786\"],[0.5555555555555556,\"#d8576b\"],[0.6666666666666666,\"#ed7953\"],[0.7777777777777778,\"#fb9f3a\"],[0.8888888888888888,\"#fdca26\"],[1.0,\"#f0f921\"]]}],\"contourcarpet\":[{\"type\":\"contourcarpet\",\"colorbar\":{\"outlinewidth\":0,\"ticks\":\"\"}}],\"contour\":[{\"type\":\"contour\",\"colorbar\":{\"outlinewidth\":0,\"ticks\":\"\"},\"colorscale\":[[0.0,\"#0d0887\"],[0.1111111111111111,\"#46039f\"],[0.2222222222222222,\"#7201a8\"],[0.3333333333333333,\"#9c179e\"],[0.4444444444444444,\"#bd3786\"],[0.5555555555555556,\"#d8576b\"],[0.6666666666666666,\"#ed7953\"],[0.7777777777777778,\"#fb9f3a\"],[0.8888888888888888,\"#fdca26\"],[1.0,\"#f0f921\"]]}],\"surface\":[{\"type\":\"surface\",\"colorbar\":{\"outlinewidth\":0,\"ticks\":\"\"},\"colorscale\":[[0.0,\"#0d0887\"],[0.1111111111111111,\"#46039f\"],[0.2222222222222222,\"#7201a8\"],[0.3333333333333333,\"#9c179e\"],[0.4444444444444444,\"#bd3786\"],[0.5555555555555556,\"#d8576b\"],[0.6666666666666666,\"#ed7953\"],[0.7777777777777778,\"#fb9f3a\"],[0.8888888888888888,\"#fdca26\"],[1.0,\"#f0f921\"]]}],\"mesh3d\":[{\"type\":\"mesh3d\",\"colorbar\":{\"outlinewidth\":0,\"ticks\":\"\"}}],\"scatter\":[{\"fillpattern\":{\"fillmode\":\"overlay\",\"size\":10,\"solidity\":0.2},\"type\":\"scatter\"}],\"parcoords\":[{\"type\":\"parcoords\",\"line\":{\"colorbar\":{\"outlinewidth\":0,\"ticks\":\"\"}}}],\"scatterpolargl\":[{\"type\":\"scatterpolargl\",\"marker\":{\"colorbar\":{\"outlinewidth\":0,\"ticks\":\"\"}}}],\"bar\":[{\"error_x\":{\"color\":\"#2a3f5f\"},\"error_y\":{\"color\":\"#2a3f5f\"},\"marker\":{\"line\":{\"color\":\"#E5ECF6\",\"width\":0.5},\"pattern\":{\"fillmode\":\"overlay\",\"size\":10,\"solidity\":0.2}},\"type\":\"bar\"}],\"scattergeo\":[{\"type\":\"scattergeo\",\"marker\":{\"colorbar\":{\"outlinewidth\":0,\"ticks\":\"\"}}}],\"scatterpolar\":[{\"type\":\"scatterpolar\",\"marker\":{\"colorbar\":{\"outlinewidth\":0,\"ticks\":\"\"}}}],\"histogram\":[{\"marker\":{\"pattern\":{\"fillmode\":\"overlay\",\"size\":10,\"solidity\":0.2}},\"type\":\"histogram\"}],\"scattergl\":[{\"type\":\"scattergl\",\"marker\":{\"colorbar\":{\"outlinewidth\":0,\"ticks\":\"\"}}}],\"scatter3d\":[{\"type\":\"scatter3d\",\"line\":{\"colorbar\":{\"outlinewidth\":0,\"ticks\":\"\"}},\"marker\":{\"colorbar\":{\"outlinewidth\":0,\"ticks\":\"\"}}}],\"scattermapbox\":[{\"type\":\"scattermapbox\",\"marker\":{\"colorbar\":{\"outlinewidth\":0,\"ticks\":\"\"}}}],\"scatterternary\":[{\"type\":\"scatterternary\",\"marker\":{\"colorbar\":{\"outlinewidth\":0,\"ticks\":\"\"}}}],\"scattercarpet\":[{\"type\":\"scattercarpet\",\"marker\":{\"colorbar\":{\"outlinewidth\":0,\"ticks\":\"\"}}}],\"carpet\":[{\"aaxis\":{\"endlinecolor\":\"#2a3f5f\",\"gridcolor\":\"white\",\"linecolor\":\"white\",\"minorgridcolor\":\"white\",\"startlinecolor\":\"#2a3f5f\"},\"baxis\":{\"endlinecolor\":\"#2a3f5f\",\"gridcolor\":\"white\",\"linecolor\":\"white\",\"minorgridcolor\":\"white\",\"startlinecolor\":\"#2a3f5f\"},\"type\":\"carpet\"}],\"table\":[{\"cells\":{\"fill\":{\"color\":\"#EBF0F8\"},\"line\":{\"color\":\"white\"}},\"header\":{\"fill\":{\"color\":\"#C8D4E3\"},\"line\":{\"color\":\"white\"}},\"type\":\"table\"}],\"barpolar\":[{\"marker\":{\"line\":{\"color\":\"#E5ECF6\",\"width\":0.5},\"pattern\":{\"fillmode\":\"overlay\",\"size\":10,\"solidity\":0.2}},\"type\":\"barpolar\"}],\"pie\":[{\"automargin\":true,\"type\":\"pie\"}]},\"layout\":{\"autotypenumbers\":\"strict\",\"colorway\":[\"#636efa\",\"#EF553B\",\"#00cc96\",\"#ab63fa\",\"#FFA15A\",\"#19d3f3\",\"#FF6692\",\"#B6E880\",\"#FF97FF\",\"#FECB52\"],\"font\":{\"color\":\"#2a3f5f\"},\"hovermode\":\"closest\",\"hoverlabel\":{\"align\":\"left\"},\"paper_bgcolor\":\"white\",\"plot_bgcolor\":\"#E5ECF6\",\"polar\":{\"bgcolor\":\"#E5ECF6\",\"angularaxis\":{\"gridcolor\":\"white\",\"linecolor\":\"white\",\"ticks\":\"\"},\"radialaxis\":{\"gridcolor\":\"white\",\"linecolor\":\"white\",\"ticks\":\"\"}},\"ternary\":{\"bgcolor\":\"#E5ECF6\",\"aaxis\":{\"gridcolor\":\"white\",\"linecolor\":\"white\",\"ticks\":\"\"},\"baxis\":{\"gridcolor\":\"white\",\"linecolor\":\"white\",\"ticks\":\"\"},\"caxis\":{\"gridcolor\":\"white\",\"linecolor\":\"white\",\"ticks\":\"\"}},\"coloraxis\":{\"colorbar\":{\"outlinewidth\":0,\"ticks\":\"\"}},\"colorscale\":{\"sequential\":[[0.0,\"#0d0887\"],[0.1111111111111111,\"#46039f\"],[0.2222222222222222,\"#7201a8\"],[0.3333333333333333,\"#9c179e\"],[0.4444444444444444,\"#bd3786\"],[0.5555555555555556,\"#d8576b\"],[0.6666666666666666,\"#ed7953\"],[0.7777777777777778,\"#fb9f3a\"],[0.8888888888888888,\"#fdca26\"],[1.0,\"#f0f921\"]],\"sequentialminus\":[[0.0,\"#0d0887\"],[0.1111111111111111,\"#46039f\"],[0.2222222222222222,\"#7201a8\"],[0.3333333333333333,\"#9c179e\"],[0.4444444444444444,\"#bd3786\"],[0.5555555555555556,\"#d8576b\"],[0.6666666666666666,\"#ed7953\"],[0.7777777777777778,\"#fb9f3a\"],[0.8888888888888888,\"#fdca26\"],[1.0,\"#f0f921\"]],\"diverging\":[[0,\"#8e0152\"],[0.1,\"#c51b7d\"],[0.2,\"#de77ae\"],[0.3,\"#f1b6da\"],[0.4,\"#fde0ef\"],[0.5,\"#f7f7f7\"],[0.6,\"#e6f5d0\"],[0.7,\"#b8e186\"],[0.8,\"#7fbc41\"],[0.9,\"#4d9221\"],[1,\"#276419\"]]},\"xaxis\":{\"gridcolor\":\"white\",\"linecolor\":\"white\",\"ticks\":\"\",\"title\":{\"standoff\":15},\"zerolinecolor\":\"white\",\"automargin\":true,\"zerolinewidth\":2},\"yaxis\":{\"gridcolor\":\"white\",\"linecolor\":\"white\",\"ticks\":\"\",\"title\":{\"standoff\":15},\"zerolinecolor\":\"white\",\"automargin\":true,\"zerolinewidth\":2},\"scene\":{\"xaxis\":{\"backgroundcolor\":\"#E5ECF6\",\"gridcolor\":\"white\",\"linecolor\":\"white\",\"showbackground\":true,\"ticks\":\"\",\"zerolinecolor\":\"white\",\"gridwidth\":2},\"yaxis\":{\"backgroundcolor\":\"#E5ECF6\",\"gridcolor\":\"white\",\"linecolor\":\"white\",\"showbackground\":true,\"ticks\":\"\",\"zerolinecolor\":\"white\",\"gridwidth\":2},\"zaxis\":{\"backgroundcolor\":\"#E5ECF6\",\"gridcolor\":\"white\",\"linecolor\":\"white\",\"showbackground\":true,\"ticks\":\"\",\"zerolinecolor\":\"white\",\"gridwidth\":2}},\"shapedefaults\":{\"line\":{\"color\":\"#2a3f5f\"}},\"annotationdefaults\":{\"arrowcolor\":\"#2a3f5f\",\"arrowhead\":0,\"arrowwidth\":1},\"geo\":{\"bgcolor\":\"white\",\"landcolor\":\"#E5ECF6\",\"subunitcolor\":\"white\",\"showland\":true,\"showlakes\":true,\"lakecolor\":\"white\"},\"title\":{\"x\":0.05},\"mapbox\":{\"style\":\"light\"}}},\"ternary\":{\"domain\":{\"x\":[0.0,1.0],\"y\":[0.0,1.0]},\"aaxis\":{\"title\":{\"text\":\"Category 1\"}},\"baxis\":{\"title\":{\"text\":\"Category 2\"}},\"caxis\":{\"title\":{\"text\":\"Category 3\"}}},\"legend\":{\"tracegroupgap\":0},\"title\":{\"text\":\"Dirichlet Prior\"}},                        {\"responsive\": true}                    ).then(function(){\n",
       "                            \n",
       "var gd = document.getElementById('46ad19ad-55ec-4bde-89eb-dc46fefefde9');\n",
       "var x = new MutationObserver(function (mutations, observer) {{\n",
       "        var display = window.getComputedStyle(gd).display;\n",
       "        if (!display || display === 'none') {{\n",
       "            console.log([gd, 'removed!']);\n",
       "            Plotly.purge(gd);\n",
       "            observer.disconnect();\n",
       "        }}\n",
       "}});\n",
       "\n",
       "// Listen for the removal of the full notebook cells\n",
       "var notebookContainer = gd.closest('#notebook-container');\n",
       "if (notebookContainer) {{\n",
       "    x.observe(notebookContainer, {childList: true});\n",
       "}}\n",
       "\n",
       "// Listen for the clearing of the current output cell\n",
       "var outputEl = gd.closest('.output');\n",
       "if (outputEl) {{\n",
       "    x.observe(outputEl, {childList: true});\n",
       "}}\n",
       "\n",
       "                        })                };                });            </script>        </div>"
      ]
     },
     "metadata": {},
     "output_type": "display_data"
    },
    {
     "data": {
      "application/vnd.plotly.v1+json": {
       "config": {
        "plotlyServerURL": "https://plot.ly"
       },
       "data": [
        {
         "a": [
          0.4994905605092671,
          0.6377232957485901,
          0.5717896466398468,
          0.5404552152047605,
          0.5143245849110318,
          0.5810669446658109,
          0.5664664251073094,
          0.5688817775314217,
          0.580222722167946,
          0.5327379003072374,
          0.5904398934814388,
          0.5187953063022465,
          0.5550775488937018,
          0.5486332652591901,
          0.564096241486584,
          0.5108262531997447,
          0.4300090851056236,
          0.5546086901996732,
          0.5681336109428525,
          0.5107081051031344,
          0.561925582180087,
          0.551930616819174,
          0.48177334610839867,
          0.46094966226507506,
          0.5788871567980467,
          0.4772542828857149,
          0.5384318915494176,
          0.4896510075633747,
          0.5854328908768357,
          0.5421162787536815,
          0.47482102427957973,
          0.48938699337948394,
          0.5440038994189241,
          0.6093413809171419,
          0.5730502516045812,
          0.5361833543023974,
          0.4700184302887288,
          0.528099596603197,
          0.5957794039981312,
          0.5297425015339978,
          0.49480601384446915,
          0.49688848490015913,
          0.5166601361072728,
          0.5209435024013757,
          0.4883461227851519,
          0.5580304804070833,
          0.5674061831937884,
          0.47879340427882805,
          0.5052075634123466,
          0.5692933768520905,
          0.5472899388674463,
          0.5116668039621399,
          0.5188893023873277,
          0.5978289046524905,
          0.5160569092450702,
          0.4527126622424539,
          0.4759798848367011,
          0.5084882165602673,
          0.4618738672469486,
          0.5556511333463976,
          0.48756120736876346,
          0.49974092915580326,
          0.5338142213826422,
          0.48356966937183676,
          0.5277364807331204,
          0.6022997184625455,
          0.5364107033626986,
          0.6029938150216275,
          0.446384626384847,
          0.6085584520378304,
          0.5433857357231194,
          0.5008449449014594,
          0.4903516848750221,
          0.5842730058534632,
          0.5635916980794414,
          0.4236041107771517,
          0.5227132572791293,
          0.4849520451948454,
          0.48646269718298935,
          0.5623482462170238,
          0.579143762111442,
          0.623274024204105,
          0.5263402232402309,
          0.5581012190032885,
          0.5064684281028149,
          0.5297683423003805,
          0.5683568021072565,
          0.5703942189775204,
          0.4571912095079867,
          0.4720826352048284,
          0.5165345509874567,
          0.5536722133754598,
          0.5484700189613878,
          0.569035337369812,
          0.609795688462316,
          0.570712567955498,
          0.5585783239457085,
          0.5113061498846844,
          0.4889508657676761,
          0.48911122892677067,
          0.538858393324218,
          0.5165521766438371,
          0.5845764756256965,
          0.5444046492152265,
          0.5443795988702501,
          0.6270624950416946,
          0.4766840904228511,
          0.5687531722328903,
          0.5552629905915784,
          0.522038098606356,
          0.4747067819146331,
          0.4891026026874532,
          0.4992293000099864,
          0.43918144379704765,
          0.47482919465351764,
          0.5829541077706558,
          0.45354983184065434,
          0.4902236696987007,
          0.5319235523317217,
          0.5595701881575221,
          0.5290613580466503,
          0.4906973807628557,
          0.5438051411676418,
          0.5062418179632899,
          0.5297517342828612,
          0.49279799439187216,
          0.5037812296665953,
          0.41068652845294473,
          0.5368965895402014,
          0.5115841582793259,
          0.49180241207206654,
          0.46862929342012816,
          0.5358139363948881,
          0.6022546819522558,
          0.5275196335116508,
          0.5775333456687489,
          0.4226772500878183,
          0.6068677811466879,
          0.46531405707568535,
          0.6204241576351772,
          0.5533948699165229,
          0.5822533022508696,
          0.4897668023379155,
          0.4812691458788857,
          0.47499082471679616,
          0.5146567000024477,
          0.5500148804398041,
          0.5863307907769638,
          0.5253998346774255,
          0.4744733558981008,
          0.558724919357133,
          0.48629800416695007,
          0.487668465020242,
          0.5749996953232231,
          0.4530215838582407,
          0.5360572010898114,
          0.5384604430564013,
          0.5783733737901718,
          0.5092245029118978,
          0.5271338432467663,
          0.5311158906571156,
          0.5494758288040038,
          0.5646591610019611,
          0.4844881733696696,
          0.5330466689882225,
          0.5204461660771379,
          0.5382384198067931,
          0.5526849679940564,
          0.464170257710554,
          0.5254964655652489,
          0.48247741121884585,
          0.562802331676333,
          0.5600048308031212,
          0.5176681661333529,
          0.5604731076883958,
          0.5211623903117056,
          0.43337648744658064,
          0.4827743994417432,
          0.5714777776056292,
          0.568303055456012,
          0.5743404925059888,
          0.48782745727816085,
          0.5641555406113155,
          0.5481672789279338,
          0.5714286941221033,
          0.5233207032329232,
          0.4567431509305392,
          0.47074608613539975,
          0.4816180625837665,
          0.49956030466268375,
          0.5224478395767973,
          0.4238976695264593,
          0.5398648664351032,
          0.5450221027039159,
          0.47252548365547964,
          0.49496612823504754,
          0.5707563744619479,
          0.5005414569790624,
          0.49320084157941907,
          0.5727249960953645,
          0.5225395846107063,
          0.5725411260365121,
          0.5384838433134148,
          0.5122972814166928,
          0.4944516407091626,
          0.5469077994135451,
          0.43454302846971554,
          0.539353525979465,
          0.5660104298555716,
          0.5398523796990008,
          0.5204783439181425,
          0.5108304398484559,
          0.5167280544939219,
          0.507473368767794,
          0.4796052341615492,
          0.5003328114740775,
          0.43805256247727536,
          0.5133435418864001,
          0.44624870800594885,
          0.542418298510549,
          0.4871456429087366,
          0.5819213890517388,
          0.37317396407549525,
          0.5542831849519368,
          0.5673833493826972,
          0.5367132341489478,
          0.5193045050326666,
          0.506464806635773,
          0.4450728311110361,
          0.4163926710913841,
          0.5822886418625276,
          0.5944792824996658,
          0.5332129223572138,
          0.5513331328740172,
          0.5297027957014974,
          0.5885109904520232,
          0.5198088503696108,
          0.5917066421560545,
          0.5512070405997795,
          0.4712250712264975,
          0.5546567949227188,
          0.5069615917205712,
          0.4619572571359632,
          0.5703991772531591,
          0.4887106876068634,
          0.4560205946090435,
          0.5821680013027947,
          0.5311931518902742,
          0.4857045751654939,
          0.46129613159802935,
          0.5586743974883333,
          0.6035447727968067,
          0.5838810368045882,
          0.506820644594401,
          0.4671768233315348,
          0.5668259872873904,
          0.4873762034105789,
          0.5098188586613923,
          0.4924242398340336,
          0.5550147830900051,
          0.5168576596376852,
          0.6074322484641133,
          0.6214374402705931,
          0.5308904941185683,
          0.4596816655734979,
          0.5126414045635844,
          0.5688546066075945,
          0.4481887196482093,
          0.4478833906786701,
          0.46034092253294917,
          0.5323321773902586,
          0.4599387107018586,
          0.49858134633347184,
          0.5246652471362646,
          0.5069155127943061,
          0.5083349693420072,
          0.5106831568077065,
          0.5475964973164694,
          0.483424626374717,
          0.529776698634761,
          0.5396093760953249,
          0.5582846606769644,
          0.4919100459925077,
          0.5679143747307511,
          0.5256484621842509,
          0.4604562286141937,
          0.4883006543432589,
          0.5508488953259225,
          0.5761597662584986,
          0.4643108121588799,
          0.5466396792830768,
          0.5658927024033887,
          0.43074610937655444,
          0.5890270887700697,
          0.585521164801553,
          0.49686133578111485,
          0.5767968629513972,
          0.4063720121815535,
          0.4323991582519056,
          0.4996983248000791,
          0.4844602433513176,
          0.5734151410559503,
          0.5191625879267086,
          0.5219034475933828,
          0.46663220312801884,
          0.5437227064903692,
          0.5885435124035301,
          0.5904106090237801,
          0.5050509017579962,
          0.5314948901146701,
          0.5058348925980127,
          0.5015369337121754,
          0.4783458693199971,
          0.5198607310024339,
          0.43677903375219873,
          0.565945406473742,
          0.5555856592963053,
          0.5341457218857993,
          0.5338727476428018,
          0.48205963430573984,
          0.4873687702707456,
          0.4529811088803843,
          0.5276915187500119,
          0.5282366475117042,
          0.5518646707886012,
          0.45693967990559087,
          0.4325736990037859,
          0.5922958386541115,
          0.5442107818419473,
          0.6145875466756436,
          0.5333617237855135,
          0.5093473638098551,
          0.5410517421750628,
          0.5627143580786831,
          0.5125333752071876,
          0.5425197075915865,
          0.5435829572347791,
          0.6137592256944843,
          0.5396394379948158,
          0.45451134393094206,
          0.4963107903565304,
          0.5135408266957269,
          0.6010395637384712,
          0.6773773305167471,
          0.4922227767012413,
          0.4967285048746789,
          0.502590639010673,
          0.5090524352447534,
          0.526605243545174,
          0.5456991701228937,
          0.5191409104899551,
          0.559268891517251,
          0.5960509513240424,
          0.5679125078229506,
          0.49889567207137153,
          0.5445116767709343,
          0.5806070520982568,
          0.5731594146769945,
          0.4884207014444859,
          0.4893848826671669,
          0.5549809571878728,
          0.5587400488181083,
          0.5519534294544417,
          0.47872829613680457,
          0.5047267497421969,
          0.4018573566377829,
          0.5245067750439463,
          0.4952934257497373,
          0.605976609382047,
          0.5030826175974731,
          0.5294719816839933,
          0.48992531952717827,
          0.5741316359599629,
          0.4445366323598289,
          0.5030129609716524,
          0.5472758880811721,
          0.4560001562211731,
          0.564522359937439,
          0.5411709027487233,
          0.5168229628212716,
          0.4956566778756135,
          0.4803544285034528,
          0.5812542678205682,
          0.474751538403783,
          0.5662403044932097,
          0.5619275136873438,
          0.5116310388347606,
          0.4871987311010215,
          0.5090635632971076,
          0.42983846435289913,
          0.5263189475141132,
          0.46276884846428,
          0.5833016042052751,
          0.5156825273003114,
          0.46971139283256746,
          0.5309028854817599,
          0.40617109218579484,
          0.6042388873397808,
          0.612236885145817,
          0.5562690719473612,
          0.5504673900355797,
          0.5459705429862854,
          0.5261302417768647,
          0.5324368305765622,
          0.5875926057179094,
          0.4923915213282817,
          0.4916105900115114,
          0.49107698694848895,
          0.533903968543947,
          0.5877384992381054,
          0.5299610664868903,
          0.5249568116787852,
          0.5707815793044372,
          0.4793757948037545,
          0.5824651149546912,
          0.5153801451643586,
          0.49679961288336993,
          0.4648124245065332,
          0.5960443673673576,
          0.49177363789435885,
          0.47267056205348257,
          0.4962274026871906,
          0.5401334031252067,
          0.4304331902186732,
          0.4955094651396453,
          0.5026808496139902,
          0.5111020510992059,
          0.5213873523371432,
          0.551180432398067,
          0.5030480259971111,
          0.45391335284797246,
          0.5503866650227469,
          0.49104830434119406,
          0.5741735863522249,
          0.5137643726544626,
          0.5605988436900828,
          0.5073341276705642,
          0.5385864612936289,
          0.6258331544705367,
          0.5541830628187928,
          0.5100997975946648,
          0.5553187643670902,
          0.48469145908675776,
          0.5057893968349537,
          0.5653873757222699,
          0.534707158044634,
          0.6157794352373593,
          0.48663127749756685,
          0.5425180495257179,
          0.5901604762635956,
          0.46158704285890884,
          0.4629659415501496,
          0.5325940919167165,
          0.585791145301576,
          0.5679058943889532,
          0.5033270271749661,
          0.5973459190741613,
          0.5560728068715892,
          0.5778619287305131,
          0.5340949259505927,
          0.5829053097803546,
          0.5109979061687611,
          0.53982315205106,
          0.4509072774861595,
          0.49932491134267387,
          0.4506871825527817,
          0.5257476705507761,
          0.4781824577026048,
          0.5593460567353751,
          0.47818559608840894,
          0.49808497694800496,
          0.49690748766724674,
          0.49108700418938417,
          0.4904808545821186,
          0.5619944025364022,
          0.5570487329248199,
          0.6027508400932342,
          0.5684906226250034,
          0.5148245605792666,
          0.49490839751717713,
          0.5687122871432293,
          0.5009116703899821,
          0.4771879037702179,
          0.5252928213141607,
          0.5548072907744688,
          0.5297905006984015,
          0.5431731812782714,
          0.48986897524225903,
          0.5560827399188484,
          0.48495438182467454,
          0.5267462570259008,
          0.48987066205427726,
          0.5636642274075284,
          0.5811788366831949,
          0.5658676591046607,
          0.4863438325047486,
          0.4702523925646743,
          0.4389253628173873,
          0.5678803544458203,
          0.469364104058025
         ],
         "b": [
          0.19788466086188267,
          0.16441670042388712,
          0.21045520438764284,
          0.20811971385318612,
          0.3088472152004178,
          0.22504032750937789,
          0.18358855206419825,
          0.18835715691194554,
          0.16736715256490986,
          0.31788154865472723,
          0.24495218722282516,
          0.22673883399501704,
          0.29139402204512527,
          0.2393326178087048,
          0.2275400502265305,
          0.27031274999260196,
          0.2613768520911954,
          0.2613982391856761,
          0.18544498753279695,
          0.28104809764453775,
          0.24638614110749085,
          0.24522636467992812,
          0.2555678522817109,
          0.28486319523673553,
          0.23888165683499019,
          0.3099646590925735,
          0.21626832120083303,
          0.26378813805228984,
          0.22173226475807006,
          0.20160204444444693,
          0.2910806843090308,
          0.3600942233754518,
          0.25705293292547227,
          0.19124505332682368,
          0.23105952158496185,
          0.212795852144544,
          0.2887711417259942,
          0.23101294240147355,
          0.22916577207259975,
          0.27795551842790833,
          0.24931751079921302,
          0.2725404148352872,
          0.3283811986581908,
          0.28474191142338295,
          0.25692702507066806,
          0.1863912781416705,
          0.19597921113115702,
          0.21769041373089845,
          0.2430908870017917,
          0.26796200978362383,
          0.2109245776239021,
          0.3120575330723898,
          0.21708953936806533,
          0.2049018197168888,
          0.2446800701616698,
          0.31903337398379694,
          0.2521647658763629,
          0.21145905605812765,
          0.35072528256807023,
          0.2457792603665213,
          0.21845449144474127,
          0.23952127488252348,
          0.26239690247168507,
          0.2829112814120494,
          0.27850061244123175,
          0.23088754449721238,
          0.25321105140738254,
          0.23077166874008584,
          0.33452916724539916,
          0.21127150405756576,
          0.3030571785657799,
          0.21667120413567917,
          0.25805354347532505,
          0.22828901074034053,
          0.2538165941948343,
          0.32622721486709044,
          0.2855348904655808,
          0.2978039943155316,
          0.26635517995784447,
          0.24836618136635835,
          0.2436048134489299,
          0.14095544704369853,
          0.2650849586390332,
          0.2763295163691502,
          0.258167807200957,
          0.30459212239346894,
          0.25363784450931065,
          0.24093982121811797,
          0.25429415453934834,
          0.2703235809889825,
          0.26699823834038205,
          0.24125679344133327,
          0.22367066409258923,
          0.22004130564898458,
          0.19976092609659601,
          0.1900466183792604,
          0.24425377669255327,
          0.19767264996322267,
          0.2781761932302719,
          0.23012785032461844,
          0.2630048329769422,
          0.26778241064815544,
          0.21715121194972356,
          0.21759191707089495,
          0.23536183740048414,
          0.17809467952057476,
          0.3490388183692157,
          0.209654743724832,
          0.18113273877294997,
          0.24093773374623692,
          0.25852746273437677,
          0.2666774078373046,
          0.2700697580145008,
          0.30860112626634645,
          0.25190120015595424,
          0.22761207607614417,
          0.33880770203645827,
          0.25162274114022914,
          0.24448637293925657,
          0.2023489767050799,
          0.22043565869132983,
          0.2644686730003782,
          0.2575448110667636,
          0.23818120697700412,
          0.24693698333397043,
          0.2350061348941479,
          0.2639158775024128,
          0.33704715723358936,
          0.21769431187808527,
          0.27184553716408616,
          0.2050788644275509,
          0.18233067213095733,
          0.2391039981527743,
          0.22611485427931843,
          0.297865259814828,
          0.22598536522166102,
          0.2901323224379957,
          0.17041346973547467,
          0.2485209453105103,
          0.1448913895049522,
          0.25669443349907944,
          0.22227769382003784,
          0.2615972433772815,
          0.278985469340177,
          0.2802445237023206,
          0.2766693383201812,
          0.2500973458550199,
          0.24484820723997827,
          0.2549837240994943,
          0.31288403882843496,
          0.22481064803832246,
          0.2554073135529923,
          0.2652910659904057,
          0.17450643254763876,
          0.35313915145475216,
          0.23909600061322298,
          0.29406899758704746,
          0.20352009874508625,
          0.3212037821636415,
          0.2811703192409849,
          0.27062551192852613,
          0.22014869241027338,
          0.24825372234821685,
          0.324427681129401,
          0.29740537188559857,
          0.25878399145595615,
          0.24428932478476484,
          0.24696619470888131,
          0.28454597456288305,
          0.26133783469765237,
          0.2783800675825234,
          0.22889895154371334,
          0.24610447406502062,
          0.3211902390796246,
          0.22078616627162842,
          0.21921285303266763,
          0.26352981626761723,
          0.2809099274268429,
          0.2143873665300305,
          0.2446380992314616,
          0.26918880111254495,
          0.27443603228836694,
          0.24799410765714455,
          0.22515338545038102,
          0.23363817436993978,
          0.2524925223382414,
          0.3145348529840117,
          0.37357934051336383,
          0.2612784540380569,
          0.34534490339649465,
          0.24611481052590028,
          0.3382127038955443,
          0.24088603049254836,
          0.2280537269900555,
          0.27650933312033094,
          0.24013560288437166,
          0.2121199555657578,
          0.24707636120356796,
          0.2575810165125519,
          0.27103460952921754,
          0.291395139672986,
          0.23508694754016563,
          0.1988444416374825,
          0.20610085218674198,
          0.2721037744526743,
          0.2709783710730894,
          0.37329298990630644,
          0.23652816824230521,
          0.21115972314928427,
          0.3094276747945262,
          0.2982360595743914,
          0.25102344203398286,
          0.2294102806113503,
          0.28407042103482566,
          0.28242984089004913,
          0.26232620508867344,
          0.2703140599543346,
          0.21491340941759063,
          0.2532823400057861,
          0.28683867609067043,
          0.32814843918531594,
          0.23606127289578344,
          0.3547446891603456,
          0.18115886219244062,
          0.18630133002580115,
          0.22239806754555097,
          0.262250131644781,
          0.3011636748654645,
          0.34924114497572706,
          0.35881712114613595,
          0.22139752777740307,
          0.19047234039538014,
          0.2175965587182057,
          0.24713243914265737,
          0.24136248229361157,
          0.26577368521938705,
          0.3185967417158512,
          0.19106266965015287,
          0.2187398594852267,
          0.34563554835471333,
          0.20765519722063555,
          0.2892559838083672,
          0.3036580925449822,
          0.18532128843274728,
          0.31598118191881874,
          0.28169212082823253,
          0.24997040278929258,
          0.2692295487319405,
          0.2480640059685177,
          0.24259232918249465,
          0.2308242126337101,
          0.21237974075717642,
          0.24202577572601702,
          0.23066824339903072,
          0.3138451978589264,
          0.22846228146703718,
          0.24042041721483906,
          0.2608476701239999,
          0.2249339701326728,
          0.23510082068834132,
          0.2763444963656277,
          0.2045827171669102,
          0.21629931574643874,
          0.2682373224400161,
          0.29528455198942616,
          0.27004865825539687,
          0.23085182891302009,
          0.3217960978649713,
          0.2711236301490949,
          0.28688097472541507,
          0.2526766303999281,
          0.26242377532220656,
          0.231693917961118,
          0.26565842368801196,
          0.2378438598198023,
          0.28051571666220854,
          0.24335772218933516,
          0.2600160329628853,
          0.2802194092452775,
          0.22784329908978482,
          0.23585017854920995,
          0.25904820225337805,
          0.25910846521518116,
          0.22147465309093645,
          0.2539557510176397,
          0.3601978256737101,
          0.2769697818208313,
          0.23412359443180036,
          0.216904054406126,
          0.28493790968477656,
          0.24230758978725056,
          0.23684066105166923,
          0.2832615483082457,
          0.1942227121323912,
          0.2538375991119237,
          0.26970194438621625,
          0.24326970117110933,
          0.20911530731769598,
          0.22947926364982194,
          0.2946594350214878,
          0.295738854616877,
          0.21177308938096442,
          0.27559770643965786,
          0.24756574827133188,
          0.3179531369860843,
          0.2755096582022785,
          0.240667639608538,
          0.1841162675634299,
          0.27761707737145563,
          0.23934752283877556,
          0.21456924605127298,
          0.32226994438848533,
          0.2539868945178854,
          0.2851596286395566,
          0.2443051064679159,
          0.18256240437455162,
          0.19483957119042453,
          0.23631326742772596,
          0.2487169647421564,
          0.25284927046303335,
          0.18925897779688364,
          0.31067730550718287,
          0.22970288402840336,
          0.28109529464512334,
          0.2098241452814819,
          0.27292245357705863,
          0.24211909858619296,
          0.2125786983692417,
          0.3158886038144735,
          0.19273957882196655,
          0.26520849115327644,
          0.22299117742927127,
          0.2399682665057166,
          0.2574036877266398,
          0.25414147482417615,
          0.23855478689005366,
          0.2643933630656428,
          0.22238442203377623,
          0.2779727019718616,
          0.2608894572603145,
          0.3096797172224539,
          0.26147376602933553,
          0.25828143005960863,
          0.18606472968476934,
          0.283027340105259,
          0.29509552647782733,
          0.33321795450174824,
          0.275232792716141,
          0.3114734080990922,
          0.2899701418199974,
          0.3092728443194077,
          0.18058508919675953,
          0.20468699769101423,
          0.22359179531638063,
          0.23102590447562507,
          0.18363624993904915,
          0.1993922706608516,
          0.26531033999891934,
          0.2870508732234867,
          0.2644050006660855,
          0.24427669152968742,
          0.2646162994933492,
          0.2228356424983813,
          0.3252774961452416,
          0.28780345234450116,
          0.39054040516860916,
          0.24578791736857966,
          0.28229218531019695,
          0.15040212331515307,
          0.27347398239186815,
          0.2570773323243188,
          0.29788539324704444,
          0.25200398326162443,
          0.3495966134302501,
          0.24026154691902382,
          0.25140516123614454,
          0.33673407085123036,
          0.27534508811355274,
          0.23190386888417866,
          0.24710730267118977,
          0.2730255384719631,
          0.3205878497588494,
          0.18121700442817618,
          0.29990275217503537,
          0.2808169751132667,
          0.26259450933659595,
          0.28724978903467624,
          0.27977307296652276,
          0.24094342798426627,
          0.3143385201404987,
          0.21931973256475987,
          0.37914632224127454,
          0.18100958851005006,
          0.18439118271865573,
          0.30684679919647784,
          0.22497671465035177,
          0.3608098362239359,
          0.24344949477963398,
          0.2386328807998295,
          0.2608404600033777,
          0.23878889413491808,
          0.15976940269582424,
          0.273463560814203,
          0.21781899177006486,
          0.23862471300304622,
          0.33020412426975226,
          0.3251869962418027,
          0.2879708683161452,
          0.2581354323881554,
          0.17944439820222613,
          0.2742444503579043,
          0.28849563100548914,
          0.23041566993643214,
          0.3298049870818712,
          0.20756864261608268,
          0.2890494491227612,
          0.2580609745444616,
          0.2556902963087591,
          0.24043467305503638,
          0.2587448396681955,
          0.28487436223936563,
          0.3383692526998514,
          0.206242145117409,
          0.3353742787313892,
          0.17290032906343314,
          0.26516355059954483,
          0.27515654489217495,
          0.29981198164246625,
          0.21171328240364543,
          0.33036261000253603,
          0.3292628263501518,
          0.2679662843059871,
          0.243306034480731,
          0.22062568977520186,
          0.24967122291961122,
          0.27223074133647646,
          0.23449156515858105,
          0.28227984178615834,
          0.17723524168386792,
          0.21205903628918168,
          0.2696329437883141,
          0.29554616445478477,
          0.19088032696589818,
          0.2801357595309335,
          0.20074482255199314,
          0.22798692125107164,
          0.2191300968047426,
          0.26997566528591566,
          0.21426347404268753,
          0.13663644781287,
          0.3723293040791967,
          0.31112213232741825,
          0.26342428776703075,
          0.226350833845291,
          0.28877081996464926,
          0.27062017542334654,
          0.20993690888947042,
          0.19726834556102782,
          0.19933620012451275,
          0.314396090098268,
          0.2172924267739882,
          0.26026959599709604,
          0.21970703748916245,
          0.25042897584618506,
          0.2055908324523313,
          0.30786780487618726,
          0.2667120425899262,
          0.27056490523951665,
          0.25708277112839745,
          0.2958743263263515,
          0.3041126817145419,
          0.2392003276608045,
          0.31134097471188704,
          0.25871524400719215,
          0.2218779167793259,
          0.251121855042732,
          0.20282335936033197,
          0.21123420015266667,
          0.27929785284055186,
          0.2789005269046585,
          0.2193172086756756,
          0.26932050440089017,
          0.3130798802700267,
          0.25174588612316945,
          0.22174428022819528,
          0.18350046783137916,
          0.2580796210276354,
          0.24452855298045043,
          0.24758741370672072,
          0.2726432595451961,
          0.23945405932435065,
          0.17089703771827738,
          0.23150972624925467,
          0.18688170676456925,
          0.20879485643916357,
          0.28049249257817777,
          0.3113517871514419,
          0.3383121083220564,
          0.2628899766443223,
          0.22357105334105884
         ],
         "c": [
          0.30262477862885023,
          0.19786000382752278,
          0.2177551489725103,
          0.25142507094205346,
          0.17682819988855042,
          0.19389272782481126,
          0.24994502282849232,
          0.24276106555663296,
          0.25241012526714396,
          0.1493805510380353,
          0.1646079192957361,
          0.25446585970273644,
          0.15352842906117306,
          0.21203411693210503,
          0.20836370828688533,
          0.21886099680765325,
          0.30861406280318093,
          0.1839930706146507,
          0.24642140152435058,
          0.20824379725232783,
          0.19168827671242203,
          0.20284301850089786,
          0.26265880160989047,
          0.2541871424981894,
          0.18223118636696306,
          0.21278105802171157,
          0.24529978724974935,
          0.24656085438433534,
          0.19283484436509443,
          0.2562816768018716,
          0.23409829141138958,
          0.1505187832450642,
          0.1989431676556036,
          0.19941356575603436,
          0.19589022681045715,
          0.2510207935530586,
          0.2412104279852769,
          0.2408874609953294,
          0.1750548239292689,
          0.1923019800380938,
          0.25587647535631763,
          0.23057110026455374,
          0.15495866523453639,
          0.19431458617524133,
          0.25472685214418,
          0.2555782414512462,
          0.2366146056750546,
          0.3035161819902735,
          0.25170154958586155,
          0.1627446133642856,
          0.24178548350865167,
          0.17627566296547015,
          0.26402115824460726,
          0.1972692756306206,
          0.2392630205932602,
          0.22825396377374918,
          0.2718553492869361,
          0.28005272738160497,
          0.18740085018498123,
          0.19856960628708115,
          0.2939843011864953,
          0.2607377959616731,
          0.2037888761456728,
          0.2335190492161138,
          0.19376290682564778,
          0.16681273704024221,
          0.21037824522991883,
          0.16623451623828647,
          0.21908620636975393,
          0.18017004390460403,
          0.1535570857111007,
          0.2824838509628615,
          0.25159477164965266,
          0.18743798340619625,
          0.1825917077257243,
          0.25016867435575785,
          0.1917518522552901,
          0.21724396048962274,
          0.24718212285916621,
          0.18928557241661764,
          0.17725142443962813,
          0.23577052875219626,
          0.20857481812073586,
          0.16556926462756127,
          0.2353637646962282,
          0.16563953530615064,
          0.17800535338343274,
          0.18866595980436163,
          0.28851463595266497,
          0.2575937838061893,
          0.2164672106721612,
          0.20507099318320693,
          0.22785931694602293,
          0.21092335698120335,
          0.19044338544108796,
          0.23924081366524164,
          0.19716789936173812,
          0.29102120015209304,
          0.23287294100205205,
          0.28076092074861103,
          0.19813677369883953,
          0.2156654127080074,
          0.19827231242457996,
          0.23800343371387855,
          0.22025856372926575,
          0.1948428254377305,
          0.17427709120793314,
          0.22159208404227768,
          0.26360427063547187,
          0.23702416764740714,
          0.2667657553509902,
          0.24421998947524218,
          0.2307009419755128,
          0.25221742993660595,
          0.27326960519052823,
          0.18943381615320004,
          0.20764246612288736,
          0.2581535891610702,
          0.22359007472902165,
          0.238080835137398,
          0.2505029832620198,
          0.24483394623676621,
          0.19865004776559458,
          0.25557697505970584,
          0.2233112823831684,
          0.2721958707139799,
          0.23230289283099187,
          0.2522663143134659,
          0.24540909858171342,
          0.21657030455658782,
          0.3031187235003825,
          0.3490400344489144,
          0.22508206545233753,
          0.1716304637684257,
          0.17461510667352115,
          0.19648128910958995,
          0.2871904274741861,
          0.2227187491178374,
          0.28616499761380443,
          0.2346844528598706,
          0.18991069658439777,
          0.19546900392909267,
          0.2486359542848031,
          0.2397453847809372,
          0.24476465158088329,
          0.2086739616773712,
          0.19988777370517602,
          0.16882100198305797,
          0.21961644122308022,
          0.21264260527346443,
          0.21646443260454465,
          0.25829468228005775,
          0.24704046898935228,
          0.25049387212913793,
          0.1938392646870072,
          0.22484679829696577,
          0.16747055935655134,
          0.21810652746474185,
          0.16957171492446063,
          0.1916958375122487,
          0.19825859741435833,
          0.23037547878572293,
          0.18708711664982192,
          0.19108414550092945,
          0.16954795912617895,
          0.22076984246690598,
          0.21747225540844212,
          0.20034883729706227,
          0.2512837677265631,
          0.2131656997370985,
          0.23914252119863075,
          0.2082987167799535,
          0.19389069513185825,
          0.16114159478702247,
          0.21874072603997577,
          0.2596247566556268,
          0.3030936962858021,
          0.236315673131414,
          0.21413485586434025,
          0.18705884531252634,
          0.15647070638146623,
          0.23773651043347216,
          0.1878503517315401,
          0.2266793356216853,
          0.19493313150795682,
          0.2241867744288354,
          0.2287219960854491,
          0.15567457335123647,
          0.25710348337817673,
          0.1550947919408217,
          0.2314373498973023,
          0.2378896265779963,
          0.21924910307234857,
          0.2269241703060286,
          0.2509651832241895,
          0.26489826888058077,
          0.21712366997229432,
          0.25238218181736966,
          0.24921814190802904,
          0.15624039437541778,
          0.1860652757163079,
          0.1923719264233222,
          0.2626717150491026,
          0.2816018663965651,
          0.23344458483816308,
          0.18211382951336552,
          0.19216398162397808,
          0.22411830577822983,
          0.222829846995144,
          0.1507199455064731,
          0.18128559650746615,
          0.23814611811756126,
          0.2538616648947278,
          0.20845621019738012,
          0.23796492494840163,
          0.23734098343724913,
          0.29163337756839,
          0.2717430486960091,
          0.3004689519882651,
          0.17074302539878058,
          0.1847059179059475,
          0.18201733805247786,
          0.27208134676415896,
          0.26455795285562256,
          0.24631532059150169,
          0.24088869830550116,
          0.21844536332255238,
          0.19237151849876244,
          0.20568602391323665,
          0.22479020776247988,
          0.19631383036006933,
          0.2150483771049541,
          0.24919051892458033,
          0.20153442798332538,
          0.22893472200489104,
          0.14571532432858997,
          0.16159440791453805,
          0.21723068819379276,
          0.2300530999149938,
          0.1831393804187892,
          0.23768800785664568,
          0.20378242447106165,
          0.23438465031905453,
          0.24427953431409366,
          0.1953081304743179,
          0.26228728456272415,
          0.16786159590791264,
          0.19957729937778548,
          0.2662314188659883,
          0.2961115392194759,
          0.21050138987795675,
          0.1840754864460169,
          0.17409318746939467,
          0.2625111120065682,
          0.21897797880953873,
          0.20471173124557243,
          0.27220337937458206,
          0.229333471214608,
          0.2826417900332937,
          0.20988439622165347,
          0.20679784399668732,
          0.18798503436897643,
          0.16226324398296813,
          0.20087218344141558,
          0.24503378243707585,
          0.21730993718101874,
          0.20029356447938548,
          0.2300151824868194,
          0.28099297917223504,
          0.25277810274163576,
          0.21499119220981328,
          0.2776375139759347,
          0.2697247357054103,
          0.20967632917572354,
          0.25524062738589154,
          0.21114931399578435,
          0.24595912100295847,
          0.19238746972064527,
          0.2363559643800054,
          0.24238000227545436,
          0.22454044535546533,
          0.18266713706965754,
          0.24898148879231113,
          0.21061097217831243,
          0.22039578679810948,
          0.17934594571209622,
          0.23472956383590982,
          0.21502751024227712,
          0.2069361793353753,
          0.2507512781563434,
          0.21105273092967264,
          0.19726663654494192,
          0.2859923423152,
          0.2167501990975391,
          0.16064123608652342,
          0.2334367198326688,
          0.1799334358774934,
          0.3845126805007506,
          0.3381215780982725,
          0.20564224017843313,
          0.2198009020318055,
          0.21481176956308526,
          0.20523970563363372,
          0.23053080413528526,
          0.21541465988589684,
          0.18076763530735201,
          0.17078884798793176,
          0.22547312341278997,
          0.21733202087054831,
          0.22915758704655442,
          0.27959586135071435,
          0.17619312189933925,
          0.2676672361621173,
          0.19497964035800966,
          0.3189158597798852,
          0.2514921891517065,
          0.24957476951327012,
          0.22954101068647462,
          0.21741028761504175,
          0.2650910952312269,
          0.3233722519323706,
          0.23634158561243301,
          0.24260559722158465,
          0.19066805784317264,
          0.2383111839299167,
          0.2701378665173504,
          0.3253072024100213,
          0.1951254629766467,
          0.13990061434357937,
          0.19267287450238982,
          0.20142978506121018,
          0.2676614587608736,
          0.21897999131922044,
          0.1798819541946771,
          0.23332514996863643,
          0.2189255055183598,
          0.19202367969957804,
          0.1638563522717395,
          0.18238786003332272,
          0.28459919880874346,
          0.19400949242101564,
          0.22498540727493765,
          0.14067900620192003,
          0.13655793979848377,
          0.2247498831934998,
          0.2081759686474939,
          0.16419140648757866,
          0.2157147720391057,
          0.16192134835573382,
          0.16433068805710882,
          0.1715862451906371,
          0.2601460192859894,
          0.19926205098494343,
          0.20849569686066882,
          0.27007842345300337,
          0.27185207329001665,
          0.2200006772408914,
          0.1615302453240862,
          0.22452842533202738,
          0.24621011666674772,
          0.20074235128243995,
          0.17664365168854246,
          0.22521092804717702,
          0.19599420771795395,
          0.20746979791330197,
          0.20760223819360787,
          0.22970530758747423,
          0.2224143889400657,
          0.24362126730279998,
          0.2234434000106587,
          0.21345068599168782,
          0.21218928722577743,
          0.17386438077841282,
          0.20586675420992112,
          0.25672549210932377,
          0.2013189506826836,
          0.2072657729275966,
          0.16013255194900816,
          0.22692522836709814,
          0.23606973450753868,
          0.23131778365242334,
          0.19905772173769784,
          0.23752872775125564,
          0.22534570942118176,
          0.15294272039352363,
          0.17547797697606035,
          0.20111917213056327,
          0.23302819593245575,
          0.2499930087186263,
          0.2558230155066023,
          0.2543613199211271,
          0.15808482929444542,
          0.2356888072846749,
          0.29992628998103293,
          0.2234418079709546,
          0.2441203998678883,
          0.23301907159026947,
          0.1523116178805852,
          0.14913023405435347,
          0.18289046804926104,
          0.21074371582950233,
          0.2942600543178902,
          0.2004061974089323,
          0.249744177653373,
          0.1737826812790444,
          0.17740435440196606,
          0.18320241374668578,
          0.2209521447353659,
          0.20796059906789757,
          0.23281710255966845,
          0.1957944831552054,
          0.1865475573157258,
          0.1988027507591307,
          0.19081921811437427,
          0.20996624242922624,
          0.1955704057128801,
          0.24513941257216854,
          0.2794972791847078,
          0.16352095957760607,
          0.2494815224374455,
          0.24245507570715186,
          0.16540334461295791,
          0.25362445175738413,
          0.23419253104993779,
          0.33159020579692156,
          0.23215559978646502,
          0.21374140400861918,
          0.17880066602039063,
          0.23710628519828733,
          0.16658936400035299,
          0.21682382080187568,
          0.18164705067126596,
          0.2656456611780749,
          0.20520072387257313,
          0.23656440442592613,
          0.1671704149734406,
          0.25817430717085477,
          0.17913369692021272,
          0.1969316038455954,
          0.23375790089202553,
          0.22026725861702118,
          0.14913507117812513,
          0.324428213947344,
          0.2140748436341127,
          0.2338678017257369,
          0.23730592070429443,
          0.16509046795789814,
          0.2433930572165174,
          0.24321847643159455,
          0.2732030759235344,
          0.1660836530618945,
          0.22591192612243222,
          0.20398162031625283,
          0.1878580208531331,
          0.14332328564639749,
          0.22605279740168718,
          0.19271717203636834,
          0.24665884756738282,
          0.2228018711449743,
          0.15150898395113918,
          0.19980226344565724,
          0.22873249783414282,
          0.24046981045977753,
          0.29866374666765544,
          0.29508425620499473,
          0.241445012571031,
          0.20754028685929754,
          0.25125263705787854,
          0.18357117213622745,
          0.22594007758523962,
          0.197802341337453,
          0.2638921846719488,
          0.19757202109872882,
          0.2508039014106892,
          0.21612768068427185,
          0.1918294120324481,
          0.1944258005464338,
          0.22027517722233,
          0.20587758658018138,
          0.2261910755781643,
          0.2119705041810951,
          0.22976782520912772,
          0.20973221595975533,
          0.22296129256266992,
          0.22344842899733594,
          0.2867090314702194,
          0.19874719769409305,
          0.2656024717772906,
          0.19632984637443077,
          0.24240235863012924,
          0.2337996836497485,
          0.3392323002274453,
          0.2048260463432171,
          0.2319394565522359,
          0.2253374844561757,
          0.2331636749170736,
          0.2183958202838837,
          0.22276252886055634,
          0.16922966890985744,
          0.3070648426009161
         ],
         "hovertemplate": "Category 1=%{a}<br>Category 2=%{b}<br>Category 3=%{c}<extra></extra>",
         "legendgroup": "",
         "marker": {
          "color": "#636efa",
          "opacity": 0.5,
          "symbol": "circle"
         },
         "mode": "markers",
         "name": "",
         "showlegend": false,
         "subplot": "ternary",
         "type": "scatterternary"
        }
       ],
       "layout": {
        "legend": {
         "tracegroupgap": 0
        },
        "template": {
         "data": {
          "bar": [
           {
            "error_x": {
             "color": "#2a3f5f"
            },
            "error_y": {
             "color": "#2a3f5f"
            },
            "marker": {
             "line": {
              "color": "#E5ECF6",
              "width": 0.5
             },
             "pattern": {
              "fillmode": "overlay",
              "size": 10,
              "solidity": 0.2
             }
            },
            "type": "bar"
           }
          ],
          "barpolar": [
           {
            "marker": {
             "line": {
              "color": "#E5ECF6",
              "width": 0.5
             },
             "pattern": {
              "fillmode": "overlay",
              "size": 10,
              "solidity": 0.2
             }
            },
            "type": "barpolar"
           }
          ],
          "carpet": [
           {
            "aaxis": {
             "endlinecolor": "#2a3f5f",
             "gridcolor": "white",
             "linecolor": "white",
             "minorgridcolor": "white",
             "startlinecolor": "#2a3f5f"
            },
            "baxis": {
             "endlinecolor": "#2a3f5f",
             "gridcolor": "white",
             "linecolor": "white",
             "minorgridcolor": "white",
             "startlinecolor": "#2a3f5f"
            },
            "type": "carpet"
           }
          ],
          "choropleth": [
           {
            "colorbar": {
             "outlinewidth": 0,
             "ticks": ""
            },
            "type": "choropleth"
           }
          ],
          "contour": [
           {
            "colorbar": {
             "outlinewidth": 0,
             "ticks": ""
            },
            "colorscale": [
             [
              0,
              "#0d0887"
             ],
             [
              0.1111111111111111,
              "#46039f"
             ],
             [
              0.2222222222222222,
              "#7201a8"
             ],
             [
              0.3333333333333333,
              "#9c179e"
             ],
             [
              0.4444444444444444,
              "#bd3786"
             ],
             [
              0.5555555555555556,
              "#d8576b"
             ],
             [
              0.6666666666666666,
              "#ed7953"
             ],
             [
              0.7777777777777778,
              "#fb9f3a"
             ],
             [
              0.8888888888888888,
              "#fdca26"
             ],
             [
              1,
              "#f0f921"
             ]
            ],
            "type": "contour"
           }
          ],
          "contourcarpet": [
           {
            "colorbar": {
             "outlinewidth": 0,
             "ticks": ""
            },
            "type": "contourcarpet"
           }
          ],
          "heatmap": [
           {
            "colorbar": {
             "outlinewidth": 0,
             "ticks": ""
            },
            "colorscale": [
             [
              0,
              "#0d0887"
             ],
             [
              0.1111111111111111,
              "#46039f"
             ],
             [
              0.2222222222222222,
              "#7201a8"
             ],
             [
              0.3333333333333333,
              "#9c179e"
             ],
             [
              0.4444444444444444,
              "#bd3786"
             ],
             [
              0.5555555555555556,
              "#d8576b"
             ],
             [
              0.6666666666666666,
              "#ed7953"
             ],
             [
              0.7777777777777778,
              "#fb9f3a"
             ],
             [
              0.8888888888888888,
              "#fdca26"
             ],
             [
              1,
              "#f0f921"
             ]
            ],
            "type": "heatmap"
           }
          ],
          "heatmapgl": [
           {
            "colorbar": {
             "outlinewidth": 0,
             "ticks": ""
            },
            "colorscale": [
             [
              0,
              "#0d0887"
             ],
             [
              0.1111111111111111,
              "#46039f"
             ],
             [
              0.2222222222222222,
              "#7201a8"
             ],
             [
              0.3333333333333333,
              "#9c179e"
             ],
             [
              0.4444444444444444,
              "#bd3786"
             ],
             [
              0.5555555555555556,
              "#d8576b"
             ],
             [
              0.6666666666666666,
              "#ed7953"
             ],
             [
              0.7777777777777778,
              "#fb9f3a"
             ],
             [
              0.8888888888888888,
              "#fdca26"
             ],
             [
              1,
              "#f0f921"
             ]
            ],
            "type": "heatmapgl"
           }
          ],
          "histogram": [
           {
            "marker": {
             "pattern": {
              "fillmode": "overlay",
              "size": 10,
              "solidity": 0.2
             }
            },
            "type": "histogram"
           }
          ],
          "histogram2d": [
           {
            "colorbar": {
             "outlinewidth": 0,
             "ticks": ""
            },
            "colorscale": [
             [
              0,
              "#0d0887"
             ],
             [
              0.1111111111111111,
              "#46039f"
             ],
             [
              0.2222222222222222,
              "#7201a8"
             ],
             [
              0.3333333333333333,
              "#9c179e"
             ],
             [
              0.4444444444444444,
              "#bd3786"
             ],
             [
              0.5555555555555556,
              "#d8576b"
             ],
             [
              0.6666666666666666,
              "#ed7953"
             ],
             [
              0.7777777777777778,
              "#fb9f3a"
             ],
             [
              0.8888888888888888,
              "#fdca26"
             ],
             [
              1,
              "#f0f921"
             ]
            ],
            "type": "histogram2d"
           }
          ],
          "histogram2dcontour": [
           {
            "colorbar": {
             "outlinewidth": 0,
             "ticks": ""
            },
            "colorscale": [
             [
              0,
              "#0d0887"
             ],
             [
              0.1111111111111111,
              "#46039f"
             ],
             [
              0.2222222222222222,
              "#7201a8"
             ],
             [
              0.3333333333333333,
              "#9c179e"
             ],
             [
              0.4444444444444444,
              "#bd3786"
             ],
             [
              0.5555555555555556,
              "#d8576b"
             ],
             [
              0.6666666666666666,
              "#ed7953"
             ],
             [
              0.7777777777777778,
              "#fb9f3a"
             ],
             [
              0.8888888888888888,
              "#fdca26"
             ],
             [
              1,
              "#f0f921"
             ]
            ],
            "type": "histogram2dcontour"
           }
          ],
          "mesh3d": [
           {
            "colorbar": {
             "outlinewidth": 0,
             "ticks": ""
            },
            "type": "mesh3d"
           }
          ],
          "parcoords": [
           {
            "line": {
             "colorbar": {
              "outlinewidth": 0,
              "ticks": ""
             }
            },
            "type": "parcoords"
           }
          ],
          "pie": [
           {
            "automargin": true,
            "type": "pie"
           }
          ],
          "scatter": [
           {
            "fillpattern": {
             "fillmode": "overlay",
             "size": 10,
             "solidity": 0.2
            },
            "type": "scatter"
           }
          ],
          "scatter3d": [
           {
            "line": {
             "colorbar": {
              "outlinewidth": 0,
              "ticks": ""
             }
            },
            "marker": {
             "colorbar": {
              "outlinewidth": 0,
              "ticks": ""
             }
            },
            "type": "scatter3d"
           }
          ],
          "scattercarpet": [
           {
            "marker": {
             "colorbar": {
              "outlinewidth": 0,
              "ticks": ""
             }
            },
            "type": "scattercarpet"
           }
          ],
          "scattergeo": [
           {
            "marker": {
             "colorbar": {
              "outlinewidth": 0,
              "ticks": ""
             }
            },
            "type": "scattergeo"
           }
          ],
          "scattergl": [
           {
            "marker": {
             "colorbar": {
              "outlinewidth": 0,
              "ticks": ""
             }
            },
            "type": "scattergl"
           }
          ],
          "scattermapbox": [
           {
            "marker": {
             "colorbar": {
              "outlinewidth": 0,
              "ticks": ""
             }
            },
            "type": "scattermapbox"
           }
          ],
          "scatterpolar": [
           {
            "marker": {
             "colorbar": {
              "outlinewidth": 0,
              "ticks": ""
             }
            },
            "type": "scatterpolar"
           }
          ],
          "scatterpolargl": [
           {
            "marker": {
             "colorbar": {
              "outlinewidth": 0,
              "ticks": ""
             }
            },
            "type": "scatterpolargl"
           }
          ],
          "scatterternary": [
           {
            "marker": {
             "colorbar": {
              "outlinewidth": 0,
              "ticks": ""
             }
            },
            "type": "scatterternary"
           }
          ],
          "surface": [
           {
            "colorbar": {
             "outlinewidth": 0,
             "ticks": ""
            },
            "colorscale": [
             [
              0,
              "#0d0887"
             ],
             [
              0.1111111111111111,
              "#46039f"
             ],
             [
              0.2222222222222222,
              "#7201a8"
             ],
             [
              0.3333333333333333,
              "#9c179e"
             ],
             [
              0.4444444444444444,
              "#bd3786"
             ],
             [
              0.5555555555555556,
              "#d8576b"
             ],
             [
              0.6666666666666666,
              "#ed7953"
             ],
             [
              0.7777777777777778,
              "#fb9f3a"
             ],
             [
              0.8888888888888888,
              "#fdca26"
             ],
             [
              1,
              "#f0f921"
             ]
            ],
            "type": "surface"
           }
          ],
          "table": [
           {
            "cells": {
             "fill": {
              "color": "#EBF0F8"
             },
             "line": {
              "color": "white"
             }
            },
            "header": {
             "fill": {
              "color": "#C8D4E3"
             },
             "line": {
              "color": "white"
             }
            },
            "type": "table"
           }
          ]
         },
         "layout": {
          "annotationdefaults": {
           "arrowcolor": "#2a3f5f",
           "arrowhead": 0,
           "arrowwidth": 1
          },
          "autotypenumbers": "strict",
          "coloraxis": {
           "colorbar": {
            "outlinewidth": 0,
            "ticks": ""
           }
          },
          "colorscale": {
           "diverging": [
            [
             0,
             "#8e0152"
            ],
            [
             0.1,
             "#c51b7d"
            ],
            [
             0.2,
             "#de77ae"
            ],
            [
             0.3,
             "#f1b6da"
            ],
            [
             0.4,
             "#fde0ef"
            ],
            [
             0.5,
             "#f7f7f7"
            ],
            [
             0.6,
             "#e6f5d0"
            ],
            [
             0.7,
             "#b8e186"
            ],
            [
             0.8,
             "#7fbc41"
            ],
            [
             0.9,
             "#4d9221"
            ],
            [
             1,
             "#276419"
            ]
           ],
           "sequential": [
            [
             0,
             "#0d0887"
            ],
            [
             0.1111111111111111,
             "#46039f"
            ],
            [
             0.2222222222222222,
             "#7201a8"
            ],
            [
             0.3333333333333333,
             "#9c179e"
            ],
            [
             0.4444444444444444,
             "#bd3786"
            ],
            [
             0.5555555555555556,
             "#d8576b"
            ],
            [
             0.6666666666666666,
             "#ed7953"
            ],
            [
             0.7777777777777778,
             "#fb9f3a"
            ],
            [
             0.8888888888888888,
             "#fdca26"
            ],
            [
             1,
             "#f0f921"
            ]
           ],
           "sequentialminus": [
            [
             0,
             "#0d0887"
            ],
            [
             0.1111111111111111,
             "#46039f"
            ],
            [
             0.2222222222222222,
             "#7201a8"
            ],
            [
             0.3333333333333333,
             "#9c179e"
            ],
            [
             0.4444444444444444,
             "#bd3786"
            ],
            [
             0.5555555555555556,
             "#d8576b"
            ],
            [
             0.6666666666666666,
             "#ed7953"
            ],
            [
             0.7777777777777778,
             "#fb9f3a"
            ],
            [
             0.8888888888888888,
             "#fdca26"
            ],
            [
             1,
             "#f0f921"
            ]
           ]
          },
          "colorway": [
           "#636efa",
           "#EF553B",
           "#00cc96",
           "#ab63fa",
           "#FFA15A",
           "#19d3f3",
           "#FF6692",
           "#B6E880",
           "#FF97FF",
           "#FECB52"
          ],
          "font": {
           "color": "#2a3f5f"
          },
          "geo": {
           "bgcolor": "white",
           "lakecolor": "white",
           "landcolor": "#E5ECF6",
           "showlakes": true,
           "showland": true,
           "subunitcolor": "white"
          },
          "hoverlabel": {
           "align": "left"
          },
          "hovermode": "closest",
          "mapbox": {
           "style": "light"
          },
          "paper_bgcolor": "white",
          "plot_bgcolor": "#E5ECF6",
          "polar": {
           "angularaxis": {
            "gridcolor": "white",
            "linecolor": "white",
            "ticks": ""
           },
           "bgcolor": "#E5ECF6",
           "radialaxis": {
            "gridcolor": "white",
            "linecolor": "white",
            "ticks": ""
           }
          },
          "scene": {
           "xaxis": {
            "backgroundcolor": "#E5ECF6",
            "gridcolor": "white",
            "gridwidth": 2,
            "linecolor": "white",
            "showbackground": true,
            "ticks": "",
            "zerolinecolor": "white"
           },
           "yaxis": {
            "backgroundcolor": "#E5ECF6",
            "gridcolor": "white",
            "gridwidth": 2,
            "linecolor": "white",
            "showbackground": true,
            "ticks": "",
            "zerolinecolor": "white"
           },
           "zaxis": {
            "backgroundcolor": "#E5ECF6",
            "gridcolor": "white",
            "gridwidth": 2,
            "linecolor": "white",
            "showbackground": true,
            "ticks": "",
            "zerolinecolor": "white"
           }
          },
          "shapedefaults": {
           "line": {
            "color": "#2a3f5f"
           }
          },
          "ternary": {
           "aaxis": {
            "gridcolor": "white",
            "linecolor": "white",
            "ticks": ""
           },
           "baxis": {
            "gridcolor": "white",
            "linecolor": "white",
            "ticks": ""
           },
           "bgcolor": "#E5ECF6",
           "caxis": {
            "gridcolor": "white",
            "linecolor": "white",
            "ticks": ""
           }
          },
          "title": {
           "x": 0.05
          },
          "xaxis": {
           "automargin": true,
           "gridcolor": "white",
           "linecolor": "white",
           "ticks": "",
           "title": {
            "standoff": 15
           },
           "zerolinecolor": "white",
           "zerolinewidth": 2
          },
          "yaxis": {
           "automargin": true,
           "gridcolor": "white",
           "linecolor": "white",
           "ticks": "",
           "title": {
            "standoff": 15
           },
           "zerolinecolor": "white",
           "zerolinewidth": 2
          }
         }
        },
        "ternary": {
         "aaxis": {
          "title": {
           "text": "Category 1"
          }
         },
         "baxis": {
          "title": {
           "text": "Category 2"
          }
         },
         "caxis": {
          "title": {
           "text": "Category 3"
          }
         },
         "domain": {
          "x": [
           0,
           1
          ],
          "y": [
           0,
           1
          ]
         }
        },
        "title": {
         "text": "Dirichlet Posterior"
        }
       }
      },
      "text/html": [
       "<div>                            <div id=\"85429533-4784-4ea7-9f9f-09433ed8c442\" class=\"plotly-graph-div\" style=\"height:525px; width:100%;\"></div>            <script type=\"text/javascript\">                require([\"plotly\"], function(Plotly) {                    window.PLOTLYENV=window.PLOTLYENV || {};                                    if (document.getElementById(\"85429533-4784-4ea7-9f9f-09433ed8c442\")) {                    Plotly.newPlot(                        \"85429533-4784-4ea7-9f9f-09433ed8c442\",                        [{\"a\":[0.4994905605092671,0.6377232957485901,0.5717896466398468,0.5404552152047605,0.5143245849110318,0.5810669446658109,0.5664664251073094,0.5688817775314217,0.580222722167946,0.5327379003072374,0.5904398934814388,0.5187953063022465,0.5550775488937018,0.5486332652591901,0.564096241486584,0.5108262531997447,0.4300090851056236,0.5546086901996732,0.5681336109428525,0.5107081051031344,0.561925582180087,0.551930616819174,0.48177334610839867,0.46094966226507506,0.5788871567980467,0.4772542828857149,0.5384318915494176,0.4896510075633747,0.5854328908768357,0.5421162787536815,0.47482102427957973,0.48938699337948394,0.5440038994189241,0.6093413809171419,0.5730502516045812,0.5361833543023974,0.4700184302887288,0.528099596603197,0.5957794039981312,0.5297425015339978,0.49480601384446915,0.49688848490015913,0.5166601361072728,0.5209435024013757,0.4883461227851519,0.5580304804070833,0.5674061831937884,0.47879340427882805,0.5052075634123466,0.5692933768520905,0.5472899388674463,0.5116668039621399,0.5188893023873277,0.5978289046524905,0.5160569092450702,0.4527126622424539,0.4759798848367011,0.5084882165602673,0.4618738672469486,0.5556511333463976,0.48756120736876346,0.49974092915580326,0.5338142213826422,0.48356966937183676,0.5277364807331204,0.6022997184625455,0.5364107033626986,0.6029938150216275,0.446384626384847,0.6085584520378304,0.5433857357231194,0.5008449449014594,0.4903516848750221,0.5842730058534632,0.5635916980794414,0.4236041107771517,0.5227132572791293,0.4849520451948454,0.48646269718298935,0.5623482462170238,0.579143762111442,0.623274024204105,0.5263402232402309,0.5581012190032885,0.5064684281028149,0.5297683423003805,0.5683568021072565,0.5703942189775204,0.4571912095079867,0.4720826352048284,0.5165345509874567,0.5536722133754598,0.5484700189613878,0.569035337369812,0.609795688462316,0.570712567955498,0.5585783239457085,0.5113061498846844,0.4889508657676761,0.48911122892677067,0.538858393324218,0.5165521766438371,0.5845764756256965,0.5444046492152265,0.5443795988702501,0.6270624950416946,0.4766840904228511,0.5687531722328903,0.5552629905915784,0.522038098606356,0.4747067819146331,0.4891026026874532,0.4992293000099864,0.43918144379704765,0.47482919465351764,0.5829541077706558,0.45354983184065434,0.4902236696987007,0.5319235523317217,0.5595701881575221,0.5290613580466503,0.4906973807628557,0.5438051411676418,0.5062418179632899,0.5297517342828612,0.49279799439187216,0.5037812296665953,0.41068652845294473,0.5368965895402014,0.5115841582793259,0.49180241207206654,0.46862929342012816,0.5358139363948881,0.6022546819522558,0.5275196335116508,0.5775333456687489,0.4226772500878183,0.6068677811466879,0.46531405707568535,0.6204241576351772,0.5533948699165229,0.5822533022508696,0.4897668023379155,0.4812691458788857,0.47499082471679616,0.5146567000024477,0.5500148804398041,0.5863307907769638,0.5253998346774255,0.4744733558981008,0.558724919357133,0.48629800416695007,0.487668465020242,0.5749996953232231,0.4530215838582407,0.5360572010898114,0.5384604430564013,0.5783733737901718,0.5092245029118978,0.5271338432467663,0.5311158906571156,0.5494758288040038,0.5646591610019611,0.4844881733696696,0.5330466689882225,0.5204461660771379,0.5382384198067931,0.5526849679940564,0.464170257710554,0.5254964655652489,0.48247741121884585,0.562802331676333,0.5600048308031212,0.5176681661333529,0.5604731076883958,0.5211623903117056,0.43337648744658064,0.4827743994417432,0.5714777776056292,0.568303055456012,0.5743404925059888,0.48782745727816085,0.5641555406113155,0.5481672789279338,0.5714286941221033,0.5233207032329232,0.4567431509305392,0.47074608613539975,0.4816180625837665,0.49956030466268375,0.5224478395767973,0.4238976695264593,0.5398648664351032,0.5450221027039159,0.47252548365547964,0.49496612823504754,0.5707563744619479,0.5005414569790624,0.49320084157941907,0.5727249960953645,0.5225395846107063,0.5725411260365121,0.5384838433134148,0.5122972814166928,0.4944516407091626,0.5469077994135451,0.43454302846971554,0.539353525979465,0.5660104298555716,0.5398523796990008,0.5204783439181425,0.5108304398484559,0.5167280544939219,0.507473368767794,0.4796052341615492,0.5003328114740775,0.43805256247727536,0.5133435418864001,0.44624870800594885,0.542418298510549,0.4871456429087366,0.5819213890517388,0.37317396407549525,0.5542831849519368,0.5673833493826972,0.5367132341489478,0.5193045050326666,0.506464806635773,0.4450728311110361,0.4163926710913841,0.5822886418625276,0.5944792824996658,0.5332129223572138,0.5513331328740172,0.5297027957014974,0.5885109904520232,0.5198088503696108,0.5917066421560545,0.5512070405997795,0.4712250712264975,0.5546567949227188,0.5069615917205712,0.4619572571359632,0.5703991772531591,0.4887106876068634,0.4560205946090435,0.5821680013027947,0.5311931518902742,0.4857045751654939,0.46129613159802935,0.5586743974883333,0.6035447727968067,0.5838810368045882,0.506820644594401,0.4671768233315348,0.5668259872873904,0.4873762034105789,0.5098188586613923,0.4924242398340336,0.5550147830900051,0.5168576596376852,0.6074322484641133,0.6214374402705931,0.5308904941185683,0.4596816655734979,0.5126414045635844,0.5688546066075945,0.4481887196482093,0.4478833906786701,0.46034092253294917,0.5323321773902586,0.4599387107018586,0.49858134633347184,0.5246652471362646,0.5069155127943061,0.5083349693420072,0.5106831568077065,0.5475964973164694,0.483424626374717,0.529776698634761,0.5396093760953249,0.5582846606769644,0.4919100459925077,0.5679143747307511,0.5256484621842509,0.4604562286141937,0.4883006543432589,0.5508488953259225,0.5761597662584986,0.4643108121588799,0.5466396792830768,0.5658927024033887,0.43074610937655444,0.5890270887700697,0.585521164801553,0.49686133578111485,0.5767968629513972,0.4063720121815535,0.4323991582519056,0.4996983248000791,0.4844602433513176,0.5734151410559503,0.5191625879267086,0.5219034475933828,0.46663220312801884,0.5437227064903692,0.5885435124035301,0.5904106090237801,0.5050509017579962,0.5314948901146701,0.5058348925980127,0.5015369337121754,0.4783458693199971,0.5198607310024339,0.43677903375219873,0.565945406473742,0.5555856592963053,0.5341457218857993,0.5338727476428018,0.48205963430573984,0.4873687702707456,0.4529811088803843,0.5276915187500119,0.5282366475117042,0.5518646707886012,0.45693967990559087,0.4325736990037859,0.5922958386541115,0.5442107818419473,0.6145875466756436,0.5333617237855135,0.5093473638098551,0.5410517421750628,0.5627143580786831,0.5125333752071876,0.5425197075915865,0.5435829572347791,0.6137592256944843,0.5396394379948158,0.45451134393094206,0.4963107903565304,0.5135408266957269,0.6010395637384712,0.6773773305167471,0.4922227767012413,0.4967285048746789,0.502590639010673,0.5090524352447534,0.526605243545174,0.5456991701228937,0.5191409104899551,0.559268891517251,0.5960509513240424,0.5679125078229506,0.49889567207137153,0.5445116767709343,0.5806070520982568,0.5731594146769945,0.4884207014444859,0.4893848826671669,0.5549809571878728,0.5587400488181083,0.5519534294544417,0.47872829613680457,0.5047267497421969,0.4018573566377829,0.5245067750439463,0.4952934257497373,0.605976609382047,0.5030826175974731,0.5294719816839933,0.48992531952717827,0.5741316359599629,0.4445366323598289,0.5030129609716524,0.5472758880811721,0.4560001562211731,0.564522359937439,0.5411709027487233,0.5168229628212716,0.4956566778756135,0.4803544285034528,0.5812542678205682,0.474751538403783,0.5662403044932097,0.5619275136873438,0.5116310388347606,0.4871987311010215,0.5090635632971076,0.42983846435289913,0.5263189475141132,0.46276884846428,0.5833016042052751,0.5156825273003114,0.46971139283256746,0.5309028854817599,0.40617109218579484,0.6042388873397808,0.612236885145817,0.5562690719473612,0.5504673900355797,0.5459705429862854,0.5261302417768647,0.5324368305765622,0.5875926057179094,0.4923915213282817,0.4916105900115114,0.49107698694848895,0.533903968543947,0.5877384992381054,0.5299610664868903,0.5249568116787852,0.5707815793044372,0.4793757948037545,0.5824651149546912,0.5153801451643586,0.49679961288336993,0.4648124245065332,0.5960443673673576,0.49177363789435885,0.47267056205348257,0.4962274026871906,0.5401334031252067,0.4304331902186732,0.4955094651396453,0.5026808496139902,0.5111020510992059,0.5213873523371432,0.551180432398067,0.5030480259971111,0.45391335284797246,0.5503866650227469,0.49104830434119406,0.5741735863522249,0.5137643726544626,0.5605988436900828,0.5073341276705642,0.5385864612936289,0.6258331544705367,0.5541830628187928,0.5100997975946648,0.5553187643670902,0.48469145908675776,0.5057893968349537,0.5653873757222699,0.534707158044634,0.6157794352373593,0.48663127749756685,0.5425180495257179,0.5901604762635956,0.46158704285890884,0.4629659415501496,0.5325940919167165,0.585791145301576,0.5679058943889532,0.5033270271749661,0.5973459190741613,0.5560728068715892,0.5778619287305131,0.5340949259505927,0.5829053097803546,0.5109979061687611,0.53982315205106,0.4509072774861595,0.49932491134267387,0.4506871825527817,0.5257476705507761,0.4781824577026048,0.5593460567353751,0.47818559608840894,0.49808497694800496,0.49690748766724674,0.49108700418938417,0.4904808545821186,0.5619944025364022,0.5570487329248199,0.6027508400932342,0.5684906226250034,0.5148245605792666,0.49490839751717713,0.5687122871432293,0.5009116703899821,0.4771879037702179,0.5252928213141607,0.5548072907744688,0.5297905006984015,0.5431731812782714,0.48986897524225903,0.5560827399188484,0.48495438182467454,0.5267462570259008,0.48987066205427726,0.5636642274075284,0.5811788366831949,0.5658676591046607,0.4863438325047486,0.4702523925646743,0.4389253628173873,0.5678803544458203,0.469364104058025],\"b\":[0.19788466086188267,0.16441670042388712,0.21045520438764284,0.20811971385318612,0.3088472152004178,0.22504032750937789,0.18358855206419825,0.18835715691194554,0.16736715256490986,0.31788154865472723,0.24495218722282516,0.22673883399501704,0.29139402204512527,0.2393326178087048,0.2275400502265305,0.27031274999260196,0.2613768520911954,0.2613982391856761,0.18544498753279695,0.28104809764453775,0.24638614110749085,0.24522636467992812,0.2555678522817109,0.28486319523673553,0.23888165683499019,0.3099646590925735,0.21626832120083303,0.26378813805228984,0.22173226475807006,0.20160204444444693,0.2910806843090308,0.3600942233754518,0.25705293292547227,0.19124505332682368,0.23105952158496185,0.212795852144544,0.2887711417259942,0.23101294240147355,0.22916577207259975,0.27795551842790833,0.24931751079921302,0.2725404148352872,0.3283811986581908,0.28474191142338295,0.25692702507066806,0.1863912781416705,0.19597921113115702,0.21769041373089845,0.2430908870017917,0.26796200978362383,0.2109245776239021,0.3120575330723898,0.21708953936806533,0.2049018197168888,0.2446800701616698,0.31903337398379694,0.2521647658763629,0.21145905605812765,0.35072528256807023,0.2457792603665213,0.21845449144474127,0.23952127488252348,0.26239690247168507,0.2829112814120494,0.27850061244123175,0.23088754449721238,0.25321105140738254,0.23077166874008584,0.33452916724539916,0.21127150405756576,0.3030571785657799,0.21667120413567917,0.25805354347532505,0.22828901074034053,0.2538165941948343,0.32622721486709044,0.2855348904655808,0.2978039943155316,0.26635517995784447,0.24836618136635835,0.2436048134489299,0.14095544704369853,0.2650849586390332,0.2763295163691502,0.258167807200957,0.30459212239346894,0.25363784450931065,0.24093982121811797,0.25429415453934834,0.2703235809889825,0.26699823834038205,0.24125679344133327,0.22367066409258923,0.22004130564898458,0.19976092609659601,0.1900466183792604,0.24425377669255327,0.19767264996322267,0.2781761932302719,0.23012785032461844,0.2630048329769422,0.26778241064815544,0.21715121194972356,0.21759191707089495,0.23536183740048414,0.17809467952057476,0.3490388183692157,0.209654743724832,0.18113273877294997,0.24093773374623692,0.25852746273437677,0.2666774078373046,0.2700697580145008,0.30860112626634645,0.25190120015595424,0.22761207607614417,0.33880770203645827,0.25162274114022914,0.24448637293925657,0.2023489767050799,0.22043565869132983,0.2644686730003782,0.2575448110667636,0.23818120697700412,0.24693698333397043,0.2350061348941479,0.2639158775024128,0.33704715723358936,0.21769431187808527,0.27184553716408616,0.2050788644275509,0.18233067213095733,0.2391039981527743,0.22611485427931843,0.297865259814828,0.22598536522166102,0.2901323224379957,0.17041346973547467,0.2485209453105103,0.1448913895049522,0.25669443349907944,0.22227769382003784,0.2615972433772815,0.278985469340177,0.2802445237023206,0.2766693383201812,0.2500973458550199,0.24484820723997827,0.2549837240994943,0.31288403882843496,0.22481064803832246,0.2554073135529923,0.2652910659904057,0.17450643254763876,0.35313915145475216,0.23909600061322298,0.29406899758704746,0.20352009874508625,0.3212037821636415,0.2811703192409849,0.27062551192852613,0.22014869241027338,0.24825372234821685,0.324427681129401,0.29740537188559857,0.25878399145595615,0.24428932478476484,0.24696619470888131,0.28454597456288305,0.26133783469765237,0.2783800675825234,0.22889895154371334,0.24610447406502062,0.3211902390796246,0.22078616627162842,0.21921285303266763,0.26352981626761723,0.2809099274268429,0.2143873665300305,0.2446380992314616,0.26918880111254495,0.27443603228836694,0.24799410765714455,0.22515338545038102,0.23363817436993978,0.2524925223382414,0.3145348529840117,0.37357934051336383,0.2612784540380569,0.34534490339649465,0.24611481052590028,0.3382127038955443,0.24088603049254836,0.2280537269900555,0.27650933312033094,0.24013560288437166,0.2121199555657578,0.24707636120356796,0.2575810165125519,0.27103460952921754,0.291395139672986,0.23508694754016563,0.1988444416374825,0.20610085218674198,0.2721037744526743,0.2709783710730894,0.37329298990630644,0.23652816824230521,0.21115972314928427,0.3094276747945262,0.2982360595743914,0.25102344203398286,0.2294102806113503,0.28407042103482566,0.28242984089004913,0.26232620508867344,0.2703140599543346,0.21491340941759063,0.2532823400057861,0.28683867609067043,0.32814843918531594,0.23606127289578344,0.3547446891603456,0.18115886219244062,0.18630133002580115,0.22239806754555097,0.262250131644781,0.3011636748654645,0.34924114497572706,0.35881712114613595,0.22139752777740307,0.19047234039538014,0.2175965587182057,0.24713243914265737,0.24136248229361157,0.26577368521938705,0.3185967417158512,0.19106266965015287,0.2187398594852267,0.34563554835471333,0.20765519722063555,0.2892559838083672,0.3036580925449822,0.18532128843274728,0.31598118191881874,0.28169212082823253,0.24997040278929258,0.2692295487319405,0.2480640059685177,0.24259232918249465,0.2308242126337101,0.21237974075717642,0.24202577572601702,0.23066824339903072,0.3138451978589264,0.22846228146703718,0.24042041721483906,0.2608476701239999,0.2249339701326728,0.23510082068834132,0.2763444963656277,0.2045827171669102,0.21629931574643874,0.2682373224400161,0.29528455198942616,0.27004865825539687,0.23085182891302009,0.3217960978649713,0.2711236301490949,0.28688097472541507,0.2526766303999281,0.26242377532220656,0.231693917961118,0.26565842368801196,0.2378438598198023,0.28051571666220854,0.24335772218933516,0.2600160329628853,0.2802194092452775,0.22784329908978482,0.23585017854920995,0.25904820225337805,0.25910846521518116,0.22147465309093645,0.2539557510176397,0.3601978256737101,0.2769697818208313,0.23412359443180036,0.216904054406126,0.28493790968477656,0.24230758978725056,0.23684066105166923,0.2832615483082457,0.1942227121323912,0.2538375991119237,0.26970194438621625,0.24326970117110933,0.20911530731769598,0.22947926364982194,0.2946594350214878,0.295738854616877,0.21177308938096442,0.27559770643965786,0.24756574827133188,0.3179531369860843,0.2755096582022785,0.240667639608538,0.1841162675634299,0.27761707737145563,0.23934752283877556,0.21456924605127298,0.32226994438848533,0.2539868945178854,0.2851596286395566,0.2443051064679159,0.18256240437455162,0.19483957119042453,0.23631326742772596,0.2487169647421564,0.25284927046303335,0.18925897779688364,0.31067730550718287,0.22970288402840336,0.28109529464512334,0.2098241452814819,0.27292245357705863,0.24211909858619296,0.2125786983692417,0.3158886038144735,0.19273957882196655,0.26520849115327644,0.22299117742927127,0.2399682665057166,0.2574036877266398,0.25414147482417615,0.23855478689005366,0.2643933630656428,0.22238442203377623,0.2779727019718616,0.2608894572603145,0.3096797172224539,0.26147376602933553,0.25828143005960863,0.18606472968476934,0.283027340105259,0.29509552647782733,0.33321795450174824,0.275232792716141,0.3114734080990922,0.2899701418199974,0.3092728443194077,0.18058508919675953,0.20468699769101423,0.22359179531638063,0.23102590447562507,0.18363624993904915,0.1993922706608516,0.26531033999891934,0.2870508732234867,0.2644050006660855,0.24427669152968742,0.2646162994933492,0.2228356424983813,0.3252774961452416,0.28780345234450116,0.39054040516860916,0.24578791736857966,0.28229218531019695,0.15040212331515307,0.27347398239186815,0.2570773323243188,0.29788539324704444,0.25200398326162443,0.3495966134302501,0.24026154691902382,0.25140516123614454,0.33673407085123036,0.27534508811355274,0.23190386888417866,0.24710730267118977,0.2730255384719631,0.3205878497588494,0.18121700442817618,0.29990275217503537,0.2808169751132667,0.26259450933659595,0.28724978903467624,0.27977307296652276,0.24094342798426627,0.3143385201404987,0.21931973256475987,0.37914632224127454,0.18100958851005006,0.18439118271865573,0.30684679919647784,0.22497671465035177,0.3608098362239359,0.24344949477963398,0.2386328807998295,0.2608404600033777,0.23878889413491808,0.15976940269582424,0.273463560814203,0.21781899177006486,0.23862471300304622,0.33020412426975226,0.3251869962418027,0.2879708683161452,0.2581354323881554,0.17944439820222613,0.2742444503579043,0.28849563100548914,0.23041566993643214,0.3298049870818712,0.20756864261608268,0.2890494491227612,0.2580609745444616,0.2556902963087591,0.24043467305503638,0.2587448396681955,0.28487436223936563,0.3383692526998514,0.206242145117409,0.3353742787313892,0.17290032906343314,0.26516355059954483,0.27515654489217495,0.29981198164246625,0.21171328240364543,0.33036261000253603,0.3292628263501518,0.2679662843059871,0.243306034480731,0.22062568977520186,0.24967122291961122,0.27223074133647646,0.23449156515858105,0.28227984178615834,0.17723524168386792,0.21205903628918168,0.2696329437883141,0.29554616445478477,0.19088032696589818,0.2801357595309335,0.20074482255199314,0.22798692125107164,0.2191300968047426,0.26997566528591566,0.21426347404268753,0.13663644781287,0.3723293040791967,0.31112213232741825,0.26342428776703075,0.226350833845291,0.28877081996464926,0.27062017542334654,0.20993690888947042,0.19726834556102782,0.19933620012451275,0.314396090098268,0.2172924267739882,0.26026959599709604,0.21970703748916245,0.25042897584618506,0.2055908324523313,0.30786780487618726,0.2667120425899262,0.27056490523951665,0.25708277112839745,0.2958743263263515,0.3041126817145419,0.2392003276608045,0.31134097471188704,0.25871524400719215,0.2218779167793259,0.251121855042732,0.20282335936033197,0.21123420015266667,0.27929785284055186,0.2789005269046585,0.2193172086756756,0.26932050440089017,0.3130798802700267,0.25174588612316945,0.22174428022819528,0.18350046783137916,0.2580796210276354,0.24452855298045043,0.24758741370672072,0.2726432595451961,0.23945405932435065,0.17089703771827738,0.23150972624925467,0.18688170676456925,0.20879485643916357,0.28049249257817777,0.3113517871514419,0.3383121083220564,0.2628899766443223,0.22357105334105884],\"c\":[0.30262477862885023,0.19786000382752278,0.2177551489725103,0.25142507094205346,0.17682819988855042,0.19389272782481126,0.24994502282849232,0.24276106555663296,0.25241012526714396,0.1493805510380353,0.1646079192957361,0.25446585970273644,0.15352842906117306,0.21203411693210503,0.20836370828688533,0.21886099680765325,0.30861406280318093,0.1839930706146507,0.24642140152435058,0.20824379725232783,0.19168827671242203,0.20284301850089786,0.26265880160989047,0.2541871424981894,0.18223118636696306,0.21278105802171157,0.24529978724974935,0.24656085438433534,0.19283484436509443,0.2562816768018716,0.23409829141138958,0.1505187832450642,0.1989431676556036,0.19941356575603436,0.19589022681045715,0.2510207935530586,0.2412104279852769,0.2408874609953294,0.1750548239292689,0.1923019800380938,0.25587647535631763,0.23057110026455374,0.15495866523453639,0.19431458617524133,0.25472685214418,0.2555782414512462,0.2366146056750546,0.3035161819902735,0.25170154958586155,0.1627446133642856,0.24178548350865167,0.17627566296547015,0.26402115824460726,0.1972692756306206,0.2392630205932602,0.22825396377374918,0.2718553492869361,0.28005272738160497,0.18740085018498123,0.19856960628708115,0.2939843011864953,0.2607377959616731,0.2037888761456728,0.2335190492161138,0.19376290682564778,0.16681273704024221,0.21037824522991883,0.16623451623828647,0.21908620636975393,0.18017004390460403,0.1535570857111007,0.2824838509628615,0.25159477164965266,0.18743798340619625,0.1825917077257243,0.25016867435575785,0.1917518522552901,0.21724396048962274,0.24718212285916621,0.18928557241661764,0.17725142443962813,0.23577052875219626,0.20857481812073586,0.16556926462756127,0.2353637646962282,0.16563953530615064,0.17800535338343274,0.18866595980436163,0.28851463595266497,0.2575937838061893,0.2164672106721612,0.20507099318320693,0.22785931694602293,0.21092335698120335,0.19044338544108796,0.23924081366524164,0.19716789936173812,0.29102120015209304,0.23287294100205205,0.28076092074861103,0.19813677369883953,0.2156654127080074,0.19827231242457996,0.23800343371387855,0.22025856372926575,0.1948428254377305,0.17427709120793314,0.22159208404227768,0.26360427063547187,0.23702416764740714,0.2667657553509902,0.24421998947524218,0.2307009419755128,0.25221742993660595,0.27326960519052823,0.18943381615320004,0.20764246612288736,0.2581535891610702,0.22359007472902165,0.238080835137398,0.2505029832620198,0.24483394623676621,0.19865004776559458,0.25557697505970584,0.2233112823831684,0.2721958707139799,0.23230289283099187,0.2522663143134659,0.24540909858171342,0.21657030455658782,0.3031187235003825,0.3490400344489144,0.22508206545233753,0.1716304637684257,0.17461510667352115,0.19648128910958995,0.2871904274741861,0.2227187491178374,0.28616499761380443,0.2346844528598706,0.18991069658439777,0.19546900392909267,0.2486359542848031,0.2397453847809372,0.24476465158088329,0.2086739616773712,0.19988777370517602,0.16882100198305797,0.21961644122308022,0.21264260527346443,0.21646443260454465,0.25829468228005775,0.24704046898935228,0.25049387212913793,0.1938392646870072,0.22484679829696577,0.16747055935655134,0.21810652746474185,0.16957171492446063,0.1916958375122487,0.19825859741435833,0.23037547878572293,0.18708711664982192,0.19108414550092945,0.16954795912617895,0.22076984246690598,0.21747225540844212,0.20034883729706227,0.2512837677265631,0.2131656997370985,0.23914252119863075,0.2082987167799535,0.19389069513185825,0.16114159478702247,0.21874072603997577,0.2596247566556268,0.3030936962858021,0.236315673131414,0.21413485586434025,0.18705884531252634,0.15647070638146623,0.23773651043347216,0.1878503517315401,0.2266793356216853,0.19493313150795682,0.2241867744288354,0.2287219960854491,0.15567457335123647,0.25710348337817673,0.1550947919408217,0.2314373498973023,0.2378896265779963,0.21924910307234857,0.2269241703060286,0.2509651832241895,0.26489826888058077,0.21712366997229432,0.25238218181736966,0.24921814190802904,0.15624039437541778,0.1860652757163079,0.1923719264233222,0.2626717150491026,0.2816018663965651,0.23344458483816308,0.18211382951336552,0.19216398162397808,0.22411830577822983,0.222829846995144,0.1507199455064731,0.18128559650746615,0.23814611811756126,0.2538616648947278,0.20845621019738012,0.23796492494840163,0.23734098343724913,0.29163337756839,0.2717430486960091,0.3004689519882651,0.17074302539878058,0.1847059179059475,0.18201733805247786,0.27208134676415896,0.26455795285562256,0.24631532059150169,0.24088869830550116,0.21844536332255238,0.19237151849876244,0.20568602391323665,0.22479020776247988,0.19631383036006933,0.2150483771049541,0.24919051892458033,0.20153442798332538,0.22893472200489104,0.14571532432858997,0.16159440791453805,0.21723068819379276,0.2300530999149938,0.1831393804187892,0.23768800785664568,0.20378242447106165,0.23438465031905453,0.24427953431409366,0.1953081304743179,0.26228728456272415,0.16786159590791264,0.19957729937778548,0.2662314188659883,0.2961115392194759,0.21050138987795675,0.1840754864460169,0.17409318746939467,0.2625111120065682,0.21897797880953873,0.20471173124557243,0.27220337937458206,0.229333471214608,0.2826417900332937,0.20988439622165347,0.20679784399668732,0.18798503436897643,0.16226324398296813,0.20087218344141558,0.24503378243707585,0.21730993718101874,0.20029356447938548,0.2300151824868194,0.28099297917223504,0.25277810274163576,0.21499119220981328,0.2776375139759347,0.2697247357054103,0.20967632917572354,0.25524062738589154,0.21114931399578435,0.24595912100295847,0.19238746972064527,0.2363559643800054,0.24238000227545436,0.22454044535546533,0.18266713706965754,0.24898148879231113,0.21061097217831243,0.22039578679810948,0.17934594571209622,0.23472956383590982,0.21502751024227712,0.2069361793353753,0.2507512781563434,0.21105273092967264,0.19726663654494192,0.2859923423152,0.2167501990975391,0.16064123608652342,0.2334367198326688,0.1799334358774934,0.3845126805007506,0.3381215780982725,0.20564224017843313,0.2198009020318055,0.21481176956308526,0.20523970563363372,0.23053080413528526,0.21541465988589684,0.18076763530735201,0.17078884798793176,0.22547312341278997,0.21733202087054831,0.22915758704655442,0.27959586135071435,0.17619312189933925,0.2676672361621173,0.19497964035800966,0.3189158597798852,0.2514921891517065,0.24957476951327012,0.22954101068647462,0.21741028761504175,0.2650910952312269,0.3233722519323706,0.23634158561243301,0.24260559722158465,0.19066805784317264,0.2383111839299167,0.2701378665173504,0.3253072024100213,0.1951254629766467,0.13990061434357937,0.19267287450238982,0.20142978506121018,0.2676614587608736,0.21897999131922044,0.1798819541946771,0.23332514996863643,0.2189255055183598,0.19202367969957804,0.1638563522717395,0.18238786003332272,0.28459919880874346,0.19400949242101564,0.22498540727493765,0.14067900620192003,0.13655793979848377,0.2247498831934998,0.2081759686474939,0.16419140648757866,0.2157147720391057,0.16192134835573382,0.16433068805710882,0.1715862451906371,0.2601460192859894,0.19926205098494343,0.20849569686066882,0.27007842345300337,0.27185207329001665,0.2200006772408914,0.1615302453240862,0.22452842533202738,0.24621011666674772,0.20074235128243995,0.17664365168854246,0.22521092804717702,0.19599420771795395,0.20746979791330197,0.20760223819360787,0.22970530758747423,0.2224143889400657,0.24362126730279998,0.2234434000106587,0.21345068599168782,0.21218928722577743,0.17386438077841282,0.20586675420992112,0.25672549210932377,0.2013189506826836,0.2072657729275966,0.16013255194900816,0.22692522836709814,0.23606973450753868,0.23131778365242334,0.19905772173769784,0.23752872775125564,0.22534570942118176,0.15294272039352363,0.17547797697606035,0.20111917213056327,0.23302819593245575,0.2499930087186263,0.2558230155066023,0.2543613199211271,0.15808482929444542,0.2356888072846749,0.29992628998103293,0.2234418079709546,0.2441203998678883,0.23301907159026947,0.1523116178805852,0.14913023405435347,0.18289046804926104,0.21074371582950233,0.2942600543178902,0.2004061974089323,0.249744177653373,0.1737826812790444,0.17740435440196606,0.18320241374668578,0.2209521447353659,0.20796059906789757,0.23281710255966845,0.1957944831552054,0.1865475573157258,0.1988027507591307,0.19081921811437427,0.20996624242922624,0.1955704057128801,0.24513941257216854,0.2794972791847078,0.16352095957760607,0.2494815224374455,0.24245507570715186,0.16540334461295791,0.25362445175738413,0.23419253104993779,0.33159020579692156,0.23215559978646502,0.21374140400861918,0.17880066602039063,0.23710628519828733,0.16658936400035299,0.21682382080187568,0.18164705067126596,0.2656456611780749,0.20520072387257313,0.23656440442592613,0.1671704149734406,0.25817430717085477,0.17913369692021272,0.1969316038455954,0.23375790089202553,0.22026725861702118,0.14913507117812513,0.324428213947344,0.2140748436341127,0.2338678017257369,0.23730592070429443,0.16509046795789814,0.2433930572165174,0.24321847643159455,0.2732030759235344,0.1660836530618945,0.22591192612243222,0.20398162031625283,0.1878580208531331,0.14332328564639749,0.22605279740168718,0.19271717203636834,0.24665884756738282,0.2228018711449743,0.15150898395113918,0.19980226344565724,0.22873249783414282,0.24046981045977753,0.29866374666765544,0.29508425620499473,0.241445012571031,0.20754028685929754,0.25125263705787854,0.18357117213622745,0.22594007758523962,0.197802341337453,0.2638921846719488,0.19757202109872882,0.2508039014106892,0.21612768068427185,0.1918294120324481,0.1944258005464338,0.22027517722233,0.20587758658018138,0.2261910755781643,0.2119705041810951,0.22976782520912772,0.20973221595975533,0.22296129256266992,0.22344842899733594,0.2867090314702194,0.19874719769409305,0.2656024717772906,0.19632984637443077,0.24240235863012924,0.2337996836497485,0.3392323002274453,0.2048260463432171,0.2319394565522359,0.2253374844561757,0.2331636749170736,0.2183958202838837,0.22276252886055634,0.16922966890985744,0.3070648426009161],\"hovertemplate\":\"Category 1=%{a}\\u003cbr\\u003eCategory 2=%{b}\\u003cbr\\u003eCategory 3=%{c}\\u003cextra\\u003e\\u003c\\u002fextra\\u003e\",\"legendgroup\":\"\",\"marker\":{\"color\":\"#636efa\",\"opacity\":0.5,\"symbol\":\"circle\"},\"mode\":\"markers\",\"name\":\"\",\"showlegend\":false,\"subplot\":\"ternary\",\"type\":\"scatterternary\"}],                        {\"template\":{\"data\":{\"histogram2dcontour\":[{\"type\":\"histogram2dcontour\",\"colorbar\":{\"outlinewidth\":0,\"ticks\":\"\"},\"colorscale\":[[0.0,\"#0d0887\"],[0.1111111111111111,\"#46039f\"],[0.2222222222222222,\"#7201a8\"],[0.3333333333333333,\"#9c179e\"],[0.4444444444444444,\"#bd3786\"],[0.5555555555555556,\"#d8576b\"],[0.6666666666666666,\"#ed7953\"],[0.7777777777777778,\"#fb9f3a\"],[0.8888888888888888,\"#fdca26\"],[1.0,\"#f0f921\"]]}],\"choropleth\":[{\"type\":\"choropleth\",\"colorbar\":{\"outlinewidth\":0,\"ticks\":\"\"}}],\"histogram2d\":[{\"type\":\"histogram2d\",\"colorbar\":{\"outlinewidth\":0,\"ticks\":\"\"},\"colorscale\":[[0.0,\"#0d0887\"],[0.1111111111111111,\"#46039f\"],[0.2222222222222222,\"#7201a8\"],[0.3333333333333333,\"#9c179e\"],[0.4444444444444444,\"#bd3786\"],[0.5555555555555556,\"#d8576b\"],[0.6666666666666666,\"#ed7953\"],[0.7777777777777778,\"#fb9f3a\"],[0.8888888888888888,\"#fdca26\"],[1.0,\"#f0f921\"]]}],\"heatmap\":[{\"type\":\"heatmap\",\"colorbar\":{\"outlinewidth\":0,\"ticks\":\"\"},\"colorscale\":[[0.0,\"#0d0887\"],[0.1111111111111111,\"#46039f\"],[0.2222222222222222,\"#7201a8\"],[0.3333333333333333,\"#9c179e\"],[0.4444444444444444,\"#bd3786\"],[0.5555555555555556,\"#d8576b\"],[0.6666666666666666,\"#ed7953\"],[0.7777777777777778,\"#fb9f3a\"],[0.8888888888888888,\"#fdca26\"],[1.0,\"#f0f921\"]]}],\"heatmapgl\":[{\"type\":\"heatmapgl\",\"colorbar\":{\"outlinewidth\":0,\"ticks\":\"\"},\"colorscale\":[[0.0,\"#0d0887\"],[0.1111111111111111,\"#46039f\"],[0.2222222222222222,\"#7201a8\"],[0.3333333333333333,\"#9c179e\"],[0.4444444444444444,\"#bd3786\"],[0.5555555555555556,\"#d8576b\"],[0.6666666666666666,\"#ed7953\"],[0.7777777777777778,\"#fb9f3a\"],[0.8888888888888888,\"#fdca26\"],[1.0,\"#f0f921\"]]}],\"contourcarpet\":[{\"type\":\"contourcarpet\",\"colorbar\":{\"outlinewidth\":0,\"ticks\":\"\"}}],\"contour\":[{\"type\":\"contour\",\"colorbar\":{\"outlinewidth\":0,\"ticks\":\"\"},\"colorscale\":[[0.0,\"#0d0887\"],[0.1111111111111111,\"#46039f\"],[0.2222222222222222,\"#7201a8\"],[0.3333333333333333,\"#9c179e\"],[0.4444444444444444,\"#bd3786\"],[0.5555555555555556,\"#d8576b\"],[0.6666666666666666,\"#ed7953\"],[0.7777777777777778,\"#fb9f3a\"],[0.8888888888888888,\"#fdca26\"],[1.0,\"#f0f921\"]]}],\"surface\":[{\"type\":\"surface\",\"colorbar\":{\"outlinewidth\":0,\"ticks\":\"\"},\"colorscale\":[[0.0,\"#0d0887\"],[0.1111111111111111,\"#46039f\"],[0.2222222222222222,\"#7201a8\"],[0.3333333333333333,\"#9c179e\"],[0.4444444444444444,\"#bd3786\"],[0.5555555555555556,\"#d8576b\"],[0.6666666666666666,\"#ed7953\"],[0.7777777777777778,\"#fb9f3a\"],[0.8888888888888888,\"#fdca26\"],[1.0,\"#f0f921\"]]}],\"mesh3d\":[{\"type\":\"mesh3d\",\"colorbar\":{\"outlinewidth\":0,\"ticks\":\"\"}}],\"scatter\":[{\"fillpattern\":{\"fillmode\":\"overlay\",\"size\":10,\"solidity\":0.2},\"type\":\"scatter\"}],\"parcoords\":[{\"type\":\"parcoords\",\"line\":{\"colorbar\":{\"outlinewidth\":0,\"ticks\":\"\"}}}],\"scatterpolargl\":[{\"type\":\"scatterpolargl\",\"marker\":{\"colorbar\":{\"outlinewidth\":0,\"ticks\":\"\"}}}],\"bar\":[{\"error_x\":{\"color\":\"#2a3f5f\"},\"error_y\":{\"color\":\"#2a3f5f\"},\"marker\":{\"line\":{\"color\":\"#E5ECF6\",\"width\":0.5},\"pattern\":{\"fillmode\":\"overlay\",\"size\":10,\"solidity\":0.2}},\"type\":\"bar\"}],\"scattergeo\":[{\"type\":\"scattergeo\",\"marker\":{\"colorbar\":{\"outlinewidth\":0,\"ticks\":\"\"}}}],\"scatterpolar\":[{\"type\":\"scatterpolar\",\"marker\":{\"colorbar\":{\"outlinewidth\":0,\"ticks\":\"\"}}}],\"histogram\":[{\"marker\":{\"pattern\":{\"fillmode\":\"overlay\",\"size\":10,\"solidity\":0.2}},\"type\":\"histogram\"}],\"scattergl\":[{\"type\":\"scattergl\",\"marker\":{\"colorbar\":{\"outlinewidth\":0,\"ticks\":\"\"}}}],\"scatter3d\":[{\"type\":\"scatter3d\",\"line\":{\"colorbar\":{\"outlinewidth\":0,\"ticks\":\"\"}},\"marker\":{\"colorbar\":{\"outlinewidth\":0,\"ticks\":\"\"}}}],\"scattermapbox\":[{\"type\":\"scattermapbox\",\"marker\":{\"colorbar\":{\"outlinewidth\":0,\"ticks\":\"\"}}}],\"scatterternary\":[{\"type\":\"scatterternary\",\"marker\":{\"colorbar\":{\"outlinewidth\":0,\"ticks\":\"\"}}}],\"scattercarpet\":[{\"type\":\"scattercarpet\",\"marker\":{\"colorbar\":{\"outlinewidth\":0,\"ticks\":\"\"}}}],\"carpet\":[{\"aaxis\":{\"endlinecolor\":\"#2a3f5f\",\"gridcolor\":\"white\",\"linecolor\":\"white\",\"minorgridcolor\":\"white\",\"startlinecolor\":\"#2a3f5f\"},\"baxis\":{\"endlinecolor\":\"#2a3f5f\",\"gridcolor\":\"white\",\"linecolor\":\"white\",\"minorgridcolor\":\"white\",\"startlinecolor\":\"#2a3f5f\"},\"type\":\"carpet\"}],\"table\":[{\"cells\":{\"fill\":{\"color\":\"#EBF0F8\"},\"line\":{\"color\":\"white\"}},\"header\":{\"fill\":{\"color\":\"#C8D4E3\"},\"line\":{\"color\":\"white\"}},\"type\":\"table\"}],\"barpolar\":[{\"marker\":{\"line\":{\"color\":\"#E5ECF6\",\"width\":0.5},\"pattern\":{\"fillmode\":\"overlay\",\"size\":10,\"solidity\":0.2}},\"type\":\"barpolar\"}],\"pie\":[{\"automargin\":true,\"type\":\"pie\"}]},\"layout\":{\"autotypenumbers\":\"strict\",\"colorway\":[\"#636efa\",\"#EF553B\",\"#00cc96\",\"#ab63fa\",\"#FFA15A\",\"#19d3f3\",\"#FF6692\",\"#B6E880\",\"#FF97FF\",\"#FECB52\"],\"font\":{\"color\":\"#2a3f5f\"},\"hovermode\":\"closest\",\"hoverlabel\":{\"align\":\"left\"},\"paper_bgcolor\":\"white\",\"plot_bgcolor\":\"#E5ECF6\",\"polar\":{\"bgcolor\":\"#E5ECF6\",\"angularaxis\":{\"gridcolor\":\"white\",\"linecolor\":\"white\",\"ticks\":\"\"},\"radialaxis\":{\"gridcolor\":\"white\",\"linecolor\":\"white\",\"ticks\":\"\"}},\"ternary\":{\"bgcolor\":\"#E5ECF6\",\"aaxis\":{\"gridcolor\":\"white\",\"linecolor\":\"white\",\"ticks\":\"\"},\"baxis\":{\"gridcolor\":\"white\",\"linecolor\":\"white\",\"ticks\":\"\"},\"caxis\":{\"gridcolor\":\"white\",\"linecolor\":\"white\",\"ticks\":\"\"}},\"coloraxis\":{\"colorbar\":{\"outlinewidth\":0,\"ticks\":\"\"}},\"colorscale\":{\"sequential\":[[0.0,\"#0d0887\"],[0.1111111111111111,\"#46039f\"],[0.2222222222222222,\"#7201a8\"],[0.3333333333333333,\"#9c179e\"],[0.4444444444444444,\"#bd3786\"],[0.5555555555555556,\"#d8576b\"],[0.6666666666666666,\"#ed7953\"],[0.7777777777777778,\"#fb9f3a\"],[0.8888888888888888,\"#fdca26\"],[1.0,\"#f0f921\"]],\"sequentialminus\":[[0.0,\"#0d0887\"],[0.1111111111111111,\"#46039f\"],[0.2222222222222222,\"#7201a8\"],[0.3333333333333333,\"#9c179e\"],[0.4444444444444444,\"#bd3786\"],[0.5555555555555556,\"#d8576b\"],[0.6666666666666666,\"#ed7953\"],[0.7777777777777778,\"#fb9f3a\"],[0.8888888888888888,\"#fdca26\"],[1.0,\"#f0f921\"]],\"diverging\":[[0,\"#8e0152\"],[0.1,\"#c51b7d\"],[0.2,\"#de77ae\"],[0.3,\"#f1b6da\"],[0.4,\"#fde0ef\"],[0.5,\"#f7f7f7\"],[0.6,\"#e6f5d0\"],[0.7,\"#b8e186\"],[0.8,\"#7fbc41\"],[0.9,\"#4d9221\"],[1,\"#276419\"]]},\"xaxis\":{\"gridcolor\":\"white\",\"linecolor\":\"white\",\"ticks\":\"\",\"title\":{\"standoff\":15},\"zerolinecolor\":\"white\",\"automargin\":true,\"zerolinewidth\":2},\"yaxis\":{\"gridcolor\":\"white\",\"linecolor\":\"white\",\"ticks\":\"\",\"title\":{\"standoff\":15},\"zerolinecolor\":\"white\",\"automargin\":true,\"zerolinewidth\":2},\"scene\":{\"xaxis\":{\"backgroundcolor\":\"#E5ECF6\",\"gridcolor\":\"white\",\"linecolor\":\"white\",\"showbackground\":true,\"ticks\":\"\",\"zerolinecolor\":\"white\",\"gridwidth\":2},\"yaxis\":{\"backgroundcolor\":\"#E5ECF6\",\"gridcolor\":\"white\",\"linecolor\":\"white\",\"showbackground\":true,\"ticks\":\"\",\"zerolinecolor\":\"white\",\"gridwidth\":2},\"zaxis\":{\"backgroundcolor\":\"#E5ECF6\",\"gridcolor\":\"white\",\"linecolor\":\"white\",\"showbackground\":true,\"ticks\":\"\",\"zerolinecolor\":\"white\",\"gridwidth\":2}},\"shapedefaults\":{\"line\":{\"color\":\"#2a3f5f\"}},\"annotationdefaults\":{\"arrowcolor\":\"#2a3f5f\",\"arrowhead\":0,\"arrowwidth\":1},\"geo\":{\"bgcolor\":\"white\",\"landcolor\":\"#E5ECF6\",\"subunitcolor\":\"white\",\"showland\":true,\"showlakes\":true,\"lakecolor\":\"white\"},\"title\":{\"x\":0.05},\"mapbox\":{\"style\":\"light\"}}},\"ternary\":{\"domain\":{\"x\":[0.0,1.0],\"y\":[0.0,1.0]},\"aaxis\":{\"title\":{\"text\":\"Category 1\"}},\"baxis\":{\"title\":{\"text\":\"Category 2\"}},\"caxis\":{\"title\":{\"text\":\"Category 3\"}}},\"legend\":{\"tracegroupgap\":0},\"title\":{\"text\":\"Dirichlet Posterior\"}},                        {\"responsive\": true}                    ).then(function(){\n",
       "                            \n",
       "var gd = document.getElementById('85429533-4784-4ea7-9f9f-09433ed8c442');\n",
       "var x = new MutationObserver(function (mutations, observer) {{\n",
       "        var display = window.getComputedStyle(gd).display;\n",
       "        if (!display || display === 'none') {{\n",
       "            console.log([gd, 'removed!']);\n",
       "            Plotly.purge(gd);\n",
       "            observer.disconnect();\n",
       "        }}\n",
       "}});\n",
       "\n",
       "// Listen for the removal of the full notebook cells\n",
       "var notebookContainer = gd.closest('#notebook-container');\n",
       "if (notebookContainer) {{\n",
       "    x.observe(notebookContainer, {childList: true});\n",
       "}}\n",
       "\n",
       "// Listen for the clearing of the current output cell\n",
       "var outputEl = gd.closest('.output');\n",
       "if (outputEl) {{\n",
       "    x.observe(outputEl, {childList: true});\n",
       "}}\n",
       "\n",
       "                        })                };                });            </script>        </div>"
      ]
     },
     "metadata": {},
     "output_type": "display_data"
    }
   ],
   "source": [
    "# Plot Dirichlet prior\n",
    "fig_prior = px.scatter_ternary(df_prior, a=\"Category 1\", b=\"Category 2\", c=\"Category 3\",\n",
    "                                title=\"Dirichlet Prior\",\n",
    "                                opacity=0.5)\n",
    "fig_prior.show()\n",
    "\n",
    "# Plot Dirichlet posterior\n",
    "fig_posterior = px.scatter_ternary(df_posterior, a=\"Category 1\", b=\"Category 2\", c=\"Category 3\",\n",
    "                                   title=\"Dirichlet Posterior\",\n",
    "                                   opacity=0.5)\n",
    "fig_posterior.show()"
   ]
  },
  {
   "cell_type": "code",
   "execution_count": null,
   "id": "ffe77e7a",
   "metadata": {},
   "outputs": [],
   "source": []
  }
 ],
 "metadata": {
  "kernelspec": {
   "display_name": "Python 3 (ipykernel)",
   "language": "python",
   "name": "python3"
  },
  "language_info": {
   "codemirror_mode": {
    "name": "ipython",
    "version": 3
   },
   "file_extension": ".py",
   "mimetype": "text/x-python",
   "name": "python",
   "nbconvert_exporter": "python",
   "pygments_lexer": "ipython3",
   "version": "3.11.6"
  }
 },
 "nbformat": 4,
 "nbformat_minor": 5
}
