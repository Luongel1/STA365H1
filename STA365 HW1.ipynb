{
 "cells": [
  {
   "cell_type": "markdown",
   "id": "c0baf7ae",
   "metadata": {},
   "source": [
    "Author: Elizabeth Luong \n",
    "\n",
    "Date: Jan 15, 2025"
   ]
  },
  {
   "cell_type": "markdown",
   "id": "6f5bb810",
   "metadata": {},
   "source": [
    "Q1: What proportion of students who answer this question quickly will pass the class? Assume the probability of passing the class is 0.9. Assume the probability of answering this question quickly is 0.6 if you'll pass the class, while the probability drops to 0.3 if you'll not pass the class."
   ]
  },
  {
   "cell_type": "markdown",
   "id": "ccaf2d72",
   "metadata": {},
   "source": [
    "A1: Using the formula for Bayes' Theorem, we have:\n",
    "\n",
    "$$\n",
    "P(\\text{pass | quick}) = \\frac{P(\\text{quick | pass}) \\cdot P(\\text{pass})}{P(\\text{quick})}\n",
    "$$\n",
    "\n",
    "Given from the question, we know:\n",
    "- $P(\\text{pass}) = 0.9$\n",
    "- $P(\\text{quick | pass}) = 0.6$  \n",
    "- $P(\\text{quick | fail}) = 0.3$  \n",
    "- $P(\\text{fail}) = 1 - P(\\text{pass}) = 0.1$\n",
    "\n",
    "Using the Law of Total Probability, we calculate $(P(\\text{quick}))$:\n",
    "\n",
    "$$\n",
    "P(\\text{quick}) = P(\\text{quick | pass}) \\cdot P(\\text{pass}) + P(\\text{quick | fail}) \\cdot P(\\text{fail})\n",
    "$$\n",
    "\n",
    "Substituting the values:\n",
    "\n",
    "$$\n",
    "P(\\text{quick}) = (0.6)(0.9) + (0.3)(0.1) = 0.54 + 0.03 = 0.57\n",
    "$$\n",
    "\n",
    "Substituting into Bayes' Theorem:\n",
    "\n",
    "$$\n",
    "P(\\text{pass | quick}) = \\frac{(0.6) \\cdot (0.9)}{0.57} \\approx 0.9474\n",
    "$$\n",
    "\n",
    "The proportion of students who answer the question quickly and pass the class is approximately **94.73%**.\n"
   ]
  },
  {
   "cell_type": "markdown",
   "id": "c2fc0c20",
   "metadata": {},
   "source": [
    "Q2: \n",
    "\\begin{align*}\n",
    "\\text{Likelihood} && p(x|\\theta, n) &={} \\texttt{Multinomial} \\\\\\\\\n",
    "\\text{Prior} && p(\\theta|\\boldsymbol{\\alpha}) &={} \\texttt{Dirichlet} \\\\\\\\\n",
    "\\text{Posterior} && p(\\theta|x, n, \\boldsymbol{\\alpha}) &={} \n",
    "\\overset{\\text{Bayes Theorem}}{\\frac{p(x|\\theta)p(\\theta)}{p(x)}} = \\; \\texttt{What?} \\\\\\\\\n",
    "&&& \\quad\\quad\\quad\\quad\\quad\\; = \\; \\texttt{What distribution?} \\\\\\\\\n",
    "&&& \\quad\\quad\\quad\\quad\\quad\\quad\\;\\;\\, \\texttt{With what parameterization?} \\\\\\\\\n",
    "\\end{align*}\n",
    "\n",
    "### The posterior is always proportional to the joint\n",
    "\n",
    "$$\\large p(\\theta|x) = (1/c)\\times p(\\theta, x) \\propto{} p(\\theta, x)$$\n",
    "\n",
    "**and the posterior is always a proper distribution if the prior is.**\n"
   ]
  },
  {
   "cell_type": "markdown",
   "id": "edace153",
   "metadata": {},
   "source": [
    "A2:  \n",
    "\\begin{align*}\n",
    "\\text{Likelihood} && p(\\mathbf{x}|\\boldsymbol{\\theta}, n) &={} \\frac{n!}{x_1! x_2! \\cdots x_k!} \\prod_{i=1}^k \\theta_i^{x_i} \\quad \\text{(Multinomial)} \\\\\\\\\n",
    "\\text{Prior} && p(\\boldsymbol{\\theta}|\\boldsymbol{\\alpha}) &={} \\frac{\\Gamma\\left(\\sum_{i=1}^k \\alpha_i\\right)}{\\prod_{i=1}^k \\Gamma(\\alpha_i)} \\prod_{i=1}^k \\theta_i^{\\alpha_i - 1} \\quad \\text{(Dirichlet)} \\\\\\\\\n",
    "\\text{Posterior} && p(\\boldsymbol{\\theta}|\\mathbf{x}, n, \\boldsymbol{\\alpha}) &={} \n",
    "\\overset{\\text{Bayes Theorem}}{\\frac{p(\\mathbf{x}|\\boldsymbol{\\theta})p(\\boldsymbol{\\theta})}{p(\\mathbf{x})}} \\\\\\\\\n",
    "&&& \\quad\\quad = \\prod_{i=1}^k \\theta_i^{x_i} \\cdot \\prod_{i=1}^k \\theta_i^{\\alpha_i - 1} \\quad \\text{(Plug in Likelihood and Prior)} \\\\\\\\\n",
    "&&& \\quad\\quad = \\prod_{i=1}^k \\theta_i^{x_i + \\alpha_i - 1} \\quad \\text{(Combine Exponents)} \\\\\\\\\n",
    "&&& \\quad\\quad\\quad\\quad\\quad\\; = \\; \\text{Dirichlet Distribution} \\\\\\\\\n",
    "&&& \\quad\\quad\\quad\\quad\\quad\\quad\\;\\;\\, \\text{With parameterization:} \\; \\boldsymbol{\\alpha}^* = (\\alpha_1 + x_1, \\alpha_2 + x_2, \\ldots, \\alpha_k + x_k) \\\\\\\\\n",
    "\\end{align*}\n",
    "\n",
    "The posterior is always proportional to the joint\n",
    "\n",
    "$$ p(\\boldsymbol{\\theta}|\\mathbf{x}) = (1/c)\\times p(\\boldsymbol{\\theta}, \\mathbf{x}) \\propto{} p(\\boldsymbol{\\theta}, \\mathbf{x})$$\n",
    "\n",
    "and the posterior is always a proper distribution if the prior is. \n"
   ]
  },
  {
   "cell_type": "markdown",
   "id": "8e22af70",
   "metadata": {},
   "source": [
    "Q3: Create a sample from a three category multinomial distribution and visualize the multinomial distribution and the multinomial sample; then, visualize the simplex Dirichlet distribution of the prior and the posterior using a ternary plot.\n"
   ]
  },
  {
   "cell_type": "code",
   "execution_count": 3,
   "id": "1507d5e0",
   "metadata": {},
   "outputs": [
    {
     "name": "stdout",
     "output_type": "stream",
     "text": [
      "Requirement already satisfied: plotly in /opt/conda/lib/python3.11/site-packages (5.22.0)\r\n",
      "Requirement already satisfied: tenacity>=6.2.0 in /opt/conda/lib/python3.11/site-packages (from plotly) (8.5.0)\r\n",
      "Requirement already satisfied: packaging in /opt/conda/lib/python3.11/site-packages (from plotly) (23.2)\r\n"
     ]
    }
   ],
   "source": [
    "!pip install plotly"
   ]
  },
  {
   "cell_type": "code",
   "execution_count": 4,
   "id": "1a1abbb3",
   "metadata": {},
   "outputs": [],
   "source": [
    "import numpy as np\n",
    "import plotly.express as px\n",
    "import matplotlib.pyplot as plt\n",
    "from scipy.stats import multinomial, dirichlet"
   ]
  },
  {
   "cell_type": "code",
   "execution_count": 7,
   "id": "f5d9978c",
   "metadata": {},
   "outputs": [
    {
     "name": "stdout",
     "output_type": "stream",
     "text": [
      "Multinomial Sample: [54 25 21]\n"
     ]
    }
   ],
   "source": [
    "# Multinomial parameters\n",
    "theta = [0.5, 0.3, 0.2]\n",
    "n_trials = 100\n",
    "\n",
    "# Generate a single multinomial sample\n",
    "sample = multinomial.rvs(n_trials, theta, size=1)[0]\n",
    "print(\"Multinomial Sample:\", sample)"
   ]
  },
  {
   "cell_type": "code",
   "execution_count": 8,
   "id": "e1a23be5",
   "metadata": {},
   "outputs": [
    {
     "data": {
      "image/png": "[encoded data removed]",
      "text/plain": [
       "<Figure size 640x480 with 1 Axes>"
      ]
     },
     "metadata": {},
     "output_type": "display_data"
    },
    {
     "data": {
      "image/png": "[encoded data removed]",
      "text/plain": [
       "<Figure size 640x480 with 1 Axes>"
      ]
     },
     "metadata": {},
     "output_type": "display_data"
    }
   ],
   "source": [
    "# Visualize multinomial probabilities\n",
    "categories = [\"Category 1\", \"Category 2\", \"Category 3\"]\n",
    "plt.bar(categories, theta, color='skyblue', alpha=0.8)\n",
    "plt.title(\"Multinomial Distribution (Probabilities)\")\n",
    "plt.ylabel(\"Probability\")\n",
    "plt.show()\n",
    "\n",
    "# Visualize multinomial sample\n",
    "plt.bar(categories, sample, color='orange', alpha=0.8)\n",
    "plt.title(\"Multinomial Sample\")\n",
    "plt.ylabel(\"Counts\")\n",
    "plt.show()"
   ]
  },
  {
   "cell_type": "code",
   "execution_count": 9,
   "id": "dde008e1",
   "metadata": {},
   "outputs": [],
   "source": [
    "# Dirichlet parameters\n",
    "alpha_prior = np.array([2, 2, 2])\n",
    "alpha_posterior = alpha_prior + sample\n",
    "\n",
    "# Generate samples for prior and posterior\n",
    "prior_samples = dirichlet.rvs(alpha_prior, size=500)\n",
    "posterior_samples = dirichlet.rvs(alpha_posterior, size=500)\n",
    "\n",
    "# Create DataFrames for plotly\n",
    "import pandas as pd\n",
    "df_prior = pd.DataFrame(prior_samples, columns=[\"Category 1\", \"Category 2\", \"Category 3\"])\n",
    "df_posterior = pd.DataFrame(posterior_samples, columns=[\"Category 1\", \"Category 2\", \"Category 3\"])"
   ]
  },
  {
   "cell_type": "code",
   "execution_count": 10,
   "id": "3a245508",
   "metadata": {},
   "outputs": [
    {
     "data": {
      "application/vnd.plotly.v1+json": {
       "config": {
        "plotlyServerURL": "https://plot.ly"
       },
       "data": [
        {
         "a": [
          0.4144220503382155,
          0.36713220398460983,
          0.5133526628012927,
          0.2143278169059631,
          0.49145904707182286,
          0.5873084096733684,
          0.28554696178586675,
          0.5678566156143705,
          0.32145541566212915,
          0.4009956925884915,
          0.3535562961964714,
          0.47891958071659235,
          0.16170831873893843,
          0.7063374890679281,
          0.21658589394806568,
          0.3910188134144892,
          0.3387762861293593,
          0.10063772075281842,
          0.39570934564767285,
          0.31720909080119714,
          0.34990609906151415,
          0.34651394446587114,
          0.10877495478823618,
          0.5426210767207457,
          0.24992730494578286,
          0.5064206821920861,
          0.15251421280146688,
          0.19881712133133708,
          0.3051224321631344,
          0.21271263233139331,
          0.08475312413716209,
          0.21086871314996689,
          0.4810675534331262,
          0.37068941827294644,
          0.328900088015048,
          0.5172869967592639,
          0.44553300022341363,
          0.2590145995384646,
          0.1769191405796823,
          0.442889831143721,
          0.21367816560335753,
          0.5725409859947712,
          0.22972150607436087,
          0.2446549029293071,
          0.26317764801842586,
          0.24665153542722118,
          0.6256818703649484,
          0.34994801051937585,
          0.5493941732550476,
          0.2871022949624806,
          0.33339220547784204,
          0.525738752623564,
          0.023559792282067806,
          0.371541149135142,
          0.3092974535450519,
          0.2911310114321639,
          0.2372583332089489,
          0.39955517535902224,
          0.4222904097175754,
          0.3389595727134471,
          0.7382462579874199,
          0.1254451113136654,
          0.08810067186759198,
          0.3591223686035583,
          0.21943537356550022,
          0.2673038378246801,
          0.5854487248041482,
          0.23017850278953386,
          0.12791713980586927,
          0.21049475992484515,
          0.4432693016513223,
          0.30389619038960886,
          0.3874347186569284,
          0.40513811212964507,
          0.6979219392776576,
          0.353278460531426,
          0.37122475391450155,
          0.5979524430344156,
          0.09352552015531003,
          0.2672616934932963,
          0.23284664361821905,
          0.4802930711387041,
          0.5104058064193082,
          0.5179195480444017,
          0.5060473067284529,
          0.530051071237126,
          0.46887766800704134,
          0.39813381345520915,
          0.2837812789342559,
          0.08772352268182801,
          0.4956563653415097,
          0.16249018702621965,
          0.27926560862573163,
          0.610724241638204,
          0.22144711577995935,
          0.5763203757942783,
          0.4777162048598668,
          0.4774203097947672,
          0.5277235024630537,
          0.1542305039036608,
          0.4721360694125208,
          0.23785375586588958,
          0.5462387253328621,
          0.6587828503929462,
          0.3507718431363829,
          0.38670379970198876,
          0.38081870367239434,
          0.006866109795546222,
          0.5063948310422254,
          0.3631875634962363,
          0.2849760301630174,
          0.11260093960297535,
          0.20990684733657933,
          0.4011741525390107,
          0.18017706487735274,
          0.5119609925785971,
          0.5736258099728172,
          0.5158918790362566,
          0.36467870198564023,
          0.3135503674224147,
          0.35218482903729803,
          0.2764286885684879,
          0.5855672535928006,
          0.303652709364964,
          0.33634824105719674,
          0.4597404339895761,
          0.25276783427647703,
          0.2876850371365418,
          0.28567724458252214,
          0.3598366232699715,
          0.46569203888193816,
          0.05735702387198835,
          0.13138527301108635,
          0.6913403755882312,
          0.11483872468347077,
          0.2228009115746899,
          0.03459616321080623,
          0.544407564881738,
          0.17670575867059835,
          0.1976520660663608,
          0.533666069910402,
          0.5585394114290569,
          0.6209070985037252,
          0.2792002783366074,
          0.3978145013368399,
          0.0970378237266507,
          0.40816595212641127,
          0.6305712154173292,
          0.6711212520749401,
          0.13444951526171728,
          0.08650069062152946,
          0.15690009971034244,
          0.43434313137498703,
          0.5968264658792034,
          0.586959178048536,
          0.2667623846833207,
          0.36950865229135826,
          0.08792265643971504,
          0.4115704376970317,
          0.3416549089253715,
          0.27481675090560065,
          0.4797862160080859,
          0.6415712677739593,
          0.4223291233313458,
          0.7692230737889492,
          0.3262493920826301,
          0.1453981204423627,
          0.19926574197041905,
          0.21843001817440777,
          0.5967224625393597,
          0.02945289956654019,
          0.4314931808819601,
          0.30257685726363887,
          0.7130569445238303,
          0.5778982089065319,
          0.394578177275218,
          0.17546300216398017,
          0.06856633385777197,
          0.13323301649230718,
          0.17531366730113085,
          0.318086848573521,
          0.15673210326731046,
          0.21651860411401624,
          0.26152334720546266,
          0.21643208962116764,
          0.2768637403598931,
          0.5548237716125985,
          0.7988762723701909,
          0.2911455160767934,
          0.21805645503707835,
          0.32619238056963956,
          0.27799000603595225,
          0.7076035270904437,
          0.12358403189621006,
          0.270488024318399,
          0.3136273880636729,
          0.46391307853871255,
          0.14027377913250835,
          0.4321229355184519,
          0.4932954701958277,
          0.47978141485445974,
          0.3214205591434527,
          0.6874695025286257,
          0.5950422587049697,
          0.3912295708175077,
          0.4256197229640977,
          0.7363850067077393,
          0.796591645615786,
          0.3160669740460226,
          0.35346793754139055,
          0.37034473431361375,
          0.24304390417544697,
          0.37018881998040887,
          0.31426930222916794,
          0.17523946694052478,
          0.11594066697781663,
          0.0269831315213753,
          0.33487639740847036,
          0.500424694245238,
          0.12390614643131928,
          0.22685319127162892,
          0.49513381089614195,
          0.1959795243385995,
          0.4704827642605135,
          0.23009145030455594,
          0.4110719301946986,
          0.30175932987270737,
          0.5477802298570424,
          0.43335106826736747,
          0.1672280604191604,
          0.5444881243829541,
          0.5266993852383839,
          0.688015785762909,
          0.2927220366640777,
          0.2849303372990046,
          0.3175948657248682,
          0.22212606164344073,
          0.09533482671986408,
          0.3484799008528102,
          0.6273728745124406,
          0.24436495454445314,
          0.47274135805896633,
          0.21196934633494535,
          0.5552855585017651,
          0.3318897121202911,
          0.3961361722003096,
          0.12442260423144333,
          0.32643668541868526,
          0.4361495669823342,
          0.5049599554617206,
          0.2420335986286376,
          0.0704682557805196,
          0.1001024680398111,
          0.30552322131144527,
          0.25496012292985987,
          0.1480522286495886,
          0.6584302890322207,
          0.34156516124125175,
          0.519646135430542,
          0.31858660697589447,
          0.3976027507555772,
          0.677599733408445,
          0.36929829332556874,
          0.20020633338898108,
          0.3685386158515693,
          0.06092761059624977,
          0.23601652092704972,
          0.2791472773409888,
          0.35436656368428626,
          0.5145920847711597,
          0.7310792116012976,
          0.6488631944237502,
          0.22402658756669291,
          0.15765010920287673,
          0.22928170078027216,
          0.4416107812260979,
          0.6384052460803803,
          0.5175114418846939,
          0.4608248820739434,
          0.024865420792764537,
          0.6141525652422765,
          0.10513336381476689,
          0.6564673509356134,
          0.031948264498674675,
          0.16644730416003387,
          0.17165424807093668,
          0.17554519517212017,
          0.10038033683674259,
          0.17504313955859419,
          0.4195942290322802,
          0.2737280830250859,
          0.23574287228492177,
          0.05500571856347744,
          0.15829705595482857,
          0.4174054134827296,
          0.2641715483445213,
          0.5873367673061145,
          0.40817662433261853,
          0.24827256969656622,
          0.7887978290132904,
          0.5124609506920251,
          0.1916589277251065,
          0.3342642108635071,
          0.2466472804774481,
          0.45531296522017006,
          0.5868424155852194,
          0.3576415820310428,
          0.28793527351118525,
          0.5524261057122754,
          0.5166729467101383,
          0.21492142951850374,
          0.08759932762340895,
          0.2429409864613127,
          0.23481569612085515,
          0.23267254558815736,
          0.44665547772810726,
          0.2588910063096783,
          0.3217437003841762,
          0.0947284466071899,
          0.24857139247044632,
          0.41395525401191713,
          0.5280778936575321,
          0.3370285308302336,
          0.4337750005280109,
          0.4460611347855782,
          0.21331540095483428,
          0.36711639033657606,
          0.1582790442707857,
          0.28611369152899696,
          0.08981564302895431,
          0.6371566098343514,
          0.35848699586248495,
          0.22673221742980149,
          0.6780275781250807,
          0.4207170140120055,
          0.2267410934043064,
          0.4915029879707697,
          0.3567141548556247,
          0.4819844863692154,
          0.05047386421856166,
          0.32596847078591185,
          0.3401344468676028,
          0.16623875096477891,
          0.5832652873064156,
          0.28917685503434065,
          0.18254854537557239,
          0.3593425125636159,
          0.6472256633828753,
          0.1544074815482208,
          0.2805548959586863,
          0.289984851165876,
          0.45667107404764834,
          0.28649010641045436,
          0.09362163331345295,
          0.6788167985207338,
          0.46336455524949155,
          0.6780179015648448,
          0.06076593729566801,
          0.4880913681009126,
          0.19461973591715898,
          0.4027873453655677,
          0.4261985446058262,
          0.7232313965220583,
          0.3300126362688927,
          0.4386748399985165,
          0.4890229322388909,
          0.1168438844358724,
          0.5350473859977195,
          0.23467299039127315,
          0.12634697884490942,
          0.07816807489079815,
          0.38380099701848913,
          0.04871726581011163,
          0.3234153100853774,
          0.7472671839475326,
          0.2535828114018445,
          0.21593348968131512,
          0.5387993643382286,
          0.5935997045781332,
          0.29298510523675614,
          0.4817922574118711,
          0.37853138655015744,
          0.2362168659486631,
          0.07131296206972937,
          0.27871007626271055,
          0.24282457350571449,
          0.14872179907403163,
          0.24471343360700368,
          0.3450376444948248,
          0.35464096739249734,
          0.2084776734270799,
          0.14606082300271014,
          0.24585711180748926,
          0.28030045168773576,
          0.4557082355199049,
          0.07157036160837323,
          0.38475821074508926,
          0.5519066636600778,
          0.4494661074181856,
          0.6798593361927765,
          0.3919162918298816,
          0.1554810141048842,
          0.052651199490370205,
          0.46304533085563115,
          0.43982396271921226,
          0.5162050028080067,
          0.7554062472356643,
          0.6563067957810008,
          0.3818128185541173,
          0.3006874367043195,
          0.5480278766003444,
          0.5699248003183255,
          0.3924656894050434,
          0.10546594103128777,
          0.3189891585882509,
          0.19528044614015616,
          0.6025298996149281,
          0.31513732103256525,
          0.3603650877423148,
          0.30644113212967533,
          0.09408677385396112,
          0.2661335284045498,
          0.5329770957919717,
          0.39897614698395273,
          0.5102687235526163,
          0.4197424264170398,
          0.3745803638891848,
          0.5127322993572448,
          0.5945639977966701,
          0.4132022607515813,
          0.5854177714888206,
          0.14501858946821808,
          0.10694998984251151,
          0.0625797717552157,
          0.13917164084442157,
          0.32056198108328393,
          0.33252348171974255,
          0.1958916105297327,
          0.19277352349924898,
          0.5238671513968695,
          0.277975470813198,
          0.043310950722240414,
          0.09155315837060787,
          0.5518977426533619,
          0.11499118846541204,
          0.439810287243934,
          0.73876559021087,
          0.4014373656817979,
          0.4405297155118346,
          0.39706247181302223,
          0.32757060674994776,
          0.43722383721658387,
          0.6695664020638189,
          0.5386841303065584,
          0.1523284401459452,
          0.12311941166614083,
          0.33882375679664145,
          0.15776543479192712,
          0.1657319312571873,
          0.21868649111673347,
          0.056349907092229416,
          0.42354038113498466,
          0.40421717057068707,
          0.5039448948564941,
          0.4821223243538104,
          0.47870785833615076,
          0.024768902088934855,
          0.13257882020810513,
          0.31388261978467763,
          0.3272300831933493,
          0.16474902079650453,
          0.6977714694699194,
          0.6403800884718547,
          0.2310747813423169,
          0.2821883976358956,
          0.2560820951491552,
          0.11254566811417473,
          0.4072899770287564,
          0.3837071059614861,
          0.30816435176667645,
          0.2999328428696848,
          0.5124008481306424,
          0.1449249988722818,
          0.28522281630272306,
          0.4868248781252235,
          0.37735891091372253,
          0.1904185229211006,
          0.16612563123836474,
          0.6626579566143705,
          0.3488438526081994,
          0.45755859118640674,
          0.27982174028916335,
          0.16784947637675954,
          0.7431260258289375,
          0.2810920004248788,
          0.2918935319662873,
          0.11980324418198333,
          0.46453401242774983,
          0.2514371362569171,
          0.4863879678252445
         ],
         "b": [
          0.2788519358184994,
          0.40263567976828296,
          0.16691506972905537,
          0.3751760006730286,
          0.44978916092559984,
          0.31131751108477523,
          0.14146259792469346,
          0.16326934400547538,
          0.3678095663876653,
          0.2239729191078616,
          0.42629432895825087,
          0.09041582181214108,
          0.253649888936514,
          0.1790339657414276,
          0.5939621696550582,
          0.240587790915418,
          0.08697058388581744,
          0.3866238057537043,
          0.4359649709471691,
          0.3265896035855657,
          0.31778115850704813,
          0.29945789586939797,
          0.3904784713340335,
          0.12805705207215373,
          0.3435836157645591,
          0.21969229316281438,
          0.6176336232281651,
          0.418667998766314,
          0.3720860143875956,
          0.09728507916314136,
          0.20529630436156068,
          0.037635326300801755,
          0.40113299523227214,
          0.3125555932144293,
          0.49304966981992615,
          0.20514355038783472,
          0.12061937935745518,
          0.12426836521783247,
          0.38819544197713823,
          0.16002704610152346,
          0.6525516136946321,
          0.2691599333698519,
          0.6110600009611292,
          0.3671722733315911,
          0.388104012997668,
          0.4742705303503574,
          0.31409738513470287,
          0.30813463166362925,
          0.17761705011263476,
          0.473574993414791,
          0.20697389333797075,
          0.14831137696802532,
          0.22242744176967166,
          0.48226704771501916,
          0.432306765691341,
          0.08278246906876859,
          0.5038939569837292,
          0.36829656689787094,
          0.4535744763029336,
          0.4477854310909461,
          0.16973355956991013,
          0.17835258963905207,
          0.476449322320252,
          0.368231727434867,
          0.28652784044796886,
          0.18690738991500508,
          0.1682247683636342,
          0.29778740934745457,
          0.7635127451974242,
          0.12226285915191973,
          0.07284605598286417,
          0.14769838512746045,
          0.4312054795225173,
          0.4044178270000989,
          0.23324405597529707,
          0.07525207720830822,
          0.5355862594506902,
          0.22644382399202814,
          0.8316062356987284,
          0.4747804100249727,
          0.5763554818738268,
          0.23750799878738182,
          0.18875409125554773,
          0.12997237418537777,
          0.37932080907756427,
          0.15805192603278787,
          0.19434796824972295,
          0.09009075102539958,
          0.2281213213586498,
          0.420741145138742,
          0.2784102310499824,
          0.5066778151508137,
          0.43992641630239043,
          0.01742142590295913,
          0.5068227769870255,
          0.04474019397672893,
          0.08773307546582389,
          0.15367563957611988,
          0.3232786362964491,
          0.3715353773030573,
          0.15042289189793775,
          0.5376688388195607,
          0.1900045246293309,
          0.2331339839875989,
          0.28077022215511005,
          0.338218152320394,
          0.2033034938157168,
          0.3044945019802794,
          0.21842623197347838,
          0.33717365995844617,
          0.512154279962469,
          0.7128419066275805,
          0.3864044379738611,
          0.5025764819307731,
          0.26756913083278033,
          0.3494750073425056,
          0.19941867489053325,
          0.1263975901558123,
          0.25098446584673234,
          0.12703311579183374,
          0.3541623686058202,
          0.5131363639078506,
          0.27295619831718276,
          0.41638537262173675,
          0.40285051464988136,
          0.36395558013641455,
          0.6359194386229107,
          0.3345479099030554,
          0.295656375046741,
          0.3228573844022273,
          0.17430228338054266,
          0.2176498446179722,
          0.7263730722792008,
          0.2521866091229896,
          0.5151056652546236,
          0.40582458069775795,
          0.6587214334321998,
          0.2564816677735423,
          0.42552971031025194,
          0.39592854023047797,
          0.10209327122118768,
          0.28158302612281,
          0.04510042502653942,
          0.065852947489096,
          0.3176937218685241,
          0.21403265855717443,
          0.1828909478930342,
          0.21332228085147406,
          0.1999388063131806,
          0.5021072748785416,
          0.1371825670662172,
          0.3846411994865019,
          0.22792298280739717,
          0.3110437977940428,
          0.23499009147086053,
          0.446349179759966,
          0.4262330572994358,
          0.38421503614073477,
          0.37393719690306726,
          0.45426108948884353,
          0.453500105457523,
          0.21810145376649928,
          0.20530160639604028,
          0.37373959852567706,
          0.15412819671014846,
          0.22919391658083796,
          0.12206677166787404,
          0.26898157211725526,
          0.43052614981861004,
          0.2347074825281743,
          0.5464727449942981,
          0.032576836266934174,
          0.1961045956389606,
          0.08411130105481976,
          0.3142025366647752,
          0.10939003217930567,
          0.7778073910197647,
          0.21221109629596546,
          0.6488199471032274,
          0.6977906495610171,
          0.23218925101379181,
          0.17495620581103385,
          0.36692722620885987,
          0.331319820826513,
          0.4864533808912317,
          0.1948963394109188,
          0.3868795723640925,
          0.10268708294242493,
          0.19848848588667065,
          0.24776081710406272,
          0.5533235074548785,
          0.13481633879523572,
          0.17783191633110199,
          0.25764336516495817,
          0.1439839669368853,
          0.16300714350207107,
          0.42057065726168086,
          0.49856571936721594,
          0.04337572814918485,
          0.20763065477046164,
          0.22286559798606448,
          0.3647802289835451,
          0.16170430735733562,
          0.34930371201415156,
          0.41121513845235574,
          0.21417741641200913,
          0.10998852221860833,
          0.14618118060893104,
          0.054947489364783116,
          0.43751921508034136,
          0.22840132087341325,
          0.3241635184763993,
          0.28242821275843505,
          0.2124039030468247,
          0.3653987397644554,
          0.20578556587641453,
          0.27543954435295653,
          0.10349120615158822,
          0.3301421222950494,
          0.47365000441007155,
          0.4561879947851349,
          0.19655010292357236,
          0.40728030419084055,
          0.36556190312450526,
          0.2781067686071175,
          0.05448968501935579,
          0.35527873180114744,
          0.055513095025627845,
          0.16995862339163922,
          0.6571486967204897,
          0.16410205904201153,
          0.26441895283022104,
          0.22829206646795497,
          0.2161365563632312,
          0.12479209254364294,
          0.12677751911297658,
          0.6942648339156341,
          0.7704017507983241,
          0.5640627322598903,
          0.29354452383117857,
          0.08383189284332106,
          0.4206490140876285,
          0.349157988273143,
          0.11158747675252544,
          0.45107960668455105,
          0.5025591959199113,
          0.3598779718096837,
          0.19789592787512664,
          0.34695583628201604,
          0.2760058329340193,
          0.3799091287437708,
          0.7553844698708155,
          0.7531688284614012,
          0.5307077829018387,
          0.28591736753237357,
          0.3745771004473015,
          0.2164125621000635,
          0.3207073291417284,
          0.28150216812407514,
          0.42469117635728837,
          0.548911555820974,
          0.22482506942413769,
          0.30516446027986577,
          0.3189808807356415,
          0.33549414341403794,
          0.5603226094582603,
          0.3212218346571133,
          0.26892227833495713,
          0.3705945679108483,
          0.10773728268982925,
          0.17088795244956337,
          0.3199338628168329,
          0.3488885604515593,
          0.11696458192791184,
          0.48160891312690635,
          0.33128841634440187,
          0.12957925341439078,
          0.1910446803060346,
          0.08132758302856664,
          0.27961941473860497,
          0.09433143984551974,
          0.490968732391314,
          0.0839858328546963,
          0.4970767759428959,
          0.4905450423561072,
          0.37964587194315846,
          0.6152091506520482,
          0.37548472219252294,
          0.7309394225911875,
          0.03668539668669669,
          0.5324707916090583,
          0.19645106674446597,
          0.7348351588203623,
          0.37035023904895936,
          0.5667978711278617,
          0.14961098363073494,
          0.29620269269698957,
          0.1678547829685687,
          0.3300431262935638,
          0.1449070056706403,
          0.4302380549486728,
          0.1017612221474504,
          0.48377395280049185,
          0.25226498308709966,
          0.10581918723116401,
          0.35663593241243724,
          0.3875465577664306,
          0.1508415673025522,
          0.18329179787192368,
          0.3141815993319152,
          0.5989917342910553,
          0.3227728038959953,
          0.648238683057228,
          0.17463677185288068,
          0.11600384611377175,
          0.12079233103660882,
          0.2510528189406248,
          0.40457414922342777,
          0.3870409405971226,
          0.5271819779592642,
          0.4619528032110486,
          0.13568253639127975,
          0.4277561308084423,
          0.1509666000672502,
          0.38669437299490483,
          0.20268194230267034,
          0.4562616899010009,
          0.420135708081559,
          0.13245942826561397,
          0.5820352867165606,
          0.10584133331145393,
          0.32080016109961673,
          0.18424117145951013,
          0.1012281078719092,
          0.12333423609436331,
          0.3202484987393682,
          0.35232757451125635,
          0.27474216950582697,
          0.025542910021863364,
          0.44798166919200383,
          0.1589071763612648,
          0.1800261478785721,
          0.5563133049541839,
          0.10727042588824137,
          0.5296183352837974,
          0.20283274124882017,
          0.45631322766518223,
          0.18945820695028887,
          0.21302610780568776,
          0.052901120841774514,
          0.14345892844681343,
          0.13265178037375783,
          0.18182778423513787,
          0.46799309230627517,
          0.2644096376531858,
          0.20499404599204346,
          0.2550549219643446,
          0.7336544746760959,
          0.31182598491991076,
          0.541822336950423,
          0.3277192007760681,
          0.26102707612186293,
          0.1191346140054282,
          0.5604493756079487,
          0.24105163887968226,
          0.2195463891402734,
          0.7309896299366135,
          0.2588852780347066,
          0.2897415631171638,
          0.4513452130123352,
          0.39739985680199136,
          0.2517936052399328,
          0.4693401590672862,
          0.4346321982267275,
          0.07249284418198311,
          0.3248667196256546,
          0.2870723384074596,
          0.29940499223174794,
          0.12370284848970618,
          0.35998657800431105,
          0.198255841221723,
          0.3549084746308476,
          0.38625446541987185,
          0.2933643201501066,
          0.3219449779687938,
          0.4504017592541583,
          0.5580755867941437,
          0.036862478624599716,
          0.4862238679724199,
          0.26867388441325196,
          0.13593142801143288,
          0.0916156691783136,
          0.5354648899369854,
          0.2590053773182985,
          0.06986659182953928,
          0.8394830123781036,
          0.13046546241842577,
          0.25491657263126777,
          0.3295094014395031,
          0.2060014460643066,
          0.3136262470014457,
          0.22193036275438072,
          0.4897136789437033,
          0.25575670101504927,
          0.254970222911561,
          0.26947944409481156,
          0.06179420889228807,
          0.3028290557142402,
          0.27315119652331565,
          0.311781354504293,
          0.3174339143947251,
          0.4091264402432888,
          0.03865649829426828,
          0.7036506403426686,
          0.46076938416733565,
          0.6275069090753806,
          0.3321094609920449,
          0.13555377183294823,
          0.0732192555678947,
          0.3830254706660505,
          0.3924529870395254,
          0.4400548433313565,
          0.0978353577928653,
          0.2366490237035247,
          0.08455608735940058,
          0.3350217955423542,
          0.41248247190243925,
          0.3368341430228704,
          0.1688022145129333,
          0.250079150671072,
          0.23292537005670583,
          0.6255749770907117,
          0.44620756377456633,
          0.660773525747754,
          0.4657642472623159,
          0.2526366633941373,
          0.4022792572149799,
          0.6677026063096766,
          0.13589732614804714,
          0.41949646111235944,
          0.6018966616110802,
          0.5038921706866258,
          0.35720842411483805,
          0.3124831178753751,
          0.7891916937286347,
          0.15943555336923976,
          0.1971710206127931,
          0.1467049639354516,
          0.35268157337662415,
          0.5306203161132501,
          0.20389490819898437,
          0.3288418915558303,
          0.04304664912312969,
          0.3284118341023371,
          0.8129554997569142,
          0.11364680129141538,
          0.5497894221129326,
          0.6003036401902108,
          0.6127456406015405,
          0.7044471881689737,
          0.6829923021481944,
          0.34762795991244605,
          0.20916210759650994,
          0.3988821695258059,
          0.3282399368901505,
          0.2674772528266998,
          0.512699886755901,
          0.2804532575744435,
          0.4197252419294968,
          0.09770423023240053,
          0.5149205583533921,
          0.05952098868618028,
          0.18780343517776427,
          0.35807643311755794,
          0.21790091919237553,
          0.448782820816285,
          0.24117190155427323,
          0.15491785204643388,
          0.2859917353552296,
          0.09957294024549516,
          0.17234731395546127,
          0.4268245428285185,
          0.5932227545350105,
          0.16916736682380706,
          0.43069303358737765,
          0.16258103396174897,
          0.732126719737376,
          0.7015159027419192,
          0.20108037203736734,
          0.26456566766574147,
          0.13813207924170304,
          0.05071489429451234,
          0.21754746375590533,
          0.1698696557633245,
          0.5654250438836778,
          0.39580646193689656,
          0.5172228466709905,
          0.12359003912505162,
          0.5376388512676081,
          0.19636037602114753
         ],
         "c": [
          0.3067260138432852,
          0.23023211624710724,
          0.31973226746965205,
          0.4104961824210085,
          0.058751792002577415,
          0.10137407924185643,
          0.5729904402894399,
          0.2688740403801541,
          0.31073501795020547,
          0.37503138830364696,
          0.22014937484527777,
          0.43066459747126673,
          0.5846417923245475,
          0.11462854519064439,
          0.18945193639687608,
          0.3683933956700928,
          0.5742531299848234,
          0.5127384734934773,
          0.16832568340515802,
          0.3562013056132371,
          0.3323127424314377,
          0.35402815966473095,
          0.5007465738777301,
          0.32932187120710044,
          0.40648907928965805,
          0.2738870246450994,
          0.22985216397036806,
          0.3825148799023489,
          0.32279155344927013,
          0.6900022885054652,
          0.7099505715012773,
          0.7514959605492314,
          0.11779945133460172,
          0.3167549885126243,
          0.17805024216502602,
          0.27756945285290135,
          0.43384762041913105,
          0.6167170352437029,
          0.4348854174431793,
          0.3970831227547556,
          0.13377022070201045,
          0.15829908063537698,
          0.15921849296451,
          0.38817282373910195,
          0.34871833898390614,
          0.2790779342224214,
          0.06022074450034878,
          0.34191735781699484,
          0.2729887766323175,
          0.23932271162272845,
          0.45963390118418723,
          0.32594987040841067,
          0.7540127659482605,
          0.1461918031498387,
          0.258395780763607,
          0.6260865194990675,
          0.25884770980732197,
          0.23214825774310688,
          0.12413511397949087,
          0.21325499619560667,
          0.09202018244266996,
          0.6962022990472826,
          0.4354500058121559,
          0.2726459039615748,
          0.4940367859865309,
          0.545788772260315,
          0.2463265068322176,
          0.47203408786301165,
          0.10857011499670642,
          0.6672423809232351,
          0.4838846423658135,
          0.5484054244829307,
          0.1813598018205544,
          0.19044406087025623,
          0.0688340047470455,
          0.5714694622602658,
          0.09318898663480837,
          0.17560373297355622,
          0.07486824414596153,
          0.2579578964817312,
          0.1907978745079541,
          0.28219893007391406,
          0.30084010232514397,
          0.3521080777702207,
          0.11463188419398294,
          0.311897002730086,
          0.3367743637432356,
          0.5117754355193912,
          0.48809739970709426,
          0.4915353321794298,
          0.22593340360850772,
          0.33083199782296674,
          0.2808079750718778,
          0.3718543324588368,
          0.27173010723301533,
          0.3789394302289927,
          0.4345507196743093,
          0.36890405062911313,
          0.1489978612404972,
          0.47423411879328187,
          0.37744103868954143,
          0.2244774053145496,
          0.26375675003780685,
          0.10808316561945491,
          0.36845793470850696,
          0.27507804797761715,
          0.415877802511889,
          0.6886393882241744,
          0.27517893698429635,
          0.29963877654531756,
          0.20286968987451345,
          0.17455715376944417,
          0.40368871468955947,
          0.09624936553021618,
          0.552253804289867,
          0.13856400007889744,
          0.22695551513664944,
          0.35771053080793114,
          0.38433683216762743,
          0.5594165167857515,
          0.2936528023568818,
          0.2104349475236615,
          0.1414765480900166,
          0.27996191801329906,
          0.26080124429292195,
          0.17630398587400936,
          0.11131272710061235,
          0.37776705296040286,
          0.4186663803707369,
          0.31730599232780116,
          0.3600056777375192,
          0.7249931315100395,
          0.14224165470971292,
          0.056473015288779016,
          0.3700556100619057,
          0.3713745077275521,
          0.306682403356994,
          0.1991107673447196,
          0.3977645310191497,
          0.4064193937031612,
          0.36424065886841034,
          0.1598775624481331,
          0.3339924764697353,
          0.6549467741742967,
          0.28449177679463594,
          0.6889295177161748,
          0.40894309998055445,
          0.15610650373119672,
          0.1289399416118795,
          0.36344320985974116,
          0.7763167423122533,
          0.45845870080315565,
          0.3377338858176158,
          0.0921297363267538,
          0.1780507304806035,
          0.28688843555671323,
          0.20425829040920596,
          0.5278623074195502,
          0.21449236539990102,
          0.204084001585785,
          0.27168314363687635,
          0.30211233022541467,
          0.15312712583000035,
          0.20393127814297718,
          0.07664872950090243,
          0.444556691336532,
          0.7325351078897633,
          0.5317526859123256,
          0.35104383200698214,
          0.168570054932466,
          0.42407435543916167,
          0.5359299828511057,
          0.5013185470974005,
          0.20283175442134999,
          0.10789925442869283,
          0.4960317905454763,
          0.04672960681625516,
          0.7192225698462625,
          0.2179470364044654,
          0.12689568313785204,
          0.4497239004126871,
          0.6683116909216558,
          0.416554169677124,
          0.4071568319680245,
          0.29711452948760053,
          0.5282399202291882,
          0.058296656023308996,
          0.09843664468738415,
          0.510365998036536,
          0.5341827278588589,
          0.12048411197548196,
          0.5871936551688121,
          0.1145645565784544,
          0.6187726029388317,
          0.5855280087447157,
          0.5233654684342561,
          0.11551626419960656,
          0.36116050150027573,
          0.5245013363323634,
          0.29907387503371063,
          0.2973529871594758,
          0.3137992118730021,
          0.15082619011403875,
          0.05565402928087884,
          0.19755529073013653,
          0.3602028606238933,
          0.15362647107365257,
          0.057227173775282976,
          0.6289855365891942,
          0.20901284737826825,
          0.40125394481297294,
          0.43279257734815374,
          0.3473829672611562,
          0.4733267947240074,
          0.45936179329501986,
          0.6782737671457687,
          0.6975773241256682,
          0.5616323964399416,
          0.16943318345971264,
          0.4024438491586093,
          0.31695881394323616,
          0.30831608618028555,
          0.3967401714705599,
          0.16395533261498102,
          0.4918017810883267,
          0.5344383847859456,
          0.34296193832614524,
          0.3967066751173297,
          0.3966903083409935,
          0.17562324286034992,
          0.29140981657503434,
          0.20888166193139507,
          0.08369214776913612,
          0.49114140697269115,
          0.5902775701573525,
          0.5556276151621551,
          0.0836091044409252,
          0.134263422481812,
          0.08745736688729946,
          0.07908260165638084,
          0.6718031526122259,
          0.10660962785340507,
          0.43887266539191166,
          0.33312696474570935,
          0.2170306811951578,
          0.10130463187977914,
          0.5156994239588728,
          0.475667386706188,
          0.21689459673564976,
          0.21903421160426018,
          0.3780572726275916,
          0.174147274348665,
          0.14672870349878772,
          0.16376899578671583,
          0.45912250953776657,
          0.4773706709031099,
          0.12515714886771587,
          0.3377275096170198,
          0.19885169644538275,
          0.25672221666681727,
          0.053485693423448825,
          0.09757519716741739,
          0.3255372463945655,
          0.48081278587537746,
          0.29596724073439284,
          0.37874977994548986,
          0.44276164441583704,
          0.45193044432405405,
          0.27503886840486547,
          0.37767063253901106,
          0.098032835949139,
          0.031202942759416773,
          0.4270848519817478,
          0.7253853088692115,
          0.28910938609282133,
          0.22710080242950015,
          0.23201550050522893,
          0.2914438778092716,
          0.45784753489748986,
          0.6955151644686305,
          0.29151599491220376,
          0.4038979037939192,
          0.2595468162096904,
          0.47097495955842933,
          0.3430076534838589,
          0.4486998799859049,
          0.20924565417583157,
          0.5241349409707344,
          0.09401743785021818,
          0.5437203742810232,
          0.19380112536585586,
          0.5678060609706121,
          0.21015912261616024,
          0.4713527049962119,
          0.01579671538940869,
          0.5862174680247437,
          0.11646053999689576,
          0.42396859269881276,
          0.42168430400987,
          0.0662951653160693,
          0.05730099435930214,
          0.7065798501274431,
          0.18196183633600108,
          0.5010877364354521,
          0.43886784754866587,
          0.05652165200234341,
          0.2548118602025266,
          0.5612231591862624,
          0.2642820964158009,
          0.16914545395794645,
          0.18608683619044095,
          0.5896278684805957,
          0.10882033048145924,
          0.5905475320262642,
          0.651323608298071,
          0.4325521912352839,
          0.4900561747496969,
          0.273682150392396,
          0.5182306127956876,
          0.22424662957028957,
          0.12409194277703414,
          0.3362395699511882,
          0.23521533836132413,
          0.4152583994047388,
          0.16724449221951707,
          0.5840026567424952,
          0.17662191976242297,
          0.4215852476476553,
          0.5814268802053891,
          0.32814907025448514,
          0.2570020568541947,
          0.32071284303789827,
          0.5890266111106883,
          0.22074431400301006,
          0.4559487498936312,
          0.45301040785632546,
          0.15616943751797382,
          0.36854367563854834,
          0.4924726036089212,
          0.5015444665894344,
          0.5151243528528232,
          0.47983940525382507,
          0.2774479440810371,
          0.3094642868053431,
          0.18120480968186187,
          0.6146187133756076,
          0.1843442597712019,
          0.16331612966683567,
          0.6325664106460914,
          0.6665439831995392,
          0.5665562203873105,
          0.4106771455785938,
          0.5316821093544079,
          0.4383852743802717,
          0.05677356382608045,
          0.33164139875846504,
          0.06692717647081069,
          0.2055795880282361,
          0.2000826469791766,
          0.26355792713241794,
          0.2694934538583642,
          0.312774379272311,
          0.15763398947251353,
          0.10953798812315849,
          0.32027352112180124,
          0.29143067862083566,
          0.15216648562751411,
          0.20606733596757396,
          0.47558544649156304,
          0.4223078081427552,
          0.5244320683072106,
          0.364405397741578,
          0.48194257512260236,
          0.24195249168789515,
          0.1802399718704843,
          0.42155046897250087,
          0.4969941719112252,
          0.1617956434300236,
          0.28269744693216065,
          0.3470283167589329,
          0.3199519013664059,
          0.26656013881899504,
          0.377528668631465,
          0.6353227177801641,
          0.39934494576849566,
          0.30677366724012706,
          0.2932026141318246,
          0.7184240877683965,
          0.16873848753275522,
          0.37668514819425075,
          0.6555908985614872,
          0.7623235078189762,
          0.21867799825552553,
          0.4606941709939657,
          0.4744251726505558,
          0.08894662601352299,
          0.4847763268364851,
          0.19317676370865436,
          0.22102449114231135,
          0.11413921774291699,
          0.29445746116867255,
          0.6225886231407352,
          0.4576351215659266,
          0.2811979681293195,
          0.30520581436922684,
          0.21431555309718175,
          0.18279954387204772,
          0.04086414850475907,
          0.34503598492256715,
          0.38753120879138747,
          0.13453820900493058,
          0.020948759438385617,
          0.5688778123006885,
          0.19088341862604372,
          0.22024145724441355,
          0.17721264478446316,
          0.06536063939302705,
          0.5493089071344864,
          0.5664156566897905,
          0.31053339720427414,
          0.5134602391065135,
          0.2938116282640936,
          0.36918754641516294,
          0.3643748293125227,
          0.40517518908798306,
          0.2452357780406061,
          0.21293716420837594,
          0.15043355761988464,
          0.23663378769039653,
          0.3367185885773467,
          0.18165685845447366,
          0.22940643344107006,
          0.4468424463829222,
          0.27664670249703016,
          0.39506411189326257,
          0.42680135552257886,
          0.2651972610652777,
          0.13640578316059065,
          0.6713291503527038,
          0.05663638749077119,
          0.12012786757572176,
          0.45279687859113366,
          0.5512384175145542,
          0.1356191394712632,
          0.0958171178059532,
          0.4007541593868262,
          0.06406338917633686,
          0.45185767038275054,
          0.20678871111154115,
          0.0723172120737277,
          0.46853448505106776,
          0.23393427122758595,
          0.2873869488130513,
          0.13290403559110467,
          0.034716060097140594,
          0.7632337870424437,
          0.11138682109042607,
          0.24193092501786215,
          0.22152242814127218,
          0.07686632071429292,
          0.2606577907595762,
          0.22883165895256924,
          0.3866207218328031,
          0.09717293561770018,
          0.1896377387560391,
          0.2538148888371494,
          0.46253121115516427,
          0.5869679222174514,
          0.2663921382858256,
          0.5750656865742502,
          0.32033042085010327,
          0.24270754184390017,
          0.171816476350381,
          0.41084878554012505,
          0.499910683171729,
          0.2951350840345597,
          0.6462824303315522,
          0.43779217092480965,
          0.3303011586832844,
          0.5922627079878284,
          0.527719843174854,
          0.06077460904083916,
          0.26185224659270784,
          0.5456098168734698,
          0.08248208828739881,
          0.4600600551245284,
          0.07745475734152339,
          0.132358466019716,
          0.13626167134826217,
          0.3865904797260592,
          0.4043093295718903,
          0.6694633654163243,
          0.6146030598673351,
          0.08700431840773795,
          0.15348295569144324,
          0.31230000609681624,
          0.3629739091470261,
          0.4118759484471985,
          0.2109240124754746,
          0.31725165615360795
         ],
         "hovertemplate": "Category 1=%{a}<br>Category 2=%{b}<br>Category 3=%{c}<extra></extra>",
         "legendgroup": "",
         "marker": {
          "color": "#636efa",
          "opacity": 0.5,
          "symbol": "circle"
         },
         "mode": "markers",
         "name": "",
         "showlegend": false,
         "subplot": "ternary",
         "type": "scatterternary"
        }
       ],
       "layout": {
        "legend": {
         "tracegroupgap": 0
        },
        "template": {
         "data": {
          "bar": [
           {
            "error_x": {
             "color": "#2a3f5f"
            },
            "error_y": {
             "color": "#2a3f5f"
            },
            "marker": {
             "line": {
              "color": "#E5ECF6",
              "width": 0.5
             },
             "pattern": {
              "fillmode": "overlay",
              "size": 10,
              "solidity": 0.2
             }
            },
            "type": "bar"
           }
          ],
          "barpolar": [
           {
            "marker": {
             "line": {
              "color": "#E5ECF6",
              "width": 0.5
             },
             "pattern": {
              "fillmode": "overlay",
              "size": 10,
              "solidity": 0.2
             }
            },
            "type": "barpolar"
           }
          ],
          "carpet": [
           {
            "aaxis": {
             "endlinecolor": "#2a3f5f",
             "gridcolor": "white",
             "linecolor": "white",
             "minorgridcolor": "white",
             "startlinecolor": "#2a3f5f"
            },
            "baxis": {
             "endlinecolor": "#2a3f5f",
             "gridcolor": "white",
             "linecolor": "white",
             "minorgridcolor": "white",
             "startlinecolor": "#2a3f5f"
            },
            "type": "carpet"
           }
          ],
          "choropleth": [
           {
            "colorbar": {
             "outlinewidth": 0,
             "ticks": ""
            },
            "type": "choropleth"
           }
          ],
          "contour": [
           {
            "colorbar": {
             "outlinewidth": 0,
             "ticks": ""
            },
            "colorscale": [
             [
              0,
              "#0d0887"
             ],
             [
              0.1111111111111111,
              "#46039f"
             ],
             [
              0.2222222222222222,
              "#7201a8"
             ],
             [
              0.3333333333333333,
              "#9c179e"
             ],
             [
              0.4444444444444444,
              "#bd3786"
             ],
             [
              0.5555555555555556,
              "#d8576b"
             ],
             [
              0.6666666666666666,
              "#ed7953"
             ],
             [
              0.7777777777777778,
              "#fb9f3a"
             ],
             [
              0.8888888888888888,
              "#fdca26"
             ],
             [
              1,
              "#f0f921"
             ]
            ],
            "type": "contour"
           }
          ],
          "contourcarpet": [
           {
            "colorbar": {
             "outlinewidth": 0,
             "ticks": ""
            },
            "type": "contourcarpet"
           }
          ],
          "heatmap": [
           {
            "colorbar": {
             "outlinewidth": 0,
             "ticks": ""
            },
            "colorscale": [
             [
              0,
              "#0d0887"
             ],
             [
              0.1111111111111111,
              "#46039f"
             ],
             [
              0.2222222222222222,
              "#7201a8"
             ],
             [
              0.3333333333333333,
              "#9c179e"
             ],
             [
              0.4444444444444444,
              "#bd3786"
             ],
             [
              0.5555555555555556,
              "#d8576b"
             ],
             [
              0.6666666666666666,
              "#ed7953"
             ],
             [
              0.7777777777777778,
              "#fb9f3a"
             ],
             [
              0.8888888888888888,
              "#fdca26"
             ],
             [
              1,
              "#f0f921"
             ]
            ],
            "type": "heatmap"
           }
          ],
          "heatmapgl": [
           {
            "colorbar": {
             "outlinewidth": 0,
             "ticks": ""
            },
            "colorscale": [
             [
              0,
              "#0d0887"
             ],
             [
              0.1111111111111111,
              "#46039f"
             ],
             [
              0.2222222222222222,
              "#7201a8"
             ],
             [
              0.3333333333333333,
              "#9c179e"
             ],
             [
              0.4444444444444444,
              "#bd3786"
             ],
             [
              0.5555555555555556,
              "#d8576b"
             ],
             [
              0.6666666666666666,
              "#ed7953"
             ],
             [
              0.7777777777777778,
              "#fb9f3a"
             ],
             [
              0.8888888888888888,
              "#fdca26"
             ],
             [
              1,
              "#f0f921"
             ]
            ],
            "type": "heatmapgl"
           }
          ],
          "histogram": [
           {
            "marker": {
             "pattern": {
              "fillmode": "overlay",
              "size": 10,
              "solidity": 0.2
             }
            },
            "type": "histogram"
           }
          ],
          "histogram2d": [
           {
            "colorbar": {
             "outlinewidth": 0,
             "ticks": ""
            },
            "colorscale": [
             [
              0,
              "#0d0887"
             ],
             [
              0.1111111111111111,
              "#46039f"
             ],
             [
              0.2222222222222222,
              "#7201a8"
             ],
             [
              0.3333333333333333,
              "#9c179e"
             ],
             [
              0.4444444444444444,
              "#bd3786"
             ],
             [
              0.5555555555555556,
              "#d8576b"
             ],
             [
              0.6666666666666666,
              "#ed7953"
             ],
             [
              0.7777777777777778,
              "#fb9f3a"
             ],
             [
              0.8888888888888888,
              "#fdca26"
             ],
             [
              1,
              "#f0f921"
             ]
            ],
            "type": "histogram2d"
           }
          ],
          "histogram2dcontour": [
           {
            "colorbar": {
             "outlinewidth": 0,
             "ticks": ""
            },
            "colorscale": [
             [
              0,
              "#0d0887"
             ],
             [
              0.1111111111111111,
              "#46039f"
             ],
             [
              0.2222222222222222,
              "#7201a8"
             ],
             [
              0.3333333333333333,
              "#9c179e"
             ],
             [
              0.4444444444444444,
              "#bd3786"
             ],
             [
              0.5555555555555556,
              "#d8576b"
             ],
             [
              0.6666666666666666,
              "#ed7953"
             ],
             [
              0.7777777777777778,
              "#fb9f3a"
             ],
             [
              0.8888888888888888,
              "#fdca26"
             ],
             [
              1,
              "#f0f921"
             ]
            ],
            "type": "histogram2dcontour"
           }
          ],
          "mesh3d": [
           {
            "colorbar": {
             "outlinewidth": 0,
             "ticks": ""
            },
            "type": "mesh3d"
           }
          ],
          "parcoords": [
           {
            "line": {
             "colorbar": {
              "outlinewidth": 0,
              "ticks": ""
             }
            },
            "type": "parcoords"
           }
          ],
          "pie": [
           {
            "automargin": true,
            "type": "pie"
           }
          ],
          "scatter": [
           {
            "fillpattern": {
             "fillmode": "overlay",
             "size": 10,
             "solidity": 0.2
            },
            "type": "scatter"
           }
          ],
          "scatter3d": [
           {
            "line": {
             "colorbar": {
              "outlinewidth": 0,
              "ticks": ""
             }
            },
            "marker": {
             "colorbar": {
              "outlinewidth": 0,
              "ticks": ""
             }
            },
            "type": "scatter3d"
           }
          ],
          "scattercarpet": [
           {
            "marker": {
             "colorbar": {
              "outlinewidth": 0,
              "ticks": ""
             }
            },
            "type": "scattercarpet"
           }
          ],
          "scattergeo": [
           {
            "marker": {
             "colorbar": {
              "outlinewidth": 0,
              "ticks": ""
             }
            },
            "type": "scattergeo"
           }
          ],
          "scattergl": [
           {
            "marker": {
             "colorbar": {
              "outlinewidth": 0,
              "ticks": ""
             }
            },
            "type": "scattergl"
           }
          ],
          "scattermapbox": [
           {
            "marker": {
             "colorbar": {
              "outlinewidth": 0,
              "ticks": ""
             }
            },
            "type": "scattermapbox"
           }
          ],
          "scatterpolar": [
           {
            "marker": {
             "colorbar": {
              "outlinewidth": 0,
              "ticks": ""
             }
            },
            "type": "scatterpolar"
           }
          ],
          "scatterpolargl": [
           {
            "marker": {
             "colorbar": {
              "outlinewidth": 0,
              "ticks": ""
             }
            },
            "type": "scatterpolargl"
           }
          ],
          "scatterternary": [
           {
            "marker": {
             "colorbar": {
              "outlinewidth": 0,
              "ticks": ""
             }
            },
            "type": "scatterternary"
           }
          ],
          "surface": [
           {
            "colorbar": {
             "outlinewidth": 0,
             "ticks": ""
            },
            "colorscale": [
             [
              0,
              "#0d0887"
             ],
             [
              0.1111111111111111,
              "#46039f"
             ],
             [
              0.2222222222222222,
              "#7201a8"
             ],
             [
              0.3333333333333333,
              "#9c179e"
             ],
             [
              0.4444444444444444,
              "#bd3786"
             ],
             [
              0.5555555555555556,
              "#d8576b"
             ],
             [
              0.6666666666666666,
              "#ed7953"
             ],
             [
              0.7777777777777778,
              "#fb9f3a"
             ],
             [
              0.8888888888888888,
              "#fdca26"
             ],
             [
              1,
              "#f0f921"
             ]
            ],
            "type": "surface"
           }
          ],
          "table": [
           {
            "cells": {
             "fill": {
              "color": "#EBF0F8"
             },
             "line": {
              "color": "white"
             }
            },
            "header": {
             "fill": {
              "color": "#C8D4E3"
             },
             "line": {
              "color": "white"
             }
            },
            "type": "table"
           }
          ]
         },
         "layout": {
          "annotationdefaults": {
           "arrowcolor": "#2a3f5f",
           "arrowhead": 0,
           "arrowwidth": 1
          },
          "autotypenumbers": "strict",
          "coloraxis": {
           "colorbar": {
            "outlinewidth": 0,
            "ticks": ""
           }
          },
          "colorscale": {
           "diverging": [
            [
             0,
             "#8e0152"
            ],
            [
             0.1,
             "#c51b7d"
            ],
            [
             0.2,
             "#de77ae"
            ],
            [
             0.3,
             "#f1b6da"
            ],
            [
             0.4,
             "#fde0ef"
            ],
            [
             0.5,
             "#f7f7f7"
            ],
            [
             0.6,
             "#e6f5d0"
            ],
            [
             0.7,
             "#b8e186"
            ],
            [
             0.8,
             "#7fbc41"
            ],
            [
             0.9,
             "#4d9221"
            ],
            [
             1,
             "#276419"
            ]
           ],
           "sequential": [
            [
             0,
             "#0d0887"
            ],
            [
             0.1111111111111111,
             "#46039f"
            ],
            [
             0.2222222222222222,
             "#7201a8"
            ],
            [
             0.3333333333333333,
             "#9c179e"
            ],
            [
             0.4444444444444444,
             "#bd3786"
            ],
            [
             0.5555555555555556,
             "#d8576b"
            ],
            [
             0.6666666666666666,
             "#ed7953"
            ],
            [
             0.7777777777777778,
             "#fb9f3a"
            ],
            [
             0.8888888888888888,
             "#fdca26"
            ],
            [
             1,
             "#f0f921"
            ]
           ],
           "sequentialminus": [
            [
             0,
             "#0d0887"
            ],
            [
             0.1111111111111111,
             "#46039f"
            ],
            [
             0.2222222222222222,
             "#7201a8"
            ],
            [
             0.3333333333333333,
             "#9c179e"
            ],
            [
             0.4444444444444444,
             "#bd3786"
            ],
            [
             0.5555555555555556,
             "#d8576b"
            ],
            [
             0.6666666666666666,
             "#ed7953"
            ],
            [
             0.7777777777777778,
             "#fb9f3a"
            ],
            [
             0.8888888888888888,
             "#fdca26"
            ],
            [
             1,
             "#f0f921"
            ]
           ]
          },
          "colorway": [
           "#636efa",
           "#EF553B",
           "#00cc96",
           "#ab63fa",
           "#FFA15A",
           "#19d3f3",
           "#FF6692",
           "#B6E880",
           "#FF97FF",
           "#FECB52"
          ],
          "font": {
           "color": "#2a3f5f"
          },
          "geo": {
           "bgcolor": "white",
           "lakecolor": "white",
           "landcolor": "#E5ECF6",
           "showlakes": true,
           "showland": true,
           "subunitcolor": "white"
          },
          "hoverlabel": {
           "align": "left"
          },
          "hovermode": "closest",
          "mapbox": {
           "style": "light"
          },
          "paper_bgcolor": "white",
          "plot_bgcolor": "#E5ECF6",
          "polar": {
           "angularaxis": {
            "gridcolor": "white",
            "linecolor": "white",
            "ticks": ""
           },
           "bgcolor": "#E5ECF6",
           "radialaxis": {
            "gridcolor": "white",
            "linecolor": "white",
            "ticks": ""
           }
          },
          "scene": {
           "xaxis": {
            "backgroundcolor": "#E5ECF6",
            "gridcolor": "white",
            "gridwidth": 2,
            "linecolor": "white",
            "showbackground": true,
            "ticks": "",
            "zerolinecolor": "white"
           },
           "yaxis": {
            "backgroundcolor": "#E5ECF6",
            "gridcolor": "white",
            "gridwidth": 2,
            "linecolor": "white",
            "showbackground": true,
            "ticks": "",
            "zerolinecolor": "white"
           },
           "zaxis": {
            "backgroundcolor": "#E5ECF6",
            "gridcolor": "white",
            "gridwidth": 2,
            "linecolor": "white",
            "showbackground": true,
            "ticks": "",
            "zerolinecolor": "white"
           }
          },
          "shapedefaults": {
           "line": {
            "color": "#2a3f5f"
           }
          },
          "ternary": {
           "aaxis": {
            "gridcolor": "white",
            "linecolor": "white",
            "ticks": ""
           },
           "baxis": {
            "gridcolor": "white",
            "linecolor": "white",
            "ticks": ""
           },
           "bgcolor": "#E5ECF6",
           "caxis": {
            "gridcolor": "white",
            "linecolor": "white",
            "ticks": ""
           }
          },
          "title": {
           "x": 0.05
          },
          "xaxis": {
           "automargin": true,
           "gridcolor": "white",
           "linecolor": "white",
           "ticks": "",
           "title": {
            "standoff": 15
           },
           "zerolinecolor": "white",
           "zerolinewidth": 2
          },
          "yaxis": {
           "automargin": true,
           "gridcolor": "white",
           "linecolor": "white",
           "ticks": "",
           "title": {
            "standoff": 15
           },
           "zerolinecolor": "white",
           "zerolinewidth": 2
          }
         }
        },
        "ternary": {
         "aaxis": {
          "title": {
           "text": "Category 1"
          }
         },
         "baxis": {
          "title": {
           "text": "Category 2"
          }
         },
         "caxis": {
          "title": {
           "text": "Category 3"
          }
         },
         "domain": {
          "x": [
           0,
           1
          ],
          "y": [
           0,
           1
          ]
         }
        },
        "title": {
         "text": "Dirichlet Prior"
        }
       }
      },
      "text/html": [
       "<div>                            <div id=\"606efbee-d8cb-45cd-8316-1c41c7fecc51\" class=\"plotly-graph-div\" style=\"height:525px; width:100%;\"></div>            <script type=\"text/javascript\">                require([\"plotly\"], function(Plotly) {                    window.PLOTLYENV=window.PLOTLYENV || {};                                    if (document.getElementById(\"606efbee-d8cb-45cd-8316-1c41c7fecc51\")) {                    Plotly.newPlot(                        \"606efbee-d8cb-45cd-8316-1c41c7fecc51\",                        [{\"a\":[0.4144220503382155,0.36713220398460983,0.5133526628012927,0.2143278169059631,0.49145904707182286,0.5873084096733684,0.28554696178586675,0.5678566156143705,0.32145541566212915,0.4009956925884915,0.3535562961964714,0.47891958071659235,0.16170831873893843,0.7063374890679281,0.21658589394806568,0.3910188134144892,0.3387762861293593,0.10063772075281842,0.39570934564767285,0.31720909080119714,0.34990609906151415,0.34651394446587114,0.10877495478823618,0.5426210767207457,0.24992730494578286,0.5064206821920861,0.15251421280146688,0.19881712133133708,0.3051224321631344,0.21271263233139331,0.08475312413716209,0.21086871314996689,0.4810675534331262,0.37068941827294644,0.328900088015048,0.5172869967592639,0.44553300022341363,0.2590145995384646,0.1769191405796823,0.442889831143721,0.21367816560335753,0.5725409859947712,0.22972150607436087,0.2446549029293071,0.26317764801842586,0.24665153542722118,0.6256818703649484,0.34994801051937585,0.5493941732550476,0.2871022949624806,0.33339220547784204,0.525738752623564,0.023559792282067806,0.371541149135142,0.3092974535450519,0.2911310114321639,0.2372583332089489,0.39955517535902224,0.4222904097175754,0.3389595727134471,0.7382462579874199,0.1254451113136654,0.08810067186759198,0.3591223686035583,0.21943537356550022,0.2673038378246801,0.5854487248041482,0.23017850278953386,0.12791713980586927,0.21049475992484515,0.4432693016513223,0.30389619038960886,0.3874347186569284,0.40513811212964507,0.6979219392776576,0.353278460531426,0.37122475391450155,0.5979524430344156,0.09352552015531003,0.2672616934932963,0.23284664361821905,0.4802930711387041,0.5104058064193082,0.5179195480444017,0.5060473067284529,0.530051071237126,0.46887766800704134,0.39813381345520915,0.2837812789342559,0.08772352268182801,0.4956563653415097,0.16249018702621965,0.27926560862573163,0.610724241638204,0.22144711577995935,0.5763203757942783,0.4777162048598668,0.4774203097947672,0.5277235024630537,0.1542305039036608,0.4721360694125208,0.23785375586588958,0.5462387253328621,0.6587828503929462,0.3507718431363829,0.38670379970198876,0.38081870367239434,0.006866109795546222,0.5063948310422254,0.3631875634962363,0.2849760301630174,0.11260093960297535,0.20990684733657933,0.4011741525390107,0.18017706487735274,0.5119609925785971,0.5736258099728172,0.5158918790362566,0.36467870198564023,0.3135503674224147,0.35218482903729803,0.2764286885684879,0.5855672535928006,0.303652709364964,0.33634824105719674,0.4597404339895761,0.25276783427647703,0.2876850371365418,0.28567724458252214,0.3598366232699715,0.46569203888193816,0.05735702387198835,0.13138527301108635,0.6913403755882312,0.11483872468347077,0.2228009115746899,0.03459616321080623,0.544407564881738,0.17670575867059835,0.1976520660663608,0.533666069910402,0.5585394114290569,0.6209070985037252,0.2792002783366074,0.3978145013368399,0.0970378237266507,0.40816595212641127,0.6305712154173292,0.6711212520749401,0.13444951526171728,0.08650069062152946,0.15690009971034244,0.43434313137498703,0.5968264658792034,0.586959178048536,0.2667623846833207,0.36950865229135826,0.08792265643971504,0.4115704376970317,0.3416549089253715,0.27481675090560065,0.4797862160080859,0.6415712677739593,0.4223291233313458,0.7692230737889492,0.3262493920826301,0.1453981204423627,0.19926574197041905,0.21843001817440777,0.5967224625393597,0.02945289956654019,0.4314931808819601,0.30257685726363887,0.7130569445238303,0.5778982089065319,0.394578177275218,0.17546300216398017,0.06856633385777197,0.13323301649230718,0.17531366730113085,0.318086848573521,0.15673210326731046,0.21651860411401624,0.26152334720546266,0.21643208962116764,0.2768637403598931,0.5548237716125985,0.7988762723701909,0.2911455160767934,0.21805645503707835,0.32619238056963956,0.27799000603595225,0.7076035270904437,0.12358403189621006,0.270488024318399,0.3136273880636729,0.46391307853871255,0.14027377913250835,0.4321229355184519,0.4932954701958277,0.47978141485445974,0.3214205591434527,0.6874695025286257,0.5950422587049697,0.3912295708175077,0.4256197229640977,0.7363850067077393,0.796591645615786,0.3160669740460226,0.35346793754139055,0.37034473431361375,0.24304390417544697,0.37018881998040887,0.31426930222916794,0.17523946694052478,0.11594066697781663,0.0269831315213753,0.33487639740847036,0.500424694245238,0.12390614643131928,0.22685319127162892,0.49513381089614195,0.1959795243385995,0.4704827642605135,0.23009145030455594,0.4110719301946986,0.30175932987270737,0.5477802298570424,0.43335106826736747,0.1672280604191604,0.5444881243829541,0.5266993852383839,0.688015785762909,0.2927220366640777,0.2849303372990046,0.3175948657248682,0.22212606164344073,0.09533482671986408,0.3484799008528102,0.6273728745124406,0.24436495454445314,0.47274135805896633,0.21196934633494535,0.5552855585017651,0.3318897121202911,0.3961361722003096,0.12442260423144333,0.32643668541868526,0.4361495669823342,0.5049599554617206,0.2420335986286376,0.0704682557805196,0.1001024680398111,0.30552322131144527,0.25496012292985987,0.1480522286495886,0.6584302890322207,0.34156516124125175,0.519646135430542,0.31858660697589447,0.3976027507555772,0.677599733408445,0.36929829332556874,0.20020633338898108,0.3685386158515693,0.06092761059624977,0.23601652092704972,0.2791472773409888,0.35436656368428626,0.5145920847711597,0.7310792116012976,0.6488631944237502,0.22402658756669291,0.15765010920287673,0.22928170078027216,0.4416107812260979,0.6384052460803803,0.5175114418846939,0.4608248820739434,0.024865420792764537,0.6141525652422765,0.10513336381476689,0.6564673509356134,0.031948264498674675,0.16644730416003387,0.17165424807093668,0.17554519517212017,0.10038033683674259,0.17504313955859419,0.4195942290322802,0.2737280830250859,0.23574287228492177,0.05500571856347744,0.15829705595482857,0.4174054134827296,0.2641715483445213,0.5873367673061145,0.40817662433261853,0.24827256969656622,0.7887978290132904,0.5124609506920251,0.1916589277251065,0.3342642108635071,0.2466472804774481,0.45531296522017006,0.5868424155852194,0.3576415820310428,0.28793527351118525,0.5524261057122754,0.5166729467101383,0.21492142951850374,0.08759932762340895,0.2429409864613127,0.23481569612085515,0.23267254558815736,0.44665547772810726,0.2588910063096783,0.3217437003841762,0.0947284466071899,0.24857139247044632,0.41395525401191713,0.5280778936575321,0.3370285308302336,0.4337750005280109,0.4460611347855782,0.21331540095483428,0.36711639033657606,0.1582790442707857,0.28611369152899696,0.08981564302895431,0.6371566098343514,0.35848699586248495,0.22673221742980149,0.6780275781250807,0.4207170140120055,0.2267410934043064,0.4915029879707697,0.3567141548556247,0.4819844863692154,0.05047386421856166,0.32596847078591185,0.3401344468676028,0.16623875096477891,0.5832652873064156,0.28917685503434065,0.18254854537557239,0.3593425125636159,0.6472256633828753,0.1544074815482208,0.2805548959586863,0.289984851165876,0.45667107404764834,0.28649010641045436,0.09362163331345295,0.6788167985207338,0.46336455524949155,0.6780179015648448,0.06076593729566801,0.4880913681009126,0.19461973591715898,0.4027873453655677,0.4261985446058262,0.7232313965220583,0.3300126362688927,0.4386748399985165,0.4890229322388909,0.1168438844358724,0.5350473859977195,0.23467299039127315,0.12634697884490942,0.07816807489079815,0.38380099701848913,0.04871726581011163,0.3234153100853774,0.7472671839475326,0.2535828114018445,0.21593348968131512,0.5387993643382286,0.5935997045781332,0.29298510523675614,0.4817922574118711,0.37853138655015744,0.2362168659486631,0.07131296206972937,0.27871007626271055,0.24282457350571449,0.14872179907403163,0.24471343360700368,0.3450376444948248,0.35464096739249734,0.2084776734270799,0.14606082300271014,0.24585711180748926,0.28030045168773576,0.4557082355199049,0.07157036160837323,0.38475821074508926,0.5519066636600778,0.4494661074181856,0.6798593361927765,0.3919162918298816,0.1554810141048842,0.052651199490370205,0.46304533085563115,0.43982396271921226,0.5162050028080067,0.7554062472356643,0.6563067957810008,0.3818128185541173,0.3006874367043195,0.5480278766003444,0.5699248003183255,0.3924656894050434,0.10546594103128777,0.3189891585882509,0.19528044614015616,0.6025298996149281,0.31513732103256525,0.3603650877423148,0.30644113212967533,0.09408677385396112,0.2661335284045498,0.5329770957919717,0.39897614698395273,0.5102687235526163,0.4197424264170398,0.3745803638891848,0.5127322993572448,0.5945639977966701,0.4132022607515813,0.5854177714888206,0.14501858946821808,0.10694998984251151,0.0625797717552157,0.13917164084442157,0.32056198108328393,0.33252348171974255,0.1958916105297327,0.19277352349924898,0.5238671513968695,0.277975470813198,0.043310950722240414,0.09155315837060787,0.5518977426533619,0.11499118846541204,0.439810287243934,0.73876559021087,0.4014373656817979,0.4405297155118346,0.39706247181302223,0.32757060674994776,0.43722383721658387,0.6695664020638189,0.5386841303065584,0.1523284401459452,0.12311941166614083,0.33882375679664145,0.15776543479192712,0.1657319312571873,0.21868649111673347,0.056349907092229416,0.42354038113498466,0.40421717057068707,0.5039448948564941,0.4821223243538104,0.47870785833615076,0.024768902088934855,0.13257882020810513,0.31388261978467763,0.3272300831933493,0.16474902079650453,0.6977714694699194,0.6403800884718547,0.2310747813423169,0.2821883976358956,0.2560820951491552,0.11254566811417473,0.4072899770287564,0.3837071059614861,0.30816435176667645,0.2999328428696848,0.5124008481306424,0.1449249988722818,0.28522281630272306,0.4868248781252235,0.37735891091372253,0.1904185229211006,0.16612563123836474,0.6626579566143705,0.3488438526081994,0.45755859118640674,0.27982174028916335,0.16784947637675954,0.7431260258289375,0.2810920004248788,0.2918935319662873,0.11980324418198333,0.46453401242774983,0.2514371362569171,0.4863879678252445],\"b\":[0.2788519358184994,0.40263567976828296,0.16691506972905537,0.3751760006730286,0.44978916092559984,0.31131751108477523,0.14146259792469346,0.16326934400547538,0.3678095663876653,0.2239729191078616,0.42629432895825087,0.09041582181214108,0.253649888936514,0.1790339657414276,0.5939621696550582,0.240587790915418,0.08697058388581744,0.3866238057537043,0.4359649709471691,0.3265896035855657,0.31778115850704813,0.29945789586939797,0.3904784713340335,0.12805705207215373,0.3435836157645591,0.21969229316281438,0.6176336232281651,0.418667998766314,0.3720860143875956,0.09728507916314136,0.20529630436156068,0.037635326300801755,0.40113299523227214,0.3125555932144293,0.49304966981992615,0.20514355038783472,0.12061937935745518,0.12426836521783247,0.38819544197713823,0.16002704610152346,0.6525516136946321,0.2691599333698519,0.6110600009611292,0.3671722733315911,0.388104012997668,0.4742705303503574,0.31409738513470287,0.30813463166362925,0.17761705011263476,0.473574993414791,0.20697389333797075,0.14831137696802532,0.22242744176967166,0.48226704771501916,0.432306765691341,0.08278246906876859,0.5038939569837292,0.36829656689787094,0.4535744763029336,0.4477854310909461,0.16973355956991013,0.17835258963905207,0.476449322320252,0.368231727434867,0.28652784044796886,0.18690738991500508,0.1682247683636342,0.29778740934745457,0.7635127451974242,0.12226285915191973,0.07284605598286417,0.14769838512746045,0.4312054795225173,0.4044178270000989,0.23324405597529707,0.07525207720830822,0.5355862594506902,0.22644382399202814,0.8316062356987284,0.4747804100249727,0.5763554818738268,0.23750799878738182,0.18875409125554773,0.12997237418537777,0.37932080907756427,0.15805192603278787,0.19434796824972295,0.09009075102539958,0.2281213213586498,0.420741145138742,0.2784102310499824,0.5066778151508137,0.43992641630239043,0.01742142590295913,0.5068227769870255,0.04474019397672893,0.08773307546582389,0.15367563957611988,0.3232786362964491,0.3715353773030573,0.15042289189793775,0.5376688388195607,0.1900045246293309,0.2331339839875989,0.28077022215511005,0.338218152320394,0.2033034938157168,0.3044945019802794,0.21842623197347838,0.33717365995844617,0.512154279962469,0.7128419066275805,0.3864044379738611,0.5025764819307731,0.26756913083278033,0.3494750073425056,0.19941867489053325,0.1263975901558123,0.25098446584673234,0.12703311579183374,0.3541623686058202,0.5131363639078506,0.27295619831718276,0.41638537262173675,0.40285051464988136,0.36395558013641455,0.6359194386229107,0.3345479099030554,0.295656375046741,0.3228573844022273,0.17430228338054266,0.2176498446179722,0.7263730722792008,0.2521866091229896,0.5151056652546236,0.40582458069775795,0.6587214334321998,0.2564816677735423,0.42552971031025194,0.39592854023047797,0.10209327122118768,0.28158302612281,0.04510042502653942,0.065852947489096,0.3176937218685241,0.21403265855717443,0.1828909478930342,0.21332228085147406,0.1999388063131806,0.5021072748785416,0.1371825670662172,0.3846411994865019,0.22792298280739717,0.3110437977940428,0.23499009147086053,0.446349179759966,0.4262330572994358,0.38421503614073477,0.37393719690306726,0.45426108948884353,0.453500105457523,0.21810145376649928,0.20530160639604028,0.37373959852567706,0.15412819671014846,0.22919391658083796,0.12206677166787404,0.26898157211725526,0.43052614981861004,0.2347074825281743,0.5464727449942981,0.032576836266934174,0.1961045956389606,0.08411130105481976,0.3142025366647752,0.10939003217930567,0.7778073910197647,0.21221109629596546,0.6488199471032274,0.6977906495610171,0.23218925101379181,0.17495620581103385,0.36692722620885987,0.331319820826513,0.4864533808912317,0.1948963394109188,0.3868795723640925,0.10268708294242493,0.19848848588667065,0.24776081710406272,0.5533235074548785,0.13481633879523572,0.17783191633110199,0.25764336516495817,0.1439839669368853,0.16300714350207107,0.42057065726168086,0.49856571936721594,0.04337572814918485,0.20763065477046164,0.22286559798606448,0.3647802289835451,0.16170430735733562,0.34930371201415156,0.41121513845235574,0.21417741641200913,0.10998852221860833,0.14618118060893104,0.054947489364783116,0.43751921508034136,0.22840132087341325,0.3241635184763993,0.28242821275843505,0.2124039030468247,0.3653987397644554,0.20578556587641453,0.27543954435295653,0.10349120615158822,0.3301421222950494,0.47365000441007155,0.4561879947851349,0.19655010292357236,0.40728030419084055,0.36556190312450526,0.2781067686071175,0.05448968501935579,0.35527873180114744,0.055513095025627845,0.16995862339163922,0.6571486967204897,0.16410205904201153,0.26441895283022104,0.22829206646795497,0.2161365563632312,0.12479209254364294,0.12677751911297658,0.6942648339156341,0.7704017507983241,0.5640627322598903,0.29354452383117857,0.08383189284332106,0.4206490140876285,0.349157988273143,0.11158747675252544,0.45107960668455105,0.5025591959199113,0.3598779718096837,0.19789592787512664,0.34695583628201604,0.2760058329340193,0.3799091287437708,0.7553844698708155,0.7531688284614012,0.5307077829018387,0.28591736753237357,0.3745771004473015,0.2164125621000635,0.3207073291417284,0.28150216812407514,0.42469117635728837,0.548911555820974,0.22482506942413769,0.30516446027986577,0.3189808807356415,0.33549414341403794,0.5603226094582603,0.3212218346571133,0.26892227833495713,0.3705945679108483,0.10773728268982925,0.17088795244956337,0.3199338628168329,0.3488885604515593,0.11696458192791184,0.48160891312690635,0.33128841634440187,0.12957925341439078,0.1910446803060346,0.08132758302856664,0.27961941473860497,0.09433143984551974,0.490968732391314,0.0839858328546963,0.4970767759428959,0.4905450423561072,0.37964587194315846,0.6152091506520482,0.37548472219252294,0.7309394225911875,0.03668539668669669,0.5324707916090583,0.19645106674446597,0.7348351588203623,0.37035023904895936,0.5667978711278617,0.14961098363073494,0.29620269269698957,0.1678547829685687,0.3300431262935638,0.1449070056706403,0.4302380549486728,0.1017612221474504,0.48377395280049185,0.25226498308709966,0.10581918723116401,0.35663593241243724,0.3875465577664306,0.1508415673025522,0.18329179787192368,0.3141815993319152,0.5989917342910553,0.3227728038959953,0.648238683057228,0.17463677185288068,0.11600384611377175,0.12079233103660882,0.2510528189406248,0.40457414922342777,0.3870409405971226,0.5271819779592642,0.4619528032110486,0.13568253639127975,0.4277561308084423,0.1509666000672502,0.38669437299490483,0.20268194230267034,0.4562616899010009,0.420135708081559,0.13245942826561397,0.5820352867165606,0.10584133331145393,0.32080016109961673,0.18424117145951013,0.1012281078719092,0.12333423609436331,0.3202484987393682,0.35232757451125635,0.27474216950582697,0.025542910021863364,0.44798166919200383,0.1589071763612648,0.1800261478785721,0.5563133049541839,0.10727042588824137,0.5296183352837974,0.20283274124882017,0.45631322766518223,0.18945820695028887,0.21302610780568776,0.052901120841774514,0.14345892844681343,0.13265178037375783,0.18182778423513787,0.46799309230627517,0.2644096376531858,0.20499404599204346,0.2550549219643446,0.7336544746760959,0.31182598491991076,0.541822336950423,0.3277192007760681,0.26102707612186293,0.1191346140054282,0.5604493756079487,0.24105163887968226,0.2195463891402734,0.7309896299366135,0.2588852780347066,0.2897415631171638,0.4513452130123352,0.39739985680199136,0.2517936052399328,0.4693401590672862,0.4346321982267275,0.07249284418198311,0.3248667196256546,0.2870723384074596,0.29940499223174794,0.12370284848970618,0.35998657800431105,0.198255841221723,0.3549084746308476,0.38625446541987185,0.2933643201501066,0.3219449779687938,0.4504017592541583,0.5580755867941437,0.036862478624599716,0.4862238679724199,0.26867388441325196,0.13593142801143288,0.0916156691783136,0.5354648899369854,0.2590053773182985,0.06986659182953928,0.8394830123781036,0.13046546241842577,0.25491657263126777,0.3295094014395031,0.2060014460643066,0.3136262470014457,0.22193036275438072,0.4897136789437033,0.25575670101504927,0.254970222911561,0.26947944409481156,0.06179420889228807,0.3028290557142402,0.27315119652331565,0.311781354504293,0.3174339143947251,0.4091264402432888,0.03865649829426828,0.7036506403426686,0.46076938416733565,0.6275069090753806,0.3321094609920449,0.13555377183294823,0.0732192555678947,0.3830254706660505,0.3924529870395254,0.4400548433313565,0.0978353577928653,0.2366490237035247,0.08455608735940058,0.3350217955423542,0.41248247190243925,0.3368341430228704,0.1688022145129333,0.250079150671072,0.23292537005670583,0.6255749770907117,0.44620756377456633,0.660773525747754,0.4657642472623159,0.2526366633941373,0.4022792572149799,0.6677026063096766,0.13589732614804714,0.41949646111235944,0.6018966616110802,0.5038921706866258,0.35720842411483805,0.3124831178753751,0.7891916937286347,0.15943555336923976,0.1971710206127931,0.1467049639354516,0.35268157337662415,0.5306203161132501,0.20389490819898437,0.3288418915558303,0.04304664912312969,0.3284118341023371,0.8129554997569142,0.11364680129141538,0.5497894221129326,0.6003036401902108,0.6127456406015405,0.7044471881689737,0.6829923021481944,0.34762795991244605,0.20916210759650994,0.3988821695258059,0.3282399368901505,0.2674772528266998,0.512699886755901,0.2804532575744435,0.4197252419294968,0.09770423023240053,0.5149205583533921,0.05952098868618028,0.18780343517776427,0.35807643311755794,0.21790091919237553,0.448782820816285,0.24117190155427323,0.15491785204643388,0.2859917353552296,0.09957294024549516,0.17234731395546127,0.4268245428285185,0.5932227545350105,0.16916736682380706,0.43069303358737765,0.16258103396174897,0.732126719737376,0.7015159027419192,0.20108037203736734,0.26456566766574147,0.13813207924170304,0.05071489429451234,0.21754746375590533,0.1698696557633245,0.5654250438836778,0.39580646193689656,0.5172228466709905,0.12359003912505162,0.5376388512676081,0.19636037602114753],\"c\":[0.3067260138432852,0.23023211624710724,0.31973226746965205,0.4104961824210085,0.058751792002577415,0.10137407924185643,0.5729904402894399,0.2688740403801541,0.31073501795020547,0.37503138830364696,0.22014937484527777,0.43066459747126673,0.5846417923245475,0.11462854519064439,0.18945193639687608,0.3683933956700928,0.5742531299848234,0.5127384734934773,0.16832568340515802,0.3562013056132371,0.3323127424314377,0.35402815966473095,0.5007465738777301,0.32932187120710044,0.40648907928965805,0.2738870246450994,0.22985216397036806,0.3825148799023489,0.32279155344927013,0.6900022885054652,0.7099505715012773,0.7514959605492314,0.11779945133460172,0.3167549885126243,0.17805024216502602,0.27756945285290135,0.43384762041913105,0.6167170352437029,0.4348854174431793,0.3970831227547556,0.13377022070201045,0.15829908063537698,0.15921849296451,0.38817282373910195,0.34871833898390614,0.2790779342224214,0.06022074450034878,0.34191735781699484,0.2729887766323175,0.23932271162272845,0.45963390118418723,0.32594987040841067,0.7540127659482605,0.1461918031498387,0.258395780763607,0.6260865194990675,0.25884770980732197,0.23214825774310688,0.12413511397949087,0.21325499619560667,0.09202018244266996,0.6962022990472826,0.4354500058121559,0.2726459039615748,0.4940367859865309,0.545788772260315,0.2463265068322176,0.47203408786301165,0.10857011499670642,0.6672423809232351,0.4838846423658135,0.5484054244829307,0.1813598018205544,0.19044406087025623,0.0688340047470455,0.5714694622602658,0.09318898663480837,0.17560373297355622,0.07486824414596153,0.2579578964817312,0.1907978745079541,0.28219893007391406,0.30084010232514397,0.3521080777702207,0.11463188419398294,0.311897002730086,0.3367743637432356,0.5117754355193912,0.48809739970709426,0.4915353321794298,0.22593340360850772,0.33083199782296674,0.2808079750718778,0.3718543324588368,0.27173010723301533,0.3789394302289927,0.4345507196743093,0.36890405062911313,0.1489978612404972,0.47423411879328187,0.37744103868954143,0.2244774053145496,0.26375675003780685,0.10808316561945491,0.36845793470850696,0.27507804797761715,0.415877802511889,0.6886393882241744,0.27517893698429635,0.29963877654531756,0.20286968987451345,0.17455715376944417,0.40368871468955947,0.09624936553021618,0.552253804289867,0.13856400007889744,0.22695551513664944,0.35771053080793114,0.38433683216762743,0.5594165167857515,0.2936528023568818,0.2104349475236615,0.1414765480900166,0.27996191801329906,0.26080124429292195,0.17630398587400936,0.11131272710061235,0.37776705296040286,0.4186663803707369,0.31730599232780116,0.3600056777375192,0.7249931315100395,0.14224165470971292,0.056473015288779016,0.3700556100619057,0.3713745077275521,0.306682403356994,0.1991107673447196,0.3977645310191497,0.4064193937031612,0.36424065886841034,0.1598775624481331,0.3339924764697353,0.6549467741742967,0.28449177679463594,0.6889295177161748,0.40894309998055445,0.15610650373119672,0.1289399416118795,0.36344320985974116,0.7763167423122533,0.45845870080315565,0.3377338858176158,0.0921297363267538,0.1780507304806035,0.28688843555671323,0.20425829040920596,0.5278623074195502,0.21449236539990102,0.204084001585785,0.27168314363687635,0.30211233022541467,0.15312712583000035,0.20393127814297718,0.07664872950090243,0.444556691336532,0.7325351078897633,0.5317526859123256,0.35104383200698214,0.168570054932466,0.42407435543916167,0.5359299828511057,0.5013185470974005,0.20283175442134999,0.10789925442869283,0.4960317905454763,0.04672960681625516,0.7192225698462625,0.2179470364044654,0.12689568313785204,0.4497239004126871,0.6683116909216558,0.416554169677124,0.4071568319680245,0.29711452948760053,0.5282399202291882,0.058296656023308996,0.09843664468738415,0.510365998036536,0.5341827278588589,0.12048411197548196,0.5871936551688121,0.1145645565784544,0.6187726029388317,0.5855280087447157,0.5233654684342561,0.11551626419960656,0.36116050150027573,0.5245013363323634,0.29907387503371063,0.2973529871594758,0.3137992118730021,0.15082619011403875,0.05565402928087884,0.19755529073013653,0.3602028606238933,0.15362647107365257,0.057227173775282976,0.6289855365891942,0.20901284737826825,0.40125394481297294,0.43279257734815374,0.3473829672611562,0.4733267947240074,0.45936179329501986,0.6782737671457687,0.6975773241256682,0.5616323964399416,0.16943318345971264,0.4024438491586093,0.31695881394323616,0.30831608618028555,0.3967401714705599,0.16395533261498102,0.4918017810883267,0.5344383847859456,0.34296193832614524,0.3967066751173297,0.3966903083409935,0.17562324286034992,0.29140981657503434,0.20888166193139507,0.08369214776913612,0.49114140697269115,0.5902775701573525,0.5556276151621551,0.0836091044409252,0.134263422481812,0.08745736688729946,0.07908260165638084,0.6718031526122259,0.10660962785340507,0.43887266539191166,0.33312696474570935,0.2170306811951578,0.10130463187977914,0.5156994239588728,0.475667386706188,0.21689459673564976,0.21903421160426018,0.3780572726275916,0.174147274348665,0.14672870349878772,0.16376899578671583,0.45912250953776657,0.4773706709031099,0.12515714886771587,0.3377275096170198,0.19885169644538275,0.25672221666681727,0.053485693423448825,0.09757519716741739,0.3255372463945655,0.48081278587537746,0.29596724073439284,0.37874977994548986,0.44276164441583704,0.45193044432405405,0.27503886840486547,0.37767063253901106,0.098032835949139,0.031202942759416773,0.4270848519817478,0.7253853088692115,0.28910938609282133,0.22710080242950015,0.23201550050522893,0.2914438778092716,0.45784753489748986,0.6955151644686305,0.29151599491220376,0.4038979037939192,0.2595468162096904,0.47097495955842933,0.3430076534838589,0.4486998799859049,0.20924565417583157,0.5241349409707344,0.09401743785021818,0.5437203742810232,0.19380112536585586,0.5678060609706121,0.21015912261616024,0.4713527049962119,0.01579671538940869,0.5862174680247437,0.11646053999689576,0.42396859269881276,0.42168430400987,0.0662951653160693,0.05730099435930214,0.7065798501274431,0.18196183633600108,0.5010877364354521,0.43886784754866587,0.05652165200234341,0.2548118602025266,0.5612231591862624,0.2642820964158009,0.16914545395794645,0.18608683619044095,0.5896278684805957,0.10882033048145924,0.5905475320262642,0.651323608298071,0.4325521912352839,0.4900561747496969,0.273682150392396,0.5182306127956876,0.22424662957028957,0.12409194277703414,0.3362395699511882,0.23521533836132413,0.4152583994047388,0.16724449221951707,0.5840026567424952,0.17662191976242297,0.4215852476476553,0.5814268802053891,0.32814907025448514,0.2570020568541947,0.32071284303789827,0.5890266111106883,0.22074431400301006,0.4559487498936312,0.45301040785632546,0.15616943751797382,0.36854367563854834,0.4924726036089212,0.5015444665894344,0.5151243528528232,0.47983940525382507,0.2774479440810371,0.3094642868053431,0.18120480968186187,0.6146187133756076,0.1843442597712019,0.16331612966683567,0.6325664106460914,0.6665439831995392,0.5665562203873105,0.4106771455785938,0.5316821093544079,0.4383852743802717,0.05677356382608045,0.33164139875846504,0.06692717647081069,0.2055795880282361,0.2000826469791766,0.26355792713241794,0.2694934538583642,0.312774379272311,0.15763398947251353,0.10953798812315849,0.32027352112180124,0.29143067862083566,0.15216648562751411,0.20606733596757396,0.47558544649156304,0.4223078081427552,0.5244320683072106,0.364405397741578,0.48194257512260236,0.24195249168789515,0.1802399718704843,0.42155046897250087,0.4969941719112252,0.1617956434300236,0.28269744693216065,0.3470283167589329,0.3199519013664059,0.26656013881899504,0.377528668631465,0.6353227177801641,0.39934494576849566,0.30677366724012706,0.2932026141318246,0.7184240877683965,0.16873848753275522,0.37668514819425075,0.6555908985614872,0.7623235078189762,0.21867799825552553,0.4606941709939657,0.4744251726505558,0.08894662601352299,0.4847763268364851,0.19317676370865436,0.22102449114231135,0.11413921774291699,0.29445746116867255,0.6225886231407352,0.4576351215659266,0.2811979681293195,0.30520581436922684,0.21431555309718175,0.18279954387204772,0.04086414850475907,0.34503598492256715,0.38753120879138747,0.13453820900493058,0.020948759438385617,0.5688778123006885,0.19088341862604372,0.22024145724441355,0.17721264478446316,0.06536063939302705,0.5493089071344864,0.5664156566897905,0.31053339720427414,0.5134602391065135,0.2938116282640936,0.36918754641516294,0.3643748293125227,0.40517518908798306,0.2452357780406061,0.21293716420837594,0.15043355761988464,0.23663378769039653,0.3367185885773467,0.18165685845447366,0.22940643344107006,0.4468424463829222,0.27664670249703016,0.39506411189326257,0.42680135552257886,0.2651972610652777,0.13640578316059065,0.6713291503527038,0.05663638749077119,0.12012786757572176,0.45279687859113366,0.5512384175145542,0.1356191394712632,0.0958171178059532,0.4007541593868262,0.06406338917633686,0.45185767038275054,0.20678871111154115,0.0723172120737277,0.46853448505106776,0.23393427122758595,0.2873869488130513,0.13290403559110467,0.034716060097140594,0.7632337870424437,0.11138682109042607,0.24193092501786215,0.22152242814127218,0.07686632071429292,0.2606577907595762,0.22883165895256924,0.3866207218328031,0.09717293561770018,0.1896377387560391,0.2538148888371494,0.46253121115516427,0.5869679222174514,0.2663921382858256,0.5750656865742502,0.32033042085010327,0.24270754184390017,0.171816476350381,0.41084878554012505,0.499910683171729,0.2951350840345597,0.6462824303315522,0.43779217092480965,0.3303011586832844,0.5922627079878284,0.527719843174854,0.06077460904083916,0.26185224659270784,0.5456098168734698,0.08248208828739881,0.4600600551245284,0.07745475734152339,0.132358466019716,0.13626167134826217,0.3865904797260592,0.4043093295718903,0.6694633654163243,0.6146030598673351,0.08700431840773795,0.15348295569144324,0.31230000609681624,0.3629739091470261,0.4118759484471985,0.2109240124754746,0.31725165615360795],\"hovertemplate\":\"Category 1=%{a}\\u003cbr\\u003eCategory 2=%{b}\\u003cbr\\u003eCategory 3=%{c}\\u003cextra\\u003e\\u003c\\u002fextra\\u003e\",\"legendgroup\":\"\",\"marker\":{\"color\":\"#636efa\",\"opacity\":0.5,\"symbol\":\"circle\"},\"mode\":\"markers\",\"name\":\"\",\"showlegend\":false,\"subplot\":\"ternary\",\"type\":\"scatterternary\"}],                        {\"template\":{\"data\":{\"histogram2dcontour\":[{\"type\":\"histogram2dcontour\",\"colorbar\":{\"outlinewidth\":0,\"ticks\":\"\"},\"colorscale\":[[0.0,\"#0d0887\"],[0.1111111111111111,\"#46039f\"],[0.2222222222222222,\"#7201a8\"],[0.3333333333333333,\"#9c179e\"],[0.4444444444444444,\"#bd3786\"],[0.5555555555555556,\"#d8576b\"],[0.6666666666666666,\"#ed7953\"],[0.7777777777777778,\"#fb9f3a\"],[0.8888888888888888,\"#fdca26\"],[1.0,\"#f0f921\"]]}],\"choropleth\":[{\"type\":\"choropleth\",\"colorbar\":{\"outlinewidth\":0,\"ticks\":\"\"}}],\"histogram2d\":[{\"type\":\"histogram2d\",\"colorbar\":{\"outlinewidth\":0,\"ticks\":\"\"},\"colorscale\":[[0.0,\"#0d0887\"],[0.1111111111111111,\"#46039f\"],[0.2222222222222222,\"#7201a8\"],[0.3333333333333333,\"#9c179e\"],[0.4444444444444444,\"#bd3786\"],[0.5555555555555556,\"#d8576b\"],[0.6666666666666666,\"#ed7953\"],[0.7777777777777778,\"#fb9f3a\"],[0.8888888888888888,\"#fdca26\"],[1.0,\"#f0f921\"]]}],\"heatmap\":[{\"type\":\"heatmap\",\"colorbar\":{\"outlinewidth\":0,\"ticks\":\"\"},\"colorscale\":[[0.0,\"#0d0887\"],[0.1111111111111111,\"#46039f\"],[0.2222222222222222,\"#7201a8\"],[0.3333333333333333,\"#9c179e\"],[0.4444444444444444,\"#bd3786\"],[0.5555555555555556,\"#d8576b\"],[0.6666666666666666,\"#ed7953\"],[0.7777777777777778,\"#fb9f3a\"],[0.8888888888888888,\"#fdca26\"],[1.0,\"#f0f921\"]]}],\"heatmapgl\":[{\"type\":\"heatmapgl\",\"colorbar\":{\"outlinewidth\":0,\"ticks\":\"\"},\"colorscale\":[[0.0,\"#0d0887\"],[0.1111111111111111,\"#46039f\"],[0.2222222222222222,\"#7201a8\"],[0.3333333333333333,\"#9c179e\"],[0.4444444444444444,\"#bd3786\"],[0.5555555555555556,\"#d8576b\"],[0.6666666666666666,\"#ed7953\"],[0.7777777777777778,\"#fb9f3a\"],[0.8888888888888888,\"#fdca26\"],[1.0,\"#f0f921\"]]}],\"contourcarpet\":[{\"type\":\"contourcarpet\",\"colorbar\":{\"outlinewidth\":0,\"ticks\":\"\"}}],\"contour\":[{\"type\":\"contour\",\"colorbar\":{\"outlinewidth\":0,\"ticks\":\"\"},\"colorscale\":[[0.0,\"#0d0887\"],[0.1111111111111111,\"#46039f\"],[0.2222222222222222,\"#7201a8\"],[0.3333333333333333,\"#9c179e\"],[0.4444444444444444,\"#bd3786\"],[0.5555555555555556,\"#d8576b\"],[0.6666666666666666,\"#ed7953\"],[0.7777777777777778,\"#fb9f3a\"],[0.8888888888888888,\"#fdca26\"],[1.0,\"#f0f921\"]]}],\"surface\":[{\"type\":\"surface\",\"colorbar\":{\"outlinewidth\":0,\"ticks\":\"\"},\"colorscale\":[[0.0,\"#0d0887\"],[0.1111111111111111,\"#46039f\"],[0.2222222222222222,\"#7201a8\"],[0.3333333333333333,\"#9c179e\"],[0.4444444444444444,\"#bd3786\"],[0.5555555555555556,\"#d8576b\"],[0.6666666666666666,\"#ed7953\"],[0.7777777777777778,\"#fb9f3a\"],[0.8888888888888888,\"#fdca26\"],[1.0,\"#f0f921\"]]}],\"mesh3d\":[{\"type\":\"mesh3d\",\"colorbar\":{\"outlinewidth\":0,\"ticks\":\"\"}}],\"scatter\":[{\"fillpattern\":{\"fillmode\":\"overlay\",\"size\":10,\"solidity\":0.2},\"type\":\"scatter\"}],\"parcoords\":[{\"type\":\"parcoords\",\"line\":{\"colorbar\":{\"outlinewidth\":0,\"ticks\":\"\"}}}],\"scatterpolargl\":[{\"type\":\"scatterpolargl\",\"marker\":{\"colorbar\":{\"outlinewidth\":0,\"ticks\":\"\"}}}],\"bar\":[{\"error_x\":{\"color\":\"#2a3f5f\"},\"error_y\":{\"color\":\"#2a3f5f\"},\"marker\":{\"line\":{\"color\":\"#E5ECF6\",\"width\":0.5},\"pattern\":{\"fillmode\":\"overlay\",\"size\":10,\"solidity\":0.2}},\"type\":\"bar\"}],\"scattergeo\":[{\"type\":\"scattergeo\",\"marker\":{\"colorbar\":{\"outlinewidth\":0,\"ticks\":\"\"}}}],\"scatterpolar\":[{\"type\":\"scatterpolar\",\"marker\":{\"colorbar\":{\"outlinewidth\":0,\"ticks\":\"\"}}}],\"histogram\":[{\"marker\":{\"pattern\":{\"fillmode\":\"overlay\",\"size\":10,\"solidity\":0.2}},\"type\":\"histogram\"}],\"scattergl\":[{\"type\":\"scattergl\",\"marker\":{\"colorbar\":{\"outlinewidth\":0,\"ticks\":\"\"}}}],\"scatter3d\":[{\"type\":\"scatter3d\",\"line\":{\"colorbar\":{\"outlinewidth\":0,\"ticks\":\"\"}},\"marker\":{\"colorbar\":{\"outlinewidth\":0,\"ticks\":\"\"}}}],\"scattermapbox\":[{\"type\":\"scattermapbox\",\"marker\":{\"colorbar\":{\"outlinewidth\":0,\"ticks\":\"\"}}}],\"scatterternary\":[{\"type\":\"scatterternary\",\"marker\":{\"colorbar\":{\"outlinewidth\":0,\"ticks\":\"\"}}}],\"scattercarpet\":[{\"type\":\"scattercarpet\",\"marker\":{\"colorbar\":{\"outlinewidth\":0,\"ticks\":\"\"}}}],\"carpet\":[{\"aaxis\":{\"endlinecolor\":\"#2a3f5f\",\"gridcolor\":\"white\",\"linecolor\":\"white\",\"minorgridcolor\":\"white\",\"startlinecolor\":\"#2a3f5f\"},\"baxis\":{\"endlinecolor\":\"#2a3f5f\",\"gridcolor\":\"white\",\"linecolor\":\"white\",\"minorgridcolor\":\"white\",\"startlinecolor\":\"#2a3f5f\"},\"type\":\"carpet\"}],\"table\":[{\"cells\":{\"fill\":{\"color\":\"#EBF0F8\"},\"line\":{\"color\":\"white\"}},\"header\":{\"fill\":{\"color\":\"#C8D4E3\"},\"line\":{\"color\":\"white\"}},\"type\":\"table\"}],\"barpolar\":[{\"marker\":{\"line\":{\"color\":\"#E5ECF6\",\"width\":0.5},\"pattern\":{\"fillmode\":\"overlay\",\"size\":10,\"solidity\":0.2}},\"type\":\"barpolar\"}],\"pie\":[{\"automargin\":true,\"type\":\"pie\"}]},\"layout\":{\"autotypenumbers\":\"strict\",\"colorway\":[\"#636efa\",\"#EF553B\",\"#00cc96\",\"#ab63fa\",\"#FFA15A\",\"#19d3f3\",\"#FF6692\",\"#B6E880\",\"#FF97FF\",\"#FECB52\"],\"font\":{\"color\":\"#2a3f5f\"},\"hovermode\":\"closest\",\"hoverlabel\":{\"align\":\"left\"},\"paper_bgcolor\":\"white\",\"plot_bgcolor\":\"#E5ECF6\",\"polar\":{\"bgcolor\":\"#E5ECF6\",\"angularaxis\":{\"gridcolor\":\"white\",\"linecolor\":\"white\",\"ticks\":\"\"},\"radialaxis\":{\"gridcolor\":\"white\",\"linecolor\":\"white\",\"ticks\":\"\"}},\"ternary\":{\"bgcolor\":\"#E5ECF6\",\"aaxis\":{\"gridcolor\":\"white\",\"linecolor\":\"white\",\"ticks\":\"\"},\"baxis\":{\"gridcolor\":\"white\",\"linecolor\":\"white\",\"ticks\":\"\"},\"caxis\":{\"gridcolor\":\"white\",\"linecolor\":\"white\",\"ticks\":\"\"}},\"coloraxis\":{\"colorbar\":{\"outlinewidth\":0,\"ticks\":\"\"}},\"colorscale\":{\"sequential\":[[0.0,\"#0d0887\"],[0.1111111111111111,\"#46039f\"],[0.2222222222222222,\"#7201a8\"],[0.3333333333333333,\"#9c179e\"],[0.4444444444444444,\"#bd3786\"],[0.5555555555555556,\"#d8576b\"],[0.6666666666666666,\"#ed7953\"],[0.7777777777777778,\"#fb9f3a\"],[0.8888888888888888,\"#fdca26\"],[1.0,\"#f0f921\"]],\"sequentialminus\":[[0.0,\"#0d0887\"],[0.1111111111111111,\"#46039f\"],[0.2222222222222222,\"#7201a8\"],[0.3333333333333333,\"#9c179e\"],[0.4444444444444444,\"#bd3786\"],[0.5555555555555556,\"#d8576b\"],[0.6666666666666666,\"#ed7953\"],[0.7777777777777778,\"#fb9f3a\"],[0.8888888888888888,\"#fdca26\"],[1.0,\"#f0f921\"]],\"diverging\":[[0,\"#8e0152\"],[0.1,\"#c51b7d\"],[0.2,\"#de77ae\"],[0.3,\"#f1b6da\"],[0.4,\"#fde0ef\"],[0.5,\"#f7f7f7\"],[0.6,\"#e6f5d0\"],[0.7,\"#b8e186\"],[0.8,\"#7fbc41\"],[0.9,\"#4d9221\"],[1,\"#276419\"]]},\"xaxis\":{\"gridcolor\":\"white\",\"linecolor\":\"white\",\"ticks\":\"\",\"title\":{\"standoff\":15},\"zerolinecolor\":\"white\",\"automargin\":true,\"zerolinewidth\":2},\"yaxis\":{\"gridcolor\":\"white\",\"linecolor\":\"white\",\"ticks\":\"\",\"title\":{\"standoff\":15},\"zerolinecolor\":\"white\",\"automargin\":true,\"zerolinewidth\":2},\"scene\":{\"xaxis\":{\"backgroundcolor\":\"#E5ECF6\",\"gridcolor\":\"white\",\"linecolor\":\"white\",\"showbackground\":true,\"ticks\":\"\",\"zerolinecolor\":\"white\",\"gridwidth\":2},\"yaxis\":{\"backgroundcolor\":\"#E5ECF6\",\"gridcolor\":\"white\",\"linecolor\":\"white\",\"showbackground\":true,\"ticks\":\"\",\"zerolinecolor\":\"white\",\"gridwidth\":2},\"zaxis\":{\"backgroundcolor\":\"#E5ECF6\",\"gridcolor\":\"white\",\"linecolor\":\"white\",\"showbackground\":true,\"ticks\":\"\",\"zerolinecolor\":\"white\",\"gridwidth\":2}},\"shapedefaults\":{\"line\":{\"color\":\"#2a3f5f\"}},\"annotationdefaults\":{\"arrowcolor\":\"#2a3f5f\",\"arrowhead\":0,\"arrowwidth\":1},\"geo\":{\"bgcolor\":\"white\",\"landcolor\":\"#E5ECF6\",\"subunitcolor\":\"white\",\"showland\":true,\"showlakes\":true,\"lakecolor\":\"white\"},\"title\":{\"x\":0.05},\"mapbox\":{\"style\":\"light\"}}},\"ternary\":{\"domain\":{\"x\":[0.0,1.0],\"y\":[0.0,1.0]},\"aaxis\":{\"title\":{\"text\":\"Category 1\"}},\"baxis\":{\"title\":{\"text\":\"Category 2\"}},\"caxis\":{\"title\":{\"text\":\"Category 3\"}}},\"legend\":{\"tracegroupgap\":0},\"title\":{\"text\":\"Dirichlet Prior\"}},                        {\"responsive\": true}                    ).then(function(){\n",
       "                            \n",
       "var gd = document.getElementById('606efbee-d8cb-45cd-8316-1c41c7fecc51');\n",
       "var x = new MutationObserver(function (mutations, observer) {{\n",
       "        var display = window.getComputedStyle(gd).display;\n",
       "        if (!display || display === 'none') {{\n",
       "            console.log([gd, 'removed!']);\n",
       "            Plotly.purge(gd);\n",
       "            observer.disconnect();\n",
       "        }}\n",
       "}});\n",
       "\n",
       "// Listen for the removal of the full notebook cells\n",
       "var notebookContainer = gd.closest('#notebook-container');\n",
       "if (notebookContainer) {{\n",
       "    x.observe(notebookContainer, {childList: true});\n",
       "}}\n",
       "\n",
       "// Listen for the clearing of the current output cell\n",
       "var outputEl = gd.closest('.output');\n",
       "if (outputEl) {{\n",
       "    x.observe(outputEl, {childList: true});\n",
       "}}\n",
       "\n",
       "                        })                };                });            </script>        </div>"
      ]
     },
     "metadata": {},
     "output_type": "display_data"
    },
    {
     "data": {
      "application/vnd.plotly.v1+json": {
       "config": {
        "plotlyServerURL": "https://plot.ly"
       },
       "data": [
        {
         "a": [
          0.5758029128878092,
          0.6349263440866458,
          0.5417902500567031,
          0.5984033239075437,
          0.526302809594617,
          0.5327070871071122,
          0.5490729573461118,
          0.5890300555382497,
          0.4824640991691136,
          0.5044329819927696,
          0.5167428036163647,
          0.5756061955853161,
          0.5323838882147242,
          0.5285505671851427,
          0.6140033912025623,
          0.5980215669152492,
          0.5265594624994856,
          0.5688695030094783,
          0.5742802509814607,
          0.5401193862186493,
          0.44413689326788136,
          0.54457803873268,
          0.5189959834921583,
          0.4594597095829887,
          0.4802773027980329,
          0.5654160454616055,
          0.5006701847263566,
          0.5223736386363735,
          0.5568191225577851,
          0.3750913544624738,
          0.5323037679465802,
          0.49049280511304094,
          0.5264238161557737,
          0.4872991948626304,
          0.49805336001731026,
          0.5505285193120755,
          0.5562252853407478,
          0.5885497156018397,
          0.4950998847209945,
          0.5151840468328663,
          0.5136920786703413,
          0.6005926605353751,
          0.5219241912932382,
          0.5035861166354118,
          0.4430772646388084,
          0.5804883764797557,
          0.4768357101725991,
          0.487017480319415,
          0.553468166396177,
          0.5775415394358853,
          0.5299286962192198,
          0.5403193037040189,
          0.5433461275243038,
          0.5060210230231317,
          0.5626374539143886,
          0.4573056473899196,
          0.6209125974864278,
          0.5484948162126878,
          0.5012432739363899,
          0.5459123849154317,
          0.5059715447121871,
          0.5877118065991929,
          0.5490225116409264,
          0.5846665629355994,
          0.5695717258117666,
          0.5204527326726427,
          0.48143386873548627,
          0.479946943721995,
          0.5604180062555139,
          0.5842531560009013,
          0.5547418193759701,
          0.5425534552416947,
          0.5762029404492175,
          0.5892818221502902,
          0.4747575244568625,
          0.519248743868927,
          0.5600543487681436,
          0.5225104065215718,
          0.5556480238097072,
          0.4712368776387995,
          0.4940913750039676,
          0.5638274799410349,
          0.6378960871714473,
          0.58202582214384,
          0.5329834483760114,
          0.5755972186301516,
          0.4751205823180284,
          0.4976095486421473,
          0.6273400158029688,
          0.574055030926349,
          0.6036001584259997,
          0.4687384449801446,
          0.5508448581110196,
          0.4545007087840352,
          0.518700607707097,
          0.4986524317332586,
          0.4906465260633151,
          0.4502148744611536,
          0.5594996891477063,
          0.5450496809085116,
          0.4662849327902056,
          0.5362330501500595,
          0.595216995628064,
          0.5016301593123785,
          0.5060654335849041,
          0.477575950205844,
          0.49591528978797866,
          0.5230101432660157,
          0.5135312386036064,
          0.536909210925175,
          0.6175917421113413,
          0.4974512983700471,
          0.5362377588719108,
          0.5348760586097976,
          0.5305285897850148,
          0.6053586660990713,
          0.5181104783338544,
          0.6020647974053346,
          0.5088079966965322,
          0.5826829794647422,
          0.5305578822948145,
          0.6204270401021886,
          0.47476786751002537,
          0.6374316731029823,
          0.42629879782696734,
          0.5308767074253936,
          0.4713480024362344,
          0.5474246282434397,
          0.5222595257528533,
          0.5716318835084078,
          0.5248433159547446,
          0.5136453352480647,
          0.6658504822529127,
          0.49940856605245826,
          0.4793688350098887,
          0.5020194931538203,
          0.4921563491111312,
          0.5140158900211637,
          0.5059970342874887,
          0.5405142201220915,
          0.5606442355614915,
          0.4701637778600788,
          0.5713749442139665,
          0.5522450711058097,
          0.5083255890477968,
          0.5399742382780186,
          0.5444623676053838,
          0.5238999845338947,
          0.5081943394989449,
          0.48033158527239533,
          0.48315886489543663,
          0.5520014300583199,
          0.49462545068831465,
          0.6136171396166751,
          0.48456357316568427,
          0.5424557029699459,
          0.49810617156715004,
          0.512222312848311,
          0.5436897562240146,
          0.46173985201895235,
          0.4985818409013169,
          0.5660915905485026,
          0.6193414401216784,
          0.5120443956369751,
          0.5735443504944441,
          0.5986723908329878,
          0.5604492179904551,
          0.5486428074170955,
          0.5490226216518445,
          0.5474987378322854,
          0.5377084366332175,
          0.4885283003933236,
          0.4824737280632429,
          0.5388224206556196,
          0.503497958656352,
          0.49177943442803657,
          0.6078150102149406,
          0.45655156533289315,
          0.5050467631110795,
          0.5633257753892019,
          0.4928157114983471,
          0.5750865513032785,
          0.46548196111257695,
          0.5149213308783772,
          0.5826286360248161,
          0.39933030433462824,
          0.5583908457547356,
          0.5890621099212048,
          0.5886015514557623,
          0.5710025258651353,
          0.5798839488767408,
          0.6099213964017103,
          0.4320432369199559,
          0.48047523996814046,
          0.5680308082640873,
          0.6156044047780584,
          0.5475177417302525,
          0.5061714429500863,
          0.49360602149752475,
          0.510218800219846,
          0.5819048277894749,
          0.5670790547939975,
          0.49004236910107773,
          0.5203007075063107,
          0.5307531986173465,
          0.5559520685400904,
          0.5826470248279352,
          0.4963039300395358,
          0.5673867747392578,
          0.49734818981259427,
          0.5592757887338835,
          0.40579731666231017,
          0.42842775430115376,
          0.6051677381560512,
          0.5301997901966964,
          0.5252253029769359,
          0.5110586242382532,
          0.5047094022132348,
          0.4309437421661112,
          0.4446548710286327,
          0.5574061396188741,
          0.5454845086416032,
          0.47574280695244975,
          0.4471110667696359,
          0.48051547551718826,
          0.46799314031771605,
          0.5516364170013789,
          0.5584267994951673,
          0.5871900117843517,
          0.49303164787994375,
          0.5235030176300133,
          0.5359877927014423,
          0.5980282478966314,
          0.5302626516969452,
          0.5444371842793188,
          0.48818142043813845,
          0.5023142083439718,
          0.5154533818949103,
          0.5544921900698915,
          0.5416764721590036,
          0.5439456811104819,
          0.4511282677579962,
          0.5571911677787933,
          0.6374003459272856,
          0.5222301001691474,
          0.571421992467313,
          0.5359287849810017,
          0.4503668216906655,
          0.43811873905812193,
          0.4925675874922231,
          0.5945267116694775,
          0.5287503720873619,
          0.4821243459745677,
          0.5465449578950193,
          0.49511401038297875,
          0.5029379213009914,
          0.5257338030873988,
          0.5803187582526913,
          0.5259775391631345,
          0.45244391164577685,
          0.5768099112628892,
          0.5684239958510883,
          0.6161446380282278,
          0.47940822292113355,
          0.5035349908223143,
          0.5363322232539696,
          0.5675141419154247,
          0.4763927480357124,
          0.47119467667256726,
          0.5341399395208093,
          0.5737437212569264,
          0.45103883097003206,
          0.6088640655807489,
          0.5653326984038949,
          0.557192591236838,
          0.5093383857876922,
          0.5500644641604245,
          0.5350620854056038,
          0.44967472895792504,
          0.5120007475372578,
          0.4766798284579484,
          0.5961652457234126,
          0.4195092445282955,
          0.5092193842153916,
          0.5676604709372186,
          0.5568508209362718,
          0.5749074915404546,
          0.5572538582098164,
          0.5285991116785348,
          0.5139235494327794,
          0.6053080880321979,
          0.5730366765690557,
          0.5073866976578422,
          0.591343469726354,
          0.5125266711920662,
          0.5494307303988677,
          0.4435350425308695,
          0.5129714437587054,
          0.6037594476359076,
          0.4650444163554732,
          0.4107641244164442,
          0.4630960540499315,
          0.5859333884499534,
          0.5324397927413066,
          0.5359684858391193,
          0.5425560956058955,
          0.46147839272385593,
          0.5148188188714401,
          0.5395614696024489,
          0.5638076538835031,
          0.536422021091552,
          0.5751488041933058,
          0.46846153684458264,
          0.49235980507629845,
          0.47994468400070656,
          0.5577482932063266,
          0.5617538310377155,
          0.5856748400185204,
          0.5599064076608954,
          0.5330343817608114,
          0.4966374050158436,
          0.5201461390275917,
          0.510189541277162,
          0.5746845385053491,
          0.5607009046315181,
          0.5420836621559098,
          0.5396587175814689,
          0.4764004328972998,
          0.450013098351356,
          0.5408133200002041,
          0.5270420308396422,
          0.5555904941025391,
          0.47733055553734344,
          0.5063395241508667,
          0.5629272134365226,
          0.600264743456919,
          0.5550457267640657,
          0.5386702800089942,
          0.521413981913547,
          0.552338720662708,
          0.4411652077413538,
          0.5690926148564915,
          0.5506157279944709,
          0.5674634912687024,
          0.4443096647301976,
          0.5251885524648734,
          0.5116928218071332,
          0.609942300340453,
          0.562462404350775,
          0.5780206822126995,
          0.5528394322911779,
          0.5308544185091097,
          0.5982090379782594,
          0.5394748465418975,
          0.529984040214525,
          0.4692583940028423,
          0.5029718616619083,
          0.554633667611513,
          0.4933562331537666,
          0.5517084991425063,
          0.5855272446333984,
          0.49476991729875397,
          0.5454854109308741,
          0.536330178176481,
          0.49124849499721274,
          0.5104014417484688,
          0.5212023939798688,
          0.5604671463430528,
          0.480299470988331,
          0.52863128069652,
          0.5031912914943379,
          0.6187065899490014,
          0.5347208454364716,
          0.5940932650215393,
          0.525274574631324,
          0.5427539766002384,
          0.5458823799468547,
          0.5478529187890075,
          0.5514391667630164,
          0.5504590724164696,
          0.5551459128910513,
          0.5450240440276779,
          0.46268651294661123,
          0.5179995550910376,
          0.582043327154184,
          0.5799967238219699,
          0.5381177586671158,
          0.5986513433140886,
          0.5773741205975382,
          0.41962523920079353,
          0.5355770721266133,
          0.5068397099368503,
          0.5655965156312298,
          0.4892683349271788,
          0.5100736156444318,
          0.6094153008949721,
          0.45818645656336177,
          0.5335414822843,
          0.583497020009525,
          0.49021398859845644,
          0.5492588497639244,
          0.5804519264455708,
          0.4901781239709645,
          0.5313535728601114,
          0.48553079680530115,
          0.46865097561815044,
          0.5193465136036807,
          0.5253429615827658,
          0.5231739879380448,
          0.5184664711400585,
          0.525230761230423,
          0.5196579805194125,
          0.5502729256283067,
          0.5552240847187467,
          0.5593877275156744,
          0.5222564287387561,
          0.48332358716086093,
          0.5246745013606755,
          0.5054841731580372,
          0.47011495554928845,
          0.4275311368218583,
          0.494790941140512,
          0.5045953744228773,
          0.5083238580385563,
          0.49221597298515257,
          0.4829171534020184,
          0.486134496468216,
          0.5928735424984553,
          0.5431741408076788,
          0.5417216304918432,
          0.4409410018936125,
          0.5602197337955155,
          0.45487364286050574,
          0.5600734536154532,
          0.5147504828634105,
          0.5083921297282723,
          0.45240893124293297,
          0.5385638503439952,
          0.5268876323257429,
          0.5081989578582824,
          0.5480413176157379,
          0.5849502344477334,
          0.5540189731300458,
          0.5616473502350996,
          0.5438504257703497,
          0.5178971801462267,
          0.38910075030038976,
          0.49562978351732456,
          0.48279531511393803,
          0.5810562387777102,
          0.4846730847633671,
          0.615595935597863,
          0.5237141221393384,
          0.4448112566210846,
          0.5321192801362862,
          0.46531007984496886,
          0.5975959274611203,
          0.48790427655471846,
          0.6171319924841552,
          0.4491142832515278,
          0.5431065520955644,
          0.5135392093569129,
          0.6244991049581418,
          0.5180284967076332,
          0.5185072411444483,
          0.48122027948861873,
          0.4937679104405918,
          0.5009941004140073,
          0.5457589580295255,
          0.5332006919446192,
          0.5050751771125427,
          0.5589686209962877,
          0.5507083684091837,
          0.5971481791878681,
          0.41580831059659895,
          0.47775318935616257,
          0.5305384287195198,
          0.5602788228653061,
          0.549337023980693,
          0.42926832313367835,
          0.5120672343277248,
          0.4861247998180816,
          0.5397772020938162,
          0.5281419931083788,
          0.5154200971375907,
          0.5125198574990371,
          0.6352430635112738,
          0.5139159487304138,
          0.5954591997262978,
          0.4714323485504014,
          0.505901702949869,
          0.5791447295475527,
          0.49503703689578554,
          0.5772059909612751,
          0.5281442502948234,
          0.5818533851300041,
          0.5616739013602573,
          0.48979685367953796,
          0.505969605012373,
          0.5777229368025466
         ],
         "b": [
          0.24627893868090267,
          0.202609816607335,
          0.22362606754164502,
          0.1655700480378126,
          0.22628479293896664,
          0.23012570566051987,
          0.28588379537351977,
          0.2262471178463858,
          0.2941936831340767,
          0.16304349131868193,
          0.2374306402059559,
          0.2284570498309257,
          0.3156024227761169,
          0.3115089143428352,
          0.2277862022097792,
          0.2509328914952787,
          0.2797387511248059,
          0.18991041978464793,
          0.22004706357089993,
          0.24992027022738605,
          0.30861746451148103,
          0.25348032922629876,
          0.30895749081555174,
          0.2292973005009252,
          0.3008964720740681,
          0.2044165675184771,
          0.2552022166662393,
          0.2885379683204532,
          0.26582189781353255,
          0.3857121373372843,
          0.241797612666803,
          0.3032565538028052,
          0.23914357168040717,
          0.2298477449560144,
          0.3321710888926315,
          0.22090534708947113,
          0.23472699993634338,
          0.1329647870439643,
          0.24206382095446707,
          0.2711894458853558,
          0.2768135786753039,
          0.2319720394783836,
          0.2810974630666487,
          0.2894836437593199,
          0.3259125805698182,
          0.26538448826501376,
          0.23050593090315064,
          0.3267233824295547,
          0.2373787027722189,
          0.22601532006000385,
          0.23956633077795333,
          0.22773370889400568,
          0.2372109259393772,
          0.2882282516165938,
          0.23582779989986438,
          0.2542406115244839,
          0.22199671360697726,
          0.28888481125234167,
          0.28813981717858705,
          0.25166752361745093,
          0.24985165140093302,
          0.22744752285343114,
          0.20793631897006373,
          0.20062773203990672,
          0.21073355817647085,
          0.24439233530533877,
          0.303945707091023,
          0.2521623874757891,
          0.201599988783519,
          0.18560416051553588,
          0.22098161822410395,
          0.22756195174165733,
          0.2670389164932742,
          0.2655834437985089,
          0.3287027032686365,
          0.2634429752735893,
          0.24869756718142064,
          0.2677011225643365,
          0.25405279628622995,
          0.31952533258160504,
          0.31201335092979593,
          0.25779212787980266,
          0.20933738465936505,
          0.23392147043766193,
          0.2298847729178306,
          0.15864237036096085,
          0.2753062722635886,
          0.23171281510463654,
          0.2207616861994025,
          0.22889405554706072,
          0.1805477295437919,
          0.25819201737221525,
          0.23721636318896552,
          0.2812808571262809,
          0.31972854802647016,
          0.3169306917679456,
          0.3013601551710555,
          0.25244681895276583,
          0.28073076768584687,
          0.2735176537867644,
          0.2551924294250109,
          0.2782997424898187,
          0.20795883170560067,
          0.2718796061543664,
          0.31547432158629496,
          0.36967964438862616,
          0.3174654491115124,
          0.2549690170669801,
          0.25226551446900297,
          0.271553986034257,
          0.17862063911404633,
          0.2636092404886887,
          0.24778543931349095,
          0.2560881852925042,
          0.1969339899819517,
          0.18159870786450624,
          0.32467969179628914,
          0.21112660122760354,
          0.3224957771107373,
          0.19024779210015313,
          0.2806299522409711,
          0.18042923813077413,
          0.29414076792752786,
          0.24550100281363063,
          0.27834578509413976,
          0.24084323940721122,
          0.29391012439662917,
          0.28706414023579163,
          0.25754148887198325,
          0.23786171492721223,
          0.19093248670657342,
          0.2518799756419005,
          0.17410650107681433,
          0.26364127668043774,
          0.29312110766828775,
          0.27502376760836755,
          0.198397558446606,
          0.28154859231600593,
          0.31971202414156946,
          0.26404392098419427,
          0.21561218480781097,
          0.28146591303734875,
          0.21615502542906234,
          0.2047733982575273,
          0.2696806615836378,
          0.2478526677930869,
          0.25972122039368073,
          0.27706781556511717,
          0.28554051029597377,
          0.25381438541908424,
          0.25123969565236515,
          0.1829761533954433,
          0.2543292226435249,
          0.19033527251699822,
          0.2965195222692645,
          0.20023463223045784,
          0.20671646371738453,
          0.29997410197800195,
          0.2125776357319099,
          0.28089488240871674,
          0.333143255497255,
          0.2079773029796825,
          0.209282037878902,
          0.25771249380713795,
          0.2855794111026783,
          0.2027154060777345,
          0.22906721094760168,
          0.2479165084088417,
          0.21235943500292367,
          0.23978481699288,
          0.2659675218642911,
          0.24687849044692878,
          0.2600109091815524,
          0.25218742678428696,
          0.26763456889529014,
          0.3062558265860835,
          0.18575862484617559,
          0.25183016161264504,
          0.2502029447787031,
          0.21977299013716534,
          0.24753511850839346,
          0.22938684022713604,
          0.23197740982073436,
          0.27641547985888726,
          0.1766039749244718,
          0.3210831261642685,
          0.2669190472269255,
          0.2767012881649569,
          0.24607339641105952,
          0.2121832039740457,
          0.2316601147369041,
          0.2643909294463112,
          0.25165449743061413,
          0.2413810935719145,
          0.22235913045280958,
          0.21722654640158304,
          0.24202918102701054,
          0.28381009126774037,
          0.2367981774746488,
          0.2949653617926667,
          0.2535349371092351,
          0.18821779986339252,
          0.32102119100698007,
          0.20803186030050463,
          0.24846973276392434,
          0.2756230406667121,
          0.23404152046333468,
          0.25720823849308716,
          0.18220346201737364,
          0.22357871859901465,
          0.23327900358463508,
          0.31854654921849895,
          0.33050347518714823,
          0.21016908062223,
          0.26088262841612014,
          0.21743969006821848,
          0.26455787932813635,
          0.23349500200189507,
          0.32708513329870553,
          0.3156840575299886,
          0.23261049834755945,
          0.25859534751458424,
          0.280014896605766,
          0.3171592655805227,
          0.28154088158735385,
          0.33422197074739446,
          0.23107589664831985,
          0.2792810554784069,
          0.24903570985434165,
          0.2691531024450842,
          0.2317554277541861,
          0.2550903965666374,
          0.21217020108512502,
          0.2519282124418942,
          0.1786635093582448,
          0.1986079487038445,
          0.206320818341447,
          0.22552049415867517,
          0.2404007869674564,
          0.22883659605874448,
          0.22229652953758144,
          0.32266549791341714,
          0.2595120463429383,
          0.14466906573520058,
          0.2704832403603652,
          0.26291382171938527,
          0.24031242265209882,
          0.24762334850554646,
          0.25870006652879635,
          0.2634486960952554,
          0.1770112363849574,
          0.25501209102695943,
          0.2836488211489753,
          0.2632735165085596,
          0.3070766266265491,
          0.28164103879749525,
          0.2059610018168313,
          0.28763063100646763,
          0.25657761967063725,
          0.2798245306960441,
          0.24600647686092636,
          0.24429874748610197,
          0.21081772794340875,
          0.30578019322350647,
          0.31678287348449236,
          0.30592212943529035,
          0.20942028849384384,
          0.28536978536141394,
          0.2887577953516641,
          0.2737145656330948,
          0.23503105617789094,
          0.24059700817215993,
          0.21172737491346955,
          0.21502183408717682,
          0.20612990855090524,
          0.24100841584206548,
          0.28295481291365965,
          0.19008304728986739,
          0.2643681408598969,
          0.2806452081723264,
          0.3389887947290778,
          0.18580843486507664,
          0.34802372450840413,
          0.26507579590460695,
          0.22115795879233557,
          0.23510684474911234,
          0.24559840760876978,
          0.2567196777860747,
          0.2691831306362883,
          0.2501425518519801,
          0.21961085808665423,
          0.2534077072134584,
          0.2963926651913735,
          0.2073003341502604,
          0.2744034875260336,
          0.24178736599518522,
          0.3208655767185833,
          0.3012138147996369,
          0.23285675376971937,
          0.27420331548171284,
          0.3362194358459641,
          0.31771368216380075,
          0.21329632246570338,
          0.20149462505030424,
          0.25003432909154066,
          0.2825122907743765,
          0.2905350924514838,
          0.2714859132032322,
          0.16287904214656493,
          0.22430798353882184,
          0.2245701907916027,
          0.23073048472919092,
          0.28840975154434384,
          0.24746651505795603,
          0.28626003736838884,
          0.28500666253714935,
          0.25066926469998496,
          0.21134454725963434,
          0.317333137284544,
          0.21465867128945532,
          0.22498333107697918,
          0.2406745269163826,
          0.29858858943392624,
          0.22246928438457236,
          0.23159562953685334,
          0.24098034168992336,
          0.24284887027531396,
          0.20920998044691577,
          0.33030253101099877,
          0.21242539444755718,
          0.2824494689034915,
          0.22440835917727459,
          0.3025692822076626,
          0.252523192875738,
          0.259968905322394,
          0.24027236904834715,
          0.1968019702274036,
          0.2551318671181573,
          0.26950635823046526,
          0.24568510157700682,
          0.29655887942390574,
          0.20292913295287776,
          0.29033785692705777,
          0.2814307163152663,
          0.30443024219282805,
          0.24545155259546275,
          0.2289981583157587,
          0.17940107166174804,
          0.2796434275787907,
          0.20324655980242815,
          0.2106349284738654,
          0.31116369885640494,
          0.19010427214390738,
          0.28115966803901643,
          0.1759153891025769,
          0.2977764173082382,
          0.22416935716191833,
          0.21060919641627585,
          0.2607397757200235,
          0.25471346888895446,
          0.1731016785270939,
          0.3235531635508784,
          0.22853223454818855,
          0.17339297758591776,
          0.3127018155232635,
          0.24119229057862845,
          0.18556545605164917,
          0.2087402850990446,
          0.2913189103121398,
          0.20111215374650346,
          0.24969312600618002,
          0.22565014726720534,
          0.22897809709075928,
          0.15951110461171458,
          0.20342230717045626,
          0.30139176348418545,
          0.2483975768261783,
          0.2480193760011999,
          0.22490163402864688,
          0.179315165737828,
          0.24035860881379512,
          0.26769292394261807,
          0.3421661257841166,
          0.2768807829635191,
          0.21497326379483084,
          0.14095004171256836,
          0.18960889029925956,
          0.22976064827555276,
          0.21188668004969874,
          0.23332346635074788,
          0.2746795286957448,
          0.2650476698144994,
          0.2719299812265033,
          0.2833609303041278,
          0.3422439864782423,
          0.22687789971014408,
          0.31034351587732273,
          0.2254120200436951,
          0.20713498915500736,
          0.2965162709953553,
          0.25769250604146726,
          0.256103563272133,
          0.2906977383699595,
          0.2929959952608971,
          0.2665957166244689,
          0.23169079547068455,
          0.20995972974126229,
          0.23863579778774985,
          0.29140198470554285,
          0.24285182677616335,
          0.24897533362019464,
          0.2349972817861288,
          0.2668538890565522,
          0.2339942297239408,
          0.21694270968175444,
          0.3168714873789718,
          0.22844953117349281,
          0.3138644574281107,
          0.31387655392536773,
          0.32650327341711616,
          0.24609409805321214,
          0.2428967570673209,
          0.251113703500742,
          0.2595674422460959,
          0.31730109622275404,
          0.2654730779930873,
          0.2932459431532671,
          0.20277854584391974,
          0.2562971054581939,
          0.2401451927497714,
          0.3489115156413682,
          0.22177944449326897,
          0.3021334660367422,
          0.22275792886000118,
          0.23214043957571687,
          0.282019730382403,
          0.2807121124246759,
          0.2467341983386027,
          0.2939499923337268,
          0.27792795654497565,
          0.24696659250374545,
          0.22991950487599452,
          0.25873985453059284,
          0.23841659821900946,
          0.20768867296622776,
          0.2733311055759709,
          0.38251656345577356,
          0.19589885573405913,
          0.2996037722721396,
          0.19303684191495177,
          0.27276210251125765,
          0.20952190016638292,
          0.2333308265133682,
          0.26030903951435347,
          0.2910908729364176,
          0.32291468229110815,
          0.238298529060821,
          0.32721344799760965,
          0.20034798334810747,
          0.2636308432876744,
          0.22474633600276492,
          0.2272070345599859,
          0.19696796612521172,
          0.2316464770392332,
          0.252456909326044,
          0.33269938897961987,
          0.3000059681091253,
          0.34224028933002576,
          0.24521881460734365,
          0.22958703008817366,
          0.30071957585098424,
          0.2820066949228799,
          0.24591247759274681,
          0.23604289399571654,
          0.36396646797493254,
          0.27602701088392534,
          0.24907712344657723,
          0.19833914594445368,
          0.24791487272533203,
          0.3603762264911404,
          0.27424584963872106,
          0.2887395074009896,
          0.2758266689961126,
          0.2833819019975389,
          0.27533452589440494,
          0.20417481489817138,
          0.22663659202076314,
          0.27082827816048743,
          0.23875882663952652,
          0.3148544017089251,
          0.26184933476403704,
          0.25711742575720486,
          0.3500628228062698,
          0.2141981881656453,
          0.22961651810725026,
          0.21901167902143792,
          0.2300072008364977,
          0.3268742058631467,
          0.21785524907513748,
          0.2546794955321266
         ],
         "c": [
          0.17791814843128811,
          0.16246383930601926,
          0.23458368240165178,
          0.23602662805464375,
          0.2474123974664164,
          0.2371672072323679,
          0.16504324728036857,
          0.18472282661536446,
          0.22334221769680973,
          0.3325235266885485,
          0.24582655617767937,
          0.19593675458375812,
          0.1520136890091589,
          0.15994051847202218,
          0.1582104065876585,
          0.1510455415894722,
          0.19370178637570848,
          0.24122007720587382,
          0.20567268544763942,
          0.20996034355396478,
          0.2472456422206375,
          0.20194163204102128,
          0.17204652569228993,
          0.31124298991608595,
          0.2188262251278991,
          0.23016738701991737,
          0.2441275986074042,
          0.18908839304317313,
          0.17735897962868236,
          0.23919650820024177,
          0.22589861938661687,
          0.20625064108415375,
          0.23443261216381917,
          0.2828530601813552,
          0.1697755510900583,
          0.2285661335984533,
          0.20904771472290876,
          0.27848549735419614,
          0.26283629432453837,
          0.21362650728177784,
          0.20949434265435488,
          0.16743529998624115,
          0.19697834564011313,
          0.20693023960526838,
          0.23101015479137332,
          0.15412713525523059,
          0.29265835892425024,
          0.18625913725103033,
          0.20915313083160403,
          0.19644314050411077,
          0.23050497300282682,
          0.23194698740197536,
          0.21944294653631893,
          0.20575072536027444,
          0.201534746185747,
          0.28845374108559657,
          0.15709068890659492,
          0.1626203725349706,
          0.21061690888502296,
          0.20242009146711726,
          0.24417680388687982,
          0.18484067054737593,
          0.24304116938900977,
          0.2147057050244939,
          0.21969471601176255,
          0.2351549320220184,
          0.21462042417349061,
          0.26789066880221596,
          0.23798200496096716,
          0.23014268348356276,
          0.22427656239992577,
          0.22988459301664804,
          0.15675814305750826,
          0.14513473405120086,
          0.19653977227450106,
          0.21730828085748358,
          0.1912480840504358,
          0.20978847091409178,
          0.19029917990406275,
          0.20923778977959534,
          0.1938952740662364,
          0.17838039217916254,
          0.1527665281691877,
          0.184052707418498,
          0.237131778706158,
          0.2657604110088877,
          0.2495731454183831,
          0.2706776362532162,
          0.15189829799762872,
          0.1970509135265902,
          0.21585211203020852,
          0.2730695376476401,
          0.21193877870001485,
          0.26421843408968404,
          0.1615708442664327,
          0.18441687649879576,
          0.20799331876562943,
          0.29733830658608057,
          0.15976954316644693,
          0.18143266530472424,
          0.2785226377847834,
          0.18546720736012173,
          0.19682417266633556,
          0.22649023453325512,
          0.178460244828801,
          0.15274440540552986,
          0.18661926110050878,
          0.2220208396670043,
          0.23420324692739056,
          0.19153680304056805,
          0.2037876187746124,
          0.23893946114126408,
          0.2159768018145981,
          0.20903575609769826,
          0.2725374202330335,
          0.2130426260364224,
          0.15720982986985652,
          0.18680860136706195,
          0.16869622619273048,
          0.22706922843510458,
          0.18881216546421434,
          0.19914372176703707,
          0.2310913645624468,
          0.11706732408338702,
          0.2953554170788929,
          0.22828005316739514,
          0.2347418731671364,
          0.1655112315207686,
          0.22019898537516355,
          0.19050640156438,
          0.28422419733868187,
          0.23447468911003475,
          0.16004301667027304,
          0.23695015726710378,
          0.2275100573218235,
          0.2229567392378121,
          0.30944609244226284,
          0.2044355176628305,
          0.17429094157094197,
          0.19544185889371424,
          0.22374357963069771,
          0.24837030910257246,
          0.2124700303569711,
          0.24298153063666303,
          0.22199374936856542,
          0.2121730939288944,
          0.19581641200093558,
          0.19903219990098808,
          0.20626515020508138,
          0.2658540293085205,
          0.2656014394521982,
          0.2650224165462367,
          0.2510453266681605,
          0.19604758786632656,
          0.21891690456505125,
          0.25730966479959616,
          0.2951773647154653,
          0.18780358517368712,
          0.2437326080440754,
          0.25736526557233086,
          0.16827490360142808,
          0.22593110647181483,
          0.1713765219994196,
          0.230243110555887,
          0.1408762384028777,
          0.19861220308927766,
          0.21048357106194332,
          0.20344068417406275,
          0.23861794334523176,
          0.21271644517483454,
          0.19632404150249136,
          0.26459320915974766,
          0.25751536275520476,
          0.2089901525600935,
          0.22886747244835798,
          0.20196473898587985,
          0.20642636493888405,
          0.2916182730544618,
          0.2447502921102174,
          0.2169012344736327,
          0.2596491699932594,
          0.19552660846958536,
          0.30254062906668877,
          0.20866318926273547,
          0.24076738905071204,
          0.27958656950110333,
          0.17469010701833879,
          0.13423660191383818,
          0.16532505213317827,
          0.21681427016081906,
          0.1884559363863551,
          0.12568767415197862,
          0.31630226564943,
          0.278143666459945,
          0.20961006128310317,
          0.16716904882035852,
          0.21045307724273699,
          0.21001846578217312,
          0.26959580102782654,
          0.1948158379874873,
          0.1645602351012899,
          0.24470314534261015,
          0.18893643989194223,
          0.2716674321931845,
          0.22077706861872903,
          0.16842489079319747,
          0.1833114547087302,
          0.2464878314673771,
          0.25040976324336855,
          0.27907309158839105,
          0.20744520768148145,
          0.275656134119191,
          0.24106877051169792,
          0.1846631812217187,
          0.20891758138718336,
          0.2573350069548455,
          0.22438349643361044,
          0.2617955957848701,
          0.24197112453518324,
          0.23966107144137874,
          0.20998336203356638,
          0.19592014384381254,
          0.2442422964417842,
          0.23572966764984118,
          0.23794364289545786,
          0.19778488893488957,
          0.21728768635030132,
          0.16229214502642575,
          0.1637742783613066,
          0.23781524967497214,
          0.24474155461580072,
          0.20892181073192037,
          0.18980155101824348,
          0.21780913586116066,
          0.27689930636243637,
          0.31321063085801704,
          0.2913649733145812,
          0.2590261239464146,
          0.20510702296265212,
          0.22948693178225188,
          0.23375778935193656,
          0.22620623432858672,
          0.1832967858782683,
          0.21793058833751383,
          0.2072866594704875,
          0.16566418581330178,
          0.22375879236689952,
          0.30200982980378793,
          0.3031811944130817,
          0.24398371641252153,
          0.22846205194556518,
          0.21623753688567884,
          0.2342268328764569,
          0.190181525596421,
          0.19780936299047208,
          0.2154210399015134,
          0.26830519509576994,
          0.13205061074084107,
          0.21744484116622817,
          0.2677315576581791,
          0.1771836118761844,
          0.18727725666280984,
          0.17303763402836347,
          0.21481158385536012,
          0.17968213569319347,
          0.1577456473107401,
          0.2230655695907315,
          0.23823746660287365,
          0.24004752797576867,
          0.19214549484609603,
          0.19122522256518262,
          0.30836416085780793,
          0.17940855950578155,
          0.21964546750892835,
          0.23667750021225697,
          0.24965319837024236,
          0.16698072292591593,
          0.27485486730452874,
          0.2859571301821781,
          0.20735404429041565,
          0.184331376812974,
          0.21802631941151068,
          0.23246703096330035,
          0.22570481988000138,
          0.21118157027044585,
          0.2080423343146159,
          0.17949410085077547,
          0.18602646400410885,
          0.20221775768517675,
          0.23593389871524045,
          0.17508105388114792,
          0.173555616217486,
          0.19622063715078442,
          0.20135619612338584,
          0.2130698412819002,
          0.2087819036059471,
          0.23559938075054712,
          0.1858147414416576,
          0.163383798594373,
          0.2607522681628139,
          0.25301643973759164,
          0.21919026378626794,
          0.20077028908434333,
          0.26606558220838905,
          0.21399718506934012,
          0.17493161361972792,
          0.24798651482466025,
          0.2136952679253277,
          0.2975594882509862,
          0.21188436257767507,
          0.2390077881168452,
          0.19412071107750323,
          0.24312871161107358,
          0.2601736798657455,
          0.2337952786309047,
          0.15724504425652414,
          0.18757690426229953,
          0.20298061272184503,
          0.12276045505456053,
          0.2523069469497331,
          0.2783792639071772,
          0.23917933405602582,
          0.1912218692889118,
          0.20284617711007868,
          0.20770346583162866,
          0.2169359961541668,
          0.21749241214321707,
          0.3143895866557845,
          0.2196843706376452,
          0.24676128555223892,
          0.19050850025686655,
          0.22000114672018628,
          0.22010016225499393,
          0.24113728297339518,
          0.17710388124108342,
          0.15946288749473392,
          0.24815230300853064,
          0.20619785287284847,
          0.20907965985598773,
          0.20197617776028506,
          0.26227591283474033,
          0.22797825219063078,
          0.15904641507847134,
          0.1511057924160313,
          0.2512600930769745,
          0.22935989493966386,
          0.2593090198771083,
          0.21065662799779897,
          0.15789416807043435,
          0.21873275798487232,
          0.2365256392349567,
          0.15798188263448523,
          0.21168668987783318,
          0.17936548541908615,
          0.2941005706828982,
          0.23296518868891955,
          0.27285878117617346,
          0.23475713597221104,
          0.24590399112620975,
          0.1935780319685392,
          0.2413710768395077,
          0.18167691915036763,
          0.22598235452093735,
          0.2902768442376014,
          0.19604968947952373,
          0.24840626767290278,
          0.29323214996848185,
          0.23079256855790253,
          0.22838161869952905,
          0.27025656555697664,
          0.24711558249948212,
          0.15564326278379323,
          0.23630105747276908,
          0.24639563036674614,
          0.2713031181982197,
          0.15585425991557614,
          0.20572004322696685,
          0.2041277052097925,
          0.2236591992083367,
          0.27022576184570235,
          0.20449547829515344,
          0.18728303202970403,
          0.1951473612692721,
          0.2051196619454433,
          0.20298340905098522,
          0.2790532344654617,
          0.27227335103362477,
          0.17158800841035857,
          0.210739199352763,
          0.34705129444845845,
          0.189743399177642,
          0.2281126202486504,
          0.1624735031422669,
          0.2273707347686935,
          0.14768239787732598,
          0.1637067993948839,
          0.23147002755931548,
          0.24104649767200498,
          0.2093679908354678,
          0.21326974040618832,
          0.19304864419460843,
          0.16344451028229612,
          0.21912413765907604,
          0.17565043187899146,
          0.24787348657022998,
          0.2996582289111649,
          0.27069375665505707,
          0.23602124062948446,
          0.1854240273564124,
          0.23868170208377815,
          0.22579390514938238,
          0.24534473769445875,
          0.1828731853151412,
          0.21078168555731253,
          0.22366956280257114,
          0.16087208388227212,
          0.2882268816656462,
          0.16146104121121385,
          0.18063927291659496,
          0.20338177103359545,
          0.32637476512492963,
          0.2623123017921671,
          0.24429092207638067,
          0.2321086997153478,
          0.19048293079209333,
          0.25160976860489437,
          0.22061956037851688,
          0.20434791165762503,
          0.20052875373412712,
          0.21813317675838534,
          0.2101474824650194,
          0.21800082171121557,
          0.242992891102752,
          0.21716861752454564,
          0.25310907756087253,
          0.20958813988932465,
          0.266878956332391,
          0.21470195131740197,
          0.17916237534053042,
          0.21387308559674198,
          0.2049920898805164,
          0.1851302606762722,
          0.18724117233936155,
          0.19993605154589086,
          0.2484609012634226,
          0.20877171427780233,
          0.22838268624383662,
          0.3084713607486163,
          0.21760091261392228,
          0.2259069193073379,
          0.24256481272537522,
          0.17488216423575426,
          0.24295505134729337,
          0.2948797038645618,
          0.1767898469272963,
          0.21177523786392308,
          0.1641055434780587,
          0.18488227544767183,
          0.1825200241677373,
          0.2872548734607979,
          0.23214711190167073,
          0.2592537560831011,
          0.17853292891664654,
          0.2503250262531335,
          0.22903584952950773,
          0.18608033153176134,
          0.2062261214502829,
          0.15676561025596697,
          0.20902222736313097,
          0.23721227796720704,
          0.19420524703647304,
          0.15902468408083228,
          0.20337915399806966,
          0.16680892681641543,
          0.22022522142846843,
          0.246219799759912,
          0.22038444783390268,
          0.24138203119024035,
          0.20274810329397497,
          0.21035545037518133,
          0.2136869160335541,
          0.22513569278092882,
          0.1843961289100714,
          0.1884761048940823,
          0.20924537696800438,
          0.28330532760279153,
          0.13812034446796298,
          0.2152557731090988,
          0.16578197363417582,
          0.21371324974067352,
          0.23224896228609396,
          0.1637378446952424,
          0.15490014029794463,
          0.20859582087307962,
          0.2422392315979264,
          0.1991349358485581,
          0.2083188978032449,
          0.18332894045731551,
          0.2761751459124894,
          0.16759756766532685
         ],
         "hovertemplate": "Category 1=%{a}<br>Category 2=%{b}<br>Category 3=%{c}<extra></extra>",
         "legendgroup": "",
         "marker": {
          "color": "#636efa",
          "opacity": 0.5,
          "symbol": "circle"
         },
         "mode": "markers",
         "name": "",
         "showlegend": false,
         "subplot": "ternary",
         "type": "scatterternary"
        }
       ],
       "layout": {
        "legend": {
         "tracegroupgap": 0
        },
        "template": {
         "data": {
          "bar": [
           {
            "error_x": {
             "color": "#2a3f5f"
            },
            "error_y": {
             "color": "#2a3f5f"
            },
            "marker": {
             "line": {
              "color": "#E5ECF6",
              "width": 0.5
             },
             "pattern": {
              "fillmode": "overlay",
              "size": 10,
              "solidity": 0.2
             }
            },
            "type": "bar"
           }
          ],
          "barpolar": [
           {
            "marker": {
             "line": {
              "color": "#E5ECF6",
              "width": 0.5
             },
             "pattern": {
              "fillmode": "overlay",
              "size": 10,
              "solidity": 0.2
             }
            },
            "type": "barpolar"
           }
          ],
          "carpet": [
           {
            "aaxis": {
             "endlinecolor": "#2a3f5f",
             "gridcolor": "white",
             "linecolor": "white",
             "minorgridcolor": "white",
             "startlinecolor": "#2a3f5f"
            },
            "baxis": {
             "endlinecolor": "#2a3f5f",
             "gridcolor": "white",
             "linecolor": "white",
             "minorgridcolor": "white",
             "startlinecolor": "#2a3f5f"
            },
            "type": "carpet"
           }
          ],
          "choropleth": [
           {
            "colorbar": {
             "outlinewidth": 0,
             "ticks": ""
            },
            "type": "choropleth"
           }
          ],
          "contour": [
           {
            "colorbar": {
             "outlinewidth": 0,
             "ticks": ""
            },
            "colorscale": [
             [
              0,
              "#0d0887"
             ],
             [
              0.1111111111111111,
              "#46039f"
             ],
             [
              0.2222222222222222,
              "#7201a8"
             ],
             [
              0.3333333333333333,
              "#9c179e"
             ],
             [
              0.4444444444444444,
              "#bd3786"
             ],
             [
              0.5555555555555556,
              "#d8576b"
             ],
             [
              0.6666666666666666,
              "#ed7953"
             ],
             [
              0.7777777777777778,
              "#fb9f3a"
             ],
             [
              0.8888888888888888,
              "#fdca26"
             ],
             [
              1,
              "#f0f921"
             ]
            ],
            "type": "contour"
           }
          ],
          "contourcarpet": [
           {
            "colorbar": {
             "outlinewidth": 0,
             "ticks": ""
            },
            "type": "contourcarpet"
           }
          ],
          "heatmap": [
           {
            "colorbar": {
             "outlinewidth": 0,
             "ticks": ""
            },
            "colorscale": [
             [
              0,
              "#0d0887"
             ],
             [
              0.1111111111111111,
              "#46039f"
             ],
             [
              0.2222222222222222,
              "#7201a8"
             ],
             [
              0.3333333333333333,
              "#9c179e"
             ],
             [
              0.4444444444444444,
              "#bd3786"
             ],
             [
              0.5555555555555556,
              "#d8576b"
             ],
             [
              0.6666666666666666,
              "#ed7953"
             ],
             [
              0.7777777777777778,
              "#fb9f3a"
             ],
             [
              0.8888888888888888,
              "#fdca26"
             ],
             [
              1,
              "#f0f921"
             ]
            ],
            "type": "heatmap"
           }
          ],
          "heatmapgl": [
           {
            "colorbar": {
             "outlinewidth": 0,
             "ticks": ""
            },
            "colorscale": [
             [
              0,
              "#0d0887"
             ],
             [
              0.1111111111111111,
              "#46039f"
             ],
             [
              0.2222222222222222,
              "#7201a8"
             ],
             [
              0.3333333333333333,
              "#9c179e"
             ],
             [
              0.4444444444444444,
              "#bd3786"
             ],
             [
              0.5555555555555556,
              "#d8576b"
             ],
             [
              0.6666666666666666,
              "#ed7953"
             ],
             [
              0.7777777777777778,
              "#fb9f3a"
             ],
             [
              0.8888888888888888,
              "#fdca26"
             ],
             [
              1,
              "#f0f921"
             ]
            ],
            "type": "heatmapgl"
           }
          ],
          "histogram": [
           {
            "marker": {
             "pattern": {
              "fillmode": "overlay",
              "size": 10,
              "solidity": 0.2
             }
            },
            "type": "histogram"
           }
          ],
          "histogram2d": [
           {
            "colorbar": {
             "outlinewidth": 0,
             "ticks": ""
            },
            "colorscale": [
             [
              0,
              "#0d0887"
             ],
             [
              0.1111111111111111,
              "#46039f"
             ],
             [
              0.2222222222222222,
              "#7201a8"
             ],
             [
              0.3333333333333333,
              "#9c179e"
             ],
             [
              0.4444444444444444,
              "#bd3786"
             ],
             [
              0.5555555555555556,
              "#d8576b"
             ],
             [
              0.6666666666666666,
              "#ed7953"
             ],
             [
              0.7777777777777778,
              "#fb9f3a"
             ],
             [
              0.8888888888888888,
              "#fdca26"
             ],
             [
              1,
              "#f0f921"
             ]
            ],
            "type": "histogram2d"
           }
          ],
          "histogram2dcontour": [
           {
            "colorbar": {
             "outlinewidth": 0,
             "ticks": ""
            },
            "colorscale": [
             [
              0,
              "#0d0887"
             ],
             [
              0.1111111111111111,
              "#46039f"
             ],
             [
              0.2222222222222222,
              "#7201a8"
             ],
             [
              0.3333333333333333,
              "#9c179e"
             ],
             [
              0.4444444444444444,
              "#bd3786"
             ],
             [
              0.5555555555555556,
              "#d8576b"
             ],
             [
              0.6666666666666666,
              "#ed7953"
             ],
             [
              0.7777777777777778,
              "#fb9f3a"
             ],
             [
              0.8888888888888888,
              "#fdca26"
             ],
             [
              1,
              "#f0f921"
             ]
            ],
            "type": "histogram2dcontour"
           }
          ],
          "mesh3d": [
           {
            "colorbar": {
             "outlinewidth": 0,
             "ticks": ""
            },
            "type": "mesh3d"
           }
          ],
          "parcoords": [
           {
            "line": {
             "colorbar": {
              "outlinewidth": 0,
              "ticks": ""
             }
            },
            "type": "parcoords"
           }
          ],
          "pie": [
           {
            "automargin": true,
            "type": "pie"
           }
          ],
          "scatter": [
           {
            "fillpattern": {
             "fillmode": "overlay",
             "size": 10,
             "solidity": 0.2
            },
            "type": "scatter"
           }
          ],
          "scatter3d": [
           {
            "line": {
             "colorbar": {
              "outlinewidth": 0,
              "ticks": ""
             }
            },
            "marker": {
             "colorbar": {
              "outlinewidth": 0,
              "ticks": ""
             }
            },
            "type": "scatter3d"
           }
          ],
          "scattercarpet": [
           {
            "marker": {
             "colorbar": {
              "outlinewidth": 0,
              "ticks": ""
             }
            },
            "type": "scattercarpet"
           }
          ],
          "scattergeo": [
           {
            "marker": {
             "colorbar": {
              "outlinewidth": 0,
              "ticks": ""
             }
            },
            "type": "scattergeo"
           }
          ],
          "scattergl": [
           {
            "marker": {
             "colorbar": {
              "outlinewidth": 0,
              "ticks": ""
             }
            },
            "type": "scattergl"
           }
          ],
          "scattermapbox": [
           {
            "marker": {
             "colorbar": {
              "outlinewidth": 0,
              "ticks": ""
             }
            },
            "type": "scattermapbox"
           }
          ],
          "scatterpolar": [
           {
            "marker": {
             "colorbar": {
              "outlinewidth": 0,
              "ticks": ""
             }
            },
            "type": "scatterpolar"
           }
          ],
          "scatterpolargl": [
           {
            "marker": {
             "colorbar": {
              "outlinewidth": 0,
              "ticks": ""
             }
            },
            "type": "scatterpolargl"
           }
          ],
          "scatterternary": [
           {
            "marker": {
             "colorbar": {
              "outlinewidth": 0,
              "ticks": ""
             }
            },
            "type": "scatterternary"
           }
          ],
          "surface": [
           {
            "colorbar": {
             "outlinewidth": 0,
             "ticks": ""
            },
            "colorscale": [
             [
              0,
              "#0d0887"
             ],
             [
              0.1111111111111111,
              "#46039f"
             ],
             [
              0.2222222222222222,
              "#7201a8"
             ],
             [
              0.3333333333333333,
              "#9c179e"
             ],
             [
              0.4444444444444444,
              "#bd3786"
             ],
             [
              0.5555555555555556,
              "#d8576b"
             ],
             [
              0.6666666666666666,
              "#ed7953"
             ],
             [
              0.7777777777777778,
              "#fb9f3a"
             ],
             [
              0.8888888888888888,
              "#fdca26"
             ],
             [
              1,
              "#f0f921"
             ]
            ],
            "type": "surface"
           }
          ],
          "table": [
           {
            "cells": {
             "fill": {
              "color": "#EBF0F8"
             },
             "line": {
              "color": "white"
             }
            },
            "header": {
             "fill": {
              "color": "#C8D4E3"
             },
             "line": {
              "color": "white"
             }
            },
            "type": "table"
           }
          ]
         },
         "layout": {
          "annotationdefaults": {
           "arrowcolor": "#2a3f5f",
           "arrowhead": 0,
           "arrowwidth": 1
          },
          "autotypenumbers": "strict",
          "coloraxis": {
           "colorbar": {
            "outlinewidth": 0,
            "ticks": ""
           }
          },
          "colorscale": {
           "diverging": [
            [
             0,
             "#8e0152"
            ],
            [
             0.1,
             "#c51b7d"
            ],
            [
             0.2,
             "#de77ae"
            ],
            [
             0.3,
             "#f1b6da"
            ],
            [
             0.4,
             "#fde0ef"
            ],
            [
             0.5,
             "#f7f7f7"
            ],
            [
             0.6,
             "#e6f5d0"
            ],
            [
             0.7,
             "#b8e186"
            ],
            [
             0.8,
             "#7fbc41"
            ],
            [
             0.9,
             "#4d9221"
            ],
            [
             1,
             "#276419"
            ]
           ],
           "sequential": [
            [
             0,
             "#0d0887"
            ],
            [
             0.1111111111111111,
             "#46039f"
            ],
            [
             0.2222222222222222,
             "#7201a8"
            ],
            [
             0.3333333333333333,
             "#9c179e"
            ],
            [
             0.4444444444444444,
             "#bd3786"
            ],
            [
             0.5555555555555556,
             "#d8576b"
            ],
            [
             0.6666666666666666,
             "#ed7953"
            ],
            [
             0.7777777777777778,
             "#fb9f3a"
            ],
            [
             0.8888888888888888,
             "#fdca26"
            ],
            [
             1,
             "#f0f921"
            ]
           ],
           "sequentialminus": [
            [
             0,
             "#0d0887"
            ],
            [
             0.1111111111111111,
             "#46039f"
            ],
            [
             0.2222222222222222,
             "#7201a8"
            ],
            [
             0.3333333333333333,
             "#9c179e"
            ],
            [
             0.4444444444444444,
             "#bd3786"
            ],
            [
             0.5555555555555556,
             "#d8576b"
            ],
            [
             0.6666666666666666,
             "#ed7953"
            ],
            [
             0.7777777777777778,
             "#fb9f3a"
            ],
            [
             0.8888888888888888,
             "#fdca26"
            ],
            [
             1,
             "#f0f921"
            ]
           ]
          },
          "colorway": [
           "#636efa",
           "#EF553B",
           "#00cc96",
           "#ab63fa",
           "#FFA15A",
           "#19d3f3",
           "#FF6692",
           "#B6E880",
           "#FF97FF",
           "#FECB52"
          ],
          "font": {
           "color": "#2a3f5f"
          },
          "geo": {
           "bgcolor": "white",
           "lakecolor": "white",
           "landcolor": "#E5ECF6",
           "showlakes": true,
           "showland": true,
           "subunitcolor": "white"
          },
          "hoverlabel": {
           "align": "left"
          },
          "hovermode": "closest",
          "mapbox": {
           "style": "light"
          },
          "paper_bgcolor": "white",
          "plot_bgcolor": "#E5ECF6",
          "polar": {
           "angularaxis": {
            "gridcolor": "white",
            "linecolor": "white",
            "ticks": ""
           },
           "bgcolor": "#E5ECF6",
           "radialaxis": {
            "gridcolor": "white",
            "linecolor": "white",
            "ticks": ""
           }
          },
          "scene": {
           "xaxis": {
            "backgroundcolor": "#E5ECF6",
            "gridcolor": "white",
            "gridwidth": 2,
            "linecolor": "white",
            "showbackground": true,
            "ticks": "",
            "zerolinecolor": "white"
           },
           "yaxis": {
            "backgroundcolor": "#E5ECF6",
            "gridcolor": "white",
            "gridwidth": 2,
            "linecolor": "white",
            "showbackground": true,
            "ticks": "",
            "zerolinecolor": "white"
           },
           "zaxis": {
            "backgroundcolor": "#E5ECF6",
            "gridcolor": "white",
            "gridwidth": 2,
            "linecolor": "white",
            "showbackground": true,
            "ticks": "",
            "zerolinecolor": "white"
           }
          },
          "shapedefaults": {
           "line": {
            "color": "#2a3f5f"
           }
          },
          "ternary": {
           "aaxis": {
            "gridcolor": "white",
            "linecolor": "white",
            "ticks": ""
           },
           "baxis": {
            "gridcolor": "white",
            "linecolor": "white",
            "ticks": ""
           },
           "bgcolor": "#E5ECF6",
           "caxis": {
            "gridcolor": "white",
            "linecolor": "white",
            "ticks": ""
           }
          },
          "title": {
           "x": 0.05
          },
          "xaxis": {
           "automargin": true,
           "gridcolor": "white",
           "linecolor": "white",
           "ticks": "",
           "title": {
            "standoff": 15
           },
           "zerolinecolor": "white",
           "zerolinewidth": 2
          },
          "yaxis": {
           "automargin": true,
           "gridcolor": "white",
           "linecolor": "white",
           "ticks": "",
           "title": {
            "standoff": 15
           },
           "zerolinecolor": "white",
           "zerolinewidth": 2
          }
         }
        },
        "ternary": {
         "aaxis": {
          "title": {
           "text": "Category 1"
          }
         },
         "baxis": {
          "title": {
           "text": "Category 2"
          }
         },
         "caxis": {
          "title": {
           "text": "Category 3"
          }
         },
         "domain": {
          "x": [
           0,
           1
          ],
          "y": [
           0,
           1
          ]
         }
        },
        "title": {
         "text": "Dirichlet Posterior"
        }
       }
      },
      "text/html": [
       "<div>                            <div id=\"ae424525-a239-4c04-9dec-10791217fa00\" class=\"plotly-graph-div\" style=\"height:525px; width:100%;\"></div>            <script type=\"text/javascript\">                require([\"plotly\"], function(Plotly) {                    window.PLOTLYENV=window.PLOTLYENV || {};                                    if (document.getElementById(\"ae424525-a239-4c04-9dec-10791217fa00\")) {                    Plotly.newPlot(                        \"ae424525-a239-4c04-9dec-10791217fa00\",                        [{\"a\":[0.5758029128878092,0.6349263440866458,0.5417902500567031,0.5984033239075437,0.526302809594617,0.5327070871071122,0.5490729573461118,0.5890300555382497,0.4824640991691136,0.5044329819927696,0.5167428036163647,0.5756061955853161,0.5323838882147242,0.5285505671851427,0.6140033912025623,0.5980215669152492,0.5265594624994856,0.5688695030094783,0.5742802509814607,0.5401193862186493,0.44413689326788136,0.54457803873268,0.5189959834921583,0.4594597095829887,0.4802773027980329,0.5654160454616055,0.5006701847263566,0.5223736386363735,0.5568191225577851,0.3750913544624738,0.5323037679465802,0.49049280511304094,0.5264238161557737,0.4872991948626304,0.49805336001731026,0.5505285193120755,0.5562252853407478,0.5885497156018397,0.4950998847209945,0.5151840468328663,0.5136920786703413,0.6005926605353751,0.5219241912932382,0.5035861166354118,0.4430772646388084,0.5804883764797557,0.4768357101725991,0.487017480319415,0.553468166396177,0.5775415394358853,0.5299286962192198,0.5403193037040189,0.5433461275243038,0.5060210230231317,0.5626374539143886,0.4573056473899196,0.6209125974864278,0.5484948162126878,0.5012432739363899,0.5459123849154317,0.5059715447121871,0.5877118065991929,0.5490225116409264,0.5846665629355994,0.5695717258117666,0.5204527326726427,0.48143386873548627,0.479946943721995,0.5604180062555139,0.5842531560009013,0.5547418193759701,0.5425534552416947,0.5762029404492175,0.5892818221502902,0.4747575244568625,0.519248743868927,0.5600543487681436,0.5225104065215718,0.5556480238097072,0.4712368776387995,0.4940913750039676,0.5638274799410349,0.6378960871714473,0.58202582214384,0.5329834483760114,0.5755972186301516,0.4751205823180284,0.4976095486421473,0.6273400158029688,0.574055030926349,0.6036001584259997,0.4687384449801446,0.5508448581110196,0.4545007087840352,0.518700607707097,0.4986524317332586,0.4906465260633151,0.4502148744611536,0.5594996891477063,0.5450496809085116,0.4662849327902056,0.5362330501500595,0.595216995628064,0.5016301593123785,0.5060654335849041,0.477575950205844,0.49591528978797866,0.5230101432660157,0.5135312386036064,0.536909210925175,0.6175917421113413,0.4974512983700471,0.5362377588719108,0.5348760586097976,0.5305285897850148,0.6053586660990713,0.5181104783338544,0.6020647974053346,0.5088079966965322,0.5826829794647422,0.5305578822948145,0.6204270401021886,0.47476786751002537,0.6374316731029823,0.42629879782696734,0.5308767074253936,0.4713480024362344,0.5474246282434397,0.5222595257528533,0.5716318835084078,0.5248433159547446,0.5136453352480647,0.6658504822529127,0.49940856605245826,0.4793688350098887,0.5020194931538203,0.4921563491111312,0.5140158900211637,0.5059970342874887,0.5405142201220915,0.5606442355614915,0.4701637778600788,0.5713749442139665,0.5522450711058097,0.5083255890477968,0.5399742382780186,0.5444623676053838,0.5238999845338947,0.5081943394989449,0.48033158527239533,0.48315886489543663,0.5520014300583199,0.49462545068831465,0.6136171396166751,0.48456357316568427,0.5424557029699459,0.49810617156715004,0.512222312848311,0.5436897562240146,0.46173985201895235,0.4985818409013169,0.5660915905485026,0.6193414401216784,0.5120443956369751,0.5735443504944441,0.5986723908329878,0.5604492179904551,0.5486428074170955,0.5490226216518445,0.5474987378322854,0.5377084366332175,0.4885283003933236,0.4824737280632429,0.5388224206556196,0.503497958656352,0.49177943442803657,0.6078150102149406,0.45655156533289315,0.5050467631110795,0.5633257753892019,0.4928157114983471,0.5750865513032785,0.46548196111257695,0.5149213308783772,0.5826286360248161,0.39933030433462824,0.5583908457547356,0.5890621099212048,0.5886015514557623,0.5710025258651353,0.5798839488767408,0.6099213964017103,0.4320432369199559,0.48047523996814046,0.5680308082640873,0.6156044047780584,0.5475177417302525,0.5061714429500863,0.49360602149752475,0.510218800219846,0.5819048277894749,0.5670790547939975,0.49004236910107773,0.5203007075063107,0.5307531986173465,0.5559520685400904,0.5826470248279352,0.4963039300395358,0.5673867747392578,0.49734818981259427,0.5592757887338835,0.40579731666231017,0.42842775430115376,0.6051677381560512,0.5301997901966964,0.5252253029769359,0.5110586242382532,0.5047094022132348,0.4309437421661112,0.4446548710286327,0.5574061396188741,0.5454845086416032,0.47574280695244975,0.4471110667696359,0.48051547551718826,0.46799314031771605,0.5516364170013789,0.5584267994951673,0.5871900117843517,0.49303164787994375,0.5235030176300133,0.5359877927014423,0.5980282478966314,0.5302626516969452,0.5444371842793188,0.48818142043813845,0.5023142083439718,0.5154533818949103,0.5544921900698915,0.5416764721590036,0.5439456811104819,0.4511282677579962,0.5571911677787933,0.6374003459272856,0.5222301001691474,0.571421992467313,0.5359287849810017,0.4503668216906655,0.43811873905812193,0.4925675874922231,0.5945267116694775,0.5287503720873619,0.4821243459745677,0.5465449578950193,0.49511401038297875,0.5029379213009914,0.5257338030873988,0.5803187582526913,0.5259775391631345,0.45244391164577685,0.5768099112628892,0.5684239958510883,0.6161446380282278,0.47940822292113355,0.5035349908223143,0.5363322232539696,0.5675141419154247,0.4763927480357124,0.47119467667256726,0.5341399395208093,0.5737437212569264,0.45103883097003206,0.6088640655807489,0.5653326984038949,0.557192591236838,0.5093383857876922,0.5500644641604245,0.5350620854056038,0.44967472895792504,0.5120007475372578,0.4766798284579484,0.5961652457234126,0.4195092445282955,0.5092193842153916,0.5676604709372186,0.5568508209362718,0.5749074915404546,0.5572538582098164,0.5285991116785348,0.5139235494327794,0.6053080880321979,0.5730366765690557,0.5073866976578422,0.591343469726354,0.5125266711920662,0.5494307303988677,0.4435350425308695,0.5129714437587054,0.6037594476359076,0.4650444163554732,0.4107641244164442,0.4630960540499315,0.5859333884499534,0.5324397927413066,0.5359684858391193,0.5425560956058955,0.46147839272385593,0.5148188188714401,0.5395614696024489,0.5638076538835031,0.536422021091552,0.5751488041933058,0.46846153684458264,0.49235980507629845,0.47994468400070656,0.5577482932063266,0.5617538310377155,0.5856748400185204,0.5599064076608954,0.5330343817608114,0.4966374050158436,0.5201461390275917,0.510189541277162,0.5746845385053491,0.5607009046315181,0.5420836621559098,0.5396587175814689,0.4764004328972998,0.450013098351356,0.5408133200002041,0.5270420308396422,0.5555904941025391,0.47733055553734344,0.5063395241508667,0.5629272134365226,0.600264743456919,0.5550457267640657,0.5386702800089942,0.521413981913547,0.552338720662708,0.4411652077413538,0.5690926148564915,0.5506157279944709,0.5674634912687024,0.4443096647301976,0.5251885524648734,0.5116928218071332,0.609942300340453,0.562462404350775,0.5780206822126995,0.5528394322911779,0.5308544185091097,0.5982090379782594,0.5394748465418975,0.529984040214525,0.4692583940028423,0.5029718616619083,0.554633667611513,0.4933562331537666,0.5517084991425063,0.5855272446333984,0.49476991729875397,0.5454854109308741,0.536330178176481,0.49124849499721274,0.5104014417484688,0.5212023939798688,0.5604671463430528,0.480299470988331,0.52863128069652,0.5031912914943379,0.6187065899490014,0.5347208454364716,0.5940932650215393,0.525274574631324,0.5427539766002384,0.5458823799468547,0.5478529187890075,0.5514391667630164,0.5504590724164696,0.5551459128910513,0.5450240440276779,0.46268651294661123,0.5179995550910376,0.582043327154184,0.5799967238219699,0.5381177586671158,0.5986513433140886,0.5773741205975382,0.41962523920079353,0.5355770721266133,0.5068397099368503,0.5655965156312298,0.4892683349271788,0.5100736156444318,0.6094153008949721,0.45818645656336177,0.5335414822843,0.583497020009525,0.49021398859845644,0.5492588497639244,0.5804519264455708,0.4901781239709645,0.5313535728601114,0.48553079680530115,0.46865097561815044,0.5193465136036807,0.5253429615827658,0.5231739879380448,0.5184664711400585,0.525230761230423,0.5196579805194125,0.5502729256283067,0.5552240847187467,0.5593877275156744,0.5222564287387561,0.48332358716086093,0.5246745013606755,0.5054841731580372,0.47011495554928845,0.4275311368218583,0.494790941140512,0.5045953744228773,0.5083238580385563,0.49221597298515257,0.4829171534020184,0.486134496468216,0.5928735424984553,0.5431741408076788,0.5417216304918432,0.4409410018936125,0.5602197337955155,0.45487364286050574,0.5600734536154532,0.5147504828634105,0.5083921297282723,0.45240893124293297,0.5385638503439952,0.5268876323257429,0.5081989578582824,0.5480413176157379,0.5849502344477334,0.5540189731300458,0.5616473502350996,0.5438504257703497,0.5178971801462267,0.38910075030038976,0.49562978351732456,0.48279531511393803,0.5810562387777102,0.4846730847633671,0.615595935597863,0.5237141221393384,0.4448112566210846,0.5321192801362862,0.46531007984496886,0.5975959274611203,0.48790427655471846,0.6171319924841552,0.4491142832515278,0.5431065520955644,0.5135392093569129,0.6244991049581418,0.5180284967076332,0.5185072411444483,0.48122027948861873,0.4937679104405918,0.5009941004140073,0.5457589580295255,0.5332006919446192,0.5050751771125427,0.5589686209962877,0.5507083684091837,0.5971481791878681,0.41580831059659895,0.47775318935616257,0.5305384287195198,0.5602788228653061,0.549337023980693,0.42926832313367835,0.5120672343277248,0.4861247998180816,0.5397772020938162,0.5281419931083788,0.5154200971375907,0.5125198574990371,0.6352430635112738,0.5139159487304138,0.5954591997262978,0.4714323485504014,0.505901702949869,0.5791447295475527,0.49503703689578554,0.5772059909612751,0.5281442502948234,0.5818533851300041,0.5616739013602573,0.48979685367953796,0.505969605012373,0.5777229368025466],\"b\":[0.24627893868090267,0.202609816607335,0.22362606754164502,0.1655700480378126,0.22628479293896664,0.23012570566051987,0.28588379537351977,0.2262471178463858,0.2941936831340767,0.16304349131868193,0.2374306402059559,0.2284570498309257,0.3156024227761169,0.3115089143428352,0.2277862022097792,0.2509328914952787,0.2797387511248059,0.18991041978464793,0.22004706357089993,0.24992027022738605,0.30861746451148103,0.25348032922629876,0.30895749081555174,0.2292973005009252,0.3008964720740681,0.2044165675184771,0.2552022166662393,0.2885379683204532,0.26582189781353255,0.3857121373372843,0.241797612666803,0.3032565538028052,0.23914357168040717,0.2298477449560144,0.3321710888926315,0.22090534708947113,0.23472699993634338,0.1329647870439643,0.24206382095446707,0.2711894458853558,0.2768135786753039,0.2319720394783836,0.2810974630666487,0.2894836437593199,0.3259125805698182,0.26538448826501376,0.23050593090315064,0.3267233824295547,0.2373787027722189,0.22601532006000385,0.23956633077795333,0.22773370889400568,0.2372109259393772,0.2882282516165938,0.23582779989986438,0.2542406115244839,0.22199671360697726,0.28888481125234167,0.28813981717858705,0.25166752361745093,0.24985165140093302,0.22744752285343114,0.20793631897006373,0.20062773203990672,0.21073355817647085,0.24439233530533877,0.303945707091023,0.2521623874757891,0.201599988783519,0.18560416051553588,0.22098161822410395,0.22756195174165733,0.2670389164932742,0.2655834437985089,0.3287027032686365,0.2634429752735893,0.24869756718142064,0.2677011225643365,0.25405279628622995,0.31952533258160504,0.31201335092979593,0.25779212787980266,0.20933738465936505,0.23392147043766193,0.2298847729178306,0.15864237036096085,0.2753062722635886,0.23171281510463654,0.2207616861994025,0.22889405554706072,0.1805477295437919,0.25819201737221525,0.23721636318896552,0.2812808571262809,0.31972854802647016,0.3169306917679456,0.3013601551710555,0.25244681895276583,0.28073076768584687,0.2735176537867644,0.2551924294250109,0.2782997424898187,0.20795883170560067,0.2718796061543664,0.31547432158629496,0.36967964438862616,0.3174654491115124,0.2549690170669801,0.25226551446900297,0.271553986034257,0.17862063911404633,0.2636092404886887,0.24778543931349095,0.2560881852925042,0.1969339899819517,0.18159870786450624,0.32467969179628914,0.21112660122760354,0.3224957771107373,0.19024779210015313,0.2806299522409711,0.18042923813077413,0.29414076792752786,0.24550100281363063,0.27834578509413976,0.24084323940721122,0.29391012439662917,0.28706414023579163,0.25754148887198325,0.23786171492721223,0.19093248670657342,0.2518799756419005,0.17410650107681433,0.26364127668043774,0.29312110766828775,0.27502376760836755,0.198397558446606,0.28154859231600593,0.31971202414156946,0.26404392098419427,0.21561218480781097,0.28146591303734875,0.21615502542906234,0.2047733982575273,0.2696806615836378,0.2478526677930869,0.25972122039368073,0.27706781556511717,0.28554051029597377,0.25381438541908424,0.25123969565236515,0.1829761533954433,0.2543292226435249,0.19033527251699822,0.2965195222692645,0.20023463223045784,0.20671646371738453,0.29997410197800195,0.2125776357319099,0.28089488240871674,0.333143255497255,0.2079773029796825,0.209282037878902,0.25771249380713795,0.2855794111026783,0.2027154060777345,0.22906721094760168,0.2479165084088417,0.21235943500292367,0.23978481699288,0.2659675218642911,0.24687849044692878,0.2600109091815524,0.25218742678428696,0.26763456889529014,0.3062558265860835,0.18575862484617559,0.25183016161264504,0.2502029447787031,0.21977299013716534,0.24753511850839346,0.22938684022713604,0.23197740982073436,0.27641547985888726,0.1766039749244718,0.3210831261642685,0.2669190472269255,0.2767012881649569,0.24607339641105952,0.2121832039740457,0.2316601147369041,0.2643909294463112,0.25165449743061413,0.2413810935719145,0.22235913045280958,0.21722654640158304,0.24202918102701054,0.28381009126774037,0.2367981774746488,0.2949653617926667,0.2535349371092351,0.18821779986339252,0.32102119100698007,0.20803186030050463,0.24846973276392434,0.2756230406667121,0.23404152046333468,0.25720823849308716,0.18220346201737364,0.22357871859901465,0.23327900358463508,0.31854654921849895,0.33050347518714823,0.21016908062223,0.26088262841612014,0.21743969006821848,0.26455787932813635,0.23349500200189507,0.32708513329870553,0.3156840575299886,0.23261049834755945,0.25859534751458424,0.280014896605766,0.3171592655805227,0.28154088158735385,0.33422197074739446,0.23107589664831985,0.2792810554784069,0.24903570985434165,0.2691531024450842,0.2317554277541861,0.2550903965666374,0.21217020108512502,0.2519282124418942,0.1786635093582448,0.1986079487038445,0.206320818341447,0.22552049415867517,0.2404007869674564,0.22883659605874448,0.22229652953758144,0.32266549791341714,0.2595120463429383,0.14466906573520058,0.2704832403603652,0.26291382171938527,0.24031242265209882,0.24762334850554646,0.25870006652879635,0.2634486960952554,0.1770112363849574,0.25501209102695943,0.2836488211489753,0.2632735165085596,0.3070766266265491,0.28164103879749525,0.2059610018168313,0.28763063100646763,0.25657761967063725,0.2798245306960441,0.24600647686092636,0.24429874748610197,0.21081772794340875,0.30578019322350647,0.31678287348449236,0.30592212943529035,0.20942028849384384,0.28536978536141394,0.2887577953516641,0.2737145656330948,0.23503105617789094,0.24059700817215993,0.21172737491346955,0.21502183408717682,0.20612990855090524,0.24100841584206548,0.28295481291365965,0.19008304728986739,0.2643681408598969,0.2806452081723264,0.3389887947290778,0.18580843486507664,0.34802372450840413,0.26507579590460695,0.22115795879233557,0.23510684474911234,0.24559840760876978,0.2567196777860747,0.2691831306362883,0.2501425518519801,0.21961085808665423,0.2534077072134584,0.2963926651913735,0.2073003341502604,0.2744034875260336,0.24178736599518522,0.3208655767185833,0.3012138147996369,0.23285675376971937,0.27420331548171284,0.3362194358459641,0.31771368216380075,0.21329632246570338,0.20149462505030424,0.25003432909154066,0.2825122907743765,0.2905350924514838,0.2714859132032322,0.16287904214656493,0.22430798353882184,0.2245701907916027,0.23073048472919092,0.28840975154434384,0.24746651505795603,0.28626003736838884,0.28500666253714935,0.25066926469998496,0.21134454725963434,0.317333137284544,0.21465867128945532,0.22498333107697918,0.2406745269163826,0.29858858943392624,0.22246928438457236,0.23159562953685334,0.24098034168992336,0.24284887027531396,0.20920998044691577,0.33030253101099877,0.21242539444755718,0.2824494689034915,0.22440835917727459,0.3025692822076626,0.252523192875738,0.259968905322394,0.24027236904834715,0.1968019702274036,0.2551318671181573,0.26950635823046526,0.24568510157700682,0.29655887942390574,0.20292913295287776,0.29033785692705777,0.2814307163152663,0.30443024219282805,0.24545155259546275,0.2289981583157587,0.17940107166174804,0.2796434275787907,0.20324655980242815,0.2106349284738654,0.31116369885640494,0.19010427214390738,0.28115966803901643,0.1759153891025769,0.2977764173082382,0.22416935716191833,0.21060919641627585,0.2607397757200235,0.25471346888895446,0.1731016785270939,0.3235531635508784,0.22853223454818855,0.17339297758591776,0.3127018155232635,0.24119229057862845,0.18556545605164917,0.2087402850990446,0.2913189103121398,0.20111215374650346,0.24969312600618002,0.22565014726720534,0.22897809709075928,0.15951110461171458,0.20342230717045626,0.30139176348418545,0.2483975768261783,0.2480193760011999,0.22490163402864688,0.179315165737828,0.24035860881379512,0.26769292394261807,0.3421661257841166,0.2768807829635191,0.21497326379483084,0.14095004171256836,0.18960889029925956,0.22976064827555276,0.21188668004969874,0.23332346635074788,0.2746795286957448,0.2650476698144994,0.2719299812265033,0.2833609303041278,0.3422439864782423,0.22687789971014408,0.31034351587732273,0.2254120200436951,0.20713498915500736,0.2965162709953553,0.25769250604146726,0.256103563272133,0.2906977383699595,0.2929959952608971,0.2665957166244689,0.23169079547068455,0.20995972974126229,0.23863579778774985,0.29140198470554285,0.24285182677616335,0.24897533362019464,0.2349972817861288,0.2668538890565522,0.2339942297239408,0.21694270968175444,0.3168714873789718,0.22844953117349281,0.3138644574281107,0.31387655392536773,0.32650327341711616,0.24609409805321214,0.2428967570673209,0.251113703500742,0.2595674422460959,0.31730109622275404,0.2654730779930873,0.2932459431532671,0.20277854584391974,0.2562971054581939,0.2401451927497714,0.3489115156413682,0.22177944449326897,0.3021334660367422,0.22275792886000118,0.23214043957571687,0.282019730382403,0.2807121124246759,0.2467341983386027,0.2939499923337268,0.27792795654497565,0.24696659250374545,0.22991950487599452,0.25873985453059284,0.23841659821900946,0.20768867296622776,0.2733311055759709,0.38251656345577356,0.19589885573405913,0.2996037722721396,0.19303684191495177,0.27276210251125765,0.20952190016638292,0.2333308265133682,0.26030903951435347,0.2910908729364176,0.32291468229110815,0.238298529060821,0.32721344799760965,0.20034798334810747,0.2636308432876744,0.22474633600276492,0.2272070345599859,0.19696796612521172,0.2316464770392332,0.252456909326044,0.33269938897961987,0.3000059681091253,0.34224028933002576,0.24521881460734365,0.22958703008817366,0.30071957585098424,0.2820066949228799,0.24591247759274681,0.23604289399571654,0.36396646797493254,0.27602701088392534,0.24907712344657723,0.19833914594445368,0.24791487272533203,0.3603762264911404,0.27424584963872106,0.2887395074009896,0.2758266689961126,0.2833819019975389,0.27533452589440494,0.20417481489817138,0.22663659202076314,0.27082827816048743,0.23875882663952652,0.3148544017089251,0.26184933476403704,0.25711742575720486,0.3500628228062698,0.2141981881656453,0.22961651810725026,0.21901167902143792,0.2300072008364977,0.3268742058631467,0.21785524907513748,0.2546794955321266],\"c\":[0.17791814843128811,0.16246383930601926,0.23458368240165178,0.23602662805464375,0.2474123974664164,0.2371672072323679,0.16504324728036857,0.18472282661536446,0.22334221769680973,0.3325235266885485,0.24582655617767937,0.19593675458375812,0.1520136890091589,0.15994051847202218,0.1582104065876585,0.1510455415894722,0.19370178637570848,0.24122007720587382,0.20567268544763942,0.20996034355396478,0.2472456422206375,0.20194163204102128,0.17204652569228993,0.31124298991608595,0.2188262251278991,0.23016738701991737,0.2441275986074042,0.18908839304317313,0.17735897962868236,0.23919650820024177,0.22589861938661687,0.20625064108415375,0.23443261216381917,0.2828530601813552,0.1697755510900583,0.2285661335984533,0.20904771472290876,0.27848549735419614,0.26283629432453837,0.21362650728177784,0.20949434265435488,0.16743529998624115,0.19697834564011313,0.20693023960526838,0.23101015479137332,0.15412713525523059,0.29265835892425024,0.18625913725103033,0.20915313083160403,0.19644314050411077,0.23050497300282682,0.23194698740197536,0.21944294653631893,0.20575072536027444,0.201534746185747,0.28845374108559657,0.15709068890659492,0.1626203725349706,0.21061690888502296,0.20242009146711726,0.24417680388687982,0.18484067054737593,0.24304116938900977,0.2147057050244939,0.21969471601176255,0.2351549320220184,0.21462042417349061,0.26789066880221596,0.23798200496096716,0.23014268348356276,0.22427656239992577,0.22988459301664804,0.15675814305750826,0.14513473405120086,0.19653977227450106,0.21730828085748358,0.1912480840504358,0.20978847091409178,0.19029917990406275,0.20923778977959534,0.1938952740662364,0.17838039217916254,0.1527665281691877,0.184052707418498,0.237131778706158,0.2657604110088877,0.2495731454183831,0.2706776362532162,0.15189829799762872,0.1970509135265902,0.21585211203020852,0.2730695376476401,0.21193877870001485,0.26421843408968404,0.1615708442664327,0.18441687649879576,0.20799331876562943,0.29733830658608057,0.15976954316644693,0.18143266530472424,0.2785226377847834,0.18546720736012173,0.19682417266633556,0.22649023453325512,0.178460244828801,0.15274440540552986,0.18661926110050878,0.2220208396670043,0.23420324692739056,0.19153680304056805,0.2037876187746124,0.23893946114126408,0.2159768018145981,0.20903575609769826,0.2725374202330335,0.2130426260364224,0.15720982986985652,0.18680860136706195,0.16869622619273048,0.22706922843510458,0.18881216546421434,0.19914372176703707,0.2310913645624468,0.11706732408338702,0.2953554170788929,0.22828005316739514,0.2347418731671364,0.1655112315207686,0.22019898537516355,0.19050640156438,0.28422419733868187,0.23447468911003475,0.16004301667027304,0.23695015726710378,0.2275100573218235,0.2229567392378121,0.30944609244226284,0.2044355176628305,0.17429094157094197,0.19544185889371424,0.22374357963069771,0.24837030910257246,0.2124700303569711,0.24298153063666303,0.22199374936856542,0.2121730939288944,0.19581641200093558,0.19903219990098808,0.20626515020508138,0.2658540293085205,0.2656014394521982,0.2650224165462367,0.2510453266681605,0.19604758786632656,0.21891690456505125,0.25730966479959616,0.2951773647154653,0.18780358517368712,0.2437326080440754,0.25736526557233086,0.16827490360142808,0.22593110647181483,0.1713765219994196,0.230243110555887,0.1408762384028777,0.19861220308927766,0.21048357106194332,0.20344068417406275,0.23861794334523176,0.21271644517483454,0.19632404150249136,0.26459320915974766,0.25751536275520476,0.2089901525600935,0.22886747244835798,0.20196473898587985,0.20642636493888405,0.2916182730544618,0.2447502921102174,0.2169012344736327,0.2596491699932594,0.19552660846958536,0.30254062906668877,0.20866318926273547,0.24076738905071204,0.27958656950110333,0.17469010701833879,0.13423660191383818,0.16532505213317827,0.21681427016081906,0.1884559363863551,0.12568767415197862,0.31630226564943,0.278143666459945,0.20961006128310317,0.16716904882035852,0.21045307724273699,0.21001846578217312,0.26959580102782654,0.1948158379874873,0.1645602351012899,0.24470314534261015,0.18893643989194223,0.2716674321931845,0.22077706861872903,0.16842489079319747,0.1833114547087302,0.2464878314673771,0.25040976324336855,0.27907309158839105,0.20744520768148145,0.275656134119191,0.24106877051169792,0.1846631812217187,0.20891758138718336,0.2573350069548455,0.22438349643361044,0.2617955957848701,0.24197112453518324,0.23966107144137874,0.20998336203356638,0.19592014384381254,0.2442422964417842,0.23572966764984118,0.23794364289545786,0.19778488893488957,0.21728768635030132,0.16229214502642575,0.1637742783613066,0.23781524967497214,0.24474155461580072,0.20892181073192037,0.18980155101824348,0.21780913586116066,0.27689930636243637,0.31321063085801704,0.2913649733145812,0.2590261239464146,0.20510702296265212,0.22948693178225188,0.23375778935193656,0.22620623432858672,0.1832967858782683,0.21793058833751383,0.2072866594704875,0.16566418581330178,0.22375879236689952,0.30200982980378793,0.3031811944130817,0.24398371641252153,0.22846205194556518,0.21623753688567884,0.2342268328764569,0.190181525596421,0.19780936299047208,0.2154210399015134,0.26830519509576994,0.13205061074084107,0.21744484116622817,0.2677315576581791,0.1771836118761844,0.18727725666280984,0.17303763402836347,0.21481158385536012,0.17968213569319347,0.1577456473107401,0.2230655695907315,0.23823746660287365,0.24004752797576867,0.19214549484609603,0.19122522256518262,0.30836416085780793,0.17940855950578155,0.21964546750892835,0.23667750021225697,0.24965319837024236,0.16698072292591593,0.27485486730452874,0.2859571301821781,0.20735404429041565,0.184331376812974,0.21802631941151068,0.23246703096330035,0.22570481988000138,0.21118157027044585,0.2080423343146159,0.17949410085077547,0.18602646400410885,0.20221775768517675,0.23593389871524045,0.17508105388114792,0.173555616217486,0.19622063715078442,0.20135619612338584,0.2130698412819002,0.2087819036059471,0.23559938075054712,0.1858147414416576,0.163383798594373,0.2607522681628139,0.25301643973759164,0.21919026378626794,0.20077028908434333,0.26606558220838905,0.21399718506934012,0.17493161361972792,0.24798651482466025,0.2136952679253277,0.2975594882509862,0.21188436257767507,0.2390077881168452,0.19412071107750323,0.24312871161107358,0.2601736798657455,0.2337952786309047,0.15724504425652414,0.18757690426229953,0.20298061272184503,0.12276045505456053,0.2523069469497331,0.2783792639071772,0.23917933405602582,0.1912218692889118,0.20284617711007868,0.20770346583162866,0.2169359961541668,0.21749241214321707,0.3143895866557845,0.2196843706376452,0.24676128555223892,0.19050850025686655,0.22000114672018628,0.22010016225499393,0.24113728297339518,0.17710388124108342,0.15946288749473392,0.24815230300853064,0.20619785287284847,0.20907965985598773,0.20197617776028506,0.26227591283474033,0.22797825219063078,0.15904641507847134,0.1511057924160313,0.2512600930769745,0.22935989493966386,0.2593090198771083,0.21065662799779897,0.15789416807043435,0.21873275798487232,0.2365256392349567,0.15798188263448523,0.21168668987783318,0.17936548541908615,0.2941005706828982,0.23296518868891955,0.27285878117617346,0.23475713597221104,0.24590399112620975,0.1935780319685392,0.2413710768395077,0.18167691915036763,0.22598235452093735,0.2902768442376014,0.19604968947952373,0.24840626767290278,0.29323214996848185,0.23079256855790253,0.22838161869952905,0.27025656555697664,0.24711558249948212,0.15564326278379323,0.23630105747276908,0.24639563036674614,0.2713031181982197,0.15585425991557614,0.20572004322696685,0.2041277052097925,0.2236591992083367,0.27022576184570235,0.20449547829515344,0.18728303202970403,0.1951473612692721,0.2051196619454433,0.20298340905098522,0.2790532344654617,0.27227335103362477,0.17158800841035857,0.210739199352763,0.34705129444845845,0.189743399177642,0.2281126202486504,0.1624735031422669,0.2273707347686935,0.14768239787732598,0.1637067993948839,0.23147002755931548,0.24104649767200498,0.2093679908354678,0.21326974040618832,0.19304864419460843,0.16344451028229612,0.21912413765907604,0.17565043187899146,0.24787348657022998,0.2996582289111649,0.27069375665505707,0.23602124062948446,0.1854240273564124,0.23868170208377815,0.22579390514938238,0.24534473769445875,0.1828731853151412,0.21078168555731253,0.22366956280257114,0.16087208388227212,0.2882268816656462,0.16146104121121385,0.18063927291659496,0.20338177103359545,0.32637476512492963,0.2623123017921671,0.24429092207638067,0.2321086997153478,0.19048293079209333,0.25160976860489437,0.22061956037851688,0.20434791165762503,0.20052875373412712,0.21813317675838534,0.2101474824650194,0.21800082171121557,0.242992891102752,0.21716861752454564,0.25310907756087253,0.20958813988932465,0.266878956332391,0.21470195131740197,0.17916237534053042,0.21387308559674198,0.2049920898805164,0.1851302606762722,0.18724117233936155,0.19993605154589086,0.2484609012634226,0.20877171427780233,0.22838268624383662,0.3084713607486163,0.21760091261392228,0.2259069193073379,0.24256481272537522,0.17488216423575426,0.24295505134729337,0.2948797038645618,0.1767898469272963,0.21177523786392308,0.1641055434780587,0.18488227544767183,0.1825200241677373,0.2872548734607979,0.23214711190167073,0.2592537560831011,0.17853292891664654,0.2503250262531335,0.22903584952950773,0.18608033153176134,0.2062261214502829,0.15676561025596697,0.20902222736313097,0.23721227796720704,0.19420524703647304,0.15902468408083228,0.20337915399806966,0.16680892681641543,0.22022522142846843,0.246219799759912,0.22038444783390268,0.24138203119024035,0.20274810329397497,0.21035545037518133,0.2136869160335541,0.22513569278092882,0.1843961289100714,0.1884761048940823,0.20924537696800438,0.28330532760279153,0.13812034446796298,0.2152557731090988,0.16578197363417582,0.21371324974067352,0.23224896228609396,0.1637378446952424,0.15490014029794463,0.20859582087307962,0.2422392315979264,0.1991349358485581,0.2083188978032449,0.18332894045731551,0.2761751459124894,0.16759756766532685],\"hovertemplate\":\"Category 1=%{a}\\u003cbr\\u003eCategory 2=%{b}\\u003cbr\\u003eCategory 3=%{c}\\u003cextra\\u003e\\u003c\\u002fextra\\u003e\",\"legendgroup\":\"\",\"marker\":{\"color\":\"#636efa\",\"opacity\":0.5,\"symbol\":\"circle\"},\"mode\":\"markers\",\"name\":\"\",\"showlegend\":false,\"subplot\":\"ternary\",\"type\":\"scatterternary\"}],                        {\"template\":{\"data\":{\"histogram2dcontour\":[{\"type\":\"histogram2dcontour\",\"colorbar\":{\"outlinewidth\":0,\"ticks\":\"\"},\"colorscale\":[[0.0,\"#0d0887\"],[0.1111111111111111,\"#46039f\"],[0.2222222222222222,\"#7201a8\"],[0.3333333333333333,\"#9c179e\"],[0.4444444444444444,\"#bd3786\"],[0.5555555555555556,\"#d8576b\"],[0.6666666666666666,\"#ed7953\"],[0.7777777777777778,\"#fb9f3a\"],[0.8888888888888888,\"#fdca26\"],[1.0,\"#f0f921\"]]}],\"choropleth\":[{\"type\":\"choropleth\",\"colorbar\":{\"outlinewidth\":0,\"ticks\":\"\"}}],\"histogram2d\":[{\"type\":\"histogram2d\",\"colorbar\":{\"outlinewidth\":0,\"ticks\":\"\"},\"colorscale\":[[0.0,\"#0d0887\"],[0.1111111111111111,\"#46039f\"],[0.2222222222222222,\"#7201a8\"],[0.3333333333333333,\"#9c179e\"],[0.4444444444444444,\"#bd3786\"],[0.5555555555555556,\"#d8576b\"],[0.6666666666666666,\"#ed7953\"],[0.7777777777777778,\"#fb9f3a\"],[0.8888888888888888,\"#fdca26\"],[1.0,\"#f0f921\"]]}],\"heatmap\":[{\"type\":\"heatmap\",\"colorbar\":{\"outlinewidth\":0,\"ticks\":\"\"},\"colorscale\":[[0.0,\"#0d0887\"],[0.1111111111111111,\"#46039f\"],[0.2222222222222222,\"#7201a8\"],[0.3333333333333333,\"#9c179e\"],[0.4444444444444444,\"#bd3786\"],[0.5555555555555556,\"#d8576b\"],[0.6666666666666666,\"#ed7953\"],[0.7777777777777778,\"#fb9f3a\"],[0.8888888888888888,\"#fdca26\"],[1.0,\"#f0f921\"]]}],\"heatmapgl\":[{\"type\":\"heatmapgl\",\"colorbar\":{\"outlinewidth\":0,\"ticks\":\"\"},\"colorscale\":[[0.0,\"#0d0887\"],[0.1111111111111111,\"#46039f\"],[0.2222222222222222,\"#7201a8\"],[0.3333333333333333,\"#9c179e\"],[0.4444444444444444,\"#bd3786\"],[0.5555555555555556,\"#d8576b\"],[0.6666666666666666,\"#ed7953\"],[0.7777777777777778,\"#fb9f3a\"],[0.8888888888888888,\"#fdca26\"],[1.0,\"#f0f921\"]]}],\"contourcarpet\":[{\"type\":\"contourcarpet\",\"colorbar\":{\"outlinewidth\":0,\"ticks\":\"\"}}],\"contour\":[{\"type\":\"contour\",\"colorbar\":{\"outlinewidth\":0,\"ticks\":\"\"},\"colorscale\":[[0.0,\"#0d0887\"],[0.1111111111111111,\"#46039f\"],[0.2222222222222222,\"#7201a8\"],[0.3333333333333333,\"#9c179e\"],[0.4444444444444444,\"#bd3786\"],[0.5555555555555556,\"#d8576b\"],[0.6666666666666666,\"#ed7953\"],[0.7777777777777778,\"#fb9f3a\"],[0.8888888888888888,\"#fdca26\"],[1.0,\"#f0f921\"]]}],\"surface\":[{\"type\":\"surface\",\"colorbar\":{\"outlinewidth\":0,\"ticks\":\"\"},\"colorscale\":[[0.0,\"#0d0887\"],[0.1111111111111111,\"#46039f\"],[0.2222222222222222,\"#7201a8\"],[0.3333333333333333,\"#9c179e\"],[0.4444444444444444,\"#bd3786\"],[0.5555555555555556,\"#d8576b\"],[0.6666666666666666,\"#ed7953\"],[0.7777777777777778,\"#fb9f3a\"],[0.8888888888888888,\"#fdca26\"],[1.0,\"#f0f921\"]]}],\"mesh3d\":[{\"type\":\"mesh3d\",\"colorbar\":{\"outlinewidth\":0,\"ticks\":\"\"}}],\"scatter\":[{\"fillpattern\":{\"fillmode\":\"overlay\",\"size\":10,\"solidity\":0.2},\"type\":\"scatter\"}],\"parcoords\":[{\"type\":\"parcoords\",\"line\":{\"colorbar\":{\"outlinewidth\":0,\"ticks\":\"\"}}}],\"scatterpolargl\":[{\"type\":\"scatterpolargl\",\"marker\":{\"colorbar\":{\"outlinewidth\":0,\"ticks\":\"\"}}}],\"bar\":[{\"error_x\":{\"color\":\"#2a3f5f\"},\"error_y\":{\"color\":\"#2a3f5f\"},\"marker\":{\"line\":{\"color\":\"#E5ECF6\",\"width\":0.5},\"pattern\":{\"fillmode\":\"overlay\",\"size\":10,\"solidity\":0.2}},\"type\":\"bar\"}],\"scattergeo\":[{\"type\":\"scattergeo\",\"marker\":{\"colorbar\":{\"outlinewidth\":0,\"ticks\":\"\"}}}],\"scatterpolar\":[{\"type\":\"scatterpolar\",\"marker\":{\"colorbar\":{\"outlinewidth\":0,\"ticks\":\"\"}}}],\"histogram\":[{\"marker\":{\"pattern\":{\"fillmode\":\"overlay\",\"size\":10,\"solidity\":0.2}},\"type\":\"histogram\"}],\"scattergl\":[{\"type\":\"scattergl\",\"marker\":{\"colorbar\":{\"outlinewidth\":0,\"ticks\":\"\"}}}],\"scatter3d\":[{\"type\":\"scatter3d\",\"line\":{\"colorbar\":{\"outlinewidth\":0,\"ticks\":\"\"}},\"marker\":{\"colorbar\":{\"outlinewidth\":0,\"ticks\":\"\"}}}],\"scattermapbox\":[{\"type\":\"scattermapbox\",\"marker\":{\"colorbar\":{\"outlinewidth\":0,\"ticks\":\"\"}}}],\"scatterternary\":[{\"type\":\"scatterternary\",\"marker\":{\"colorbar\":{\"outlinewidth\":0,\"ticks\":\"\"}}}],\"scattercarpet\":[{\"type\":\"scattercarpet\",\"marker\":{\"colorbar\":{\"outlinewidth\":0,\"ticks\":\"\"}}}],\"carpet\":[{\"aaxis\":{\"endlinecolor\":\"#2a3f5f\",\"gridcolor\":\"white\",\"linecolor\":\"white\",\"minorgridcolor\":\"white\",\"startlinecolor\":\"#2a3f5f\"},\"baxis\":{\"endlinecolor\":\"#2a3f5f\",\"gridcolor\":\"white\",\"linecolor\":\"white\",\"minorgridcolor\":\"white\",\"startlinecolor\":\"#2a3f5f\"},\"type\":\"carpet\"}],\"table\":[{\"cells\":{\"fill\":{\"color\":\"#EBF0F8\"},\"line\":{\"color\":\"white\"}},\"header\":{\"fill\":{\"color\":\"#C8D4E3\"},\"line\":{\"color\":\"white\"}},\"type\":\"table\"}],\"barpolar\":[{\"marker\":{\"line\":{\"color\":\"#E5ECF6\",\"width\":0.5},\"pattern\":{\"fillmode\":\"overlay\",\"size\":10,\"solidity\":0.2}},\"type\":\"barpolar\"}],\"pie\":[{\"automargin\":true,\"type\":\"pie\"}]},\"layout\":{\"autotypenumbers\":\"strict\",\"colorway\":[\"#636efa\",\"#EF553B\",\"#00cc96\",\"#ab63fa\",\"#FFA15A\",\"#19d3f3\",\"#FF6692\",\"#B6E880\",\"#FF97FF\",\"#FECB52\"],\"font\":{\"color\":\"#2a3f5f\"},\"hovermode\":\"closest\",\"hoverlabel\":{\"align\":\"left\"},\"paper_bgcolor\":\"white\",\"plot_bgcolor\":\"#E5ECF6\",\"polar\":{\"bgcolor\":\"#E5ECF6\",\"angularaxis\":{\"gridcolor\":\"white\",\"linecolor\":\"white\",\"ticks\":\"\"},\"radialaxis\":{\"gridcolor\":\"white\",\"linecolor\":\"white\",\"ticks\":\"\"}},\"ternary\":{\"bgcolor\":\"#E5ECF6\",\"aaxis\":{\"gridcolor\":\"white\",\"linecolor\":\"white\",\"ticks\":\"\"},\"baxis\":{\"gridcolor\":\"white\",\"linecolor\":\"white\",\"ticks\":\"\"},\"caxis\":{\"gridcolor\":\"white\",\"linecolor\":\"white\",\"ticks\":\"\"}},\"coloraxis\":{\"colorbar\":{\"outlinewidth\":0,\"ticks\":\"\"}},\"colorscale\":{\"sequential\":[[0.0,\"#0d0887\"],[0.1111111111111111,\"#46039f\"],[0.2222222222222222,\"#7201a8\"],[0.3333333333333333,\"#9c179e\"],[0.4444444444444444,\"#bd3786\"],[0.5555555555555556,\"#d8576b\"],[0.6666666666666666,\"#ed7953\"],[0.7777777777777778,\"#fb9f3a\"],[0.8888888888888888,\"#fdca26\"],[1.0,\"#f0f921\"]],\"sequentialminus\":[[0.0,\"#0d0887\"],[0.1111111111111111,\"#46039f\"],[0.2222222222222222,\"#7201a8\"],[0.3333333333333333,\"#9c179e\"],[0.4444444444444444,\"#bd3786\"],[0.5555555555555556,\"#d8576b\"],[0.6666666666666666,\"#ed7953\"],[0.7777777777777778,\"#fb9f3a\"],[0.8888888888888888,\"#fdca26\"],[1.0,\"#f0f921\"]],\"diverging\":[[0,\"#8e0152\"],[0.1,\"#c51b7d\"],[0.2,\"#de77ae\"],[0.3,\"#f1b6da\"],[0.4,\"#fde0ef\"],[0.5,\"#f7f7f7\"],[0.6,\"#e6f5d0\"],[0.7,\"#b8e186\"],[0.8,\"#7fbc41\"],[0.9,\"#4d9221\"],[1,\"#276419\"]]},\"xaxis\":{\"gridcolor\":\"white\",\"linecolor\":\"white\",\"ticks\":\"\",\"title\":{\"standoff\":15},\"zerolinecolor\":\"white\",\"automargin\":true,\"zerolinewidth\":2},\"yaxis\":{\"gridcolor\":\"white\",\"linecolor\":\"white\",\"ticks\":\"\",\"title\":{\"standoff\":15},\"zerolinecolor\":\"white\",\"automargin\":true,\"zerolinewidth\":2},\"scene\":{\"xaxis\":{\"backgroundcolor\":\"#E5ECF6\",\"gridcolor\":\"white\",\"linecolor\":\"white\",\"showbackground\":true,\"ticks\":\"\",\"zerolinecolor\":\"white\",\"gridwidth\":2},\"yaxis\":{\"backgroundcolor\":\"#E5ECF6\",\"gridcolor\":\"white\",\"linecolor\":\"white\",\"showbackground\":true,\"ticks\":\"\",\"zerolinecolor\":\"white\",\"gridwidth\":2},\"zaxis\":{\"backgroundcolor\":\"#E5ECF6\",\"gridcolor\":\"white\",\"linecolor\":\"white\",\"showbackground\":true,\"ticks\":\"\",\"zerolinecolor\":\"white\",\"gridwidth\":2}},\"shapedefaults\":{\"line\":{\"color\":\"#2a3f5f\"}},\"annotationdefaults\":{\"arrowcolor\":\"#2a3f5f\",\"arrowhead\":0,\"arrowwidth\":1},\"geo\":{\"bgcolor\":\"white\",\"landcolor\":\"#E5ECF6\",\"subunitcolor\":\"white\",\"showland\":true,\"showlakes\":true,\"lakecolor\":\"white\"},\"title\":{\"x\":0.05},\"mapbox\":{\"style\":\"light\"}}},\"ternary\":{\"domain\":{\"x\":[0.0,1.0],\"y\":[0.0,1.0]},\"aaxis\":{\"title\":{\"text\":\"Category 1\"}},\"baxis\":{\"title\":{\"text\":\"Category 2\"}},\"caxis\":{\"title\":{\"text\":\"Category 3\"}}},\"legend\":{\"tracegroupgap\":0},\"title\":{\"text\":\"Dirichlet Posterior\"}},                        {\"responsive\": true}                    ).then(function(){\n",
       "                            \n",
       "var gd = document.getElementById('ae424525-a239-4c04-9dec-10791217fa00');\n",
       "var x = new MutationObserver(function (mutations, observer) {{\n",
       "        var display = window.getComputedStyle(gd).display;\n",
       "        if (!display || display === 'none') {{\n",
       "            console.log([gd, 'removed!']);\n",
       "            Plotly.purge(gd);\n",
       "            observer.disconnect();\n",
       "        }}\n",
       "}});\n",
       "\n",
       "// Listen for the removal of the full notebook cells\n",
       "var notebookContainer = gd.closest('#notebook-container');\n",
       "if (notebookContainer) {{\n",
       "    x.observe(notebookContainer, {childList: true});\n",
       "}}\n",
       "\n",
       "// Listen for the clearing of the current output cell\n",
       "var outputEl = gd.closest('.output');\n",
       "if (outputEl) {{\n",
       "    x.observe(outputEl, {childList: true});\n",
       "}}\n",
       "\n",
       "                        })                };                });            </script>        </div>"
      ]
     },
     "metadata": {},
     "output_type": "display_data"
    }
   ],
   "source": [
    "# Plot Dirichlet prior\n",
    "fig_prior = px.scatter_ternary(df_prior, a=\"Category 1\", b=\"Category 2\", c=\"Category 3\",\n",
    "                                title=\"Dirichlet Prior\",\n",
    "                                opacity=0.5)\n",
    "fig_prior.show()\n",
    "\n",
    "# Plot Dirichlet posterior\n",
    "fig_posterior = px.scatter_ternary(df_posterior, a=\"Category 1\", b=\"Category 2\", c=\"Category 3\",\n",
    "                                   title=\"Dirichlet Posterior\",\n",
    "                                   opacity=0.5)\n",
    "fig_posterior.show()"
   ]
  }
 ],
 "metadata": {
  "kernelspec": {
   "display_name": "Python 3 (ipykernel)",
   "language": "python",
   "name": "python3"
  },
  "language_info": {
   "codemirror_mode": {
    "name": "ipython",
    "version": 3
   },
   "file_extension": ".py",
   "mimetype": "text/x-python",
   "name": "python",
   "nbconvert_exporter": "python",
   "pygments_lexer": "ipython3",
   "version": "3.11.6"
  }
 },
 "nbformat": 4,
 "nbformat_minor": 5
}
